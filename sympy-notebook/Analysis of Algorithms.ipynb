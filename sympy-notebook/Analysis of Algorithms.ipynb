{
 "metadata": {
  "name": "",
  "signature": "sha256:7d320c4b85cc8535c6ad9bc33feba7a19eb5a752f62ade680519bac102f9797d"
 },
 "nbformat": 3,
 "nbformat_minor": 0,
 "worksheets": [
  {
   "cells": [
    {
     "cell_type": "markdown",
     "metadata": {},
     "source": [
      "# Analysis of Algorithms\n",
      "\n",
      "This short notebook collects some Python exercises in order to support [a main document][main-doc], which talks about the use of *generating functions* in algorithms analysis. This notebook isn't verbose from the theoretical point of view but it contains the necessary code to develop and explain theoretical results instead.\n",
      "\n",
      "[main-doc]: https://github.com/massimo-nocentini/pacc/blob/master/compiled-versions/Elaborato.pdf"
     ]
    },
    {
     "cell_type": "markdown",
     "metadata": {},
     "source": [
      "As first step we load all necessary SymPy stuff:"
     ]
    },
    {
     "cell_type": "code",
     "collapsed": false,
     "input": [
      "import sympy\n",
      "from sympy import *\n",
      "from sympy.abc import x, n, z, t\n",
      "\n",
      "init_printing() # for nice printing, a-la' TeX"
     ],
     "language": "python",
     "metadata": {},
     "outputs": [],
     "prompt_number": 18
    },
    {
     "cell_type": "markdown",
     "metadata": {},
     "source": [
      "## Quicksort: average number of swap\n",
      "\n",
      "In this section we report a simple manipulation of a formula in order to study the average number of swaps during a Quicksort execution. In the main document we obtain that $S(n)$, the function that count the average number of swaps done on a given input vector of size $n$, satisfies the following recurrence:\n",
      "$$ nS(n) - (n-1)S(n-1) =  \\frac{2n-3}{6} + 2S(n-1)$$\n",
      "with little manipulation and unfolding $S(n-1)$, with $S(0) = S(1) = S(2) = 0$ as base cases, it is the same as: \n",
      "$$\n",
      "\\frac{S(n)}{n+1} =  \\frac{S(n-1)}{n} +  \\frac{2n -3}{6n(n+1)} = \\sum_{k=3}^{n}{ \\frac{2k-3}{6k(k+1)} }\n",
      "$$"
     ]
    },
    {
     "cell_type": "markdown",
     "metadata": {},
     "source": [
      "As a first step we define the abstraction bound on the rightmost summation over $k$:"
     ]
    },
    {
     "cell_type": "code",
     "collapsed": false,
     "input": [
      "def f(k): return (2*k-3)/(6*(k-1)*k)\n",
      "f(x)"
     ],
     "language": "python",
     "metadata": {},
     "outputs": [
      {
       "latex": [
        "$$\\frac{2 x - 3}{x \\left(6 x - 6\\right)}$$"
       ],
       "metadata": {},
       "output_type": "pyout",
       "png": "[encoded data removed]",
       "prompt_number": 19,
       "text": [
        "  2\u22c5x - 3  \n",
        "\u2500\u2500\u2500\u2500\u2500\u2500\u2500\u2500\u2500\u2500\u2500\n",
        "x\u22c5(6\u22c5x - 6)"
       ]
      }
     ],
     "prompt_number": 19
    },
    {
     "cell_type": "markdown",
     "metadata": {},
     "source": [
      "In order to get a bound for $S(n)$, decompose it in partial fractions:"
     ]
    },
    {
     "cell_type": "code",
     "collapsed": false,
     "input": [
      "partfrac = f(x).apart(); help(apart); partfrac"
     ],
     "language": "python",
     "metadata": {},
     "outputs": [
      {
       "output_type": "stream",
       "stream": "stdout",
       "text": [
        "Help on function apart in module sympy.polys.partfrac:\n",
        "\n",
        "apart(f, x=None, full=False, **options)\n",
        "    Compute partial fraction decomposition of a rational function.\n",
        "    \n",
        "    Given a rational function ``f``, computes the partial fraction\n",
        "    decomposition of ``f``. Two algorithms are available: One is based on the\n",
        "    undertermined coefficients method, the other is Bronstein's full partial\n",
        "    fraction decomposition algorithm.\n",
        "    \n",
        "    The undetermined coefficients method (selected by ``full=False``) uses\n",
        "    polynomial factorization (and therefore accepts the same options as\n",
        "    factor) for the denominator. Per default it works over the rational\n",
        "    numbers, therefore decomposition of denominators with non-rational roots\n",
        "    (e.g. irrational, complex roots) is not supported by default (see options\n",
        "    of factor).\n",
        "    \n",
        "    Bronstein's algorithm can be selected by using ``full=True`` and allows a\n",
        "    decomposition of denominators with non-rational roots. A human-readable\n",
        "    result can be obtained via ``doit()`` (see examples below).\n",
        "    \n",
        "    Examples\n",
        "    ========\n",
        "    \n",
        "    >>> from sympy.polys.partfrac import apart\n",
        "    >>> from sympy.abc import x, y\n",
        "    \n",
        "    By default, using the undetermined coefficients method:\n",
        "    \n",
        "    >>> apart(y/(x + 2)/(x + 1), x)\n",
        "    -y/(x + 2) + y/(x + 1)\n",
        "    \n",
        "    The undetermined coefficients method does not provide a result when the\n",
        "    denominators roots are not rational:\n",
        "    \n",
        "    >>> apart(y/(x**2 + x + 1), x)\n",
        "    y/(x**2 + x + 1)\n",
        "    \n",
        "    You can choose Bronstein's algorithm by setting ``full=True``:\n",
        "    \n",
        "    >>> apart(y/(x**2 + x + 1), x, full=True)\n",
        "    RootSum(_w**2 + _w + 1, Lambda(_a, (-2*_a*y/3 - y/3)/(-_a + x)))\n",
        "    \n",
        "    Calling ``doit()`` yields a human-readable result:\n",
        "    \n",
        "    >>> apart(y/(x**2 + x + 1), x, full=True).doit()\n",
        "    (-y/3 - 2*y*(-1/2 - sqrt(3)*I/2)/3)/(x + 1/2 + sqrt(3)*I/2) + (-y/3 -\n",
        "        2*y*(-1/2 + sqrt(3)*I/2)/3)/(x + 1/2 - sqrt(3)*I/2)\n",
        "    \n",
        "    \n",
        "    See Also\n",
        "    ========\n",
        "    \n",
        "    apart_list, assemble_partfrac_list\n",
        "\n"
       ]
      },
      {
       "latex": [
        "$$- \\frac{1}{6 x - 6} + \\frac{1}{2 x}$$"
       ],
       "metadata": {},
       "output_type": "pyout",
       "png": "[encoded data removed]",
       "prompt_number": 20,
       "text": [
        "      1        1 \n",
        "- \u2500\u2500\u2500\u2500\u2500\u2500\u2500\u2500\u2500 + \u2500\u2500\u2500\n",
        "  6\u22c5(x - 1)   2\u22c5x"
       ]
      }
     ],
     "prompt_number": 20
    },
    {
     "cell_type": "markdown",
     "metadata": {},
     "source": [
      "Now it is possible to integrate the previous decomposition:"
     ]
    },
    {
     "cell_type": "code",
     "collapsed": false,
     "input": [
      "partfrac.integrate(x)"
     ],
     "language": "python",
     "metadata": {},
     "outputs": [
      {
       "latex": [
        "$$\\frac{1}{2} \\log{\\left (x \\right )} - \\frac{1}{6} \\log{\\left (x - 1 \\right )}$$"
       ],
       "metadata": {},
       "output_type": "pyout",
       "png": "[encoded data removed]",
       "prompt_number": 21,
       "text": [
        "log(x)   log(x - 1)\n",
        "\u2500\u2500\u2500\u2500\u2500\u2500 - \u2500\u2500\u2500\u2500\u2500\u2500\u2500\u2500\u2500\u2500\n",
        "  2          6     "
       ]
      }
     ],
     "prompt_number": 21
    },
    {
     "cell_type": "markdown",
     "metadata": {},
     "source": [
      "So the result above proves that $S(n) \\in \\mathcal{O}(n logn)$ as required."
     ]
    },
    {
     "cell_type": "markdown",
     "metadata": {},
     "source": [
      "### Checks for *Equation 1.2*\n",
      "The following little calculation proves the result reported in *Equation 1.2* in the main document:"
     ]
    },
    {
     "cell_type": "code",
     "collapsed": false,
     "input": [
      "expr = (1/(n*(n-1)))* ((n*(n+1)**2)/2 - n*(n+1)*(2*n+1)/6 -n**2); expr"
     ],
     "language": "python",
     "metadata": {},
     "outputs": [
      {
       "latex": [
        "$$\\frac{1}{n \\left(n - 1\\right)} \\left(- n^{2} + \\frac{n}{2} \\left(n + 1\\right)^{2} - \\frac{n}{6} \\left(n + 1\\right) \\left(2 n + 1\\right)\\right)$$"
       ],
       "metadata": {},
       "output_type": "pyout",
       "png": "[encoded data removed]",
       "prompt_number": 22,
       "text": [
        "                2                      \n",
        "   2   n\u22c5(n + 1)    n\u22c5(n + 1)\u22c5(2\u22c5n + 1)\n",
        "- n  + \u2500\u2500\u2500\u2500\u2500\u2500\u2500\u2500\u2500\u2500 - \u2500\u2500\u2500\u2500\u2500\u2500\u2500\u2500\u2500\u2500\u2500\u2500\u2500\u2500\u2500\u2500\u2500\u2500\u2500\n",
        "           2                 6         \n",
        "\u2500\u2500\u2500\u2500\u2500\u2500\u2500\u2500\u2500\u2500\u2500\u2500\u2500\u2500\u2500\u2500\u2500\u2500\u2500\u2500\u2500\u2500\u2500\u2500\u2500\u2500\u2500\u2500\u2500\u2500\u2500\u2500\u2500\u2500\u2500\u2500\u2500\u2500\u2500\n",
        "               n\u22c5(n - 1)               "
       ]
      }
     ],
     "prompt_number": 22
    },
    {
     "cell_type": "markdown",
     "metadata": {},
     "source": [
      "which we simplify to get the required equivalence:"
     ]
    },
    {
     "cell_type": "code",
     "collapsed": false,
     "input": [
      "expr.simplify().factor()"
     ],
     "language": "python",
     "metadata": {},
     "outputs": [
      {
       "latex": [
        "$$\\frac{1}{6} \\left(n - 2\\right)$$"
       ],
       "metadata": {},
       "output_type": "pyout",
       "png": "[encoded data removed]",
       "prompt_number": 23,
       "text": [
        "n - 2\n",
        "\u2500\u2500\u2500\u2500\u2500\n",
        "  6  "
       ]
      }
     ],
     "prompt_number": 23
    },
    {
     "cell_type": "markdown",
     "metadata": {},
     "source": [
      "## On binomial coefficients"
     ]
    },
    {
     "cell_type": "markdown",
     "metadata": {},
     "source": [
      "In the following cell we report a pair of sequences: terms in the first component belong to *central binomial coefficients* sequence, the second ones belong to *Catalan number*:"
     ]
    },
    {
     "cell_type": "code",
     "collapsed": false,
     "input": [
      "def central_binomial_coefficient(k): return binomial(Rational(2*k,1), k)\n",
      "def catalan_number(k): return Rational(1,k+1)*central_binomial_coefficient(k)\n",
      "\n",
      "limit = 10\n",
      "([central_binomial_coefficient(k) for k in range(limit)], \n",
      " [catalan_number(k) for k in range(limit)])"
     ],
     "language": "python",
     "metadata": {},
     "outputs": [
      {
       "latex": [
        "$$\\left ( \\left [ 1, \\quad 2, \\quad 6, \\quad 20, \\quad 70, \\quad 252, \\quad 924, \\quad 3432, \\quad 12870, \\quad 48620\\right ], \\quad \\left [ 1, \\quad 1, \\quad 2, \\quad 5, \\quad 14, \\quad 42, \\quad 132, \\quad 429, \\quad 1430, \\quad 4862\\right ]\\right )$$"
       ],
       "metadata": {},
       "output_type": "pyout",
       "png": "[encoded data removed]",
       "prompt_number": 24,
       "text": [
        "([1, 2, 6, 20, 70, 252, 924, 3432, 12870, 48620], [1, 1, 2, 5, 14, 42, 132, 42\n",
        "9, 1430, 4862])"
       ]
      }
     ],
     "prompt_number": 24
    },
    {
     "cell_type": "markdown",
     "metadata": {},
     "source": [
      "---\n",
      "In this section we use the method explained in the theoretical document in order to evaluate particular binomial coefficients. We start with defining the ''kernel'' function to be expanded:"
     ]
    },
    {
     "cell_type": "code",
     "collapsed": false,
     "input": [
      "def f(r, z): return (1 + z)**r"
     ],
     "language": "python",
     "metadata": {},
     "outputs": [],
     "prompt_number": 25
    },
    {
     "cell_type": "markdown",
     "metadata": {},
     "source": [
      "### First exercise\n",
      "\n",
      "In order to compute $ { \\frac{1}{2} \\choose {3} }$ we do Taylor expansion using the dummy variable $z$:"
     ]
    },
    {
     "cell_type": "code",
     "collapsed": false,
     "input": [
      "series(f(Rational(1,2), z))"
     ],
     "language": "python",
     "metadata": {},
     "outputs": [
      {
       "latex": [
        "$$1 + \\frac{z}{2} - \\frac{z^{2}}{8} + \\frac{z^{3}}{16} - \\frac{5 z^{4}}{128} + \\frac{7 z^{5}}{256} + \\mathcal{O}\\left(z^{6}\\right)$$"
       ],
       "metadata": {},
       "output_type": "pyout",
       "png": "[encoded data removed]",
       "prompt_number": 26,
       "text": [
        "         2    3      4      5        \n",
        "    z   z    z    5\u22c5z    7\u22c5z     \u239b 6\u239e\n",
        "1 + \u2500 - \u2500\u2500 + \u2500\u2500 - \u2500\u2500\u2500\u2500 + \u2500\u2500\u2500\u2500 + O\u239dz \u23a0\n",
        "    2   8    16   128    256         "
       ]
      }
     ],
     "prompt_number": 26
    },
    {
     "cell_type": "markdown",
     "metadata": {},
     "source": [
      "finally take the coefficient of $z^3$, so $ { \\frac{1}{2} \\choose {3} } = \\frac{1}{16}$"
     ]
    },
    {
     "cell_type": "markdown",
     "metadata": {},
     "source": [
      "### Second exercise\n",
      "\n",
      "In this exercise we want to compute $ { -\\frac{1}{2} \\choose {k} }$, for a generic $k$. It is possible to use the method as before:"
     ]
    },
    {
     "cell_type": "code",
     "collapsed": false,
     "input": [
      "series(f(Rational(-1,2), z))"
     ],
     "language": "python",
     "metadata": {},
     "outputs": [
      {
       "latex": [
        "$$1 - \\frac{z}{2} + \\frac{3 z^{2}}{8} - \\frac{5 z^{3}}{16} + \\frac{35 z^{4}}{128} - \\frac{63 z^{5}}{256} + \\mathcal{O}\\left(z^{6}\\right)$$"
       ],
       "metadata": {},
       "output_type": "pyout",
       "png": "[encoded data removed]",
       "prompt_number": 27,
       "text": [
        "           2      3       4       5        \n",
        "    z   3\u22c5z    5\u22c5z    35\u22c5z    63\u22c5z     \u239b 6\u239e\n",
        "1 - \u2500 + \u2500\u2500\u2500\u2500 - \u2500\u2500\u2500\u2500 + \u2500\u2500\u2500\u2500\u2500 - \u2500\u2500\u2500\u2500\u2500 + O\u239dz \u23a0\n",
        "    2    8      16     128     256         "
       ]
      }
     ],
     "prompt_number": 27
    },
    {
     "cell_type": "markdown",
     "metadata": {},
     "source": [
      "Otherwise we can use the manipulation (see the theoretical doc for details):\n",
      "$$  {{- \\frac{1}{2} }\\choose{k}} = \\frac{(-1)^k}{4^k} {{2k}\\choose{k}}  $$\n",
      "defining an helper function and building a list via comprehension:"
     ]
    },
    {
     "cell_type": "code",
     "collapsed": false,
     "input": [
      "def helper(k): return ((-1)**k / 4**k)*binomial(2*k, k)\n",
      "[helper(Rational(k,1)) for k in range(6)]"
     ],
     "language": "python",
     "metadata": {},
     "outputs": [
      {
       "latex": [
        "$$\\left [ 1, \\quad - \\frac{1}{2}, \\quad \\frac{3}{8}, \\quad - \\frac{5}{16}, \\quad \\frac{35}{128}, \\quad - \\frac{63}{256}\\right ]$$"
       ],
       "metadata": {},
       "output_type": "pyout",
       "png": "[encoded data removed]",
       "prompt_number": 28,
       "text": [
        "\u23a1                      35  -63 \u23a4\n",
        "\u23a21, -1/2, 3/8, -5/16, \u2500\u2500\u2500, \u2500\u2500\u2500\u2500\u23a5\n",
        "\u23a3                     128  256 \u23a6"
       ]
      }
     ],
     "prompt_number": 28
    },
    {
     "cell_type": "markdown",
     "metadata": {},
     "source": [
      "Coefficients in the previous list comprehension are the same as in Taylor expansion, as required."
     ]
    },
    {
     "cell_type": "markdown",
     "metadata": {},
     "source": [
      "### Some other exercises over binomial coefficients"
     ]
    },
    {
     "cell_type": "markdown",
     "metadata": {},
     "source": [
      "The following cell shows coefficient of ${ { \\frac{3}{2} } \\choose {k}} $ for heading values of $k$, a rewriting to prove is the following:\n",
      "$$\n",
      "{ { \\frac{3}{2} } \\choose {k}} = \\frac{(-1)^k  3  { { 2k } \\choose {k}}}{4^k (3k-1)(2k-3)}\n",
      "$$\n",
      "using series expansion:"
     ]
    },
    {
     "cell_type": "code",
     "collapsed": false,
     "input": [
      "series(f(Rational(3,2), z), z, n=10)"
     ],
     "language": "python",
     "metadata": {},
     "outputs": [
      {
       "latex": [
        "$$1 + \\frac{3 z}{2} + \\frac{3 z^{2}}{8} - \\frac{z^{3}}{16} + \\frac{3 z^{4}}{128} - \\frac{3 z^{5}}{256} + \\frac{7 z^{6}}{1024} - \\frac{9 z^{7}}{2048} + \\frac{99 z^{8}}{32768} - \\frac{143 z^{9}}{65536} + \\mathcal{O}\\left(z^{10}\\right)$$"
       ],
       "metadata": {},
       "output_type": "pyout",
       "png": "[encoded data removed]",
       "prompt_number": 29,
       "text": [
        "             2    3      4      5      6      7       8        9         \n",
        "    3\u22c5z   3\u22c5z    z    3\u22c5z    3\u22c5z    7\u22c5z    9\u22c5z    99\u22c5z    143\u22c5z     \u239b 10\u239e\n",
        "1 + \u2500\u2500\u2500 + \u2500\u2500\u2500\u2500 - \u2500\u2500 + \u2500\u2500\u2500\u2500 - \u2500\u2500\u2500\u2500 + \u2500\u2500\u2500\u2500 - \u2500\u2500\u2500\u2500 + \u2500\u2500\u2500\u2500\u2500 - \u2500\u2500\u2500\u2500\u2500\u2500 + O\u239dz  \u23a0\n",
        "     2     8     16   128    256    1024   2048   32768   65536          "
       ]
      }
     ],
     "prompt_number": 29
    },
    {
     "cell_type": "markdown",
     "metadata": {},
     "source": [
      "while mapping the rewriting:"
     ]
    },
    {
     "cell_type": "code",
     "collapsed": false,
     "input": [
      "def three_over_two_choose_k(k): return ((-1)**k *3*binomial(2*k, k))/(4**k*(2*k-3))\n",
      "[three_over_two_choose_k(Rational(k,1)) for k in range(10)]"
     ],
     "language": "python",
     "metadata": {},
     "outputs": [
      {
       "latex": [
        "$$\\left [ -1, \\quad \\frac{3}{2}, \\quad \\frac{9}{8}, \\quad - \\frac{5}{16}, \\quad \\frac{21}{128}, \\quad - \\frac{27}{256}, \\quad \\frac{77}{1024}, \\quad - \\frac{117}{2048}, \\quad \\frac{1485}{32768}, \\quad - \\frac{2431}{65536}\\right ]$$"
       ],
       "metadata": {},
       "output_type": "pyout",
       "png": "[encoded data removed]",
       "prompt_number": 30,
       "text": [
        "\u23a1                      21  -27    77   -117    1485  -2431 \u23a4\n",
        "\u23a2-1, 3/2, 9/8, -5/16, \u2500\u2500\u2500, \u2500\u2500\u2500\u2500, \u2500\u2500\u2500\u2500, \u2500\u2500\u2500\u2500\u2500, \u2500\u2500\u2500\u2500\u2500, \u2500\u2500\u2500\u2500\u2500\u2500\u23a5\n",
        "\u23a3                     128  256   1024   2048  32768  65536 \u23a6"
       ]
      }
     ],
     "prompt_number": 30
    },
    {
     "cell_type": "markdown",
     "metadata": {},
     "source": [
      "---"
     ]
    },
    {
     "cell_type": "markdown",
     "metadata": {},
     "source": [
      "The following cell shows coefficient of ${ { -\\frac{3}{2} } \\choose {k}} $ for heading values of $k$, a rewriting to prove is the following:\n",
      "$$\n",
      "{ { -\\frac{3}{2} } \\choose {k}} = \\frac{(-1)^k  (2k + 1)}{4^k}  { { 2k } \\choose {k}}\n",
      "$$\n",
      "using series expansion:"
     ]
    },
    {
     "cell_type": "code",
     "collapsed": false,
     "input": [
      "series(f(Rational(-3,2), z), z, n=10)"
     ],
     "language": "python",
     "metadata": {},
     "outputs": [
      {
       "latex": [
        "$$1 - \\frac{3 z}{2} + \\frac{15 z^{2}}{8} - \\frac{35 z^{3}}{16} + \\frac{315 z^{4}}{128} - \\frac{693 z^{5}}{256} + \\frac{3003 z^{6}}{1024} - \\frac{6435 z^{7}}{2048} + \\frac{109395 z^{8}}{32768} - \\frac{230945 z^{9}}{65536} + \\mathcal{O}\\left(z^{10}\\right)$$"
       ],
       "metadata": {},
       "output_type": "pyout",
       "png": "[encoded data removed]",
       "prompt_number": 31,
       "text": [
        "              2       3        4        5         6         7           8     \n",
        "    3\u22c5z   15\u22c5z    35\u22c5z    315\u22c5z    693\u22c5z    3003\u22c5z    6435\u22c5z    109395\u22c5z    23\n",
        "1 - \u2500\u2500\u2500 + \u2500\u2500\u2500\u2500\u2500 - \u2500\u2500\u2500\u2500\u2500 + \u2500\u2500\u2500\u2500\u2500\u2500 - \u2500\u2500\u2500\u2500\u2500\u2500 + \u2500\u2500\u2500\u2500\u2500\u2500\u2500 - \u2500\u2500\u2500\u2500\u2500\u2500\u2500 + \u2500\u2500\u2500\u2500\u2500\u2500\u2500\u2500\u2500 - \u2500\u2500\n",
        "     2      8       16     128      256       1024      2048      32768       \n",
        "\n",
        "      9         \n",
        "0945\u22c5z     \u239b 10\u239e\n",
        "\u2500\u2500\u2500\u2500\u2500\u2500\u2500 + O\u239dz  \u23a0\n",
        "65536           "
       ]
      }
     ],
     "prompt_number": 31
    },
    {
     "cell_type": "markdown",
     "metadata": {},
     "source": [
      "while mapping the rewriting:"
     ]
    },
    {
     "cell_type": "code",
     "collapsed": false,
     "input": [
      "def minus_three_over_two_choose_k(k): return ((-1)**k *(2*k+1))*binomial(2*k, k)/4**k\n",
      "[minus_three_over_two_choose_k(Rational(k,1)) for k in range(10)]"
     ],
     "language": "python",
     "metadata": {},
     "outputs": [
      {
       "latex": [
        "$$\\left [ 1, \\quad - \\frac{3}{2}, \\quad \\frac{15}{8}, \\quad - \\frac{35}{16}, \\quad \\frac{315}{128}, \\quad - \\frac{693}{256}, \\quad \\frac{3003}{1024}, \\quad - \\frac{6435}{2048}, \\quad \\frac{109395}{32768}, \\quad - \\frac{230945}{65536}\\right ]$$"
       ],
       "metadata": {},
       "output_type": "pyout",
       "png": "[encoded data removed]",
       "prompt_number": 32,
       "text": [
        "\u23a1               -35   315  -693   3003  -6435   109395  -230945 \u23a4\n",
        "\u23a21, -3/2, 15/8, \u2500\u2500\u2500\u2500, \u2500\u2500\u2500, \u2500\u2500\u2500\u2500\u2500, \u2500\u2500\u2500\u2500, \u2500\u2500\u2500\u2500\u2500\u2500, \u2500\u2500\u2500\u2500\u2500\u2500, \u2500\u2500\u2500\u2500\u2500\u2500\u2500\u2500\u23a5\n",
        "\u23a3                16   128   256   1024   2048   32768    65536  \u23a6"
       ]
      }
     ],
     "prompt_number": 32
    },
    {
     "cell_type": "markdown",
     "metadata": {},
     "source": [
      "# Generating Functions"
     ]
    },
    {
     "cell_type": "markdown",
     "metadata": {},
     "source": [
      "### Convolution"
     ]
    },
    {
     "cell_type": "code",
     "collapsed": false,
     "input": [
      "a = Function('a')(t)\n",
      "b = Function('b')(t)\n",
      "use_me = Eq(a, b * (1-t))\n",
      "use_me.subs(b, 1 + 1*t + 2*t**2 + 10*t**4 + 9*t**5).rhs.series(t).simplify()"
     ],
     "language": "python",
     "metadata": {},
     "outputs": [
      {
       "latex": [
        "$$1 + t^{2} - 2 t^{3} + 10 t^{4} - t^{5} + \\mathcal{O}\\left(t^{6}\\right)$$"
       ],
       "metadata": {},
       "output_type": "pyout",
       "png": "[encoded data removed]",
       "prompt_number": 33,
       "text": [
        "     2      3       4    5    \u239b 6\u239e\n",
        "1 + t  - 2\u22c5t  + 10\u22c5t  - t  + O\u239dt \u23a0"
       ]
      }
     ],
     "prompt_number": 33
    },
    {
     "cell_type": "code",
     "collapsed": false,
     "input": [
      "a = Function('a')(t)\n",
      "b = Function('b')(t)\n",
      "use_me = Eq(a, b * (1-t)**-1)\n",
      "use_me.subs(b, 1 + 1*t + 2*t**2 + 10*t**4 + 9*t**5).rhs.series(t).simplify()"
     ],
     "language": "python",
     "metadata": {},
     "outputs": [
      {
       "latex": [
        "$$1 + 2 t + 4 t^{2} + 4 t^{3} + 14 t^{4} + 23 t^{5} + \\mathcal{O}\\left(t^{6}\\right)$$"
       ],
       "metadata": {},
       "output_type": "pyout",
       "png": "[encoded data removed]",
       "prompt_number": 34,
       "text": [
        "             2      3       4       5    \u239b 6\u239e\n",
        "1 + 2\u22c5t + 4\u22c5t  + 4\u22c5t  + 14\u22c5t  + 23\u22c5t  + O\u239dt \u23a0"
       ]
      }
     ],
     "prompt_number": 34
    },
    {
     "cell_type": "code",
     "collapsed": false,
     "input": [
      "a = Function('a')(t)\n",
      "b = Function('b')(t)\n",
      "use_me = Eq(a, b * (t**-1 -1) -b.func(0)*t**-1)\n",
      "fut = lambda t: 1 + 1*t + 2*t**2 + 10*t**4 + 9*t**5 \n",
      "use_me,use_me.subs(b, fut(t)).subs(b.subs(t,0),fut(0)).rhs.series().expand()"
     ],
     "language": "python",
     "metadata": {},
     "outputs": [
      {
       "latex": [
        "$$\\left ( a{\\left (t \\right )} = \\left(-1 + \\frac{1}{t}\\right) b{\\left (t \\right )} - \\frac{1}{t} b{\\left (0 \\right )}, \\quad - 9 t^{5} - t^{4} + 10 t^{3} - 2 t^{2} + t\\right )$$"
       ],
       "metadata": {},
       "output_type": "pyout",
       "png": "[encoded data removed]",
       "prompt_number": 35,
       "text": [
        "\u239b       \u239b     1\u239e        b(0)       5    4       3      2    \u239e\n",
        "\u239ca(t) = \u239c-1 + \u2500\u239f\u22c5b(t) - \u2500\u2500\u2500\u2500, - 9\u22c5t  - t  + 10\u22c5t  - 2\u22c5t  + t\u239f\n",
        "\u239d       \u239d     t\u23a0         t                                  \u23a0"
       ]
      }
     ],
     "prompt_number": 35
    },
    {
     "cell_type": "markdown",
     "metadata": {},
     "source": [
      "---"
     ]
    },
    {
     "cell_type": "markdown",
     "metadata": {},
     "source": [
      "# *SymPy* sandbox"
     ]
    },
    {
     "cell_type": "code",
     "collapsed": false,
     "input": [
      "pi.evalf(100)"
     ],
     "language": "python",
     "metadata": {},
     "outputs": [
      {
       "latex": [
        "$$3.141592653589793238462643383279502884197169399375105820974944592307816406286208998628034825342117068$$"
       ],
       "metadata": {},
       "output_type": "pyout",
       "png": "[encoded data removed]",
       "prompt_number": 36,
       "text": [
        "3.1415926535897932384626433832795028841971693993751058209749445923078164062862\n",
        "08998628034825342117068"
       ]
      }
     ],
     "prompt_number": 36
    },
    {
     "cell_type": "code",
     "collapsed": false,
     "input": [
      "a = symbols('a0:10')\n",
      "a"
     ],
     "language": "python",
     "metadata": {},
     "outputs": [
      {
       "latex": [
        "$$\\left ( a_{0}, \\quad a_{1}, \\quad a_{2}, \\quad a_{3}, \\quad a_{4}, \\quad a_{5}, \\quad a_{6}, \\quad a_{7}, \\quad a_{8}, \\quad a_{9}\\right )$$"
       ],
       "metadata": {},
       "output_type": "pyout",
       "png": "[encoded data removed]",
       "prompt_number": 37,
       "text": [
        "(a\u2080, a\u2081, a\u2082, a\u2083, a\u2084, a\u2085, a\u2086, a\u2087, a\u2088, a\u2089)"
       ]
      }
     ],
     "prompt_number": 37
    },
    {
     "cell_type": "code",
     "collapsed": false,
     "input": [
      "x = numbered_symbols('x')\n",
      "next(x), next(x)\n",
      "x = Symbol('x')\n",
      "ai = IndexedBase('a')\n",
      "bi = IndexedBase('b')\n",
      "a = Sum(ai[n]*x**n, (n, 0, 4))\n",
      "b = Sum(bi[n]*x**n, (n, 0, 4))\n",
      "collect(expand(a*b),x)\n"
     ],
     "language": "python",
     "metadata": {},
     "outputs": [
      {
       "latex": [
        "$$\\left(\\sum_{n=0}^{4} x^{n} a_{n}\\right) \\sum_{n=0}^{4} x^{n} b_{n}$$"
       ],
       "metadata": {},
       "output_type": "pyout",
       "png": "[encoded data removed]",
       "prompt_number": 38,
       "text": [
        "\u239b  4          \u239e   4          \n",
        "\u239c ___         \u239f  ___         \n",
        "\u239c \u2572           \u239f  \u2572           \n",
        "\u239c  \u2572    n     \u239f   \u2572    n     \n",
        "\u239c  \u2571   x \u22c5a[n]\u239f\u22c5  \u2571   x \u22c5b[n]\n",
        "\u239c \u2571           \u239f  \u2571           \n",
        "\u239c \u203e\u203e\u203e         \u239f  \u203e\u203e\u203e         \n",
        "\u239dn = 0        \u23a0 n = 0        "
       ]
      }
     ],
     "prompt_number": 38
    },
    {
     "cell_type": "code",
     "collapsed": false,
     "input": [
      "k, k0, k1, k2, t, i = symbols('k k:3 t i')\n",
      "k_gen = numbered_symbols('a')\n",
      "a_k = IndexedBase('a')\n",
      "b_n_k = IndexedBase('b')\n",
      "i_tuple = (i, 0, n)\n",
      "a_sum = summation(a_k[i]*t**i, (i,0,oo) )\n",
      "b_sum = Sum(b_n_k[i]*t**i, i_tuple)\n",
      "limit = 5\n",
      "a_b_prod = a_sum.subs(n,limit) * b_sum.subs(n,limit)\n",
      "G_conv = Sum(Sum(a_k[k] * b_n_k[n-k], (k, 0, n))*t**n, (n, 0, i))\n",
      "a_sum.subs(n,5).doit(), b_sum, expand(a_b_prod,mul=True), G_conv, G_conv"
     ],
     "language": "python",
     "metadata": {},
     "outputs": [
      {
       "latex": [
        "$$\\left ( \\sum_{i=0}^{\\infty} t^{i} a_{i}, \\quad \\sum_{i=0}^{n} t^{i} b_{i}, \\quad \\left(\\sum_{i=0}^{\\infty} t^{i} a_{i}\\right) \\sum_{i=0}^{5} t^{i} b_{i}, \\quad \\sum_{n=0}^{i} t^{n} \\sum_{k=0}^{n} a_{k} b_{- k + n}, \\quad \\sum_{n=0}^{i} t^{n} \\sum_{k=0}^{n} a_{k} b_{- k + n}\\right )$$"
       ],
       "metadata": {},
       "output_type": "pyout",
       "png": "[encoded data removed]",
       "prompt_number": 39,
       "text": [
        "\u239b                                                               i             \n",
        "\u239c                                                             ______          \n",
        "\u239c                                                             \u2572               \n",
        "\u239c  \u221e              n            \u239b  \u221e          \u239e   5             \u2572          n   \n",
        "\u239c ___            ___           \u239c ___         \u239f  ___             \u2572        ___  \n",
        "\u239c \u2572              \u2572             \u239c \u2572           \u239f  \u2572                \u2572       \u2572    \n",
        "\u239c  \u2572    i         \u2572    i       \u239c  \u2572    i     \u239f   \u2572    i           \u2572   n   \u2572   \n",
        "\u239c  \u2571   t \u22c5a[i],   \u2571   t \u22c5b[i], \u239c  \u2571   t \u22c5a[i]\u239f\u22c5  \u2571   t \u22c5b[i],     \u2571  t \u22c5  \u2571   \n",
        "\u239c \u2571              \u2571             \u239c \u2571           \u239f  \u2571                \u2571       \u2571    \n",
        "\u239c \u203e\u203e\u203e            \u203e\u203e\u203e           \u239c \u203e\u203e\u203e         \u239f  \u203e\u203e\u203e             \u2571        \u203e\u203e\u203e  \n",
        "\u239ci = 0          i = 0          \u239di = 0        \u23a0 i = 0           \u2571        k = 0 \n",
        "\u239c                                                             \u2571               \n",
        "\u239c                                                             \u203e\u203e\u203e\u203e\u203e\u203e          \n",
        "\u239d                                                             n = 0           \n",
        "\n",
        "                  i                           \u239e\n",
        "                ______                        \u239f\n",
        "                \u2572                             \u239f\n",
        "                 \u2572          n                 \u239f\n",
        "                  \u2572        ___                \u239f\n",
        "                   \u2572       \u2572                  \u239f\n",
        "a[k]\u22c5b[-k + n]      \u2572   n   \u2572   a[k]\u22c5b[-k + n]\u239f\n",
        "              ,     \u2571  t \u22c5  \u2571                 \u239f\n",
        "                   \u2571       \u2571                  \u239f\n",
        "                  \u2571        \u203e\u203e\u203e                \u239f\n",
        "                 \u2571        k = 0               \u239f\n",
        "                \u2571                             \u239f\n",
        "                \u203e\u203e\u203e\u203e\u203e\u203e                        \u239f\n",
        "                n = 0                         \u23a0"
       ]
      }
     ],
     "prompt_number": 39
    },
    {
     "cell_type": "code",
     "collapsed": false,
     "input": [
      "W2 = Product(2*i/(2*i-1)*2*i/(2*i+1), (i, 1, n))\n",
      "W2 # it should print: Product(4*i**2/((2*i - 1)*(2*i + 1)), (i, 1, n))"
     ],
     "language": "python",
     "metadata": {},
     "outputs": [
      {
       "latex": [
        "$$\\prod_{i=1}^{n} \\frac{4 i^{2}}{\\left(2 i - 1\\right) \\left(2 i + 1\\right)}$$"
       ],
       "metadata": {},
       "output_type": "pyout",
       "png": "[encoded data removed]",
       "prompt_number": 40,
       "text": [
        "    n                         \n",
        "\u252c\u2500\u2500\u2500\u2500\u2500\u2500\u2500\u2500\u252c                    \n",
        "\u2502        \u2502            2       \n",
        "\u2502        \u2502         4\u22c5i        \n",
        "\u2502        \u2502 \u2500\u2500\u2500\u2500\u2500\u2500\u2500\u2500\u2500\u2500\u2500\u2500\u2500\u2500\u2500\u2500\u2500\u2500\u2500\n",
        "\u2502        \u2502 (2\u22c5i - 1)\u22c5(2\u22c5i + 1)\n",
        "\u2502        \u2502                    \n",
        "  i = 1                       "
       ]
      }
     ],
     "prompt_number": 40
    },
    {
     "cell_type": "code",
     "collapsed": false,
     "input": [
      "W2e = W2.doit()\n",
      "W2e # it should return: 2**(-2*n)*4**n*(factorial(n))**2/(RisingFactorial(1/2, n)*RisingFactorial(3/2, n))"
     ],
     "language": "python",
     "metadata": {},
     "outputs": [
      {
       "latex": [
        "$$\\frac{2^{- 2 n} 4^{n}}{{\\left(\\frac{1}{2}\\right)}^{\\left(n\\right)} {\\left(\\frac{3}{2}\\right)}^{\\left(n\\right)}} n!^{2}$$"
       ],
       "metadata": {},
       "output_type": "pyout",
       "png": "[encoded data removed]",
       "prompt_number": 41,
       "text": [
        "                   -2\u22c5n  n   2                 \n",
        "                  2    \u22c54 \u22c5n!                  \n",
        "\u2500\u2500\u2500\u2500\u2500\u2500\u2500\u2500\u2500\u2500\u2500\u2500\u2500\u2500\u2500\u2500\u2500\u2500\u2500\u2500\u2500\u2500\u2500\u2500\u2500\u2500\u2500\u2500\u2500\u2500\u2500\u2500\u2500\u2500\u2500\u2500\u2500\u2500\u2500\u2500\u2500\u2500\u2500\u2500\u2500\u2500\u2500\n",
        "RisingFactorial(1/2, n)\u22c5RisingFactorial(3/2, n)"
       ]
      }
     ],
     "prompt_number": 41
    },
    {
     "cell_type": "code",
     "collapsed": false,
     "input": [
      "x = numbered_symbols('x')\n",
      "k = numbered_symbols('k')\n",
      "xi = IndexedBase('x')\n",
      "expand((next(x) + next(x) + next(x))*(next(k) + next(k) + next(k)))\n",
      "my_sum = (Sum(xi[i]*t**i, (i,0, n))).subs(n,5).doit().subs(xi[5],4)\n",
      "(my_sum * my_sum)\n",
      "simplify(Sum(xi[i]*t**i, (i,0, n)).subs(n,10).doit()/t**3)"
     ],
     "language": "python",
     "metadata": {},
     "outputs": [
      {
       "latex": [
        "$$t^{7} x_{10} + t^{6} x_{9} + t^{5} x_{8} + t^{4} x_{7} + t^{3} x_{6} + t^{2} x_{5} + t x_{4} + x_{3} + \\frac{x_{2}}{t} + \\frac{x_{1}}{t^{2}} + \\frac{x_{0}}{t^{3}}$$"
       ],
       "metadata": {},
       "output_type": "pyout",
       "png": "[encoded data removed]",
       "prompt_number": 42,
       "text": [
        " 7          6         5         4         3         2                        x\n",
        "t \u22c5x[10] + t \u22c5x[9] + t \u22c5x[8] + t \u22c5x[7] + t \u22c5x[6] + t \u22c5x[5] + t\u22c5x[4] + x[3] + \u2500\n",
        "                                                                              \n",
        "                                                                              \n",
        "\n",
        "[2]   x[1]   x[0]\n",
        "\u2500\u2500\u2500 + \u2500\u2500\u2500\u2500 + \u2500\u2500\u2500\u2500\n",
        "t       2      3 \n",
        "       t      t  "
       ]
      }
     ],
     "prompt_number": 42
    },
    {
     "cell_type": "code",
     "collapsed": false,
     "input": [
      "a = IndexedBase('a')\n",
      "s = Sum(xi[i]*t**i, (i,0, n))\n",
      "f = Lambda(t, t+1)\n",
      "f"
     ],
     "language": "python",
     "metadata": {},
     "outputs": [
      {
       "latex": [
        "$$\\left( t \\mapsto t + 1 \\right)$$"
       ],
       "metadata": {},
       "output_type": "pyout",
       "png": "[encoded data removed]",
       "prompt_number": 43,
       "text": [
        "t \u21a6 t + 1"
       ]
      }
     ],
     "prompt_number": 43
    },
    {
     "cell_type": "code",
     "collapsed": false,
     "input": [
      "series(t/(1-t)**2, n=10)"
     ],
     "language": "python",
     "metadata": {},
     "outputs": [
      {
       "latex": [
        "$$t + 2 t^{2} + 3 t^{3} + 4 t^{4} + 5 t^{5} + 6 t^{6} + 7 t^{7} + 8 t^{8} + 9 t^{9} + \\mathcal{O}\\left(t^{10}\\right)$$"
       ],
       "metadata": {},
       "output_type": "pyout",
       "png": "[encoded data removed]",
       "prompt_number": 60,
       "text": [
        "       2      3      4      5      6      7      8      9    \u239b 10\u239e\n",
        "t + 2\u22c5t  + 3\u22c5t  + 4\u22c5t  + 5\u22c5t  + 6\u22c5t  + 7\u22c5t  + 8\u22c5t  + 9\u22c5t  + O\u239dt  \u23a0"
       ]
      }
     ],
     "prompt_number": 60
    }
   ],
   "metadata": {}
  }
 ]
}