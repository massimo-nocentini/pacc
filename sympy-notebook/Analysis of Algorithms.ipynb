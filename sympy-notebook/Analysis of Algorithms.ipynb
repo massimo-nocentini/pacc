{
 "metadata": {
  "name": "",
  "signature": "sha256:6bc92efbabe7d55ca94845d81f065169560c5aa30ebe4e137786b3ef2006371d"
 },
 "nbformat": 3,
 "nbformat_minor": 0,
 "worksheets": [
  {
   "cells": [
    {
     "cell_type": "markdown",
     "metadata": {},
     "source": [
      "# Analysis of Algorithms\n",
      "\n",
      "This short notebook collects some Python exercises in order to support a main document about the use of *generating functions* in algorithms analysis. It isn't verbose from the theoretical point of view (have a look at the document, btw), containing only the necessary code to develop and explain theoretical results."
     ]
    },
    {
     "cell_type": "markdown",
     "metadata": {},
     "source": [
      "As first step we load all necessary SymPy stuff:"
     ]
    },
    {
     "cell_type": "code",
     "collapsed": false,
     "input": [
      "from sympy import *\n",
      "from sympy.abc import x\n",
      "init_printing()"
     ],
     "language": "python",
     "metadata": {},
     "outputs": [],
     "prompt_number": 5
    },
    {
     "cell_type": "markdown",
     "metadata": {},
     "source": [
      "## Quicksort: average number of swap\n",
      "\n",
      "In this section we report a simple manipulation of a formula in order to study the average number of swaps during a Quicksort execution. In the main document we obtain that $S(n)$, the function that count the average number of swaps done on a given input vector of size $n$, satisfies the following recurrence:\n",
      "$$ nS(n) - (n-1)S(n-1) =  \\frac{2n-3}{6} + 2S(n-1)$$\n",
      "with little manipulation and unfolding $S(n-1)$, with $S(0) = S(1) = S(2) = 0$ as base cases, it is the same as: \n",
      "$$\n",
      "\\frac{S(n)}{n+1} =  \\frac{S(n-1)}{n} +  \\frac{2n -3}{6n(n+1)} = \\sum_{k=3}^{n}{ \\frac{2k-3}{6k(k+1)} }\n",
      "$$"
     ]
    },
    {
     "cell_type": "markdown",
     "metadata": {},
     "source": [
      "As a first step we define the abstraction bound on the rightmost summation over $k$:"
     ]
    },
    {
     "cell_type": "code",
     "collapsed": false,
     "input": [
      "def f(k): return (2*k-3)/(6*(k-1)*k)\n",
      "f(x)"
     ],
     "language": "python",
     "metadata": {},
     "outputs": [
      {
       "latex": [
        "$$\\frac{2 x - 3}{x \\left(6 x - 6\\right)}$$"
       ],
       "metadata": {},
       "output_type": "pyout",
       "png": "[encoded data removed]",
       "prompt_number": 6,
       "text": [
        "  2\u22c5x - 3  \n",
        "\u2500\u2500\u2500\u2500\u2500\u2500\u2500\u2500\u2500\u2500\u2500\n",
        "x\u22c5(6\u22c5x - 6)"
       ]
      }
     ],
     "prompt_number": 6
    },
    {
     "cell_type": "markdown",
     "metadata": {},
     "source": [
      "In order to get a bound for $S(n)$, decompose it in partial fractions:"
     ]
    },
    {
     "cell_type": "code",
     "collapsed": false,
     "input": [
      "partfrac = f(x).apart(); help(apart); partfrac"
     ],
     "language": "python",
     "metadata": {},
     "outputs": [
      {
       "output_type": "stream",
       "stream": "stdout",
       "text": [
        "Help on function apart in module sympy.polys.partfrac:\n",
        "\n",
        "apart(f, x=None, full=False, **options)\n",
        "    Compute partial fraction decomposition of a rational function.\n",
        "    \n",
        "    Given a rational function ``f``, computes the partial fraction\n",
        "    decomposition of ``f``. Two algorithms are available: One is based on the\n",
        "    undertermined coefficients method, the other is Bronstein's full partial\n",
        "    fraction decomposition algorithm.\n",
        "    \n",
        "    The undetermined coefficients method (selected by ``full=False``) uses\n",
        "    polynomial factorization (and therefore accepts the same options as\n",
        "    factor) for the denominator. Per default it works over the rational\n",
        "    numbers, therefore decomposition of denominators with non-rational roots\n",
        "    (e.g. irrational, complex roots) is not supported by default (see options\n",
        "    of factor).\n",
        "    \n",
        "    Bronstein's algorithm can be selected by using ``full=True`` and allows a\n",
        "    decomposition of denominators with non-rational roots. A human-readable\n",
        "    result can be obtained via ``doit()`` (see examples below).\n",
        "    \n",
        "    Examples\n",
        "    ========\n",
        "    \n",
        "    >>> from sympy.polys.partfrac import apart\n",
        "    >>> from sympy.abc import x, y\n",
        "    \n",
        "    By default, using the undetermined coefficients method:\n",
        "    \n",
        "    >>> apart(y/(x + 2)/(x + 1), x)\n",
        "    -y/(x + 2) + y/(x + 1)\n",
        "    \n",
        "    The undetermined coefficients method does not provide a result when the\n",
        "    denominators roots are not rational:\n",
        "    \n",
        "    >>> apart(y/(x**2 + x + 1), x)\n",
        "    y/(x**2 + x + 1)\n",
        "    \n",
        "    You can choose Bronstein's algorithm by setting ``full=True``:\n",
        "    \n",
        "    >>> apart(y/(x**2 + x + 1), x, full=True)\n",
        "    RootSum(_w**2 + _w + 1, Lambda(_a, (-2*_a*y/3 - y/3)/(-_a + x)))\n",
        "    \n",
        "    Calling ``doit()`` yields a human-readable result:\n",
        "    \n",
        "    >>> apart(y/(x**2 + x + 1), x, full=True).doit()\n",
        "    (-y/3 - 2*y*(-1/2 - sqrt(3)*I/2)/3)/(x + 1/2 + sqrt(3)*I/2) + (-y/3 -\n",
        "        2*y*(-1/2 + sqrt(3)*I/2)/3)/(x + 1/2 - sqrt(3)*I/2)\n",
        "    \n",
        "    \n",
        "    See Also\n",
        "    ========\n",
        "    \n",
        "    apart_list, assemble_partfrac_list\n",
        "\n"
       ]
      },
      {
       "latex": [
        "$$- \\frac{1}{6 x - 6} + \\frac{1}{2 x}$$"
       ],
       "metadata": {},
       "output_type": "pyout",
       "png": "[encoded data removed]",
       "prompt_number": 7,
       "text": [
        "      1        1 \n",
        "- \u2500\u2500\u2500\u2500\u2500\u2500\u2500\u2500\u2500 + \u2500\u2500\u2500\n",
        "  6\u22c5(x - 1)   2\u22c5x"
       ]
      }
     ],
     "prompt_number": 7
    },
    {
     "cell_type": "markdown",
     "metadata": {},
     "source": [
      "Now it is possible to integrate the previous decomposition:"
     ]
    },
    {
     "cell_type": "code",
     "collapsed": false,
     "input": [
      "partfrac.integrate(x)"
     ],
     "language": "python",
     "metadata": {},
     "outputs": [
      {
       "latex": [
        "$$\\frac{1}{2} \\log{\\left (x \\right )} - \\frac{1}{6} \\log{\\left (x - 1 \\right )}$$"
       ],
       "metadata": {},
       "output_type": "pyout",
       "png": "[encoded data removed]",
       "prompt_number": 8,
       "text": [
        "log(x)   log(x - 1)\n",
        "\u2500\u2500\u2500\u2500\u2500\u2500 - \u2500\u2500\u2500\u2500\u2500\u2500\u2500\u2500\u2500\u2500\n",
        "  2          6     "
       ]
      }
     ],
     "prompt_number": 8
    },
    {
     "cell_type": "markdown",
     "metadata": {},
     "source": [
      "So the result above proves that $S(n) \\in \\mathcal{O}(n logn)$ as required."
     ]
    },
    {
     "cell_type": "markdown",
     "metadata": {},
     "source": [
      "## Generating Functions"
     ]
    },
    {
     "cell_type": "code",
     "collapsed": false,
     "input": [
      "def z(x): return 1/sqrt(1+x)\n",
      "series(z(x), n=10)"
     ],
     "language": "python",
     "metadata": {},
     "outputs": [
      {
       "latex": [
        "$$1 - \\frac{x}{2} + \\frac{3 x^{2}}{8} - \\frac{5 x^{3}}{16} + \\frac{35 x^{4}}{128} - \\frac{63 x^{5}}{256} + \\frac{231 x^{6}}{1024} - \\frac{429 x^{7}}{2048} + \\frac{6435 x^{8}}{32768} - \\frac{12155 x^{9}}{65536} + \\mathcal{O}\\left(x^{10}\\right)$$"
       ],
       "metadata": {},
       "output_type": "pyout",
       "png": "[encoded data removed]",
       "prompt_number": 25,
       "text": [
        "           2      3       4       5        6        7         8          9    \n",
        "    x   3\u22c5x    5\u22c5x    35\u22c5x    63\u22c5x    231\u22c5x    429\u22c5x    6435\u22c5x    12155\u22c5x     \n",
        "1 - \u2500 + \u2500\u2500\u2500\u2500 - \u2500\u2500\u2500\u2500 + \u2500\u2500\u2500\u2500\u2500 - \u2500\u2500\u2500\u2500\u2500 + \u2500\u2500\u2500\u2500\u2500\u2500 - \u2500\u2500\u2500\u2500\u2500\u2500 + \u2500\u2500\u2500\u2500\u2500\u2500\u2500 - \u2500\u2500\u2500\u2500\u2500\u2500\u2500\u2500 + O\n",
        "    2    8      16     128     256     1024     2048     32768     65536      \n",
        "\n",
        "     \n",
        "\u239b 10\u239e\n",
        "\u239dx  \u23a0\n",
        "     "
       ]
      }
     ],
     "prompt_number": 25
    },
    {
     "cell_type": "code",
     "collapsed": false,
     "input": [
      "#help(binomial)\n",
      "\n",
      "def b(x): return binomial(Rational(-1,2), x)\n",
      "\n",
      "list(series(b(i),x) for i in range(5))"
     ],
     "language": "python",
     "metadata": {},
     "outputs": [
      {
       "latex": [
        "$$\\left [ 1, \\quad - \\frac{1}{2}, \\quad \\frac{3}{8}, \\quad - \\frac{5}{16}, \\quad \\frac{35}{128}\\right ]$$"
       ],
       "metadata": {},
       "output_type": "pyout",
       "png": "[encoded data removed]",
       "prompt_number": 29,
       "text": [
        "\u23a1                      35\u23a4\n",
        "\u23a21, -1/2, 3/8, -5/16, \u2500\u2500\u2500\u23a5\n",
        "\u23a3                     128\u23a6"
       ]
      }
     ],
     "prompt_number": 29
    }
   ],
   "metadata": {}
  }
 ]
}