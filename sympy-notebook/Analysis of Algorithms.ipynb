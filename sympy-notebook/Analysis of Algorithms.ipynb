{
 "cells": [
  {
   "cell_type": "markdown",
   "metadata": {},
   "source": [
    "# Analysis of Algorithms\n",
    "\n",
    "This short notebook collects some Python exercises in order to support [a main document][main-doc], which talks about the use of *generating functions* in algorithms analysis. This notebook isn't verbose from the theoretical point of view but it contains the necessary code to develop and explain theoretical results instead.\n",
    "\n",
    "[main-doc]: https://github.com/massimo-nocentini/pacc/blob/master/compiled-versions/Elaborato.pdf"
   ]
  },
  {
   "cell_type": "markdown",
   "metadata": {},
   "source": [
    "As first step we load all necessary SymPy stuff:"
   ]
  },
  {
   "cell_type": "code",
   "execution_count": 1,
   "metadata": {
    "collapsed": false
   },
   "outputs": [],
   "source": [
    "import sympy\n",
    "from sympy import *\n",
    "from sympy.abc import x, n, z, t\n",
    "\n",
    "init_printing() # for nice printing, a-la' TeX"
   ]
  },
  {
   "cell_type": "markdown",
   "metadata": {},
   "source": [
    "## Quicksort: average number of swap\n",
    "\n",
    "In this section we report a simple manipulation of a formula in order to study the average number of swaps during a Quicksort execution. In the main document we obtain that $S(n)$, the function that count the average number of swaps done on a given input vector of size $n$, satisfies the following recurrence:\n",
    "$$ nS(n) - (n-1)S(n-1) =  \\frac{2n-3}{6} + 2\\,S(n-1)$$\n",
    "with little manipulation and unfolding $S(n-1)$, with $S(0) = S(1) = S(2) = 0$ as base cases, it is the same as: \n",
    "$$\n",
    "\\frac{S(n)}{n+1} =  \\frac{S(n-1)}{n} +  \\frac{2n -3}{6n(n+1)} \n",
    "$$\n",
    "solving the recurrence yields:\n",
    "$$\\mathcal{S}(n)= \\sum_{k=3}^{n}{ \\frac{2k-3}{6k(k+1)} }$$"
   ]
  },
  {
   "cell_type": "markdown",
   "metadata": {},
   "source": [
    "As a first step we define the abstraction bound on the rightmost summation over $k$:"
   ]
  },
  {
   "cell_type": "code",
   "execution_count": 2,
   "metadata": {
    "collapsed": false
   },
   "outputs": [
    {
     "data": {
      "image/png": "[encoded data removed]",
      "text/latex": [
       "$$\\frac{2 x - 3}{x \\left(6 x - 6\\right)}$$"
      ],
      "text/plain": [
       "  2⋅x - 3  \n",
       "───────────\n",
       "x⋅(6⋅x - 6)"
      ]
     },
     "execution_count": 2,
     "metadata": {},
     "output_type": "execute_result"
    }
   ],
   "source": [
    "def f(k): return (2*k-3)/(6*(k-1)*k)\n",
    "f(x)"
   ]
  },
  {
   "cell_type": "markdown",
   "metadata": {},
   "source": [
    "In order to get a bound for $S(n)$, decompose it in partial fractions:"
   ]
  },
  {
   "cell_type": "code",
   "execution_count": 4,
   "metadata": {
    "collapsed": false
   },
   "outputs": [
    {
     "name": "stdout",
     "output_type": "stream",
     "text": [
      "Help on function apart in module sympy.polys.partfrac:\n",
      "\n",
      "apart(f, x=None, full=False, **options)\n",
      "    Compute partial fraction decomposition of a rational function.\n",
      "    \n",
      "    Given a rational function ``f``, computes the partial fraction\n",
      "    decomposition of ``f``. Two algorithms are available: One is based on the\n",
      "    undertermined coefficients method, the other is Bronstein's full partial\n",
      "    fraction decomposition algorithm.\n",
      "    \n",
      "    The undetermined coefficients method (selected by ``full=False``) uses\n",
      "    polynomial factorization (and therefore accepts the same options as\n",
      "    factor) for the denominator. Per default it works over the rational\n",
      "    numbers, therefore decomposition of denominators with non-rational roots\n",
      "    (e.g. irrational, complex roots) is not supported by default (see options\n",
      "    of factor).\n",
      "    \n",
      "    Bronstein's algorithm can be selected by using ``full=True`` and allows a\n",
      "    decomposition of denominators with non-rational roots. A human-readable\n",
      "    result can be obtained via ``doit()`` (see examples below).\n",
      "    \n",
      "    Examples\n",
      "    ========\n",
      "    \n",
      "    >>> from sympy.polys.partfrac import apart\n",
      "    >>> from sympy.abc import x, y\n",
      "    \n",
      "    By default, using the undetermined coefficients method:\n",
      "    \n",
      "    >>> apart(y/(x + 2)/(x + 1), x)\n",
      "    -y/(x + 2) + y/(x + 1)\n",
      "    \n",
      "    The undetermined coefficients method does not provide a result when the\n",
      "    denominators roots are not rational:\n",
      "    \n",
      "    >>> apart(y/(x**2 + x + 1), x)\n",
      "    y/(x**2 + x + 1)\n",
      "    \n",
      "    You can choose Bronstein's algorithm by setting ``full=True``:\n",
      "    \n",
      "    >>> apart(y/(x**2 + x + 1), x, full=True)\n",
      "    RootSum(_w**2 + _w + 1, Lambda(_a, (-2*_a*y/3 - y/3)/(-_a + x)))\n",
      "    \n",
      "    Calling ``doit()`` yields a human-readable result:\n",
      "    \n",
      "    >>> apart(y/(x**2 + x + 1), x, full=True).doit()\n",
      "    (-y/3 - 2*y*(-1/2 - sqrt(3)*I/2)/3)/(x + 1/2 + sqrt(3)*I/2) + (-y/3 -\n",
      "        2*y*(-1/2 + sqrt(3)*I/2)/3)/(x + 1/2 - sqrt(3)*I/2)\n",
      "    \n",
      "    \n",
      "    See Also\n",
      "    ========\n",
      "    \n",
      "    apart_list, assemble_partfrac_list\n",
      "\n"
     ]
    },
    {
     "data": {
      "image/png": "[encoded data removed]",
      "text/latex": [
       "$$- \\frac{1}{6 x - 6} + \\frac{1}{2 x}$$"
      ],
      "text/plain": [
       "      1        1 \n",
       "- ───────── + ───\n",
       "  6⋅(x - 1)   2⋅x"
      ]
     },
     "execution_count": 4,
     "metadata": {},
     "output_type": "execute_result"
    }
   ],
   "source": [
    "partfrac = f(x).apart(); help(apart); partfrac"
   ]
  },
  {
   "cell_type": "markdown",
   "metadata": {},
   "source": [
    "Now it is possible to integrate the previous decomposition:"
   ]
  },
  {
   "cell_type": "code",
   "execution_count": 5,
   "metadata": {
    "collapsed": false
   },
   "outputs": [
    {
     "data": {
      "image/png": "[encoded data removed]",
      "text/latex": [
       "$$\\frac{1}{2} \\log{\\left (x \\right )} - \\frac{1}{6} \\log{\\left (x - 1 \\right )}$$"
      ],
      "text/plain": [
       "log(x)   log(x - 1)\n",
       "────── - ──────────\n",
       "  2          6     "
      ]
     },
     "execution_count": 5,
     "metadata": {},
     "output_type": "execute_result"
    }
   ],
   "source": [
    "partfrac.integrate(x)"
   ]
  },
  {
   "cell_type": "markdown",
   "metadata": {},
   "source": [
    "So the result above proves that $S(n) \\in \\mathcal{O}(n logn)$ as required. It is interesting to see if SymPy is able or not to solve the given recurrence for the number of swaps:"
   ]
  },
  {
   "cell_type": "code",
   "execution_count": 59,
   "metadata": {
    "collapsed": false
   },
   "outputs": [
    {
     "data": {
      "image/png": "[encoded data removed]",
      "text/latex": [
       "$$C_{0} \\left(n + 1\\right) + C_{0} \\left(2 n - 1\\right)$$"
      ],
      "text/plain": [
       "C₀⋅(n + 1) + C₀⋅(2⋅n - 1)"
      ]
     },
     "execution_count": 59,
     "metadata": {},
     "output_type": "execute_result"
    }
   ],
   "source": [
    ">>> from sympy import Function, rsolve\n",
    ">>> from sympy.abc import n\n",
    ">>> S = Function('S')\n",
    "#>>> f = (n - 1)*y(n + 2) - (n**2 + 3*n - 2)*y(n + 1) + 2*n*(n + 1)*y(n)\n",
    ">>> f = Eq(n*S(n) - (n-1)*S(n-1) ,  (2*n-3)/6 +  2*S(n-1))\n",
    ">>> rsolve(f, S(n))"
   ]
  },
  {
   "cell_type": "markdown",
   "metadata": {},
   "source": [
    "### Checks for *Equation 1.2*\n",
    "The following little calculation proves the result reported in *Equation 1.2* in the main document:"
   ]
  },
  {
   "cell_type": "code",
   "execution_count": 6,
   "metadata": {
    "collapsed": false
   },
   "outputs": [
    {
     "data": {
      "image/png": "[encoded data removed]",
      "text/latex": [
       "$$\\frac{1}{n \\left(n - 1\\right)} \\left(- n^{2} + \\frac{n}{2} \\left(n + 1\\right)^{2} - \\frac{n}{6} \\left(n + 1\\right) \\left(2 n + 1\\right)\\right)$$"
      ],
      "text/plain": [
       "                2                      \n",
       "   2   n⋅(n + 1)    n⋅(n + 1)⋅(2⋅n + 1)\n",
       "- n  + ────────── - ───────────────────\n",
       "           2                 6         \n",
       "───────────────────────────────────────\n",
       "               n⋅(n - 1)               "
      ]
     },
     "execution_count": 6,
     "metadata": {},
     "output_type": "execute_result"
    }
   ],
   "source": [
    "expr = (1/(n*(n-1)))* ((n*(n+1)**2)/2 - n*(n+1)*(2*n+1)/6 -n**2); expr"
   ]
  },
  {
   "cell_type": "markdown",
   "metadata": {},
   "source": [
    "which we simplify to get the required equivalence:"
   ]
  },
  {
   "cell_type": "code",
   "execution_count": 10,
   "metadata": {
    "collapsed": false
   },
   "outputs": [
    {
     "data": {
      "image/png": "[encoded data removed]",
      "text/latex": [
       "$$\\frac{1}{6} \\left(n - 2\\right)$$"
      ],
      "text/plain": [
       "n - 2\n",
       "─────\n",
       "  6  "
      ]
     },
     "execution_count": 10,
     "metadata": {},
     "output_type": "execute_result"
    }
   ],
   "source": [
    "expr.simplify().factor()"
   ]
  },
  {
   "cell_type": "markdown",
   "metadata": {},
   "source": [
    "## On binomial coefficients"
   ]
  },
  {
   "cell_type": "markdown",
   "metadata": {},
   "source": [
    "In the following cell we report a pair of sequences: terms in the first component belong to *central binomial coefficients* sequence, the second ones belong to *Catalan number*:"
   ]
  },
  {
   "cell_type": "code",
   "execution_count": 7,
   "metadata": {
    "collapsed": false
   },
   "outputs": [
    {
     "data": {
      "image/png": "[encoded data removed]",
      "text/latex": [
       "$$\\left ( \\left [ 1, \\quad 2, \\quad 6, \\quad 20, \\quad 70, \\quad 252, \\quad 924, \\quad 3432, \\quad 12870, \\quad 48620\\right ], \\quad \\left [ 1, \\quad 1, \\quad 2, \\quad 5, \\quad 14, \\quad 42, \\quad 132, \\quad 429, \\quad 1430, \\quad 4862\\right ]\\right )$$"
      ],
      "text/plain": [
       "([1, 2, 6, 20, 70, 252, 924, 3432, 12870, 48620], [1, 1, 2, 5, 14, 42, 132, 42\n",
       "9, 1430, 4862])"
      ]
     },
     "execution_count": 7,
     "metadata": {},
     "output_type": "execute_result"
    }
   ],
   "source": [
    "def central_binomial_coefficient(k): return binomial(Rational(2*k,1), k)\n",
    "def catalan_number(k): return Rational(1,k+1)*central_binomial_coefficient(k)\n",
    "\n",
    "limit = 10\n",
    "([central_binomial_coefficient(k) for k in range(limit)], \n",
    " [catalan_number(k) for k in range(limit)])"
   ]
  },
  {
   "cell_type": "markdown",
   "metadata": {},
   "source": [
    "---\n",
    "In this section we use the method explained in the theoretical document in order to evaluate particular binomial coefficients. We start with defining the ''kernel'' function to be expanded:"
   ]
  },
  {
   "cell_type": "code",
   "execution_count": 8,
   "metadata": {
    "collapsed": false
   },
   "outputs": [],
   "source": [
    "def f(r, z): return (1 + z)**r"
   ]
  },
  {
   "cell_type": "markdown",
   "metadata": {},
   "source": [
    "### First exercise\n",
    "\n",
    "In order to compute $ { \\frac{1}{2} \\choose {3} }$ we do Taylor expansion using the dummy variable $z$:"
   ]
  },
  {
   "cell_type": "code",
   "execution_count": 10,
   "metadata": {
    "collapsed": false
   },
   "outputs": [
    {
     "data": {
      "image/png": "[encoded data removed]",
      "text/latex": [
       "$$1 + \\frac{z}{2} - \\frac{z^{2}}{8} + \\frac{z^{3}}{16} - \\frac{5 z^{4}}{128} + \\frac{7 z^{5}}{256} + \\mathcal{O}\\left(z^{6}\\right)$$"
      ],
      "text/plain": [
       "         2    3      4      5        \n",
       "    z   z    z    5⋅z    7⋅z     ⎛ 6⎞\n",
       "1 + ─ - ── + ── - ──── + ──── + O⎝z ⎠\n",
       "    2   8    16   128    256         "
      ]
     },
     "execution_count": 10,
     "metadata": {},
     "output_type": "execute_result"
    }
   ],
   "source": [
    "series(f(Rational(1,2), z))"
   ]
  },
  {
   "cell_type": "markdown",
   "metadata": {},
   "source": [
    "finally take the coefficient of $z^3$, so $ { \\frac{1}{2} \\choose {3} } = \\frac{1}{16}$"
   ]
  },
  {
   "cell_type": "markdown",
   "metadata": {},
   "source": [
    "### Second exercise\n",
    "\n",
    "In this exercise we want to compute $ { -\\frac{1}{2} \\choose {k} }$, for a generic $k$. It is possible to use the method as before:"
   ]
  },
  {
   "cell_type": "code",
   "execution_count": 11,
   "metadata": {
    "collapsed": false
   },
   "outputs": [
    {
     "data": {
      "image/png": "[encoded data removed]",
      "text/latex": [
       "$$1 - \\frac{z}{2} + \\frac{3 z^{2}}{8} - \\frac{5 z^{3}}{16} + \\frac{35 z^{4}}{128} - \\frac{63 z^{5}}{256} + \\mathcal{O}\\left(z^{6}\\right)$$"
      ],
      "text/plain": [
       "           2      3       4       5        \n",
       "    z   3⋅z    5⋅z    35⋅z    63⋅z     ⎛ 6⎞\n",
       "1 - ─ + ──── - ──── + ───── - ───── + O⎝z ⎠\n",
       "    2    8      16     128     256         "
      ]
     },
     "execution_count": 11,
     "metadata": {},
     "output_type": "execute_result"
    }
   ],
   "source": [
    "series(f(Rational(-1,2), z))"
   ]
  },
  {
   "cell_type": "markdown",
   "metadata": {},
   "source": [
    "Otherwise we can use the manipulation (see the theoretical doc for details):\n",
    "$$  {{- \\frac{1}{2} }\\choose{k}} = \\frac{(-1)^k}{4^k} {{2k}\\choose{k}}  $$\n",
    "defining an helper function and building a list via comprehension:"
   ]
  },
  {
   "cell_type": "code",
   "execution_count": 12,
   "metadata": {
    "collapsed": false
   },
   "outputs": [
    {
     "data": {
      "image/png": "[encoded data removed]",
      "text/latex": [
       "$$\\left [ 1, \\quad - \\frac{1}{2}, \\quad \\frac{3}{8}, \\quad - \\frac{5}{16}, \\quad \\frac{35}{128}, \\quad - \\frac{63}{256}\\right ]$$"
      ],
      "text/plain": [
       "⎡                      35  -63 ⎤\n",
       "⎢1, -1/2, 3/8, -5/16, ───, ────⎥\n",
       "⎣                     128  256 ⎦"
      ]
     },
     "execution_count": 12,
     "metadata": {},
     "output_type": "execute_result"
    }
   ],
   "source": [
    "def helper(k): return ((-1)**k / 4**k)*binomial(2*k, k)\n",
    "[helper(Rational(k,1)) for k in range(6)]"
   ]
  },
  {
   "cell_type": "markdown",
   "metadata": {},
   "source": [
    "Coefficients in the previous list comprehension are the same as in Taylor expansion, as required."
   ]
  },
  {
   "cell_type": "markdown",
   "metadata": {},
   "source": [
    "### Some other exercises over binomial coefficients"
   ]
  },
  {
   "cell_type": "markdown",
   "metadata": {},
   "source": [
    "The following cell shows coefficient of ${ { \\frac{3}{2} } \\choose {k}} $ for heading values of $k$, a rewriting to prove is the following:\n",
    "$$\n",
    "{ { \\frac{3}{2} } \\choose {k}} = \\frac{(-1)^k  3  { { 2k } \\choose {k}}}{4^k (3k-1)(2k-3)}\n",
    "$$\n",
    "using series expansion:"
   ]
  },
  {
   "cell_type": "code",
   "execution_count": 29,
   "metadata": {
    "collapsed": false
   },
   "outputs": [
    {
     "data": {
      "image/png": "[encoded data removed]",
      "text/latex": [
       "$$1 + \\frac{3 z}{2} + \\frac{3 z^{2}}{8} - \\frac{z^{3}}{16} + \\frac{3 z^{4}}{128} - \\frac{3 z^{5}}{256} + \\frac{7 z^{6}}{1024} - \\frac{9 z^{7}}{2048} + \\frac{99 z^{8}}{32768} - \\frac{143 z^{9}}{65536} + \\mathcal{O}\\left(z^{10}\\right)$$"
      ],
      "text/plain": [
       "             2    3      4      5      6      7       8        9         \n",
       "    3⋅z   3⋅z    z    3⋅z    3⋅z    7⋅z    9⋅z    99⋅z    143⋅z     ⎛ 10⎞\n",
       "1 + ─── + ──── - ── + ──── - ──── + ──── - ──── + ───── - ────── + O⎝z  ⎠\n",
       "     2     8     16   128    256    1024   2048   32768   65536          "
      ]
     },
     "execution_count": 29,
     "metadata": {},
     "output_type": "execute_result"
    }
   ],
   "source": [
    "series(f(Rational(3,2), z), z, n=10)"
   ]
  },
  {
   "cell_type": "markdown",
   "metadata": {},
   "source": [
    "while mapping the rewriting:"
   ]
  },
  {
   "cell_type": "code",
   "execution_count": 30,
   "metadata": {
    "collapsed": false
   },
   "outputs": [
    {
     "data": {
      "image/png": "[encoded data removed]",
      "text/latex": [
       "$$\\left [ -1, \\quad \\frac{3}{2}, \\quad \\frac{9}{8}, \\quad - \\frac{5}{16}, \\quad \\frac{21}{128}, \\quad - \\frac{27}{256}, \\quad \\frac{77}{1024}, \\quad - \\frac{117}{2048}, \\quad \\frac{1485}{32768}, \\quad - \\frac{2431}{65536}\\right ]$$"
      ],
      "text/plain": [
       "⎡                      21  -27    77   -117    1485  -2431 ⎤\n",
       "⎢-1, 3/2, 9/8, -5/16, ───, ────, ────, ─────, ─────, ──────⎥\n",
       "⎣                     128  256   1024   2048  32768  65536 ⎦"
      ]
     },
     "execution_count": 30,
     "metadata": {},
     "output_type": "execute_result"
    }
   ],
   "source": [
    "def three_over_two_choose_k(k): return ((-1)**k *3*binomial(2*k, k))/(4**k*(2*k-3))\n",
    "[three_over_two_choose_k(Rational(k,1)) for k in range(10)]"
   ]
  },
  {
   "cell_type": "markdown",
   "metadata": {},
   "source": [
    "---"
   ]
  },
  {
   "cell_type": "markdown",
   "metadata": {},
   "source": [
    "The following cell shows coefficient of ${ { -\\frac{3}{2} } \\choose {k}} $ for heading values of $k$, a rewriting to prove is the following:\n",
    "$$\n",
    "{ { -\\frac{3}{2} } \\choose {k}} = \\frac{(-1)^k  (2k + 1)}{4^k}  { { 2k } \\choose {k}}\n",
    "$$\n",
    "using series expansion:"
   ]
  },
  {
   "cell_type": "code",
   "execution_count": 31,
   "metadata": {
    "collapsed": false
   },
   "outputs": [
    {
     "data": {
      "image/png": "[encoded data removed]",
      "text/latex": [
       "$$1 - \\frac{3 z}{2} + \\frac{15 z^{2}}{8} - \\frac{35 z^{3}}{16} + \\frac{315 z^{4}}{128} - \\frac{693 z^{5}}{256} + \\frac{3003 z^{6}}{1024} - \\frac{6435 z^{7}}{2048} + \\frac{109395 z^{8}}{32768} - \\frac{230945 z^{9}}{65536} + \\mathcal{O}\\left(z^{10}\\right)$$"
      ],
      "text/plain": [
       "              2       3        4        5         6         7           8     \n",
       "    3⋅z   15⋅z    35⋅z    315⋅z    693⋅z    3003⋅z    6435⋅z    109395⋅z    23\n",
       "1 - ─── + ───── - ───── + ────── - ────── + ─────── - ─────── + ───────── - ──\n",
       "     2      8       16     128      256       1024      2048      32768       \n",
       "\n",
       "      9         \n",
       "0945⋅z     ⎛ 10⎞\n",
       "─────── + O⎝z  ⎠\n",
       "65536           "
      ]
     },
     "execution_count": 31,
     "metadata": {},
     "output_type": "execute_result"
    }
   ],
   "source": [
    "series(f(Rational(-3,2), z), z, n=10)"
   ]
  },
  {
   "cell_type": "markdown",
   "metadata": {},
   "source": [
    "while mapping the rewriting:"
   ]
  },
  {
   "cell_type": "code",
   "execution_count": 32,
   "metadata": {
    "collapsed": false
   },
   "outputs": [
    {
     "data": {
      "image/png": "[encoded data removed]",
      "text/latex": [
       "$$\\left [ 1, \\quad - \\frac{3}{2}, \\quad \\frac{15}{8}, \\quad - \\frac{35}{16}, \\quad \\frac{315}{128}, \\quad - \\frac{693}{256}, \\quad \\frac{3003}{1024}, \\quad - \\frac{6435}{2048}, \\quad \\frac{109395}{32768}, \\quad - \\frac{230945}{65536}\\right ]$$"
      ],
      "text/plain": [
       "⎡               -35   315  -693   3003  -6435   109395  -230945 ⎤\n",
       "⎢1, -3/2, 15/8, ────, ───, ─────, ────, ──────, ──────, ────────⎥\n",
       "⎣                16   128   256   1024   2048   32768    65536  ⎦"
      ]
     },
     "execution_count": 32,
     "metadata": {},
     "output_type": "execute_result"
    }
   ],
   "source": [
    "def minus_three_over_two_choose_k(k): return ((-1)**k *(2*k+1))*binomial(2*k, k)/4**k\n",
    "[minus_three_over_two_choose_k(Rational(k,1)) for k in range(10)]"
   ]
  },
  {
   "cell_type": "markdown",
   "metadata": {},
   "source": [
    "### Fibonacci numbers revisited"
   ]
  },
  {
   "cell_type": "markdown",
   "metadata": {},
   "source": [
    "The following code uses NumPy to perform computations:"
   ]
  },
  {
   "cell_type": "code",
   "execution_count": 8,
   "metadata": {
    "collapsed": false
   },
   "outputs": [
    {
     "data": {
      "text/plain": [
       "[array([1, 1]),\n",
       " array([1, 2]),\n",
       " array([2, 3]),\n",
       " array([3, 5]),\n",
       " array([5, 8]),\n",
       " array([ 8, 13]),\n",
       " array([13, 21]),\n",
       " array([21, 34]),\n",
       " array([34, 55]),\n",
       " array([55, 89]),\n",
       " array([ 89, 144]),\n",
       " array([144, 233]),\n",
       " array([233, 377]),\n",
       " array([377, 610]),\n",
       " array([610, 987]),\n",
       " array([ 987, 1597]),\n",
       " array([1597, 2584]),\n",
       " array([2584, 4181]),\n",
       " array([4181, 6765]),\n",
       " array([ 6765, 10946]),\n",
       " array([10946, 17711]),\n",
       " array([17711, 28657]),\n",
       " array([28657, 46368]),\n",
       " array([46368, 75025]),\n",
       " array([ 75025, 121393]),\n",
       " array([121393, 196418]),\n",
       " array([196418, 317811]),\n",
       " array([317811, 514229]),\n",
       " array([514229, 832040]),\n",
       " array([ 832040, 1346269]),\n",
       " array([1346269, 2178309]),\n",
       " array([2178309, 3524578]),\n",
       " array([3524578, 5702887]),\n",
       " array([5702887, 9227465]),\n",
       " array([ 9227465, 14930352]),\n",
       " array([14930352, 24157817]),\n",
       " array([24157817, 39088169]),\n",
       " array([39088169, 63245986]),\n",
       " array([ 63245986, 102334155]),\n",
       " array([102334155, 165580141]),\n",
       " array([165580141, 267914296]),\n",
       " array([267914296, 433494437]),\n",
       " array([433494437, 701408733]),\n",
       " array([ 701408733, 1134903170]),\n",
       " array([1134903170, 1836311903]),\n",
       " array([1836311903, 2971215073]),\n",
       " array([2971215073, 4807526976]),\n",
       " array([4807526976, 7778742049]),\n",
       " array([ 7778742049, 12586269025]),\n",
       " array([12586269025, 20365011074]),\n",
       " array([20365011074, 32951280099]),\n",
       " array([32951280099, 53316291173]),\n",
       " array([53316291173, 86267571272]),\n",
       " array([ 86267571272, 139583862445]),\n",
       " array([139583862445, 225851433717]),\n",
       " array([225851433717, 365435296162]),\n",
       " array([365435296162, 591286729879]),\n",
       " array([591286729879, 956722026041]),\n",
       " array([ 956722026041, 1548008755920]),\n",
       " array([1548008755920, 2504730781961]),\n",
       " array([2504730781961, 4052739537881]),\n",
       " array([4052739537881, 6557470319842]),\n",
       " array([ 6557470319842, 10610209857723]),\n",
       " array([10610209857723, 17167680177565]),\n",
       " array([17167680177565, 27777890035288]),\n",
       " array([27777890035288, 44945570212853]),\n",
       " array([44945570212853, 72723460248141]),\n",
       " array([ 72723460248141, 117669030460994]),\n",
       " array([117669030460994, 190392490709135]),\n",
       " array([190392490709135, 308061521170129]),\n",
       " array([308061521170129, 498454011879264]),\n",
       " array([498454011879264, 806515533049393]),\n",
       " array([ 806515533049393, 1304969544928657]),\n",
       " array([1304969544928657, 2111485077978050]),\n",
       " array([2111485077978050, 3416454622906707]),\n",
       " array([3416454622906707, 5527939700884757]),\n",
       " array([5527939700884757, 8944394323791464]),\n",
       " array([ 8944394323791464, 14472334024676221]),\n",
       " array([14472334024676221, 23416728348467685]),\n",
       " array([23416728348467685, 37889062373143906]),\n",
       " array([37889062373143906, 61305790721611591]),\n",
       " array([61305790721611591, 99194853094755497]),\n",
       " array([ 99194853094755497, 160500643816367088]),\n",
       " array([160500643816367088, 259695496911122585]),\n",
       " array([259695496911122585, 420196140727489673]),\n",
       " array([420196140727489673, 679891637638612258]),\n",
       " array([ 679891637638612258, 1100087778366101931]),\n",
       " array([1100087778366101931, 1779979416004714189]),\n",
       " array([1779979416004714189, 2880067194370816120]),\n",
       " array([2880067194370816120, 4660046610375530309]),\n",
       " array([4660046610375530309, 7540113804746346429]),\n",
       " array([ 7540113804746346429, -6246583658587674878]),\n",
       " array([-6246583658587674878,  1293530146158671551]),\n",
       " array([ 1293530146158671551, -4953053512429003327]),\n",
       " array([-4953053512429003327, -3659523366270331776]),\n",
       " array([-3659523366270331776, -8612576878699335103]),\n",
       " array([-8612576878699335103,  6174643828739884737]),\n",
       " array([ 6174643828739884737, -2437933049959450366]),\n",
       " array([-2437933049959450366,  3736710778780434371]),\n",
       " array([3736710778780434371, 1298777728820984005]),\n",
       " array([1298777728820984005, 5035488507601418376]),\n",
       " array([5035488507601418376, 6334266236422402381]),\n",
       " array([ 6334266236422402381, -7076989329685730859]),\n",
       " array([-7076989329685730859,  -742723093263328478]),\n",
       " array([ -742723093263328478, -7819712422949059337]),\n",
       " array([-7819712422949059337, -8562435516212387815]),\n",
       " array([-8562435516212387815,  2064596134548104464]),\n",
       " array([ 2064596134548104464, -6497839381664283351]),\n",
       " array([-6497839381664283351, -4433243247116178887]),\n",
       " array([-4433243247116178887,  7515661444929089378]),\n",
       " array([7515661444929089378, 3082418197812910491]),\n",
       " array([ 3082418197812910491, -7848664430967551747]),\n",
       " array([-7848664430967551747, -4766246233154641256]),\n",
       " array([-4766246233154641256,  5831833409587358613]),\n",
       " array([5831833409587358613, 1065587176432717357]),\n",
       " array([1065587176432717357, 6897420586020075970]),\n",
       " array([6897420586020075970, 7963007762452793327]),\n",
       " array([ 7963007762452793327, -3586315725236682319]),\n",
       " array([-3586315725236682319,  4376692037216111008]),\n",
       " array([4376692037216111008,  790376311979428689]),\n",
       " array([ 790376311979428689, 5167068349195539697]),\n",
       " array([5167068349195539697, 5957444661174968386]),\n",
       " array([ 5957444661174968386, -7322231063339043533]),\n",
       " array([-7322231063339043533, -1364786402164075147]),\n",
       " array([-1364786402164075147, -8687017465503118680]),\n",
       " array([-8687017465503118680,  8394940206042357789]),\n",
       " array([8394940206042357789, -292077259460760891]),\n",
       " array([-292077259460760891, 8102862946581596898]),\n",
       " array([8102862946581596898, 7810785687120836007]),\n",
       " array([ 7810785687120836007, -2533095440007118711]),\n",
       " array([-2533095440007118711,  5277690247113717296]),\n",
       " array([5277690247113717296, 2744594807106598585]),\n",
       " array([2744594807106598585, 8022285054220315881]),\n",
       " array([ 8022285054220315881, -7679864212382637150]),\n",
       " array([-7679864212382637150,   342420841837678731]),\n",
       " array([  342420841837678731, -7337443370544958419]),\n",
       " array([-7337443370544958419, -6995022528707279688]),\n",
       " array([-6995022528707279688,  4114278174457313509]),\n",
       " array([ 4114278174457313509, -2880744354249966179]),\n",
       " array([-2880744354249966179,  1233533820207347330]),\n",
       " array([ 1233533820207347330, -1647210534042618849]),\n",
       " array([-1647210534042618849,  -413676713835271519]),\n",
       " array([ -413676713835271519, -2060887247877890368]),\n",
       " array([-2060887247877890368, -2474563961713161887]),\n",
       " array([-2474563961713161887, -4535451209591052255]),\n",
       " array([-4535451209591052255, -7010015171304214142]),\n",
       " array([-7010015171304214142,  6901277692814285219]),\n",
       " array([6901277692814285219, -108737478489928923]),\n",
       " array([-108737478489928923, 6792540214324356296]),\n",
       " array([6792540214324356296, 6683802735834427373]),\n",
       " array([ 6683802735834427373, -4970401123550767947]),\n",
       " array([-4970401123550767947,  1713401612283659426]),\n",
       " array([ 1713401612283659426, -3256999511267108521]),\n",
       " array([-3256999511267108521, -1543597898983449095]),\n",
       " array([-1543597898983449095, -4800597410250557616]),\n",
       " array([-4800597410250557616, -6344195309234006711]),\n",
       " array([-6344195309234006711,  7301951354224987289]),\n",
       " array([7301951354224987289,  957756044990980578]),\n",
       " array([ 957756044990980578, 8259707399215967867]),\n",
       " array([8259707399215967867, 9217463444206948445]),\n",
       " array([9217463444206948445, -969573230286635304]),\n",
       " array([-969573230286635304, 8247890213920313141]),\n",
       " array([8247890213920313141, 7278316983633677837]),\n",
       " array([ 7278316983633677837, -2920536876155560638]),\n",
       " array([-2920536876155560638,  4357780107478117199]),\n",
       " array([4357780107478117199, 1437243231322556561]),\n",
       " array([1437243231322556561, 5795023338800673760]),\n",
       " array([5795023338800673760, 7232266570123230321]),\n",
       " array([ 7232266570123230321, -5419454164785647535]),\n",
       " array([-5419454164785647535,  1812812405337582786]),\n",
       " array([ 1812812405337582786, -3606641759448064749]),\n",
       " array([-3606641759448064749, -1793829354110481963]),\n",
       " array([-1793829354110481963, -5400471113558546712]),\n",
       " array([-5400471113558546712, -7194300467669028675]),\n",
       " array([-7194300467669028675,  5851972492481976229]),\n",
       " array([ 5851972492481976229, -1342327975187052446]),\n",
       " array([-1342327975187052446,  4509644517294923783]),\n",
       " array([4509644517294923783, 3167316542107871337]),\n",
       " array([3167316542107871337, 7676961059402795120]),\n",
       " array([ 7676961059402795120, -7602466472198885159]),\n",
       " array([-7602466472198885159,    74494587203909961]),\n",
       " array([   74494587203909961, -7527971884994975198]),\n",
       " array([-7527971884994975198, -7453477297791065237]),\n",
       " array([-7453477297791065237,  3465294890923511181]),\n",
       " array([ 3465294890923511181, -3988182406867554056]),\n",
       " array([-3988182406867554056,  -522887515944042875]),\n",
       " array([ -522887515944042875, -4511069922811596931]),\n",
       " array([-4511069922811596931, -5033957438755639806]),\n",
       " array([-5033957438755639806,  8901716712142314879]),\n",
       " array([8901716712142314879, 3867759273386675073]),\n",
       " array([ 3867759273386675073, -5677268088180561664]),\n",
       " array([-5677268088180561664, -1809508814793886591]),\n",
       " array([-1809508814793886591, -7486776902974448255]),\n",
       " array([-7486776902974448255,  9150458355941216770]),\n",
       " array([9150458355941216770, 1663681452966768515]),\n",
       " array([ 1663681452966768515, -7632604264801566331]),\n",
       " array([-7632604264801566331, -5968922811834797816]),\n",
       " array([-5968922811834797816,  4845216997073187469]),\n",
       " array([ 4845216997073187469, -1123705814761610347]),\n",
       " array([-1123705814761610347,  3721511182311577122]),\n",
       " array([3721511182311577122, 2597805367549966775]),\n",
       " array([2597805367549966775, 6319316549861543897]),\n",
       " array([6319316549861543897, 8917121917411510672]),\n",
       " array([ 8917121917411510672, -3210305606436497047]),\n",
       " array([-3210305606436497047,  5706816310975013625]),\n",
       " array([5706816310975013625, 2496510704538516578]),\n",
       " array([2496510704538516578, 8203327015513530203]),\n",
       " array([ 8203327015513530203, -7746906353657504835]),\n",
       " array([-7746906353657504835,   456420661856025368]),\n",
       " array([  456420661856025368, -7290485691801479467]),\n",
       " array([-7290485691801479467, -6834065029945454099]),\n",
       " array([-6834065029945454099,  4322193351962618050]),\n",
       " array([ 4322193351962618050, -2511871677982836049]),\n",
       " array([-2511871677982836049,  1810321673979782001]),\n",
       " array([1810321673979782001, -701550004003054048]),\n",
       " array([-701550004003054048, 1108771669976727953]),\n",
       " array([1108771669976727953,  407221665973673905]),\n",
       " array([ 407221665973673905, 1515993335950401858]),\n",
       " array([1515993335950401858, 1923215001924075763]),\n",
       " array([1923215001924075763, 3439208337874477621]),\n",
       " array([3439208337874477621, 5362423339798553384]),\n",
       " array([5362423339798553384, 8801631677673031005]),\n",
       " array([ 8801631677673031005, -4282689056237967227]),\n",
       " array([-4282689056237967227,  4518942621435063778]),\n",
       " array([4518942621435063778,  236253565197096551]),\n",
       " array([ 236253565197096551, 4755196186632160329]),\n",
       " array([4755196186632160329, 4991449751829256880]),\n",
       " array([ 4991449751829256880, -8700098135248134407]),\n",
       " array([-8700098135248134407, -3708648383418877527]),\n",
       " array([-3708648383418877527,  6037997555042539682]),\n",
       " array([6037997555042539682, 2329349171623662155]),\n",
       " array([2329349171623662155, 8367346726666201837]),\n",
       " array([ 8367346726666201837, -7750048175419687624]),\n",
       " array([-7750048175419687624,   617298551246514213]),\n",
       " array([  617298551246514213, -7132749624173173411]),\n",
       " array([-7132749624173173411, -6515451072926659198]),\n",
       " array([-6515451072926659198,  4798543376609719007]),\n",
       " array([ 4798543376609719007, -1716907696316940191]),\n",
       " array([-1716907696316940191,  3081635680292778816]),\n",
       " array([3081635680292778816, 1364727983975838625]),\n",
       " array([1364727983975838625, 4446363664268617441]),\n",
       " array([4446363664268617441, 5811091648244456066]),\n",
       " array([ 5811091648244456066, -8189288761196478109]),\n",
       " array([-8189288761196478109, -2378197112952022043]),\n",
       " array([-2378197112952022043,  7879258199561051464]),\n",
       " array([7879258199561051464, 5501061086609029421]),\n",
       " array([ 5501061086609029421, -5066424787539470731]),\n",
       " array([-5066424787539470731,   434636299069558690]),\n",
       " array([  434636299069558690, -4631788488469912041]),\n",
       " array([-4631788488469912041, -4197152189400353351]),\n",
       " array([-4197152189400353351, -8828940677870265392]),\n",
       " array([-8828940677870265392,  5420651206438932873]),\n",
       " array([ 5420651206438932873, -3408289471431332519]),\n",
       " array([-3408289471431332519,  2012361735007600354]),\n",
       " array([ 2012361735007600354, -1395927736423732165]),\n",
       " array([-1395927736423732165,   616433998583868189]),\n",
       " array([ 616433998583868189, -779493737839863976]),\n",
       " array([-779493737839863976, -163059739255995787]),\n",
       " array([-163059739255995787, -942553477095859763]),\n",
       " array([ -942553477095859763, -1105613216351855550]),\n",
       " array([-1105613216351855550, -2048166693447715313]),\n",
       " array([-2048166693447715313, -3153779909799570863]),\n",
       " array([-3153779909799570863, -5201946603247286176]),\n",
       " array([-5201946603247286176, -8355726513046857039]),\n",
       " array([-8355726513046857039,  4889070957415408401]),\n",
       " array([ 4889070957415408401, -3466655555631448638]),\n",
       " array([-3466655555631448638,  1422415401783959763]),\n",
       " array([ 1422415401783959763, -2044240153847488875]),\n",
       " array([-2044240153847488875,  -621824752063529112]),\n",
       " array([ -621824752063529112, -2666064905911017987]),\n",
       " array([-2666064905911017987, -3287889657974547099]),\n",
       " array([-3287889657974547099, -5953954563885565086]),\n",
       " array([-5953954563885565086,  9204899851849439431]),\n",
       " array([9204899851849439431, 3250945287963874345]),\n",
       " array([ 3250945287963874345, -5990898933896237840]),\n",
       " array([-5990898933896237840, -2739953645932363495]),\n",
       " array([-2739953645932363495, -8730852579828601335]),\n",
       " array([-8730852579828601335,  6975937847948586786]),\n",
       " array([ 6975937847948586786, -1754914731880014549]),\n",
       " array([-1754914731880014549,  5221023116068572237]),\n",
       " array([5221023116068572237, 3466108384188557688]),\n",
       " array([3466108384188557688, 8687131500257129925]),\n",
       " array([ 8687131500257129925, -6293504189263864003]),\n",
       " array([-6293504189263864003,  2393627310993265922]),\n",
       " array([ 2393627310993265922, -3899876878270598081]),\n",
       " array([-3899876878270598081, -1506249567277332159]),\n",
       " array([-1506249567277332159, -5406126445547930240]),\n",
       " array([-5406126445547930240, -6912376012825262399]),\n",
       " array([-6912376012825262399,  6128241615336358977]),\n",
       " array([6128241615336358977, -784134397488903422]),\n",
       " array([-784134397488903422, 5344107217847455555]),\n",
       " array([5344107217847455555, 4559972820358552133]),\n",
       " array([ 4559972820358552133, -8542664035503543928]),\n",
       " array([-8542664035503543928, -3982691215144991795]),\n",
       " array([-3982691215144991795,  5921388823061015893]),\n",
       " array([5921388823061015893, 1938697607916024098]),\n",
       " array([1938697607916024098, 7860086430977039991]),\n",
       " array([ 7860086430977039991, -8647960034816487527]),\n",
       " array([-8647960034816487527,  -787873603839447536]),\n",
       " array([-787873603839447536, 9010910435053616553])]"
      ]
     },
     "execution_count": 8,
     "metadata": {},
     "output_type": "execute_result"
    }
   ],
   "source": [
    "import numpy as np\n",
    "from numpy.linalg import eig\n",
    "\n",
    "F_matrix = np.array([[0,1],[1,1]])\n",
    "    \n",
    "def fibo(n):\n",
    "    \n",
    "    F_init = np.array([1,1]).T\n",
    "    \n",
    "    for i in range(n):\n",
    "        F_init = F_matrix @ F_init\n",
    "        \n",
    "    return F_init\n",
    "\n",
    "[fibo(i) for i in range(300)]"
   ]
  },
  {
   "cell_type": "markdown",
   "metadata": {},
   "source": [
    "On the other hand the following code uses symbolic SymPy functions:"
   ]
  },
  {
   "cell_type": "code",
   "execution_count": 4,
   "metadata": {
    "collapsed": false
   },
   "outputs": [
    {
     "data": {
      "image/png": "[encoded data removed]",
      "text/latex": [
       "$$\\left ( \\left[\\begin{matrix}0 & 1\\\\1 & 1\\end{matrix}\\right], \\quad \\left [ \\frac{1}{2} \\left(1 + \\sqrt{5}\\right), \\quad - \\frac{1}{2} \\left(-1 + \\sqrt{5}\\right)\\right ]\\right )$$"
      ],
      "text/plain": [
       "⎛        ⎡      ___   ⎛       ___⎞ ⎤⎞\n",
       "⎜        ⎢1 + ╲╱ 5   -⎝-1 + ╲╱ 5 ⎠ ⎥⎟\n",
       "⎜⎡0  1⎤, ⎢─────────, ──────────────⎥⎟\n",
       "⎜⎢    ⎥  ⎣    2            2       ⎦⎟\n",
       "⎝⎣1  1⎦                             ⎠"
      ]
     },
     "execution_count": 4,
     "metadata": {},
     "output_type": "execute_result"
    }
   ],
   "source": [
    "F_matrix = Matrix([[0,1],[1,1]])\n",
    "F_matrix, list(map(factor, F_matrix.eigenvals()))"
   ]
  },
  {
   "cell_type": "code",
   "execution_count": 5,
   "metadata": {
    "collapsed": false
   },
   "outputs": [
    {
     "data": {
      "image/png": "[encoded data removed]",
      "text/latex": [
       "$$\\left [ 1, \\quad 1, \\quad 2, \\quad 3, \\quad 5, \\quad 8, \\quad 13, \\quad 21, \\quad 34, \\quad 55, \\quad 89, \\quad 144, \\quad 233, \\quad 377, \\quad 610, \\quad 987, \\quad 1597, \\quad 2584, \\quad 4181, \\quad 6765, \\quad 10946, \\quad 17711, \\quad 28657, \\quad 46368, \\quad 75025, \\quad 121393, \\quad 196418, \\quad 317811, \\quad 514229, \\quad 832040, \\quad 1346269, \\quad 2178309, \\quad 3524578, \\quad 5702887, \\quad 9227465, \\quad 14930352, \\quad 24157817, \\quad 39088169, \\quad 63245986, \\quad 102334155, \\quad 165580141, \\quad 267914296, \\quad 433494437, \\quad 701408733, \\quad 1134903170, \\quad 1836311903, \\quad 2971215073, \\quad 4807526976, \\quad 7778742049, \\quad 12586269025, \\quad 20365011074, \\quad 32951280099, \\quad 53316291173, \\quad 86267571272, \\quad 139583862445, \\quad 225851433717, \\quad 365435296162, \\quad 591286729879, \\quad 956722026041, \\quad 1548008755920, \\quad 2504730781961, \\quad 4052739537881, \\quad 6557470319842, \\quad 10610209857723, \\quad 17167680177565, \\quad 27777890035288, \\quad 44945570212853, \\quad 72723460248141, \\quad 117669030460994, \\quad 190392490709135, \\quad 308061521170129, \\quad 498454011879264, \\quad 806515533049393, \\quad 1304969544928657, \\quad 2111485077978050, \\quad 3416454622906707, \\quad 5527939700884757, \\quad 8944394323791464, \\quad 14472334024676221, \\quad 23416728348467685, \\quad 37889062373143906, \\quad 61305790721611591, \\quad 99194853094755497, \\quad 160500643816367088, \\quad 259695496911122585, \\quad 420196140727489673, \\quad 679891637638612258, \\quad 1100087778366101931, \\quad 1779979416004714189, \\quad 2880067194370816120, \\quad 4660046610375530309, \\quad 7540113804746346429, \\quad 12200160415121876738, \\quad 19740274219868223167, \\quad 31940434634990099905, \\quad 51680708854858323072, \\quad 83621143489848422977, \\quad 135301852344706746049, \\quad 218922995834555169026, \\quad 354224848179261915075, \\quad 573147844013817084101, \\quad 927372692193078999176, \\quad 1500520536206896083277, \\quad 2427893228399975082453, \\quad 3928413764606871165730, \\quad 6356306993006846248183, \\quad 10284720757613717413913, \\quad 16641027750620563662096, \\quad 26925748508234281076009, \\quad 43566776258854844738105, \\quad 70492524767089125814114, \\quad 114059301025943970552219, \\quad 184551825793033096366333, \\quad 298611126818977066918552, \\quad 483162952612010163284885, \\quad 781774079430987230203437, \\quad 1264937032042997393488322, \\quad 2046711111473984623691759, \\quad 3311648143516982017180081, \\quad 5358359254990966640871840, \\quad 8670007398507948658051921, \\quad 14028366653498915298923761, \\quad 22698374052006863956975682, \\quad 36726740705505779255899443, \\quad 59425114757512643212875125, \\quad 96151855463018422468774568, \\quad 155576970220531065681649693, \\quad 251728825683549488150424261, \\quad 407305795904080553832073954, \\quad 659034621587630041982498215, \\quad 1066340417491710595814572169, \\quad 1725375039079340637797070384, \\quad 2791715456571051233611642553, \\quad 4517090495650391871408712937, \\quad 7308805952221443105020355490, \\quad 11825896447871834976429068427, \\quad 19134702400093278081449423917, \\quad 30960598847965113057878492344, \\quad 50095301248058391139327916261, \\quad 81055900096023504197206408605, \\quad 131151201344081895336534324866, \\quad 212207101440105399533740733471, \\quad 343358302784187294870275058337, \\quad 555565404224292694404015791808, \\quad 898923707008479989274290850145, \\quad 1454489111232772683678306641953, \\quad 2353412818241252672952597492098, \\quad 3807901929474025356630904134051, \\quad 6161314747715278029583501626149, \\quad 9969216677189303386214405760200, \\quad 16130531424904581415797907386349, \\quad 26099748102093884802012313146549, \\quad 42230279526998466217810220532898, \\quad 68330027629092351019822533679447, \\quad 110560307156090817237632754212345, \\quad 178890334785183168257455287891792, \\quad 289450641941273985495088042104137, \\quad 468340976726457153752543329995929, \\quad 757791618667731139247631372100066, \\quad 1226132595394188293000174702095995, \\quad 1983924214061919432247806074196061, \\quad 3210056809456107725247980776292056, \\quad 5193981023518027157495786850488117, \\quad 8404037832974134882743767626780173, \\quad 13598018856492162040239554477268290, \\quad 22002056689466296922983322104048463, \\quad 35600075545958458963222876581316753, \\quad 57602132235424755886206198685365216, \\quad 93202207781383214849429075266681969, \\quad 150804340016807970735635273952047185, \\quad 244006547798191185585064349218729154, \\quad 394810887814999156320699623170776339, \\quad 638817435613190341905763972389505493, \\quad 1033628323428189498226463595560281832, \\quad 1672445759041379840132227567949787325, \\quad 2706074082469569338358691163510069157, \\quad 4378519841510949178490918731459856482, \\quad 7084593923980518516849609894969925639, \\quad 11463113765491467695340528626429782121, \\quad 18547707689471986212190138521399707760, \\quad 30010821454963453907530667147829489881, \\quad 48558529144435440119720805669229197641, \\quad 78569350599398894027251472817058687522, \\quad 127127879743834334146972278486287885163, \\quad 205697230343233228174223751303346572685, \\quad 332825110087067562321196029789634457848, \\quad 538522340430300790495419781092981030533, \\quad 871347450517368352816615810882615488381, \\quad 1409869790947669143312035591975596518914, \\quad 2281217241465037496128651402858212007295, \\quad 3691087032412706639440686994833808526209, \\quad 5972304273877744135569338397692020533504, \\quad 9663391306290450775010025392525829059713, \\quad 15635695580168194910579363790217849593217, \\quad 25299086886458645685589389182743678652930, \\quad 40934782466626840596168752972961528246147, \\quad 66233869353085486281758142155705206899077, \\quad 107168651819712326877926895128666735145224, \\quad 173402521172797813159685037284371942044301, \\quad 280571172992510140037611932413038677189525, \\quad 453973694165307953197296969697410619233826, \\quad 734544867157818093234908902110449296423351, \\quad 1188518561323126046432205871807859915657177, \\quad 1923063428480944139667114773918309212080528, \\quad 3111581989804070186099320645726169127737705, \\quad 5034645418285014325766435419644478339818233, \\quad 8146227408089084511865756065370647467555938, \\quad 13180872826374098837632191485015125807374171, \\quad 21327100234463183349497947550385773274930109, \\quad 34507973060837282187130139035400899082304280, \\quad 55835073295300465536628086585786672357234389, \\quad 90343046356137747723758225621187571439538669, \\quad 146178119651438213260386312206974243796773058, \\quad 236521166007575960984144537828161815236311727, \\quad 382699285659014174244530850035136059033084785, \\quad 619220451666590135228675387863297874269396512, \\quad 1001919737325604309473206237898433933302481297, \\quad 1621140188992194444701881625761731807571877809, \\quad 2623059926317798754175087863660165740874359106, \\quad 4244200115309993198876969489421897548446236915, \\quad 6867260041627791953052057353082063289320596021, \\quad 11111460156937785151929026842503960837766832936, \\quad 17978720198565577104981084195586024127087428957, \\quad 29090180355503362256910111038089984964854261893, \\quad 47068900554068939361891195233676009091941690850, \\quad 76159080909572301618801306271765994056795952743, \\quad 123227981463641240980692501505442003148737643593, \\quad 199387062373213542599493807777207997205533596336, \\quad 322615043836854783580186309282650000354271239929, \\quad 522002106210068326179680117059857997559804836265, \\quad 844617150046923109759866426342507997914076076194, \\quad 1366619256256991435939546543402365995473880912459, \\quad 2211236406303914545699412969744873993387956988653, \\quad 3577855662560905981638959513147239988861837901112, \\quad 5789092068864820527338372482892113982249794889765, \\quad 9366947731425726508977331996039353971111632790877, \\quad 15156039800290547036315704478931467953361427680642, \\quad 24522987531716273545293036474970821924473060471519, \\quad 39679027332006820581608740953902289877834488152161, \\quad 64202014863723094126901777428873111802307548623680, \\quad 103881042195729914708510518382775401680142036775841, \\quad 168083057059453008835412295811648513482449585399521, \\quad 271964099255182923543922814194423915162591622175362, \\quad 440047156314635932379335110006072428645041207574883, \\quad 712011255569818855923257924200496343807632829750245, \\quad 1152058411884454788302593034206568772452674037325128, \\quad 1864069667454273644225850958407065116260306867075373, \\quad 3016128079338728432528443992613633888712980904400501, \\quad 4880197746793002076754294951020699004973287771475874, \\quad 7896325826131730509282738943634332893686268675876375, \\quad 12776523572924732586037033894655031898659556447352249, \\quad 20672849399056463095319772838289364792345825123228624, \\quad 33449372971981195681356806732944396691005381570580873, \\quad 54122222371037658776676579571233761483351206693809497, \\quad 87571595343018854458033386304178158174356588264390370, \\quad 141693817714056513234709965875411919657707794958199867, \\quad 229265413057075367692743352179590077832064383222590237, \\quad 370959230771131880927453318055001997489772178180790104, \\quad 600224643828207248620196670234592075321836561403380341, \\quad 971183874599339129547649988289594072811608739584170445, \\quad 1571408518427546378167846658524186148133445300987550786, \\quad 2542592393026885507715496646813780220945054040571721231, \\quad 4114000911454431885883343305337966369078499341559272017, \\quad 6656593304481317393598839952151746590023553382130993248, \\quad 10770594215935749279482183257489712959102052723690265265, \\quad 17427187520417066673081023209641459549125606105821258513, \\quad 28197781736352815952563206467131172508227658829511523778, \\quad 45624969256769882625644229676772632057353264935332782291, \\quad 73822750993122698578207436143903804565580923764844306069, \\quad 119447720249892581203851665820676436622934188700177088360, \\quad 193270471243015279782059101964580241188515112465021394429, \\quad 312718191492907860985910767785256677811449301165198482789, \\quad 505988662735923140767969869749836918999964413630219877218, \\quad 818706854228831001753880637535093596811413714795418360007, \\quad 1324695516964754142521850507284930515811378128425638237225, \\quad 2143402371193585144275731144820024112622791843221056597232, \\quad 3468097888158339286797581652104954628434169971646694834457, \\quad 5611500259351924431073312796924978741056961814867751431689, \\quad 9079598147510263717870894449029933369491131786514446266146, \\quad 14691098406862188148944207245954912110548093601382197697835, \\quad 23770696554372451866815101694984845480039225387896643963981, \\quad 38461794961234640015759308940939757590587318989278841661816, \\quad 62232491515607091882574410635924603070626544377175485625797, \\quad 100694286476841731898333719576864360661213863366454327287613, \\quad 162926777992448823780908130212788963731840407743629812913410, \\quad 263621064469290555679241849789653324393054271110084140201023, \\quad 426547842461739379460149980002442288124894678853713953114433, \\quad 690168906931029935139391829792095612517948949963798093315456, \\quad 1116716749392769314599541809794537900642843628817512046429889, \\quad 1806885656323799249738933639586633513160792578781310139745345, \\quad 2923602405716568564338475449381171413803636207598822186175234, \\quad 4730488062040367814077409088967804926964428786380132325920579, \\quad 7654090467756936378415884538348976340768064993978954512095813, \\quad 12384578529797304192493293627316781267732493780359086838016392, \\quad 20038668997554240570909178165665757608500558774338041350112205, \\quad 32423247527351544763402471792982538876233052554697128188128597, \\quad 52461916524905785334311649958648296484733611329035169538240802, \\quad 84885164052257330097714121751630835360966663883732297726369399, \\quad 137347080577163115432025771710279131845700275212767467264610201, \\quad 222232244629420445529739893461909967206666939096499764990979600\\right ]$$"
      ],
      "text/plain": [
       "[1, 1, 2, 3, 5, 8, 13, 21, 34, 55, 89, 144, 233, 377, 610, 987, 1597, 2584, 41\n",
       "81, 6765, 10946, 17711, 28657, 46368, 75025, 121393, 196418, 317811, 514229, 8\n",
       "32040, 1346269, 2178309, 3524578, 5702887, 9227465, 14930352, 24157817, 390881\n",
       "69, 63245986, 102334155, 165580141, 267914296, 433494437, 701408733, 113490317\n",
       "0, 1836311903, 2971215073, 4807526976, 7778742049, 12586269025, 20365011074, 3\n",
       "2951280099, 53316291173, 86267571272, 139583862445, 225851433717, 365435296162\n",
       ", 591286729879, 956722026041, 1548008755920, 2504730781961, 4052739537881, 655\n",
       "7470319842, 10610209857723, 17167680177565, 27777890035288, 44945570212853, 72\n",
       "723460248141, 117669030460994, 190392490709135, 308061521170129, 4984540118792\n",
       "64, 806515533049393, 1304969544928657, 2111485077978050, 3416454622906707, 552\n",
       "7939700884757, 8944394323791464, 14472334024676221, 23416728348467685, 3788906\n",
       "2373143906, 61305790721611591, 99194853094755497, 160500643816367088, 25969549\n",
       "6911122585, 420196140727489673, 679891637638612258, 1100087778366101931, 17799\n",
       "79416004714189, 2880067194370816120, 4660046610375530309, 7540113804746346429,\n",
       " 12200160415121876738, 19740274219868223167, 31940434634990099905, 51680708854\n",
       "858323072, 83621143489848422977, 135301852344706746049, 218922995834555169026,\n",
       " 354224848179261915075, 573147844013817084101, 927372692193078999176, 15005205\n",
       "36206896083277, 2427893228399975082453, 3928413764606871165730, 63563069930068\n",
       "46248183, 10284720757613717413913, 16641027750620563662096, 269257485082342810\n",
       "76009, 43566776258854844738105, 70492524767089125814114, 114059301025943970552\n",
       "219, 184551825793033096366333, 298611126818977066918552, 483162952612010163284\n",
       "885, 781774079430987230203437, 1264937032042997393488322, 20467111114739846236\n",
       "91759, 3311648143516982017180081, 5358359254990966640871840, 86700073985079486\n",
       "58051921, 14028366653498915298923761, 22698374052006863956975682, 367267407055\n",
       "05779255899443, 59425114757512643212875125, 96151855463018422468774568, 155576\n",
       "970220531065681649693, 251728825683549488150424261, 40730579590408055383207395\n",
       "4, 659034621587630041982498215, 1066340417491710595814572169, 1725375039079340\n",
       "637797070384, 2791715456571051233611642553, 4517090495650391871408712937, 7308\n",
       "805952221443105020355490, 11825896447871834976429068427, 191347024000932780814\n",
       "49423917, 30960598847965113057878492344, 50095301248058391139327916261, 810559\n",
       "00096023504197206408605, 131151201344081895336534324866, 212207101440105399533\n",
       "740733471, 343358302784187294870275058337, 555565404224292694404015791808, 898\n",
       "923707008479989274290850145, 1454489111232772683678306641953, 2353412818241252\n",
       "672952597492098, 3807901929474025356630904134051, 6161314747715278029583501626\n",
       "149, 9969216677189303386214405760200, 16130531424904581415797907386349, 260997\n",
       "48102093884802012313146549, 42230279526998466217810220532898, 6833002762909235\n",
       "1019822533679447, 110560307156090817237632754212345, 1788903347851831682574552\n",
       "87891792, 289450641941273985495088042104137, 468340976726457153752543329995929\n",
       ", 757791618667731139247631372100066, 1226132595394188293000174702095995, 19839\n",
       "24214061919432247806074196061, 3210056809456107725247980776292056, 51939810235\n",
       "18027157495786850488117, 8404037832974134882743767626780173, 13598018856492162\n",
       "040239554477268290, 22002056689466296922983322104048463, 356000755459584589632\n",
       "22876581316753, 57602132235424755886206198685365216, 9320220778138321484942907\n",
       "5266681969, 150804340016807970735635273952047185, 2440065477981911855850643492\n",
       "18729154, 394810887814999156320699623170776339, 638817435613190341905763972389\n",
       "505493, 1033628323428189498226463595560281832, 1672445759041379840132227567949\n",
       "787325, 2706074082469569338358691163510069157, 4378519841510949178490918731459\n",
       "856482, 7084593923980518516849609894969925639, 1146311376549146769534052862642\n",
       "9782121, 18547707689471986212190138521399707760, 30010821454963453907530667147\n",
       "829489881, 48558529144435440119720805669229197641, 785693505993988940272514728\n",
       "17058687522, 127127879743834334146972278486287885163, 205697230343233228174223\n",
       "751303346572685, 332825110087067562321196029789634457848, 53852234043030079049\n",
       "5419781092981030533, 871347450517368352816615810882615488381, 1409869790947669\n",
       "143312035591975596518914, 2281217241465037496128651402858212007295, 3691087032\n",
       "412706639440686994833808526209, 5972304273877744135569338397692020533504, 9663\n",
       "391306290450775010025392525829059713, 1563569558016819491057936379021784959321\n",
       "7, 25299086886458645685589389182743678652930, 40934782466626840596168752972961\n",
       "528246147, 66233869353085486281758142155705206899077, 107168651819712326877926\n",
       "895128666735145224, 173402521172797813159685037284371942044301, 28057117299251\n",
       "0140037611932413038677189525, 453973694165307953197296969697410619233826, 7345\n",
       "44867157818093234908902110449296423351, 11885185613231260464322058718078599156\n",
       "57177, 1923063428480944139667114773918309212080528, 31115819898040701860993206\n",
       "45726169127737705, 5034645418285014325766435419644478339818233, 81462274080890\n",
       "84511865756065370647467555938, 13180872826374098837632191485015125807374171, 2\n",
       "1327100234463183349497947550385773274930109, 345079730608372821871301390354008\n",
       "99082304280, 55835073295300465536628086585786672357234389, 9034304635613774772\n",
       "3758225621187571439538669, 146178119651438213260386312206974243796773058, 2365\n",
       "21166007575960984144537828161815236311727, 38269928565901417424453085003513605\n",
       "9033084785, 619220451666590135228675387863297874269396512, 1001919737325604309\n",
       "473206237898433933302481297, 1621140188992194444701881625761731807571877809, 2\n",
       "623059926317798754175087863660165740874359106, 4244200115309993198876969489421\n",
       "897548446236915, 6867260041627791953052057353082063289320596021, 1111146015693\n",
       "7785151929026842503960837766832936, 179787201985655771049810841955860241270874\n",
       "28957, 29090180355503362256910111038089984964854261893, 4706890055406893936189\n",
       "1195233676009091941690850, 76159080909572301618801306271765994056795952743, 12\n",
       "3227981463641240980692501505442003148737643593, 199387062373213542599493807777\n",
       "207997205533596336, 322615043836854783580186309282650000354271239929, 52200210\n",
       "6210068326179680117059857997559804836265, 844617150046923109759866426342507997\n",
       "914076076194, 1366619256256991435939546543402365995473880912459, 2211236406303\n",
       "914545699412969744873993387956988653, 3577855662560905981638959513147239988861\n",
       "837901112, 5789092068864820527338372482892113982249794889765, 9366947731425726\n",
       "508977331996039353971111632790877, 1515603980029054703631570447893146795336142\n",
       "7680642, 24522987531716273545293036474970821924473060471519, 39679027332006820\n",
       "581608740953902289877834488152161, 6420201486372309412690177742887311180230754\n",
       "8623680, 103881042195729914708510518382775401680142036775841, 1680830570594530\n",
       "08835412295811648513482449585399521, 27196409925518292354392281419442391516259\n",
       "1622175362, 440047156314635932379335110006072428645041207574883, 7120112555698\n",
       "18855923257924200496343807632829750245, 11520584118844547883025930342065687724\n",
       "52674037325128, 1864069667454273644225850958407065116260306867075373, 30161280\n",
       "79338728432528443992613633888712980904400501, 48801977467930020767542949510206\n",
       "99004973287771475874, 7896325826131730509282738943634332893686268675876375, 12\n",
       "776523572924732586037033894655031898659556447352249, 2067284939905646309531977\n",
       "2838289364792345825123228624, 334493729719811956813568067329443966910053815705\n",
       "80873, 54122222371037658776676579571233761483351206693809497, 8757159534301885\n",
       "4458033386304178158174356588264390370, 141693817714056513234709965875411919657\n",
       "707794958199867, 229265413057075367692743352179590077832064383222590237, 37095\n",
       "9230771131880927453318055001997489772178180790104, 600224643828207248620196670\n",
       "234592075321836561403380341, 9711838745993391295476499882895940728116087395841\n",
       "70445, 1571408518427546378167846658524186148133445300987550786, 25425923930268\n",
       "85507715496646813780220945054040571721231, 41140009114544318858833433053379663\n",
       "69078499341559272017, 6656593304481317393598839952151746590023553382130993248,\n",
       " 10770594215935749279482183257489712959102052723690265265, 1742718752041706667\n",
       "3081023209641459549125606105821258513, 281977817363528159525632064671311725082\n",
       "27658829511523778, 45624969256769882625644229676772632057353264935332782291, 7\n",
       "3822750993122698578207436143903804565580923764844306069, 119447720249892581203\n",
       "851665820676436622934188700177088360, 1932704712430152797820591019645802411885\n",
       "15112465021394429, 312718191492907860985910767785256677811449301165198482789, \n",
       "505988662735923140767969869749836918999964413630219877218, 8187068542288310017\n",
       "53880637535093596811413714795418360007, 13246955169647541425218505072849305158\n",
       "11378128425638237225, 21434023711935851442757311448200241126227918432210565972\n",
       "32, 3468097888158339286797581652104954628434169971646694834457, 56115002593519\n",
       "24431073312796924978741056961814867751431689, 90795981475102637178708944490299\n",
       "33369491131786514446266146, 14691098406862188148944207245954912110548093601382\n",
       "197697835, 23770696554372451866815101694984845480039225387896643963981, 384617\n",
       "94961234640015759308940939757590587318989278841661816, 62232491515607091882574\n",
       "410635924603070626544377175485625797, 1006942864768417318983337195768643606612\n",
       "13863366454327287613, 16292677799244882378090813021278896373184040774362981291\n",
       "3410, 263621064469290555679241849789653324393054271110084140201023, 4265478424\n",
       "61739379460149980002442288124894678853713953114433, 69016890693102993513939182\n",
       "9792095612517948949963798093315456, 111671674939276931459954180979453790064284\n",
       "3628817512046429889, 180688565632379924973893363958663351316079257878131013974\n",
       "5345, 2923602405716568564338475449381171413803636207598822186175234, 473048806\n",
       "2040367814077409088967804926964428786380132325920579, 765409046775693637841588\n",
       "4538348976340768064993978954512095813, 123845785297973041924932936273167812677\n",
       "32493780359086838016392, 20038668997554240570909178165665757608500558774338041\n",
       "350112205, 32423247527351544763402471792982538876233052554697128188128597, 524\n",
       "61916524905785334311649958648296484733611329035169538240802, 84885164052257330\n",
       "097714121751630835360966663883732297726369399, 1373470805771631154320257717102\n",
       "79131845700275212767467264610201, 22223224462942044552973989346190996720666693\n",
       "9096499764990979600]"
      ]
     },
     "execution_count": 5,
     "metadata": {},
     "output_type": "execute_result"
    }
   ],
   "source": [
    "from functools import reduce \n",
    "\n",
    "def fibo(n):\n",
    "        \n",
    "    F_init = Matrix([[1,1]]).T\n",
    "    \n",
    "    return reduce(lambda v,e: F_matrix * v, range(n), F_init)\n",
    "    \n",
    "    # Previous `reduce' application means the following:\n",
    "    \n",
    "    #for i in range(n):\n",
    "    #    F_init = F_matrix * F_init   \n",
    "    #return F_init\n",
    "\n",
    "list(map(lambda v: v[0], [fibo(i) for i in range(300)]))"
   ]
  },
  {
   "cell_type": "code",
   "execution_count": 119,
   "metadata": {
    "collapsed": false,
    "scrolled": true
   },
   "outputs": [
    {
     "data": {
      "image/png": "[encoded data removed]",
      "text/latex": [
       "$$1 + c t + c^{2} t^{2} + c^{3} t^{3} + c^{4} t^{4} + c^{5} t^{5} + c^{6} t^{6} + c^{7} t^{7} + c^{8} t^{8} + c^{9} t^{9} + \\mathcal{O}\\left(t^{10}\\right)$$"
      ],
      "text/plain": [
       "           2  2    3  3    4  4    5  5    6  6    7  7    8  8    9  9    ⎛ 1\n",
       "1 + c⋅t + c ⋅t  + c ⋅t  + c ⋅t  + c ⋅t  + c ⋅t  + c ⋅t  + c ⋅t  + c ⋅t  + O⎝t \n",
       "\n",
       "0⎞\n",
       " ⎠"
      ]
     },
     "execution_count": 119,
     "metadata": {},
     "output_type": "execute_result"
    }
   ],
   "source": [
    "c = symbols('c')\n",
    "series(1/(1-c*t),t,n=10)"
   ]
  },
  {
   "cell_type": "code",
   "execution_count": 210,
   "metadata": {
    "collapsed": false
   },
   "outputs": [
    {
     "data": {
      "text/plain": [
       "('LXDUGOQUSEAS', 'SPIGADIGRANO', 'IKRSGDKGRAOO')"
      ]
     },
     "execution_count": 210,
     "metadata": {},
     "output_type": "execute_result"
    }
   ],
   "source": [
    "def ascii_code(c): return ord(c) - ord('A')\n",
    "\n",
    "modulo=26\n",
    "\n",
    "def decipher(pair):\n",
    "    k,c = pair\n",
    "    return (c - k) % modulo\n",
    "\n",
    "def cipher(pair):\n",
    "    p,k = pair\n",
    "    return (p + k) % modulo\n",
    "\n",
    "chipher_text = map(lambda p: chr(p + ord('A')), map(cipher, zip(map(ascii_code, \"SPIGADIGRANO\"),\n",
    "                  map(ascii_code,\"TIVOGLIOBENE\"))))\n",
    "chiper_text = ''.join(chipher_text)\n",
    "\n",
    "right_plain = map(lambda p: chr(p + ord('A')), map(decipher, zip(map(ascii_code, \"TIVOGLIOBENE\"),\n",
    "                  map(ascii_code,chiper_text))))\n",
    "right_plain = ''.join(right_plain)\n",
    "\n",
    "wrong_plain = map(lambda p: chr(p + ord('A')), map(decipher, zip(map(ascii_code, \"TIVOGLIOBENE\"),\n",
    "                  map(ascii_code,\"BSMGMOSUSEBS\"))))\n",
    "wrong_plain = ''.join(wrong_plain)\n",
    "\n",
    "chiper_text, right_plain, wrong_plain\n"
   ]
  },
  {
   "cell_type": "markdown",
   "metadata": {},
   "source": [
    "# Generating Functions"
   ]
  },
  {
   "cell_type": "markdown",
   "metadata": {},
   "source": [
    "### Convolution"
   ]
  },
  {
   "cell_type": "code",
   "execution_count": 122,
   "metadata": {
    "collapsed": false
   },
   "outputs": [
    {
     "data": {
      "image/png": "[encoded data removed]",
      "text/latex": [
       "$$\\left ( a{\\left (t \\right )} = \\left(- t + 1\\right) b{\\left (t \\right )}, \\quad 1 + t^{2} - 2 t^{3} + 10 t^{4} - t^{5} + \\mathcal{O}\\left(t^{6}\\right)\\right )$$"
      ],
      "text/plain": [
       "⎛                           2      3       4    5    ⎛ 6⎞⎞\n",
       "⎝a(t) = (-t + 1)⋅b(t), 1 + t  - 2⋅t  + 10⋅t  - t  + O⎝t ⎠⎠"
      ]
     },
     "execution_count": 122,
     "metadata": {},
     "output_type": "execute_result"
    }
   ],
   "source": [
    "a = Function('a')(t)\n",
    "b = Function('b')(t)\n",
    "use_me = Eq(a, b * (1-t))\n",
    "use_me,use_me.subs(b, 1 + 1*t + 2*t**2 + 10*t**4 + 9*t**5).rhs.series(t).simplify()"
   ]
  },
  {
   "cell_type": "code",
   "execution_count": 34,
   "metadata": {
    "collapsed": false
   },
   "outputs": [
    {
     "data": {
      "image/png": "[encoded data removed]",
      "text/latex": [
       "$$1 + 2 t + 4 t^{2} + 4 t^{3} + 14 t^{4} + 23 t^{5} + \\mathcal{O}\\left(t^{6}\\right)$$"
      ],
      "text/plain": [
       "             2      3       4       5    ⎛ 6⎞\n",
       "1 + 2⋅t + 4⋅t  + 4⋅t  + 14⋅t  + 23⋅t  + O⎝t ⎠"
      ]
     },
     "execution_count": 34,
     "metadata": {},
     "output_type": "execute_result"
    }
   ],
   "source": [
    "a = Function('a')(t)\n",
    "b = Function('b')(t)\n",
    "use_me = Eq(a, b * (1-t)**-1)\n",
    "use_me.subs(b, 1 + 1*t + 2*t**2 + 10*t**4 + 9*t**5).rhs.series(t).simplify()"
   ]
  },
  {
   "cell_type": "code",
   "execution_count": 35,
   "metadata": {
    "collapsed": false
   },
   "outputs": [
    {
     "data": {
      "image/png": "[encoded data removed]",
      "text/latex": [
       "$$\\left ( a{\\left (t \\right )} = \\left(-1 + \\frac{1}{t}\\right) b{\\left (t \\right )} - \\frac{1}{t} b{\\left (0 \\right )}, \\quad - 9 t^{5} - t^{4} + 10 t^{3} - 2 t^{2} + t\\right )$$"
      ],
      "text/plain": [
       "⎛       ⎛     1⎞        b(0)       5    4       3      2    ⎞\n",
       "⎜a(t) = ⎜-1 + ─⎟⋅b(t) - ────, - 9⋅t  - t  + 10⋅t  - 2⋅t  + t⎟\n",
       "⎝       ⎝     t⎠         t                                  ⎠"
      ]
     },
     "execution_count": 35,
     "metadata": {},
     "output_type": "execute_result"
    }
   ],
   "source": [
    "a = Function('a')(t)\n",
    "b = Function('b')(t)\n",
    "use_me = Eq(a, b * (t**-1 -1) -b.func(0)*t**-1)\n",
    "fut = lambda t: 1 + 1*t + 2*t**2 + 10*t**4 + 9*t**5 \n",
    "use_me,use_me.subs(b, fut(t)).subs(b.subs(t,0),fut(0)).rhs.series().expand()"
   ]
  },
  {
   "cell_type": "markdown",
   "metadata": {},
   "source": [
    "---"
   ]
  },
  {
   "cell_type": "markdown",
   "metadata": {},
   "source": [
    "# *SymPy* sandbox"
   ]
  },
  {
   "cell_type": "code",
   "execution_count": 36,
   "metadata": {
    "collapsed": false
   },
   "outputs": [
    {
     "data": {
      "image/png": "[encoded data removed]",
      "text/latex": [
       "$$3.141592653589793238462643383279502884197169399375105820974944592307816406286208998628034825342117068$$"
      ],
      "text/plain": [
       "3.1415926535897932384626433832795028841971693993751058209749445923078164062862\n",
       "08998628034825342117068"
      ]
     },
     "execution_count": 36,
     "metadata": {},
     "output_type": "execute_result"
    }
   ],
   "source": [
    "pi.evalf(100)"
   ]
  },
  {
   "cell_type": "code",
   "execution_count": 37,
   "metadata": {
    "collapsed": false
   },
   "outputs": [
    {
     "data": {
      "image/png": "[encoded data removed]",
      "text/latex": [
       "$$\\left ( a_{0}, \\quad a_{1}, \\quad a_{2}, \\quad a_{3}, \\quad a_{4}, \\quad a_{5}, \\quad a_{6}, \\quad a_{7}, \\quad a_{8}, \\quad a_{9}\\right )$$"
      ],
      "text/plain": [
       "(a₀, a₁, a₂, a₃, a₄, a₅, a₆, a₇, a₈, a₉)"
      ]
     },
     "execution_count": 37,
     "metadata": {},
     "output_type": "execute_result"
    }
   ],
   "source": [
    "a = symbols('a0:10')\n",
    "a"
   ]
  },
  {
   "cell_type": "code",
   "execution_count": 15,
   "metadata": {
    "collapsed": false
   },
   "outputs": [
    {
     "data": {
      "image/png": "[encoded data removed]",
      "text/latex": [
       "$$\\left(\\sum_{n=0}^{4} x^{n} a_{n}\\right) \\sum_{n=0}^{4} x^{n} b_{n}$$"
      ],
      "text/plain": [
       "⎛  4          ⎞   4          \n",
       "⎜ ___         ⎟  ___         \n",
       "⎜ ╲           ⎟  ╲           \n",
       "⎜  ╲    n     ⎟   ╲    n     \n",
       "⎜  ╱   x ⋅a[n]⎟⋅  ╱   x ⋅b[n]\n",
       "⎜ ╱           ⎟  ╱           \n",
       "⎜ ‾‾‾         ⎟  ‾‾‾         \n",
       "⎝n = 0        ⎠ n = 0        "
      ]
     },
     "execution_count": 15,
     "metadata": {},
     "output_type": "execute_result"
    }
   ],
   "source": [
    "x = numbered_symbols('x')\n",
    "next(x), next(x)\n",
    "x = Symbol('x')\n",
    "ai = IndexedBase('a')\n",
    "bi = IndexedBase('b')\n",
    "a = Sum(ai[n]*x**n, (n, 0, 4))\n",
    "b = Sum(bi[n]*x**n, (n, 0, 4))\n",
    "expand(a*b)\n"
   ]
  },
  {
   "cell_type": "code",
   "execution_count": 39,
   "metadata": {
    "collapsed": false
   },
   "outputs": [
    {
     "data": {
      "image/png": "[encoded data removed]",
      "text/latex": [
       "$$\\left ( \\sum_{i=0}^{\\infty} t^{i} a_{i}, \\quad \\sum_{i=0}^{n} t^{i} b_{i}, \\quad \\left(\\sum_{i=0}^{\\infty} t^{i} a_{i}\\right) \\sum_{i=0}^{5} t^{i} b_{i}, \\quad \\sum_{n=0}^{i} t^{n} \\sum_{k=0}^{n} a_{k} b_{- k + n}, \\quad \\sum_{n=0}^{i} t^{n} \\sum_{k=0}^{n} a_{k} b_{- k + n}\\right )$$"
      ],
      "text/plain": [
       "⎛                                                               i             \n",
       "⎜                                                             ______          \n",
       "⎜                                                             ╲               \n",
       "⎜  ∞              n            ⎛  ∞          ⎞   5             ╲          n   \n",
       "⎜ ___            ___           ⎜ ___         ⎟  ___             ╲        ___  \n",
       "⎜ ╲              ╲             ⎜ ╲           ⎟  ╲                ╲       ╲    \n",
       "⎜  ╲    i         ╲    i       ⎜  ╲    i     ⎟   ╲    i           ╲   n   ╲   \n",
       "⎜  ╱   t ⋅a[i],   ╱   t ⋅b[i], ⎜  ╱   t ⋅a[i]⎟⋅  ╱   t ⋅b[i],     ╱  t ⋅  ╱   \n",
       "⎜ ╱              ╱             ⎜ ╱           ⎟  ╱                ╱       ╱    \n",
       "⎜ ‾‾‾            ‾‾‾           ⎜ ‾‾‾         ⎟  ‾‾‾             ╱        ‾‾‾  \n",
       "⎜i = 0          i = 0          ⎝i = 0        ⎠ i = 0           ╱        k = 0 \n",
       "⎜                                                             ╱               \n",
       "⎜                                                             ‾‾‾‾‾‾          \n",
       "⎝                                                             n = 0           \n",
       "\n",
       "                  i                           ⎞\n",
       "                ______                        ⎟\n",
       "                ╲                             ⎟\n",
       "                 ╲          n                 ⎟\n",
       "                  ╲        ___                ⎟\n",
       "                   ╲       ╲                  ⎟\n",
       "a[k]⋅b[-k + n]      ╲   n   ╲   a[k]⋅b[-k + n]⎟\n",
       "              ,     ╱  t ⋅  ╱                 ⎟\n",
       "                   ╱       ╱                  ⎟\n",
       "                  ╱        ‾‾‾                ⎟\n",
       "                 ╱        k = 0               ⎟\n",
       "                ╱                             ⎟\n",
       "                ‾‾‾‾‾‾                        ⎟\n",
       "                n = 0                         ⎠"
      ]
     },
     "execution_count": 39,
     "metadata": {},
     "output_type": "execute_result"
    }
   ],
   "source": [
    "k, k0, k1, k2, t, i = symbols('k k:3 t i')\n",
    "k_gen = numbered_symbols('a')\n",
    "a_k = IndexedBase('a')\n",
    "b_n_k = IndexedBase('b')\n",
    "i_tuple = (i, 0, n)\n",
    "a_sum = summation(a_k[i]*t**i, (i,0,oo) )\n",
    "b_sum = Sum(b_n_k[i]*t**i, i_tuple)\n",
    "limit = 5\n",
    "a_b_prod = a_sum.subs(n,limit) * b_sum.subs(n,limit)\n",
    "G_conv = Sum(Sum(a_k[k] * b_n_k[n-k], (k, 0, n))*t**n, (n, 0, i))\n",
    "a_sum.subs(n,5).doit(), b_sum, expand(a_b_prod,mul=True), G_conv, G_conv"
   ]
  },
  {
   "cell_type": "code",
   "execution_count": 40,
   "metadata": {
    "collapsed": false
   },
   "outputs": [
    {
     "data": {
      "image/png": "[encoded data removed]",
      "text/latex": [
       "$$\\prod_{i=1}^{n} \\frac{4 i^{2}}{\\left(2 i - 1\\right) \\left(2 i + 1\\right)}$$"
      ],
      "text/plain": [
       "    n                         \n",
       "┬────────┬                    \n",
       "│        │            2       \n",
       "│        │         4⋅i        \n",
       "│        │ ───────────────────\n",
       "│        │ (2⋅i - 1)⋅(2⋅i + 1)\n",
       "│        │                    \n",
       "  i = 1                       "
      ]
     },
     "execution_count": 40,
     "metadata": {},
     "output_type": "execute_result"
    }
   ],
   "source": [
    "W2 = Product(2*i/(2*i-1)*2*i/(2*i+1), (i, 1, n))\n",
    "W2 # it should print: Product(4*i**2/((2*i - 1)*(2*i + 1)), (i, 1, n))"
   ]
  },
  {
   "cell_type": "code",
   "execution_count": 41,
   "metadata": {
    "collapsed": false
   },
   "outputs": [
    {
     "data": {
      "image/png": "[encoded data removed]",
      "text/latex": [
       "$$\\frac{2^{- 2 n} 4^{n}}{{\\left(\\frac{1}{2}\\right)}^{\\left(n\\right)} {\\left(\\frac{3}{2}\\right)}^{\\left(n\\right)}} n!^{2}$$"
      ],
      "text/plain": [
       "                   -2⋅n  n   2                 \n",
       "                  2    ⋅4 ⋅n!                  \n",
       "───────────────────────────────────────────────\n",
       "RisingFactorial(1/2, n)⋅RisingFactorial(3/2, n)"
      ]
     },
     "execution_count": 41,
     "metadata": {},
     "output_type": "execute_result"
    }
   ],
   "source": [
    "W2e = W2.doit()\n",
    "W2e # it should return: 2**(-2*n)*4**n*(factorial(n))**2/(RisingFactorial(1/2, n)*RisingFactorial(3/2, n))"
   ]
  },
  {
   "cell_type": "code",
   "execution_count": 42,
   "metadata": {
    "collapsed": false
   },
   "outputs": [
    {
     "data": {
      "image/png": "[encoded data removed]",
      "text/latex": [
       "$$t^{7} x_{10} + t^{6} x_{9} + t^{5} x_{8} + t^{4} x_{7} + t^{3} x_{6} + t^{2} x_{5} + t x_{4} + x_{3} + \\frac{x_{2}}{t} + \\frac{x_{1}}{t^{2}} + \\frac{x_{0}}{t^{3}}$$"
      ],
      "text/plain": [
       " 7          6         5         4         3         2                        x\n",
       "t ⋅x[10] + t ⋅x[9] + t ⋅x[8] + t ⋅x[7] + t ⋅x[6] + t ⋅x[5] + t⋅x[4] + x[3] + ─\n",
       "                                                                              \n",
       "                                                                              \n",
       "\n",
       "[2]   x[1]   x[0]\n",
       "─── + ──── + ────\n",
       "t       2      3 \n",
       "       t      t  "
      ]
     },
     "execution_count": 42,
     "metadata": {},
     "output_type": "execute_result"
    }
   ],
   "source": [
    "x = numbered_symbols('x')\n",
    "k = numbered_symbols('k')\n",
    "xi = IndexedBase('x')\n",
    "expand((next(x) + next(x) + next(x))*(next(k) + next(k) + next(k)))\n",
    "my_sum = (Sum(xi[i]*t**i, (i,0, n))).subs(n,5).doit().subs(xi[5],4)\n",
    "(my_sum * my_sum)\n",
    "simplify(Sum(xi[i]*t**i, (i,0, n)).subs(n,10).doit()/t**3)"
   ]
  },
  {
   "cell_type": "code",
   "execution_count": 43,
   "metadata": {
    "collapsed": false
   },
   "outputs": [
    {
     "data": {
      "image/png": "[encoded data removed]",
      "text/latex": [
       "$$\\left( t \\mapsto t + 1 \\right)$$"
      ],
      "text/plain": [
       "t ↦ t + 1"
      ]
     },
     "execution_count": 43,
     "metadata": {},
     "output_type": "execute_result"
    }
   ],
   "source": [
    "a = IndexedBase('a')\n",
    "s = Sum(xi[i]*t**i, (i,0, n))\n",
    "f = Lambda(t, t+1)\n",
    "f"
   ]
  },
  {
   "cell_type": "code",
   "execution_count": 60,
   "metadata": {
    "collapsed": false
   },
   "outputs": [
    {
     "data": {
      "image/png": "[encoded data removed]",
      "text/latex": [
       "$$t + 2 t^{2} + 3 t^{3} + 4 t^{4} + 5 t^{5} + 6 t^{6} + 7 t^{7} + 8 t^{8} + 9 t^{9} + \\mathcal{O}\\left(t^{10}\\right)$$"
      ],
      "text/plain": [
       "       2      3      4      5      6      7      8      9    ⎛ 10⎞\n",
       "t + 2⋅t  + 3⋅t  + 4⋅t  + 5⋅t  + 6⋅t  + 7⋅t  + 8⋅t  + 9⋅t  + O⎝t  ⎠"
      ]
     },
     "execution_count": 60,
     "metadata": {},
     "output_type": "execute_result"
    }
   ],
   "source": [
    "series(t/(1-t)**2, n=10)"
   ]
  },
  {
   "cell_type": "markdown",
   "metadata": {
    "collapsed": false
   },
   "source": [
    "$d_{nk}$ is the number of *Collatz chains* of length $n$ with $k$ inversions"
   ]
  },
  {
   "cell_type": "markdown",
   "metadata": {},
   "source": [
    "# $A=B$"
   ]
  },
  {
   "cell_type": "code",
   "execution_count": 7,
   "metadata": {
    "collapsed": false
   },
   "outputs": [
    {
     "data": {
      "image/png": "[encoded data removed]",
      "text/latex": [
       "$$n + 1$$"
      ],
      "text/plain": [
       "n + 1"
      ]
     },
     "execution_count": 7,
     "metadata": {},
     "output_type": "execute_result"
    }
   ],
   "source": [
    "def an_example(n): return factorial(n+1)/factorial(n)\n",
    "\n",
    "an_example(n).simplify()"
   ]
  },
  {
   "cell_type": "code",
   "execution_count": 27,
   "metadata": {
    "collapsed": false
   },
   "outputs": [
    {
     "name": "stdout",
     "output_type": "stream",
     "text": [
      "Help on method rewrite in module sympy.core.basic:\n",
      "\n",
      "rewrite(*args, **hints) method of sympy.core.mul.Mul instance\n",
      "    Rewrite functions in terms of other functions.\n",
      "    \n",
      "    Rewrites expression containing applications of functions\n",
      "    of one kind in terms of functions of different kind. For\n",
      "    example you can rewrite trigonometric functions as complex\n",
      "    exponentials or combinatorial functions as gamma function.\n",
      "    \n",
      "    As a pattern this function accepts a list of functions to\n",
      "    to rewrite (instances of DefinedFunction class). As rule\n",
      "    you can use string or a destination function instance (in\n",
      "    this case rewrite() will use the str() function).\n",
      "    \n",
      "    There is also the possibility to pass hints on how to rewrite\n",
      "    the given expressions. For now there is only one such hint\n",
      "    defined called 'deep'. When 'deep' is set to False it will\n",
      "    forbid functions to rewrite their contents.\n",
      "    \n",
      "    Examples\n",
      "    ========\n",
      "    \n",
      "    >>> from sympy import sin, exp\n",
      "    >>> from sympy.abc import x\n",
      "    \n",
      "    Unspecified pattern:\n",
      "    >>> sin(x).rewrite(exp)\n",
      "    -I*(exp(I*x) - exp(-I*x))/2\n",
      "    \n",
      "    Pattern as a single function:\n",
      "    >>> sin(x).rewrite(sin, exp)\n",
      "    -I*(exp(I*x) - exp(-I*x))/2\n",
      "    \n",
      "    Pattern as a list of functions:\n",
      "    >>> sin(x).rewrite([sin, ], exp)\n",
      "    -I*(exp(I*x) - exp(-I*x))/2\n",
      "\n"
     ]
    },
    {
     "data": {
      "image/png": "[encoded data removed]",
      "text/latex": [
       "$$\\left ( \\frac{n!^{4}}{k!^{2} \\left(2 n\\right)! \\left(- k + n\\right)!^{2}}, \\quad 0\\right )$$"
      ],
      "text/plain": [
       "⎛           4            ⎞\n",
       "⎜         n!             ⎟\n",
       "⎜─────────────────────, 0⎟\n",
       "⎜  2                 2   ⎟\n",
       "⎝k! ⋅(2⋅n)!⋅(-k + n)!    ⎠"
      ]
     },
     "execution_count": 27,
     "metadata": {},
     "output_type": "execute_result"
    }
   ],
   "source": [
    "def rhs(n): return binomial(2*n,n)\n",
    "def t(n,k): return binomial(n,k)**2\n",
    "def F(n,k): return t(n,k)/rhs(n)\n",
    "def R(n,k): return -((3*n + 3-2*k)*k**2)/(2*(2*n+1)*(n+1-k)**2)\n",
    "def G(n,k): return R(n,k)*F(n,k)\n",
    "k= Symbol('k')\n",
    "f=F(n,k)\n",
    "help(f.rewrite)\n",
    "f.rewrite(factorial), (F(n+1,k)-F(n,k)-G(n,k+1)+G(n,k)).simplify()"
   ]
  },
  {
   "cell_type": "markdown",
   "metadata": {},
   "source": [
    "## Exercises"
   ]
  },
  {
   "cell_type": "markdown",
   "metadata": {},
   "source": [
    "The following is exercise 1 of section 2.7"
   ]
  },
  {
   "cell_type": "code",
   "execution_count": 7,
   "metadata": {
    "collapsed": false
   },
   "outputs": [
    {
     "data": {
      "image/png": "[encoded data removed]",
      "text/latex": [
       "$$\\left ( \\sum_{k=0}^{3} \\frac{\\left(n + 2\\right)!^{2} \\left(- 3 k + 3 n + 1\\right)! \\left(- 2 k + 2 n - 5\\right)!}{\\left(2 n - 5\\right)! \\left(3 n + 1\\right)! \\left(- k + n + 2\\right)!^{2}}, \\quad 1 + \\frac{\\left(n + 2\\right)!^{2} \\left(2 n - 7\\right)! \\left(3 n - 2\\right)!}{\\left(n + 1\\right)!^{2} \\left(2 n - 5\\right)! \\left(3 n + 1\\right)!} + \\frac{\\left(n + 2\\right)!^{2} \\left(2 n - 11\\right)! \\left(3 n - 8\\right)!}{\\left(n - 1\\right)!^{2} \\left(2 n - 5\\right)! \\left(3 n + 1\\right)!} + \\frac{\\left(n + 2\\right)!^{2} \\left(2 n - 9\\right)! \\left(3 n - 5\\right)!}{n!^{2} \\left(2 n - 5\\right)! \\left(3 n + 1\\right)!}\\right )$$"
      ],
      "text/plain": [
       "⎛  3                                                                          \n",
       "⎜_____                                                                        \n",
       "⎜╲                                                                            \n",
       "⎜ ╲            2                                                              \n",
       "⎜  ╲   (n + 2)! ⋅(-3⋅k + 3⋅n + 1)!⋅(-2⋅k + 2⋅n - 5)!              2           \n",
       "⎜   ╲  ─────────────────────────────────────────────      (n + 2)! ⋅(2⋅n - 7)!\n",
       "⎜   ╱                                          2    , 1 + ────────────────────\n",
       "⎜  ╱        (2⋅n - 5)!⋅(3⋅n + 1)!⋅(-k + n + 2)!                   2           \n",
       "⎜ ╱                                                       (n + 1)! ⋅(2⋅n - 5)!\n",
       "⎜╱                                                                            \n",
       "⎜‾‾‾‾‾                                                                        \n",
       "⎝k = 0                                                                        \n",
       "\n",
       "                                                                              \n",
       "                                                                              \n",
       "                                                                              \n",
       "                                                                              \n",
       "                      2                                  2                    \n",
       "⋅(3⋅n - 2)!   (n + 2)! ⋅(2⋅n - 11)!⋅(3⋅n - 8)!   (n + 2)! ⋅(2⋅n - 9)!⋅(3⋅n - 5\n",
       "─────────── + ──────────────────────────────── + ─────────────────────────────\n",
       "                      2                               2                       \n",
       "⋅(3⋅n + 1)!   (n - 1)! ⋅(2⋅n - 5)!⋅(3⋅n + 1)!       n! ⋅(2⋅n - 5)!⋅(3⋅n + 1)! \n",
       "                                                                              \n",
       "                                                                              \n",
       "                                                                              \n",
       "\n",
       "  ⎞\n",
       "  ⎟\n",
       "  ⎟\n",
       "  ⎟\n",
       "  ⎟\n",
       ")!⎟\n",
       "──⎟\n",
       "  ⎟\n",
       "  ⎟\n",
       "  ⎟\n",
       "  ⎟\n",
       "  ⎠"
      ]
     },
     "execution_count": 7,
     "metadata": {},
     "output_type": "execute_result"
    }
   ],
   "source": [
    "def f(n): return (factorial(3*n+1)*factorial(2*n-5))/((factorial(n+2))**2)\n",
    "n,k=symbols('n k')\n",
    "_sum = Sum(f(n-k)/f(n), (k,0,3))\n",
    "_sum, _sum.doit()"
   ]
  },
  {
   "cell_type": "code",
   "execution_count": 9,
   "metadata": {
    "collapsed": false
   },
   "outputs": [
    {
     "data": {
      "image/png": "[encoded data removed]",
      "text/latex": [
       "$$e^{t}$$"
      ],
      "text/plain": [
       " t\n",
       "ℯ "
      ]
     },
     "execution_count": 9,
     "metadata": {},
     "output_type": "execute_result"
    }
   ],
   "source": [
    "hyper([],[],t).simplify()"
   ]
  },
  {
   "cell_type": "code",
   "execution_count": 26,
   "metadata": {
    "collapsed": false
   },
   "outputs": [
    {
     "data": {
      "image/png": "[encoded data removed]",
      "text/latex": [
       "$$\\left ( \\frac{2}{\\left(k + 1\\right)^{2}}, \\quad I_{0}\\left(2 \\sqrt{2}\\right)\\right )$$"
      ],
      "text/plain": [
       "⎛   2             ⎛       ___⎞⎞\n",
       "⎜────────, besseli⎝0, 2⋅╲╱ 2 ⎠⎟\n",
       "⎜       2                     ⎟\n",
       "⎝(k + 1)                      ⎠"
      ]
     },
     "execution_count": 26,
     "metadata": {},
     "output_type": "execute_result"
    }
   ],
   "source": [
    "def term(k): return (2**k)/(factorial(k)**2)\n",
    "(term(k+1)/term(k)).simplify(), Sum(term(k),(k,0,oo)).doit()"
   ]
  }
 ],
 "metadata": {
  "kernelspec": {
   "display_name": "Python 3",
   "language": "python",
   "name": "python3"
  },
  "language_info": {
   "codemirror_mode": {
    "name": "ipython",
    "version": 3
   },
   "file_extension": ".py",
   "mimetype": "text/x-python",
   "name": "python",
   "nbconvert_exporter": "python",
   "pygments_lexer": "ipython3",
   "version": "3.5.0"
  }
 },
 "nbformat": 4,
 "nbformat_minor": 0
}
