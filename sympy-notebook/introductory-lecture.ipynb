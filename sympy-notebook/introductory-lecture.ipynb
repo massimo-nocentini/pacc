{
 "cells": [
  {
   "cell_type": "markdown",
   "metadata": {},
   "source": [
    "# An introduction to SymPy\n",
    "\n",
    "This introductory document is an introduction to **SymPy**, a Python module which provides symbolic manipulation of mathematical object. \n",
    "\n",
    "To be honest, this document born as a support of my [homework][] to pass the exam :P therefore we will talk about  *generating functions* in algorithms analysis, mainly. This notebook isn't verbose from the theoretical point of view but it contains the necessary code to verify theoretical results seen during classes.\n",
    "\n",
    "In particular we would like to give a tour of SymPy features and how we can apply them to solve some problems about facts studied in **PAA** course, thought by professors Donatella and Cecilia. They main goal of this document is to have an *hands on* approach: we will see how notebooks can be created and how put stuff in them toward experimenting with SymPy.\n",
    "\n",
    "To give some references, we provide the [comprehensive][sympy-doc] documentation, which contains an updated and very doable [tutorial][sympy-tutorial]. As we will soon see, we can put textual content in this kind of document using [Markdown][markdown] syntax.\n",
    "\n",
    "Have fun ;)\n",
    "\n",
    "[sympy-doc]:http://docs.sympy.org/dev/index.html\n",
    "[sympy-tutorial]:http://docs.sympy.org/dev/tutorial/index.html\n",
    "[markdown]:https://daringfireball.net/projects/markdown/\n",
    "[homework]:https://github.com/massimo-nocentini/pacc\n",
    "\n",
    "[main-doc]: https://github.com/massimo-nocentini/pacc/blob/master/compiled-versions/Elaborato.pdf\n",
    "\n",
    "---\n",
    "As first step we load all necessary SymPy stuff:"
   ]
  },
  {
   "cell_type": "code",
   "execution_count": 3,
   "metadata": {
    "collapsed": false
   },
   "outputs": [],
   "source": [
    "import sympy\n",
    "from sympy import *\n",
    "from sympy.abc import x, n, z, t\n",
    "\n",
    "init_printing() # for nice printing, a-la' TeX"
   ]
  },
  {
   "cell_type": "markdown",
   "metadata": {},
   "source": [
    "First of all, let us introduce a concept to keep in mind, always. In what follows it is important to distinguish the *meta language*, which is the set of SymPy objects that denotes mathematical objects, which are the *object language*:"
   ]
  },
  {
   "cell_type": "code",
   "execution_count": 77,
   "metadata": {
    "collapsed": false
   },
   "outputs": [
    {
     "data": {
      "image/png": "[encoded data removed]",
      "text/latex": [
       "$$a$$"
      ],
      "text/plain": [
       "a"
      ]
     },
     "execution_count": 77,
     "metadata": {},
     "output_type": "execute_result"
    }
   ],
   "source": [
    "a = Symbol('a')\n",
    "a"
   ]
  },
  {
   "cell_type": "markdown",
   "metadata": {},
   "source": [
    "$a$ is the mathematical object, `a` is the meta object that denotes $a$ ;)"
   ]
  },
  {
   "cell_type": "markdown",
   "metadata": {},
   "source": [
    "## Quicksort: average number of swap\n",
    "\n",
    "In this section we report a simple manipulation of a formula in order to study the average number of swaps during a Quicksort execution. In the main document we obtain that $S(n)$, the function that count the average number of swaps done on a given input vector of size $n$, satisfies the following recurrence:\n",
    "$$ nS(n) - (n-1)S(n-1) =  \\frac{2n-3}{6} + 2\\,S(n-1)$$\n",
    "with little manipulation and unfolding $S(n-1)$, with $S(0) = S(1) = S(2) = 0$ as base cases, it is the same as: \n",
    "$$\n",
    "\\frac{S(n)}{n+1} =  \\frac{S(n-1)}{n} +  \\frac{2n -3}{6n(n+1)} \n",
    "$$\n",
    "solving the recurrence yields:\n",
    "$$S(n)= \\sum_{k=3}^{n}{ \\frac{2k-3}{6k(k+1)} }$$"
   ]
  },
  {
   "cell_type": "markdown",
   "metadata": {},
   "source": [
    "As a first step we define the abstraction bound on the rightmost summation over $k$:"
   ]
  },
  {
   "cell_type": "code",
   "execution_count": 13,
   "metadata": {
    "collapsed": false
   },
   "outputs": [
    {
     "data": {
      "image/png": "[encoded data removed]",
      "text/latex": [
       "$$\\frac{2 x - 3}{x \\left(6 x - 6\\right)}$$"
      ],
      "text/plain": [
       "  2⋅x - 3  \n",
       "───────────\n",
       "x⋅(6⋅x - 6)"
      ]
     },
     "execution_count": 13,
     "metadata": {},
     "output_type": "execute_result"
    }
   ],
   "source": [
    "def f(k): return (2*k-3)/(6*(k-1)*k)\n",
    "f(x)"
   ]
  },
  {
   "cell_type": "markdown",
   "metadata": {},
   "source": [
    "In order to get a bound for $S(n)$, decompose it in partial fractions:"
   ]
  },
  {
   "cell_type": "code",
   "execution_count": 14,
   "metadata": {
    "collapsed": false
   },
   "outputs": [
    {
     "name": "stdout",
     "output_type": "stream",
     "text": [
      "Help on function apart in module sympy.polys.partfrac:\n",
      "\n",
      "apart(f, x=None, full=False, **options)\n",
      "    Compute partial fraction decomposition of a rational function.\n",
      "    \n",
      "    Given a rational function ``f``, computes the partial fraction\n",
      "    decomposition of ``f``. Two algorithms are available: One is based on the\n",
      "    undertermined coefficients method, the other is Bronstein's full partial\n",
      "    fraction decomposition algorithm.\n",
      "    \n",
      "    The undetermined coefficients method (selected by ``full=False``) uses\n",
      "    polynomial factorization (and therefore accepts the same options as\n",
      "    factor) for the denominator. Per default it works over the rational\n",
      "    numbers, therefore decomposition of denominators with non-rational roots\n",
      "    (e.g. irrational, complex roots) is not supported by default (see options\n",
      "    of factor).\n",
      "    \n",
      "    Bronstein's algorithm can be selected by using ``full=True`` and allows a\n",
      "    decomposition of denominators with non-rational roots. A human-readable\n",
      "    result can be obtained via ``doit()`` (see examples below).\n",
      "    \n",
      "    Examples\n",
      "    ========\n",
      "    \n",
      "    >>> from sympy.polys.partfrac import apart\n",
      "    >>> from sympy.abc import x, y\n",
      "    \n",
      "    By default, using the undetermined coefficients method:\n",
      "    \n",
      "    >>> apart(y/(x + 2)/(x + 1), x)\n",
      "    -y/(x + 2) + y/(x + 1)\n",
      "    \n",
      "    The undetermined coefficients method does not provide a result when the\n",
      "    denominators roots are not rational:\n",
      "    \n",
      "    >>> apart(y/(x**2 + x + 1), x)\n",
      "    y/(x**2 + x + 1)\n",
      "    \n",
      "    You can choose Bronstein's algorithm by setting ``full=True``:\n",
      "    \n",
      "    >>> apart(y/(x**2 + x + 1), x, full=True)\n",
      "    RootSum(_w**2 + _w + 1, Lambda(_a, (-2*_a*y/3 - y/3)/(-_a + x)))\n",
      "    \n",
      "    Calling ``doit()`` yields a human-readable result:\n",
      "    \n",
      "    >>> apart(y/(x**2 + x + 1), x, full=True).doit()\n",
      "    (-y/3 - 2*y*(-1/2 - sqrt(3)*I/2)/3)/(x + 1/2 + sqrt(3)*I/2) + (-y/3 -\n",
      "        2*y*(-1/2 + sqrt(3)*I/2)/3)/(x + 1/2 - sqrt(3)*I/2)\n",
      "    \n",
      "    \n",
      "    See Also\n",
      "    ========\n",
      "    \n",
      "    apart_list, assemble_partfrac_list\n",
      "\n"
     ]
    },
    {
     "data": {
      "image/png": "[encoded data removed]",
      "text/latex": [
       "$$- \\frac{1}{6 x - 6} + \\frac{1}{2 x}$$"
      ],
      "text/plain": [
       "      1        1 \n",
       "- ───────── + ───\n",
       "  6⋅(x - 1)   2⋅x"
      ]
     },
     "execution_count": 14,
     "metadata": {},
     "output_type": "execute_result"
    }
   ],
   "source": [
    "partfrac = f(x).apart(); help(apart); partfrac"
   ]
  },
  {
   "cell_type": "markdown",
   "metadata": {},
   "source": [
    "Since summation is the 'discrete equivalent' of integration, do it:"
   ]
  },
  {
   "cell_type": "code",
   "execution_count": 15,
   "metadata": {
    "collapsed": false
   },
   "outputs": [
    {
     "data": {
      "image/png": "[encoded data removed]",
      "text/latex": [
       "$$\\frac{1}{2} \\log{\\left (x \\right )} - \\frac{1}{6} \\log{\\left (x - 1 \\right )}$$"
      ],
      "text/plain": [
       "log(x)   log(x - 1)\n",
       "────── - ──────────\n",
       "  2          6     "
      ]
     },
     "execution_count": 15,
     "metadata": {},
     "output_type": "execute_result"
    }
   ],
   "source": [
    "partfrac.integrate(x)"
   ]
  },
  {
   "cell_type": "markdown",
   "metadata": {},
   "source": [
    "So the result above proves that $S(n) \\in \\mathcal{O}(n logn)$ as required. It is interesting to see if SymPy is able or not to solve the given recurrence for the number of swaps:"
   ]
  },
  {
   "cell_type": "code",
   "execution_count": 108,
   "metadata": {
    "collapsed": false
   },
   "outputs": [
    {
     "name": "stdout",
     "output_type": "stream",
     "text": [
      "Help on function rsolve in module sympy.solvers.recurr:\n",
      "\n",
      "rsolve(f, y, init=None)\n",
      "    Solve univariate recurrence with rational coefficients.\n",
      "    \n",
      "    Given `k`-th order linear recurrence `\\operatorname{L} y = f`,\n",
      "    or equivalently:\n",
      "    \n",
      "    .. math:: a_{k}(n) y(n+k) + a_{k-1}(n) y(n+k-1) +\n",
      "              \\dots + a_{0}(n) y(n) = f(n)\n",
      "    \n",
      "    where `a_{i}(n)`, for `i=0, \\dots, k`, are polynomials or rational\n",
      "    functions in `n`, and `f` is a hypergeometric function or a sum\n",
      "    of a fixed number of pairwise dissimilar hypergeometric terms in\n",
      "    `n`, finds all solutions or returns ``None``, if none were found.\n",
      "    \n",
      "    Initial conditions can be given as a dictionary in two forms:\n",
      "    \n",
      "        (1) ``{   n_0  : v_0,   n_1  : v_1, ...,   n_m  : v_m }``\n",
      "        (2) ``{ y(n_0) : v_0, y(n_1) : v_1, ..., y(n_m) : v_m }``\n",
      "    \n",
      "    or as a list ``L`` of values:\n",
      "    \n",
      "        ``L = [ v_0, v_1, ..., v_m ]``\n",
      "    \n",
      "    where ``L[i] = v_i``, for `i=0, \\dots, m`, maps to `y(n_i)`.\n",
      "    \n",
      "    Examples\n",
      "    ========\n",
      "    \n",
      "    Lets consider the following recurrence:\n",
      "    \n",
      "    .. math:: (n - 1) y(n + 2) - (n^2 + 3 n - 2) y(n + 1) +\n",
      "              2 n (n + 1) y(n) = 0\n",
      "    \n",
      "    >>> from sympy import Function, rsolve\n",
      "    >>> from sympy.abc import n\n",
      "    >>> y = Function('y')\n",
      "    \n",
      "    >>> f = (n - 1)*y(n + 2) - (n**2 + 3*n - 2)*y(n + 1) + 2*n*(n + 1)*y(n)\n",
      "    \n",
      "    >>> rsolve(f, y(n))\n",
      "    2**n*C0 + C1*factorial(n)\n",
      "    \n",
      "    >>> rsolve(f, y(n), { y(0):0, y(1):3 })\n",
      "    3*2**n - 3*factorial(n)\n",
      "    \n",
      "    See Also\n",
      "    ========\n",
      "    \n",
      "    rsolve_poly, rsolve_ratio, rsolve_hyper\n",
      "\n"
     ]
    },
    {
     "data": {
      "image/png": "[encoded data removed]",
      "text/latex": [
       "$$\\left ( n S{\\left (n \\right )} - \\left(n - 1\\right) S{\\left (n - 1 \\right )} = \\frac{n}{3} + 2 S{\\left (n - 1 \\right )} - \\frac{1}{2}, \\quad 0\\right )$$"
      ],
      "text/plain": [
       "⎛                            n                1   ⎞\n",
       "⎜n⋅S(n) - (n - 1)⋅S(n - 1) = ─ + 2⋅S(n - 1) - ─, 0⎟\n",
       "⎝                            3                2   ⎠"
      ]
     },
     "execution_count": 108,
     "metadata": {},
     "output_type": "execute_result"
    }
   ],
   "source": [
    ">>> from sympy import Function, rsolve\n",
    ">>> from sympy.abc import n\n",
    ">>> S = Function('S')\n",
    "#>>> f = (n - 1)*y(n + 2) - (n**2 + 3*n - 2)*y(n + 1) + 2*n*(n + 1)*y(n)\n",
    ">>> f = Eq(n*S(n) - (n-1)*S(n-1),   (2*n-3)/6 +  2*S(n-1))\n",
    ">>> help(rsolve)\n",
    "# using initial conditions seems to not work. On the other hand, not giving them, it remain pending\n",
    ">>> f, rsolve(f, S(n), {S(0):0, S(1):0})\n"
   ]
  },
  {
   "cell_type": "markdown",
   "metadata": {},
   "source": [
    "as we see in the second component, SymPy isn't able to solve the recurrence. For the curious, maxima can solve that ;) have a check within Sage...\n",
    "<code>\n",
    "    > maxima('load(\"solve_rec\")')\n",
    "    > quicksort_recurrence = maxima('n*s[n] - (n-1)*s[n-1] = (2*n-3)/6 + 2*s[n-1]')\n",
    "    > quicksort_recurrence.solve_rec_rat('s[n]')\n",
    "    > latex(_) # _ denotes last computed value\n",
    "</code>\n",
    "[here][sage-maxima] there's a detailed description of Sage interface to Maxima, including some examples.\n",
    "\n",
    "[sage-maxima]:http://doc.sagemath.org/html/en/reference/interfaces/sage/interfaces/maxima.html"
   ]
  },
  {
   "cell_type": "markdown",
   "metadata": {},
   "source": [
    "## Pretty printing values\n",
    "\n",
    "Here we see some nice pretty printing facilities, we start with two dummy examples:"
   ]
  },
  {
   "cell_type": "code",
   "execution_count": 2,
   "metadata": {
    "collapsed": false
   },
   "outputs": [
    {
     "data": {
      "text/latex": [
       "$$F(k) = \\int_{-\\infty}^{\\infty} f(x) e^{2\\pi i k} dx$$"
      ],
      "text/plain": [
       "<IPython.core.display.Math object>"
      ]
     },
     "execution_count": 2,
     "metadata": {},
     "output_type": "execute_result"
    }
   ],
   "source": [
    "from IPython.display import Math\n",
    "Math(r'F(k) = \\int_{-\\infty}^{\\infty} f(x) e^{2\\pi i k} dx')"
   ]
  },
  {
   "cell_type": "code",
   "execution_count": 4,
   "metadata": {
    "collapsed": false
   },
   "outputs": [
    {
     "data": {
      "text/latex": [
       "\\begin{eqnarray}\n",
       "\\nabla \\times \\vec{\\mathbf{B}} -\\, \\frac1c\\, \\frac{\\partial\\vec{\\mathbf{E}}}{\\partial t} & = \\frac{4\\pi}{c}\\vec{\\mathbf{j}} \\\\\n",
       "\\nabla \\cdot \\vec{\\mathbf{E}} & = 4 \\pi \\rho \\\\\n",
       "\\nabla \\times \\vec{\\mathbf{E}}\\, +\\, \\frac1c\\, \\frac{\\partial\\vec{\\mathbf{B}}}{\\partial t} & = \\vec{\\mathbf{0}} \\\\\n",
       "\\nabla \\cdot \\vec{\\mathbf{B}} & = 0 \n",
       "\\end{eqnarray}"
      ],
      "text/plain": [
       "<IPython.core.display.Latex object>"
      ]
     },
     "execution_count": 4,
     "metadata": {},
     "output_type": "execute_result"
    }
   ],
   "source": [
    "from IPython.display import Latex\n",
    "Latex(r\"\"\"\\begin{eqnarray}\n",
    "\\nabla \\times \\vec{\\mathbf{B}} -\\, \\frac1c\\, \\frac{\\partial\\vec{\\mathbf{E}}}{\\partial t} & = \\frac{4\\pi}{c}\\vec{\\mathbf{j}} \\\\\n",
    "\\nabla \\cdot \\vec{\\mathbf{E}} & = 4 \\pi \\rho \\\\\n",
    "\\nabla \\times \\vec{\\mathbf{E}}\\, +\\, \\frac1c\\, \\frac{\\partial\\vec{\\mathbf{B}}}{\\partial t} & = \\vec{\\mathbf{0}} \\\\\n",
    "\\nabla \\cdot \\vec{\\mathbf{B}} & = 0 \n",
    "\\end{eqnarray}\"\"\")"
   ]
  },
  {
   "cell_type": "markdown",
   "metadata": {},
   "source": [
    "The following are the solution $S_{n}$ of quicksort swaps recurrence, given by _maxima_ using the function <code>solve_rec</code>:"
   ]
  },
  {
   "cell_type": "code",
   "execution_count": 20,
   "metadata": {
    "collapsed": false
   },
   "outputs": [
    {
     "data": {
      "text/latex": [
       "$$s_{n}=\\left(\\sum_{{\\it j}=0}^{n-1}{{{{{2\\,{\\it j}}\\over{6\\,  {\\it j}+6}}-{{1}\\over{6\\,{\\it j}+6}}}\\over{{\\it j}+2}}}\\right)  \\,\\left(n+1\\right)+{\\it k}_{1}\\,\\left(n+1\\right)$$"
      ],
      "text/plain": [
       "<IPython.core.display.Latex object>"
      ]
     },
     "execution_count": 20,
     "metadata": {},
     "output_type": "execute_result"
    }
   ],
   "source": [
    "Latex(r'$$s_{n}=\\left(\\sum_{{\\it j}=0}^{n-1}{{{{{2\\,{\\it j}}\\over{6\\,  {\\it j}+6}}-{{1}\\over{6\\,{\\it j}+6}}}\\over{{\\it j}+2}}}\\right)  \\,\\left(n+1\\right)+{\\it k}_{1}\\,\\left(n+1\\right)$$')"
   ]
  },
  {
   "cell_type": "markdown",
   "metadata": {},
   "source": [
    "on the other hand this is the solution given using function <code>solve_rec_rat</code>:"
   ]
  },
  {
   "cell_type": "code",
   "execution_count": 11,
   "metadata": {
    "collapsed": false
   },
   "outputs": [
    {
     "data": {
      "text/latex": [
       "$$s_{n}={{{\\it k}_{2}\\,n+{\\it k}_{1}}\\over{6}}$$"
      ],
      "text/plain": [
       "<IPython.core.display.Latex object>"
      ]
     },
     "execution_count": 11,
     "metadata": {},
     "output_type": "execute_result"
    }
   ],
   "source": [
    "Latex(r'$$s_{n}={{{\\it k}_{2}\\,n+{\\it k}_{1}}\\over{6}}$$')"
   ]
  },
  {
   "cell_type": "markdown",
   "metadata": {},
   "source": [
    "I am sorry to not show the clean solution, I've to understand how to provide boundary values $S_{0}=0$ and $S_{1}=0$. However, it is possible to go the way back, namely have the *Latex* representation of _every_ SymPy object:"
   ]
  },
  {
   "cell_type": "code",
   "execution_count": 19,
   "metadata": {
    "collapsed": false
   },
   "outputs": [
    {
     "data": {
      "text/plain": [
       "'\\\\frac{1}{2} \\\\log{\\\\left (x \\\\right )} - \\\\frac{1}{6} \\\\log{\\\\left (x - 1 \\\\right )}'"
      ]
     },
     "execution_count": 19,
     "metadata": {},
     "output_type": "execute_result"
    }
   ],
   "source": [
    "latex(partfrac.integrate(x))"
   ]
  },
  {
   "cell_type": "markdown",
   "metadata": {},
   "source": [
    "many other representations can be asked for, have a look [here][tutorial-printing].\n",
    "\n",
    "[tutorial-printing]:http://docs.sympy.org/dev/tutorial/printing.html#printing-functions"
   ]
  },
  {
   "cell_type": "markdown",
   "metadata": {},
   "source": [
    "## Unevaluated and evaluated sums and some rewritings\n",
    "\n",
    "In this section we would like to introduce objects whose denote sums. \n",
    "\n",
    "To have a context, consider again a step in the proof for the solution of the quicksort swaps recurrence seen at the beginning. Given a permutation $\\mathbf{\\omega}$ of length $n$ to be consumed by quicksort, let $K_{j}$ be a *random variable* that counts the number of swaps $s$ required to sort $\\mathbf{\\omega}$, defined as:\n",
    "$$\n",
    "    K_{j} = s \\leftrightarrow \\mathbf{\\omega}_{n} = j\n",
    "$$\n",
    "in class we've seen that the mean of $K_{j}$ satisfies:\n",
    "$$\n",
    "    \\mathbb{E}\\,K_{j} = \\frac{\\left(j - 1\\right) {\\binom{n - 2}{j - 1}}}{{\\binom{n - 1}{j - 1}}}\n",
    "$$\n",
    "which can be rewritten as:\n",
    "$$\n",
    "    \\mathbb{E}\\,K_{j} = \\frac{(j-1)(n-j)}{n-1}\n",
    "$$\n",
    "Finally, use such this result to have a chunk of the recurrence:\n",
    "$$\n",
    "    \\frac{1}{n}\\left(\\sum_{j=1}^{n}{\\mathbb{E}\\,K_{j}}\\right) = \\frac{n-2}{6}\n",
    "$$\n",
    "...let's do a check ;)"
   ]
  },
  {
   "cell_type": "code",
   "execution_count": 41,
   "metadata": {
    "collapsed": false
   },
   "outputs": [
    {
     "data": {
      "image/png": "[encoded data removed]",
      "text/latex": [
       "$$\\frac{\\left(j - 1\\right) {\\binom{n - 2}{j - 1}}}{{\\binom{n - 1}{j - 1}}}$$"
      ],
      "text/plain": [
       "        ⎛n - 2⎞\n",
       "(j - 1)⋅⎜     ⎟\n",
       "        ⎝j - 1⎠\n",
       "───────────────\n",
       "    ⎛n - 1⎞    \n",
       "    ⎜     ⎟    \n",
       "    ⎝j - 1⎠    "
      ]
     },
     "execution_count": 41,
     "metadata": {},
     "output_type": "execute_result"
    }
   ],
   "source": [
    "n,j = symbols('n j')\n",
    "\n",
    "expr = (j-1)*binomial(n-2,j-1)/binomial(n-1,j-1)\n",
    "expr"
   ]
  },
  {
   "cell_type": "markdown",
   "metadata": {},
   "source": [
    "SymPy allows us to *rewrite* an expression using a given function, if it's possible. Here we would like to rewrite binomial coefficients with factorial terms:"
   ]
  },
  {
   "cell_type": "code",
   "execution_count": 40,
   "metadata": {
    "collapsed": false
   },
   "outputs": [
    {
     "data": {
      "image/png": "[encoded data removed]",
      "text/latex": [
       "$$\\frac{\\left(j - 1\\right) \\left(- j + n\\right)! \\left(n - 2\\right)!}{\\left(n - 1\\right)! \\left(- j + n - 1\\right)!}$$"
      ],
      "text/plain": [
       "(j - 1)⋅(-j + n)!⋅(n - 2)!\n",
       "──────────────────────────\n",
       "  (n - 1)!⋅(-j + n - 1)!  "
      ]
     },
     "execution_count": 40,
     "metadata": {},
     "output_type": "execute_result"
    }
   ],
   "source": [
    " expr.rewrite(factorial)"
   ]
  },
  {
   "cell_type": "markdown",
   "metadata": {},
   "source": [
    "finally, we do some simplifications:"
   ]
  },
  {
   "cell_type": "code",
   "execution_count": 42,
   "metadata": {
    "collapsed": false
   },
   "outputs": [
    {
     "data": {
      "image/png": "[encoded data removed]",
      "text/latex": [
       "$$\\frac{1}{n - 1} \\left(- j + n\\right) \\left(j - 1\\right)$$"
      ],
      "text/plain": [
       "(-j + n)⋅(j - 1)\n",
       "────────────────\n",
       "     n - 1      "
      ]
     },
     "execution_count": 42,
     "metadata": {},
     "output_type": "execute_result"
    }
   ],
   "source": [
    "expr.simplify()"
   ]
  },
  {
   "cell_type": "markdown",
   "metadata": {},
   "source": [
    "Now we introduce an object to denote the sum we're interested in. We start by denoting such a sum as [*unevaluated*][uneval-sum], namely keep it pure, as in mathematics:\n",
    "\n",
    "[uneval-sum]:http://docs.sympy.org/dev/modules/concrete.html?highlight=summation#sympy.concrete.summations.Sum"
   ]
  },
  {
   "cell_type": "code",
   "execution_count": 43,
   "metadata": {
    "collapsed": false
   },
   "outputs": [
    {
     "data": {
      "image/png": "[encoded data removed]",
      "text/latex": [
       "$$\\frac{1}{n} \\sum_{j=1}^{n} \\frac{1}{n - 1} \\left(- j + n\\right) \\left(j - 1\\right)$$"
      ],
      "text/plain": [
       "  n                   \n",
       " ____                 \n",
       " ╲                    \n",
       "  ╲   (-j + n)⋅(j - 1)\n",
       "   ╲  ────────────────\n",
       "   ╱       n - 1      \n",
       "  ╱                   \n",
       " ╱                    \n",
       " ‾‾‾‾                 \n",
       "j = 1                 \n",
       "──────────────────────\n",
       "          n           "
      ]
     },
     "execution_count": 43,
     "metadata": {},
     "output_type": "execute_result"
    }
   ],
   "source": [
    "our_summation=(1/n)*Sum(expr.simplify(),(j,1,n))\n",
    "our_summation"
   ]
  },
  {
   "cell_type": "markdown",
   "metadata": {},
   "source": [
    "such unevaluated sum can be mapped to an [evaluated][eval-sum] one, [*doing*][doit] such summation:\n",
    "\n",
    "[doit]:http://docs.sympy.org/dev/modules/core.html?highlight=doit#sympy.core.basic.Basic.doit\n",
    "[eval-sum]:http://docs.sympy.org/dev/modules/concrete.html?highlight=summation#sympy.concrete.summations.summation"
   ]
  },
  {
   "cell_type": "code",
   "execution_count": 48,
   "metadata": {
    "collapsed": false
   },
   "outputs": [
    {
     "data": {
      "image/png": "[encoded data removed]",
      "text/latex": [
       "$$\\frac{1}{n} \\left(- \\frac{n^{2}}{n - 1} + \\frac{n \\left(\\frac{n^{2}}{2} + \\frac{n}{2}\\right)}{n - 1} + \\frac{\\frac{n^{2}}{2} + \\frac{n}{2}}{n - 1} - \\frac{\\frac{n^{3}}{3} + \\frac{n^{2}}{2} + \\frac{n}{6}}{n - 1}\\right)$$"
      ],
      "text/plain": [
       "            ⎛ 2    ⎞    2        3    2    \n",
       "            ⎜n    n⎟   n    n   n    n    n\n",
       "     2    n⋅⎜── + ─⎟   ── + ─   ── + ── + ─\n",
       "    n       ⎝2    2⎠   2    2   3    2    6\n",
       "- ───── + ────────── + ────── - ───────────\n",
       "  n - 1     n - 1      n - 1       n - 1   \n",
       "───────────────────────────────────────────\n",
       "                     n                     "
      ]
     },
     "execution_count": 48,
     "metadata": {},
     "output_type": "execute_result"
    }
   ],
   "source": [
    "evaluated_sum = our_summation.doit()\n",
    "evaluated_sum"
   ]
  },
  {
   "cell_type": "markdown",
   "metadata": {},
   "source": [
    "finally, we can [factor] such summation to have our result, as required:\n",
    "\n",
    "[factor]:http://docs.sympy.org/dev/modules/core.html?highlight=factor#sympy.core.expr.Expr.factor"
   ]
  },
  {
   "cell_type": "code",
   "execution_count": 49,
   "metadata": {
    "collapsed": false
   },
   "outputs": [
    {
     "data": {
      "image/png": "[encoded data removed]",
      "text/latex": [
       "$$\\frac{1}{6} \\left(n - 2\\right)$$"
      ],
      "text/plain": [
       "n - 2\n",
       "─────\n",
       "  6  "
      ]
     },
     "execution_count": 49,
     "metadata": {},
     "output_type": "execute_result"
    }
   ],
   "source": [
    "evaluated_sum.factor()"
   ]
  },
  {
   "cell_type": "markdown",
   "metadata": {},
   "source": [
    "## On binomial coefficients"
   ]
  },
  {
   "cell_type": "markdown",
   "metadata": {},
   "source": [
    "In the following cell we report a pair of sequences. We start with the *central binomial coefficients* sequence:"
   ]
  },
  {
   "cell_type": "code",
   "execution_count": 50,
   "metadata": {
    "collapsed": false
   },
   "outputs": [
    {
     "data": {
      "image/png": "[encoded data removed]",
      "text/latex": [
       "$$\\left [ 1, \\quad 2, \\quad 6, \\quad 20, \\quad 70, \\quad 252, \\quad 924, \\quad 3432, \\quad 12870, \\quad 48620\\right ]$$"
      ],
      "text/plain": [
       "[1, 2, 6, 20, 70, 252, 924, 3432, 12870, 48620]"
      ]
     },
     "execution_count": 50,
     "metadata": {},
     "output_type": "execute_result"
    }
   ],
   "source": [
    "def central_binomial_coefficient(k): return binomial(Rational(2*k,1), k)\n",
    "\n",
    "limit = 10\n",
    "[central_binomial_coefficient(k) for k in range(limit)]"
   ]
  },
  {
   "cell_type": "markdown",
   "metadata": {},
   "source": [
    "the second one holds *Catalan numbers*, which are provided by SymPy [also][catalan]:\n",
    "\n",
    "[catalan]:http://docs.sympy.org/dev/modules/functions/combinatorial.html?highlight=catalan#sympy.functions.combinatorial.numbers.catalan"
   ]
  },
  {
   "cell_type": "code",
   "execution_count": 52,
   "metadata": {
    "collapsed": false
   },
   "outputs": [
    {
     "data": {
      "image/png": "[encoded data removed]",
      "text/latex": [
       "$$\\left [ 1, \\quad 1, \\quad 2, \\quad 5, \\quad 14, \\quad 42, \\quad 132, \\quad 429, \\quad 1430, \\quad 4862\\right ]$$"
      ],
      "text/plain": [
       "[1, 1, 2, 5, 14, 42, 132, 429, 1430, 4862]"
      ]
     },
     "execution_count": 52,
     "metadata": {},
     "output_type": "execute_result"
    }
   ],
   "source": [
    "def catalan_number(k): return Rational(1,k+1)*central_binomial_coefficient(k)\n",
    "\n",
    "[catalan_number(k) for k in range(limit)]"
   ]
  },
  {
   "cell_type": "markdown",
   "metadata": {},
   "source": [
    "In this section we use the method explained in the theoretical document in order to evaluate particular binomial coefficients. We start with defining the ''kernel'' function to be expanded:"
   ]
  },
  {
   "cell_type": "code",
   "execution_count": 60,
   "metadata": {
    "collapsed": false
   },
   "outputs": [],
   "source": [
    "def f(r, z): return (1 + z)**r"
   ]
  },
  {
   "cell_type": "markdown",
   "metadata": {},
   "source": [
    "In order to compute $ { \\frac{1}{2} \\choose {3} }$ we do Taylor expansion using the dummy variable $z$:"
   ]
  },
  {
   "cell_type": "code",
   "execution_count": 10,
   "metadata": {
    "collapsed": false
   },
   "outputs": [
    {
     "data": {
      "image/png": "[encoded data removed]",
      "text/latex": [
       "$$1 + \\frac{z}{2} - \\frac{z^{2}}{8} + \\frac{z^{3}}{16} - \\frac{5 z^{4}}{128} + \\frac{7 z^{5}}{256} + \\mathcal{O}\\left(z^{6}\\right)$$"
      ],
      "text/plain": [
       "         2    3      4      5        \n",
       "    z   z    z    5⋅z    7⋅z     ⎛ 6⎞\n",
       "1 + ─ - ── + ── - ──── + ──── + O⎝z ⎠\n",
       "    2   8    16   128    256         "
      ]
     },
     "execution_count": 10,
     "metadata": {},
     "output_type": "execute_result"
    }
   ],
   "source": [
    "series(f(Rational(1,2), z))"
   ]
  },
  {
   "cell_type": "markdown",
   "metadata": {},
   "source": [
    "finally take the coefficient of $z^3$, so $ { \\frac{1}{2} \\choose {3} } = \\frac{1}{16}$"
   ]
  },
  {
   "cell_type": "markdown",
   "metadata": {},
   "source": [
    "Another try: we want to compute $ { -\\frac{1}{2} \\choose {k} }$, for a generic $k$. It is possible to use the method as before:"
   ]
  },
  {
   "cell_type": "code",
   "execution_count": 11,
   "metadata": {
    "collapsed": false
   },
   "outputs": [
    {
     "data": {
      "image/png": "[encoded data removed]",
      "text/latex": [
       "$$1 - \\frac{z}{2} + \\frac{3 z^{2}}{8} - \\frac{5 z^{3}}{16} + \\frac{35 z^{4}}{128} - \\frac{63 z^{5}}{256} + \\mathcal{O}\\left(z^{6}\\right)$$"
      ],
      "text/plain": [
       "           2      3       4       5        \n",
       "    z   3⋅z    5⋅z    35⋅z    63⋅z     ⎛ 6⎞\n",
       "1 - ─ + ──── - ──── + ───── - ───── + O⎝z ⎠\n",
       "    2    8      16     128     256         "
      ]
     },
     "execution_count": 11,
     "metadata": {},
     "output_type": "execute_result"
    }
   ],
   "source": [
    "series(f(Rational(-1,2), z))"
   ]
  },
  {
   "cell_type": "markdown",
   "metadata": {},
   "source": [
    "Otherwise we can use the manipulation (see the theoretical doc for details):\n",
    "$$  {{- \\frac{1}{2} }\\choose{k}} = \\frac{(-1)^k}{4^k} {{2k}\\choose{k}}  $$\n",
    "defining an helper function and building a list via comprehension:"
   ]
  },
  {
   "cell_type": "code",
   "execution_count": 12,
   "metadata": {
    "collapsed": false
   },
   "outputs": [
    {
     "data": {
      "image/png": "[encoded data removed]",
      "text/latex": [
       "$$\\left [ 1, \\quad - \\frac{1}{2}, \\quad \\frac{3}{8}, \\quad - \\frac{5}{16}, \\quad \\frac{35}{128}, \\quad - \\frac{63}{256}\\right ]$$"
      ],
      "text/plain": [
       "⎡                      35  -63 ⎤\n",
       "⎢1, -1/2, 3/8, -5/16, ───, ────⎥\n",
       "⎣                     128  256 ⎦"
      ]
     },
     "execution_count": 12,
     "metadata": {},
     "output_type": "execute_result"
    }
   ],
   "source": [
    "def helper(k): return ((-1)**k / 4**k)*binomial(2*k, k)\n",
    "[helper(Rational(k,1)) for k in range(6)]"
   ]
  },
  {
   "cell_type": "markdown",
   "metadata": {},
   "source": [
    "Coefficients in the previous list comprehension are the same as in Taylor expansion, as required.\n",
    "\n",
    "The following cell shows coefficient of ${ { -\\frac{3}{2} } \\choose {k}} $ for heading values of $k$, a rewriting to prove is the following:\n",
    "$$\n",
    "{ { -\\frac{3}{2} } \\choose {k}} = \\frac{(-1)^k  (2k + 1)}{4^k}  { { 2k } \\choose {k}}\n",
    "$$\n",
    "using series expansion:"
   ]
  },
  {
   "cell_type": "code",
   "execution_count": 31,
   "metadata": {
    "collapsed": false
   },
   "outputs": [
    {
     "data": {
      "image/png": "[encoded data removed]",
      "text/latex": [
       "$$1 - \\frac{3 z}{2} + \\frac{15 z^{2}}{8} - \\frac{35 z^{3}}{16} + \\frac{315 z^{4}}{128} - \\frac{693 z^{5}}{256} + \\frac{3003 z^{6}}{1024} - \\frac{6435 z^{7}}{2048} + \\frac{109395 z^{8}}{32768} - \\frac{230945 z^{9}}{65536} + \\mathcal{O}\\left(z^{10}\\right)$$"
      ],
      "text/plain": [
       "              2       3        4        5         6         7           8     \n",
       "    3⋅z   15⋅z    35⋅z    315⋅z    693⋅z    3003⋅z    6435⋅z    109395⋅z    23\n",
       "1 - ─── + ───── - ───── + ────── - ────── + ─────── - ─────── + ───────── - ──\n",
       "     2      8       16     128      256       1024      2048      32768       \n",
       "\n",
       "      9         \n",
       "0945⋅z     ⎛ 10⎞\n",
       "─────── + O⎝z  ⎠\n",
       "65536           "
      ]
     },
     "execution_count": 31,
     "metadata": {},
     "output_type": "execute_result"
    }
   ],
   "source": [
    "series(f(Rational(-3,2), z), z, n=10)"
   ]
  },
  {
   "cell_type": "markdown",
   "metadata": {},
   "source": [
    "while mapping the rewriting:"
   ]
  },
  {
   "cell_type": "code",
   "execution_count": 53,
   "metadata": {
    "collapsed": false
   },
   "outputs": [
    {
     "data": {
      "image/png": "[encoded data removed]",
      "text/latex": [
       "$$\\left [ 1, \\quad - \\frac{3}{2}, \\quad \\frac{15}{8}, \\quad - \\frac{35}{16}, \\quad \\frac{315}{128}, \\quad - \\frac{693}{256}, \\quad \\frac{3003}{1024}, \\quad - \\frac{6435}{2048}, \\quad \\frac{109395}{32768}, \\quad - \\frac{230945}{65536}\\right ]$$"
      ],
      "text/plain": [
       "⎡               -35   315  -693   3003  -6435   109395  -230945 ⎤\n",
       "⎢1, -3/2, 15/8, ────, ───, ─────, ────, ──────, ──────, ────────⎥\n",
       "⎣                16   128   256   1024   2048   32768    65536  ⎦"
      ]
     },
     "execution_count": 53,
     "metadata": {},
     "output_type": "execute_result"
    }
   ],
   "source": [
    "def minus_three_over_two_choose_k(k): return ((-1)**k *(2*k+1))*binomial(2*k, k)/4**k\n",
    "[minus_three_over_two_choose_k(Rational(k,1)) for k in range(10)]"
   ]
  },
  {
   "cell_type": "markdown",
   "metadata": {},
   "source": [
    "SymPy provides different ways to denote a Taylor expansion of a function. We have used function [`series`][series] but there are other versions, such as [`lseries`][lseries], which returns an [iterator] over series terms:\n",
    "\n",
    "[series]:http://docs.sympy.org/dev/modules/core.html?highlight=series#sympy.core.expr.Expr.series\n",
    "[lseries]:http://docs.sympy.org/dev/modules/core.html?highlight=series#sympy.core.expr.Expr.lseries\n",
    "[iterator]:https://docs.python.org/3.5/library/itertools.html"
   ]
  },
  {
   "cell_type": "code",
   "execution_count": 73,
   "metadata": {
    "collapsed": false
   },
   "outputs": [
    {
     "data": {
      "text/plain": [
       "<generator object Expr.series.<locals>.<genexpr> at 0x7f6275e7e830>"
      ]
     },
     "execution_count": 73,
     "metadata": {},
     "output_type": "execute_result"
    }
   ],
   "source": [
    "our_gen = f(Rational(-3,2),z).lseries(z)\n",
    "our_gen"
   ]
  },
  {
   "cell_type": "code",
   "execution_count": 74,
   "metadata": {
    "collapsed": false
   },
   "outputs": [
    {
     "data": {
      "image/png": "[encoded data removed]",
      "text/latex": [
       "$$\\left [ 1, \\quad - \\frac{3 z}{2}, \\quad \\frac{15 z^{2}}{8}, \\quad - \\frac{35 z^{3}}{16}, \\quad \\frac{315 z^{4}}{128}, \\quad - \\frac{693 z^{5}}{256}, \\quad \\frac{3003 z^{6}}{1024}, \\quad - \\frac{6435 z^{7}}{2048}, \\quad \\frac{109395 z^{8}}{32768}, \\quad - \\frac{230945 z^{9}}{65536}\\right ]$$"
      ],
      "text/plain": [
       "⎡              2       3        4        5         6         7           8    \n",
       "⎢   -3⋅z   15⋅z   -35⋅z    315⋅z   -693⋅z    3003⋅z   -6435⋅z    109395⋅z   -2\n",
       "⎢1, ─────, ─────, ───────, ──────, ────────, ───────, ─────────, ─────────, ──\n",
       "⎣     2      8       16     128      256       1024      2048      32768      \n",
       "\n",
       "       9 ⎤\n",
       "30945⋅z  ⎥\n",
       "─────────⎥\n",
       " 65536   ⎦"
      ]
     },
     "execution_count": 74,
     "metadata": {},
     "output_type": "execute_result"
    }
   ],
   "source": [
    "[next(our_gen) for _ in range(10)]"
   ]
  },
  {
   "cell_type": "markdown",
   "metadata": {},
   "source": [
    "remember to restart the generator re-evaluating the previous cell ;)"
   ]
  },
  {
   "cell_type": "markdown",
   "metadata": {},
   "source": [
    "### Fibonacci numbers revisited: numericalmatrix approach, functional programming and memoization"
   ]
  },
  {
   "cell_type": "markdown",
   "metadata": {},
   "source": [
    "In this section we would like to explore Fibonacci numbers using several point of view: a fast numerical implementation, a functional programming approach and, finally, a standard one provided by SymPy. We'll go under the hood, looking at the source code of the distribution to gain insights about SymPy internals.\n",
    "\n",
    "The following code uses NumPy to perform computations:"
   ]
  },
  {
   "cell_type": "code",
   "execution_count": 88,
   "metadata": {
    "collapsed": false
   },
   "outputs": [
    {
     "data": {
      "text/plain": [
       "[array([1, 1]),\n",
       " array([1, 2]),\n",
       " array([2, 3]),\n",
       " array([3, 5]),\n",
       " array([5, 8]),\n",
       " array([ 8, 13]),\n",
       " array([13, 21]),\n",
       " array([21, 34]),\n",
       " array([34, 55]),\n",
       " array([55, 89]),\n",
       " array([ 89, 144]),\n",
       " array([144, 233]),\n",
       " array([233, 377]),\n",
       " array([377, 610]),\n",
       " array([610, 987]),\n",
       " array([ 987, 1597]),\n",
       " array([1597, 2584]),\n",
       " array([2584, 4181]),\n",
       " array([4181, 6765]),\n",
       " array([ 6765, 10946]),\n",
       " array([10946, 17711]),\n",
       " array([17711, 28657]),\n",
       " array([28657, 46368]),\n",
       " array([46368, 75025]),\n",
       " array([ 75025, 121393]),\n",
       " array([121393, 196418]),\n",
       " array([196418, 317811]),\n",
       " array([317811, 514229]),\n",
       " array([514229, 832040]),\n",
       " array([ 832040, 1346269]),\n",
       " array([1346269, 2178309]),\n",
       " array([2178309, 3524578]),\n",
       " array([3524578, 5702887]),\n",
       " array([5702887, 9227465]),\n",
       " array([ 9227465, 14930352]),\n",
       " array([14930352, 24157817]),\n",
       " array([24157817, 39088169]),\n",
       " array([39088169, 63245986]),\n",
       " array([ 63245986, 102334155]),\n",
       " array([102334155, 165580141]),\n",
       " array([165580141, 267914296]),\n",
       " array([267914296, 433494437]),\n",
       " array([433494437, 701408733]),\n",
       " array([ 701408733, 1134903170]),\n",
       " array([1134903170, 1836311903]),\n",
       " array([1836311903, 2971215073]),\n",
       " array([2971215073, 4807526976]),\n",
       " array([4807526976, 7778742049]),\n",
       " array([ 7778742049, 12586269025]),\n",
       " array([12586269025, 20365011074]),\n",
       " array([20365011074, 32951280099]),\n",
       " array([32951280099, 53316291173]),\n",
       " array([53316291173, 86267571272]),\n",
       " array([ 86267571272, 139583862445]),\n",
       " array([139583862445, 225851433717]),\n",
       " array([225851433717, 365435296162]),\n",
       " array([365435296162, 591286729879]),\n",
       " array([591286729879, 956722026041]),\n",
       " array([ 956722026041, 1548008755920]),\n",
       " array([1548008755920, 2504730781961]),\n",
       " array([2504730781961, 4052739537881]),\n",
       " array([4052739537881, 6557470319842]),\n",
       " array([ 6557470319842, 10610209857723]),\n",
       " array([10610209857723, 17167680177565]),\n",
       " array([17167680177565, 27777890035288]),\n",
       " array([27777890035288, 44945570212853]),\n",
       " array([44945570212853, 72723460248141]),\n",
       " array([ 72723460248141, 117669030460994]),\n",
       " array([117669030460994, 190392490709135]),\n",
       " array([190392490709135, 308061521170129]),\n",
       " array([308061521170129, 498454011879264]),\n",
       " array([498454011879264, 806515533049393]),\n",
       " array([ 806515533049393, 1304969544928657]),\n",
       " array([1304969544928657, 2111485077978050]),\n",
       " array([2111485077978050, 3416454622906707]),\n",
       " array([3416454622906707, 5527939700884757]),\n",
       " array([5527939700884757, 8944394323791464]),\n",
       " array([ 8944394323791464, 14472334024676221]),\n",
       " array([14472334024676221, 23416728348467685]),\n",
       " array([23416728348467685, 37889062373143906]),\n",
       " array([37889062373143906, 61305790721611591]),\n",
       " array([61305790721611591, 99194853094755497]),\n",
       " array([ 99194853094755497, 160500643816367088]),\n",
       " array([160500643816367088, 259695496911122585]),\n",
       " array([259695496911122585, 420196140727489673]),\n",
       " array([420196140727489673, 679891637638612258]),\n",
       " array([ 679891637638612258, 1100087778366101931]),\n",
       " array([1100087778366101931, 1779979416004714189]),\n",
       " array([1779979416004714189, 2880067194370816120]),\n",
       " array([2880067194370816120, 4660046610375530309]),\n",
       " array([4660046610375530309, 7540113804746346429]),\n",
       " array([ 7540113804746346429, -6246583658587674878]),\n",
       " array([-6246583658587674878,  1293530146158671551]),\n",
       " array([ 1293530146158671551, -4953053512429003327]),\n",
       " array([-4953053512429003327, -3659523366270331776]),\n",
       " array([-3659523366270331776, -8612576878699335103]),\n",
       " array([-8612576878699335103,  6174643828739884737]),\n",
       " array([ 6174643828739884737, -2437933049959450366]),\n",
       " array([-2437933049959450366,  3736710778780434371]),\n",
       " array([3736710778780434371, 1298777728820984005]),\n",
       " array([1298777728820984005, 5035488507601418376]),\n",
       " array([5035488507601418376, 6334266236422402381]),\n",
       " array([ 6334266236422402381, -7076989329685730859]),\n",
       " array([-7076989329685730859,  -742723093263328478]),\n",
       " array([ -742723093263328478, -7819712422949059337]),\n",
       " array([-7819712422949059337, -8562435516212387815]),\n",
       " array([-8562435516212387815,  2064596134548104464]),\n",
       " array([ 2064596134548104464, -6497839381664283351]),\n",
       " array([-6497839381664283351, -4433243247116178887]),\n",
       " array([-4433243247116178887,  7515661444929089378]),\n",
       " array([7515661444929089378, 3082418197812910491]),\n",
       " array([ 3082418197812910491, -7848664430967551747]),\n",
       " array([-7848664430967551747, -4766246233154641256]),\n",
       " array([-4766246233154641256,  5831833409587358613]),\n",
       " array([5831833409587358613, 1065587176432717357]),\n",
       " array([1065587176432717357, 6897420586020075970]),\n",
       " array([6897420586020075970, 7963007762452793327]),\n",
       " array([ 7963007762452793327, -3586315725236682319]),\n",
       " array([-3586315725236682319,  4376692037216111008]),\n",
       " array([4376692037216111008,  790376311979428689]),\n",
       " array([ 790376311979428689, 5167068349195539697]),\n",
       " array([5167068349195539697, 5957444661174968386]),\n",
       " array([ 5957444661174968386, -7322231063339043533]),\n",
       " array([-7322231063339043533, -1364786402164075147]),\n",
       " array([-1364786402164075147, -8687017465503118680]),\n",
       " array([-8687017465503118680,  8394940206042357789]),\n",
       " array([8394940206042357789, -292077259460760891]),\n",
       " array([-292077259460760891, 8102862946581596898]),\n",
       " array([8102862946581596898, 7810785687120836007]),\n",
       " array([ 7810785687120836007, -2533095440007118711]),\n",
       " array([-2533095440007118711,  5277690247113717296]),\n",
       " array([5277690247113717296, 2744594807106598585]),\n",
       " array([2744594807106598585, 8022285054220315881]),\n",
       " array([ 8022285054220315881, -7679864212382637150]),\n",
       " array([-7679864212382637150,   342420841837678731]),\n",
       " array([  342420841837678731, -7337443370544958419]),\n",
       " array([-7337443370544958419, -6995022528707279688]),\n",
       " array([-6995022528707279688,  4114278174457313509]),\n",
       " array([ 4114278174457313509, -2880744354249966179]),\n",
       " array([-2880744354249966179,  1233533820207347330]),\n",
       " array([ 1233533820207347330, -1647210534042618849]),\n",
       " array([-1647210534042618849,  -413676713835271519]),\n",
       " array([ -413676713835271519, -2060887247877890368]),\n",
       " array([-2060887247877890368, -2474563961713161887]),\n",
       " array([-2474563961713161887, -4535451209591052255]),\n",
       " array([-4535451209591052255, -7010015171304214142]),\n",
       " array([-7010015171304214142,  6901277692814285219]),\n",
       " array([6901277692814285219, -108737478489928923]),\n",
       " array([-108737478489928923, 6792540214324356296]),\n",
       " array([6792540214324356296, 6683802735834427373]),\n",
       " array([ 6683802735834427373, -4970401123550767947]),\n",
       " array([-4970401123550767947,  1713401612283659426]),\n",
       " array([ 1713401612283659426, -3256999511267108521]),\n",
       " array([-3256999511267108521, -1543597898983449095]),\n",
       " array([-1543597898983449095, -4800597410250557616]),\n",
       " array([-4800597410250557616, -6344195309234006711]),\n",
       " array([-6344195309234006711,  7301951354224987289]),\n",
       " array([7301951354224987289,  957756044990980578]),\n",
       " array([ 957756044990980578, 8259707399215967867]),\n",
       " array([8259707399215967867, 9217463444206948445]),\n",
       " array([9217463444206948445, -969573230286635304]),\n",
       " array([-969573230286635304, 8247890213920313141]),\n",
       " array([8247890213920313141, 7278316983633677837]),\n",
       " array([ 7278316983633677837, -2920536876155560638]),\n",
       " array([-2920536876155560638,  4357780107478117199]),\n",
       " array([4357780107478117199, 1437243231322556561]),\n",
       " array([1437243231322556561, 5795023338800673760]),\n",
       " array([5795023338800673760, 7232266570123230321]),\n",
       " array([ 7232266570123230321, -5419454164785647535]),\n",
       " array([-5419454164785647535,  1812812405337582786]),\n",
       " array([ 1812812405337582786, -3606641759448064749]),\n",
       " array([-3606641759448064749, -1793829354110481963]),\n",
       " array([-1793829354110481963, -5400471113558546712]),\n",
       " array([-5400471113558546712, -7194300467669028675]),\n",
       " array([-7194300467669028675,  5851972492481976229]),\n",
       " array([ 5851972492481976229, -1342327975187052446]),\n",
       " array([-1342327975187052446,  4509644517294923783]),\n",
       " array([4509644517294923783, 3167316542107871337]),\n",
       " array([3167316542107871337, 7676961059402795120]),\n",
       " array([ 7676961059402795120, -7602466472198885159]),\n",
       " array([-7602466472198885159,    74494587203909961]),\n",
       " array([   74494587203909961, -7527971884994975198]),\n",
       " array([-7527971884994975198, -7453477297791065237]),\n",
       " array([-7453477297791065237,  3465294890923511181]),\n",
       " array([ 3465294890923511181, -3988182406867554056]),\n",
       " array([-3988182406867554056,  -522887515944042875]),\n",
       " array([ -522887515944042875, -4511069922811596931]),\n",
       " array([-4511069922811596931, -5033957438755639806]),\n",
       " array([-5033957438755639806,  8901716712142314879]),\n",
       " array([8901716712142314879, 3867759273386675073]),\n",
       " array([ 3867759273386675073, -5677268088180561664]),\n",
       " array([-5677268088180561664, -1809508814793886591]),\n",
       " array([-1809508814793886591, -7486776902974448255]),\n",
       " array([-7486776902974448255,  9150458355941216770]),\n",
       " array([9150458355941216770, 1663681452966768515]),\n",
       " array([ 1663681452966768515, -7632604264801566331]),\n",
       " array([-7632604264801566331, -5968922811834797816]),\n",
       " array([-5968922811834797816,  4845216997073187469]),\n",
       " array([ 4845216997073187469, -1123705814761610347]),\n",
       " array([-1123705814761610347,  3721511182311577122]),\n",
       " array([3721511182311577122, 2597805367549966775]),\n",
       " array([2597805367549966775, 6319316549861543897]),\n",
       " array([6319316549861543897, 8917121917411510672]),\n",
       " array([ 8917121917411510672, -3210305606436497047]),\n",
       " array([-3210305606436497047,  5706816310975013625]),\n",
       " array([5706816310975013625, 2496510704538516578]),\n",
       " array([2496510704538516578, 8203327015513530203]),\n",
       " array([ 8203327015513530203, -7746906353657504835]),\n",
       " array([-7746906353657504835,   456420661856025368]),\n",
       " array([  456420661856025368, -7290485691801479467]),\n",
       " array([-7290485691801479467, -6834065029945454099]),\n",
       " array([-6834065029945454099,  4322193351962618050]),\n",
       " array([ 4322193351962618050, -2511871677982836049]),\n",
       " array([-2511871677982836049,  1810321673979782001]),\n",
       " array([1810321673979782001, -701550004003054048]),\n",
       " array([-701550004003054048, 1108771669976727953]),\n",
       " array([1108771669976727953,  407221665973673905]),\n",
       " array([ 407221665973673905, 1515993335950401858]),\n",
       " array([1515993335950401858, 1923215001924075763]),\n",
       " array([1923215001924075763, 3439208337874477621]),\n",
       " array([3439208337874477621, 5362423339798553384]),\n",
       " array([5362423339798553384, 8801631677673031005]),\n",
       " array([ 8801631677673031005, -4282689056237967227]),\n",
       " array([-4282689056237967227,  4518942621435063778]),\n",
       " array([4518942621435063778,  236253565197096551]),\n",
       " array([ 236253565197096551, 4755196186632160329]),\n",
       " array([4755196186632160329, 4991449751829256880]),\n",
       " array([ 4991449751829256880, -8700098135248134407]),\n",
       " array([-8700098135248134407, -3708648383418877527]),\n",
       " array([-3708648383418877527,  6037997555042539682]),\n",
       " array([6037997555042539682, 2329349171623662155]),\n",
       " array([2329349171623662155, 8367346726666201837]),\n",
       " array([ 8367346726666201837, -7750048175419687624]),\n",
       " array([-7750048175419687624,   617298551246514213]),\n",
       " array([  617298551246514213, -7132749624173173411]),\n",
       " array([-7132749624173173411, -6515451072926659198]),\n",
       " array([-6515451072926659198,  4798543376609719007]),\n",
       " array([ 4798543376609719007, -1716907696316940191]),\n",
       " array([-1716907696316940191,  3081635680292778816]),\n",
       " array([3081635680292778816, 1364727983975838625]),\n",
       " array([1364727983975838625, 4446363664268617441]),\n",
       " array([4446363664268617441, 5811091648244456066]),\n",
       " array([ 5811091648244456066, -8189288761196478109]),\n",
       " array([-8189288761196478109, -2378197112952022043]),\n",
       " array([-2378197112952022043,  7879258199561051464]),\n",
       " array([7879258199561051464, 5501061086609029421]),\n",
       " array([ 5501061086609029421, -5066424787539470731]),\n",
       " array([-5066424787539470731,   434636299069558690]),\n",
       " array([  434636299069558690, -4631788488469912041]),\n",
       " array([-4631788488469912041, -4197152189400353351]),\n",
       " array([-4197152189400353351, -8828940677870265392]),\n",
       " array([-8828940677870265392,  5420651206438932873]),\n",
       " array([ 5420651206438932873, -3408289471431332519]),\n",
       " array([-3408289471431332519,  2012361735007600354]),\n",
       " array([ 2012361735007600354, -1395927736423732165]),\n",
       " array([-1395927736423732165,   616433998583868189]),\n",
       " array([ 616433998583868189, -779493737839863976]),\n",
       " array([-779493737839863976, -163059739255995787]),\n",
       " array([-163059739255995787, -942553477095859763]),\n",
       " array([ -942553477095859763, -1105613216351855550]),\n",
       " array([-1105613216351855550, -2048166693447715313]),\n",
       " array([-2048166693447715313, -3153779909799570863]),\n",
       " array([-3153779909799570863, -5201946603247286176]),\n",
       " array([-5201946603247286176, -8355726513046857039]),\n",
       " array([-8355726513046857039,  4889070957415408401]),\n",
       " array([ 4889070957415408401, -3466655555631448638]),\n",
       " array([-3466655555631448638,  1422415401783959763]),\n",
       " array([ 1422415401783959763, -2044240153847488875]),\n",
       " array([-2044240153847488875,  -621824752063529112]),\n",
       " array([ -621824752063529112, -2666064905911017987]),\n",
       " array([-2666064905911017987, -3287889657974547099]),\n",
       " array([-3287889657974547099, -5953954563885565086]),\n",
       " array([-5953954563885565086,  9204899851849439431]),\n",
       " array([9204899851849439431, 3250945287963874345]),\n",
       " array([ 3250945287963874345, -5990898933896237840]),\n",
       " array([-5990898933896237840, -2739953645932363495]),\n",
       " array([-2739953645932363495, -8730852579828601335]),\n",
       " array([-8730852579828601335,  6975937847948586786]),\n",
       " array([ 6975937847948586786, -1754914731880014549]),\n",
       " array([-1754914731880014549,  5221023116068572237]),\n",
       " array([5221023116068572237, 3466108384188557688]),\n",
       " array([3466108384188557688, 8687131500257129925]),\n",
       " array([ 8687131500257129925, -6293504189263864003]),\n",
       " array([-6293504189263864003,  2393627310993265922]),\n",
       " array([ 2393627310993265922, -3899876878270598081]),\n",
       " array([-3899876878270598081, -1506249567277332159]),\n",
       " array([-1506249567277332159, -5406126445547930240]),\n",
       " array([-5406126445547930240, -6912376012825262399]),\n",
       " array([-6912376012825262399,  6128241615336358977]),\n",
       " array([6128241615336358977, -784134397488903422]),\n",
       " array([-784134397488903422, 5344107217847455555]),\n",
       " array([5344107217847455555, 4559972820358552133]),\n",
       " array([ 4559972820358552133, -8542664035503543928]),\n",
       " array([-8542664035503543928, -3982691215144991795]),\n",
       " array([-3982691215144991795,  5921388823061015893]),\n",
       " array([5921388823061015893, 1938697607916024098]),\n",
       " array([1938697607916024098, 7860086430977039991]),\n",
       " array([ 7860086430977039991, -8647960034816487527]),\n",
       " array([-8647960034816487527,  -787873603839447536]),\n",
       " array([-787873603839447536, 9010910435053616553])]"
      ]
     },
     "execution_count": 88,
     "metadata": {},
     "output_type": "execute_result"
    }
   ],
   "source": [
    "import numpy as np\n",
    "from numpy.linalg import eig\n",
    "\n",
    "F_matrix = np.array([[0,1],[1,1]])\n",
    "    \n",
    "def fibo(n):\n",
    "    \n",
    "    F_init = np.array([1,1]).T\n",
    "    \n",
    "    for i in range(n):\n",
    "        F_init = F_matrix @ F_init\n",
    "        \n",
    "    return F_init\n",
    "\n",
    "[fibo(i) for i in range(300)]"
   ]
  },
  {
   "cell_type": "markdown",
   "metadata": {},
   "source": [
    "Previous computation overflows: fast but bad :(\n",
    "\n",
    "On the other hand, in the following code we'll use symbolic SymPy computations. We start by coding the matrix seen above using a SymPy object that belong to Matrix class. It is very interesting to see the eigen-values of that matrix...they recall something, don't they?"
   ]
  },
  {
   "cell_type": "code",
   "execution_count": 72,
   "metadata": {
    "collapsed": false
   },
   "outputs": [
    {
     "data": {
      "image/png": "[encoded data removed]",
      "text/latex": [
       "$$\\left ( \\left[\\begin{matrix}0 & 1\\\\1 & 1\\end{matrix}\\right], \\quad \\left [ - \\frac{1}{2} \\left(-1 + \\sqrt{5}\\right), \\quad \\frac{1}{2} \\left(1 + \\sqrt{5}\\right)\\right ]\\right )$$"
      ],
      "text/plain": [
       "⎛        ⎡ ⎛       ___⎞         ___⎤⎞\n",
       "⎜        ⎢-⎝-1 + ╲╱ 5 ⎠   1 + ╲╱ 5 ⎥⎟\n",
       "⎜⎡0  1⎤, ⎢──────────────, ─────────⎥⎟\n",
       "⎜⎢    ⎥  ⎣      2             2    ⎦⎟\n",
       "⎝⎣1  1⎦                             ⎠"
      ]
     },
     "execution_count": 72,
     "metadata": {},
     "output_type": "execute_result"
    }
   ],
   "source": [
    "F_matrix = Matrix([[0,1],[1,1]])\n",
    "F_matrix, list(map(factor, F_matrix.eigenvals()))"
   ]
  },
  {
   "cell_type": "markdown",
   "metadata": {},
   "source": [
    "we can code the computation as a *fold* (Python calls it *reduce*) operation, providing the initial value:"
   ]
  },
  {
   "cell_type": "code",
   "execution_count": 74,
   "metadata": {
    "collapsed": false
   },
   "outputs": [],
   "source": [
    "from functools import reduce \n",
    "\n",
    "def fibo(n):\n",
    "        \n",
    "    F_init = Matrix([[1,1]]).T\n",
    "    \n",
    "    return reduce(lambda v,e: F_matrix * v, range(n), F_init)\n",
    "    \n",
    "    # Previous `reduce' application means the following:\n",
    "    \n",
    "    #for i in range(n):\n",
    "    #    F_init = F_matrix * F_init   \n",
    "    #return F_init"
   ]
  },
  {
   "cell_type": "markdown",
   "metadata": {},
   "source": [
    "here we provide a memoized implementation, coded by hand, to show how the [decorator] *recurrence_memo* can be used. Such decorator is supplied by SymPy, however Python standard library provides its own [functools.lru_cache][lru_cache].\n",
    "\n",
    "[decorator]:https://www.python.org/dev/peps/pep-0318/\n",
    "[lru_cache]:https://docs.python.org/3/library/functools.html#functools.lru_cache"
   ]
  },
  {
   "cell_type": "code",
   "execution_count": 89,
   "metadata": {
    "collapsed": false
   },
   "outputs": [],
   "source": [
    "from sympy.utilities.memoization import *\n",
    "\n",
    "@recurrence_memo([1,1])\n",
    "def memoized_fibonacci(n,prev): return prev[-1] + prev[-2]"
   ]
  },
  {
   "cell_type": "code",
   "execution_count": 103,
   "metadata": {
    "collapsed": false
   },
   "outputs": [
    {
     "name": "stdout",
     "output_type": "stream",
     "text": [
      "iteration 0 asking for 100 Fibonacci numbers\n",
      "\n",
      "CPU times: user 0 ns, sys: 0 ns, total: 0 ns\n",
      "Wall time: 266 µs\n",
      "CPU times: user 0 ns, sys: 0 ns, total: 0 ns\n",
      "Wall time: 578 µs\n",
      "CPU times: user 628 ms, sys: 0 ns, total: 628 ms\n",
      "Wall time: 624 ms\n",
      "---------------------------------------------------------------------------\n",
      "\n",
      "iteration 1 asking for 150 Fibonacci numbers\n",
      "\n",
      "CPU times: user 0 ns, sys: 0 ns, total: 0 ns\n",
      "Wall time: 493 µs\n",
      "CPU times: user 0 ns, sys: 0 ns, total: 0 ns\n",
      "Wall time: 1.19 ms\n",
      "CPU times: user 668 ms, sys: 0 ns, total: 668 ms\n",
      "Wall time: 669 ms\n",
      "---------------------------------------------------------------------------\n",
      "\n",
      "iteration 2 asking for 200 Fibonacci numbers\n",
      "\n",
      "CPU times: user 0 ns, sys: 0 ns, total: 0 ns\n",
      "Wall time: 553 µs\n",
      "CPU times: user 4 ms, sys: 0 ns, total: 4 ms\n",
      "Wall time: 1.33 ms\n",
      "CPU times: user 728 ms, sys: 0 ns, total: 728 ms\n",
      "Wall time: 726 ms\n",
      "---------------------------------------------------------------------------\n",
      "\n",
      "iteration 3 asking for 250 Fibonacci numbers\n",
      "\n",
      "CPU times: user 4 ms, sys: 0 ns, total: 4 ms\n",
      "Wall time: 487 µs\n",
      "CPU times: user 0 ns, sys: 0 ns, total: 0 ns\n",
      "Wall time: 1.18 ms\n",
      "CPU times: user 664 ms, sys: 0 ns, total: 664 ms\n",
      "Wall time: 665 ms\n",
      "---------------------------------------------------------------------------\n",
      "\n",
      "iteration 4 asking for 300 Fibonacci numbers\n",
      "\n",
      "CPU times: user 0 ns, sys: 0 ns, total: 0 ns\n",
      "Wall time: 264 µs\n",
      "CPU times: user 0 ns, sys: 0 ns, total: 0 ns\n",
      "Wall time: 641 µs\n",
      "CPU times: user 612 ms, sys: 0 ns, total: 612 ms\n",
      "Wall time: 612 ms\n",
      "---------------------------------------------------------------------------\n",
      "\n",
      "iteration 5 asking for 350 Fibonacci numbers\n",
      "\n",
      "CPU times: user 0 ns, sys: 0 ns, total: 0 ns\n",
      "Wall time: 257 µs\n",
      "CPU times: user 0 ns, sys: 0 ns, total: 0 ns\n",
      "Wall time: 576 µs\n",
      "CPU times: user 652 ms, sys: 0 ns, total: 652 ms\n",
      "Wall time: 652 ms\n",
      "---------------------------------------------------------------------------\n",
      "\n",
      "iteration 6 asking for 400 Fibonacci numbers\n",
      "\n",
      "CPU times: user 0 ns, sys: 0 ns, total: 0 ns\n",
      "Wall time: 262 µs\n",
      "CPU times: user 0 ns, sys: 0 ns, total: 0 ns\n",
      "Wall time: 585 µs\n",
      "CPU times: user 612 ms, sys: 0 ns, total: 612 ms\n",
      "Wall time: 611 ms\n",
      "---------------------------------------------------------------------------\n",
      "\n",
      "iteration 7 asking for 450 Fibonacci numbers\n",
      "\n",
      "CPU times: user 0 ns, sys: 0 ns, total: 0 ns\n",
      "Wall time: 266 µs\n",
      "CPU times: user 0 ns, sys: 0 ns, total: 0 ns\n",
      "Wall time: 602 µs\n",
      "CPU times: user 612 ms, sys: 0 ns, total: 612 ms\n",
      "Wall time: 612 ms\n",
      "---------------------------------------------------------------------------\n",
      "\n",
      "iteration 8 asking for 500 Fibonacci numbers\n",
      "\n",
      "CPU times: user 0 ns, sys: 0 ns, total: 0 ns\n",
      "Wall time: 262 µs\n",
      "CPU times: user 0 ns, sys: 0 ns, total: 0 ns\n",
      "Wall time: 652 µs\n",
      "CPU times: user 612 ms, sys: 0 ns, total: 612 ms\n",
      "Wall time: 611 ms\n",
      "---------------------------------------------------------------------------\n",
      "\n",
      "iteration 9 asking for 550 Fibonacci numbers\n",
      "\n",
      "CPU times: user 0 ns, sys: 0 ns, total: 0 ns\n",
      "Wall time: 481 µs\n",
      "CPU times: user 0 ns, sys: 0 ns, total: 0 ns\n",
      "Wall time: 1.25 ms\n",
      "CPU times: user 624 ms, sys: 0 ns, total: 624 ms\n",
      "Wall time: 626 ms\n",
      "---------------------------------------------------------------------------\n",
      "\n",
      "iteration 10 asking for 600 Fibonacci numbers\n",
      "\n",
      "CPU times: user 0 ns, sys: 0 ns, total: 0 ns\n",
      "Wall time: 258 µs\n",
      "CPU times: user 0 ns, sys: 0 ns, total: 0 ns\n",
      "Wall time: 577 µs\n",
      "CPU times: user 608 ms, sys: 0 ns, total: 608 ms\n",
      "Wall time: 608 ms\n",
      "---------------------------------------------------------------------------\n",
      "\n",
      "iteration 11 asking for 650 Fibonacci numbers\n",
      "\n",
      "CPU times: user 0 ns, sys: 0 ns, total: 0 ns\n",
      "Wall time: 496 µs\n",
      "CPU times: user 0 ns, sys: 0 ns, total: 0 ns\n",
      "Wall time: 1.32 ms\n",
      "CPU times: user 672 ms, sys: 0 ns, total: 672 ms\n",
      "Wall time: 671 ms\n",
      "---------------------------------------------------------------------------\n",
      "\n",
      "iteration 12 asking for 700 Fibonacci numbers\n",
      "\n",
      "CPU times: user 0 ns, sys: 0 ns, total: 0 ns\n",
      "Wall time: 263 µs\n",
      "CPU times: user 0 ns, sys: 0 ns, total: 0 ns\n",
      "Wall time: 583 µs\n",
      "CPU times: user 612 ms, sys: 0 ns, total: 612 ms\n",
      "Wall time: 610 ms\n",
      "---------------------------------------------------------------------------\n",
      "\n",
      "iteration 13 asking for 750 Fibonacci numbers\n",
      "\n",
      "CPU times: user 0 ns, sys: 0 ns, total: 0 ns\n",
      "Wall time: 262 µs\n",
      "CPU times: user 0 ns, sys: 0 ns, total: 0 ns\n",
      "Wall time: 581 µs\n",
      "CPU times: user 612 ms, sys: 0 ns, total: 612 ms\n",
      "Wall time: 610 ms\n",
      "---------------------------------------------------------------------------\n",
      "\n",
      "iteration 14 asking for 800 Fibonacci numbers\n",
      "\n",
      "CPU times: user 0 ns, sys: 0 ns, total: 0 ns\n",
      "Wall time: 257 µs\n",
      "CPU times: user 4 ms, sys: 0 ns, total: 4 ms\n",
      "Wall time: 585 µs\n",
      "CPU times: user 620 ms, sys: 0 ns, total: 620 ms\n",
      "Wall time: 620 ms\n",
      "---------------------------------------------------------------------------\n",
      "\n",
      "###########################################################################\n",
      "repeating an already computed call should be smart for the former two implementations...\n",
      "\n",
      "iteration asking for 800 *already seen* Fibonacci numbers\n",
      "\n",
      "CPU times: user 0 ns, sys: 0 ns, total: 0 ns\n",
      "Wall time: 63.9 µs\n",
      "CPU times: user 0 ns, sys: 0 ns, total: 0 ns\n",
      "Wall time: 124 µs\n",
      "CPU times: user 32 ms, sys: 0 ns, total: 32 ms\n",
      "Wall time: 32 ms\n",
      "---------------------------------------------------------------------------\n",
      "\n",
      "iteration asking for 800 *already seen* Fibonacci numbers\n",
      "\n",
      "CPU times: user 0 ns, sys: 0 ns, total: 0 ns\n",
      "Wall time: 218 µs\n",
      "CPU times: user 0 ns, sys: 0 ns, total: 0 ns\n",
      "Wall time: 241 µs\n",
      "CPU times: user 112 ms, sys: 0 ns, total: 112 ms\n",
      "Wall time: 112 ms\n",
      "---------------------------------------------------------------------------\n",
      "\n",
      "iteration asking for 800 *already seen* Fibonacci numbers\n",
      "\n",
      "CPU times: user 0 ns, sys: 0 ns, total: 0 ns\n",
      "Wall time: 415 µs\n",
      "CPU times: user 0 ns, sys: 0 ns, total: 0 ns\n",
      "Wall time: 1.23 ms\n",
      "CPU times: user 496 ms, sys: 0 ns, total: 496 ms\n",
      "Wall time: 496 ms\n",
      "---------------------------------------------------------------------------\n",
      "\n",
      "iteration asking for 800 *already seen* Fibonacci numbers\n",
      "\n",
      "CPU times: user 0 ns, sys: 0 ns, total: 0 ns\n",
      "Wall time: 549 µs\n",
      "CPU times: user 0 ns, sys: 0 ns, total: 0 ns\n",
      "Wall time: 1.61 ms\n",
      "CPU times: user 868 ms, sys: 0 ns, total: 868 ms\n",
      "Wall time: 865 ms\n",
      "---------------------------------------------------------------------------\n",
      "\n"
     ]
    }
   ],
   "source": [
    "def time_them(elements=600):\n",
    "\n",
    "    # it uses memoization implemented by hand a little above\n",
    "    %time [memoized_fibonacci(i) for i in range(elements)]\n",
    "\n",
    "    # it uses SymPy implementation, coded in sympy/mpmath/libmp/libintmath.py, \n",
    "    # referenced by sympy/functions/combinatorial/numbers.py (here it is interesting\n",
    "    # to look at how a function can be defined to belong to SymPy hierarchy)\n",
    "    %time [fibonacci(i) for i in range(elements)]\n",
    "\n",
    "    # it uses matrix implementation, without memoization\n",
    "    %time [fibo(i) for i in range(elements)]\n",
    "\n",
    "for i, e in enumerate(range(100,801,50)):\n",
    "    print(\"iteration {0} asking for {1} Fibonacci numbers\\n\".format(i,e))\n",
    "    time_them(elements=700)\n",
    "    print((\"-\" * 75) + \"\\n\")\n",
    "    \n",
    "print(\"#\" * 75)\n",
    "print(\"repeating an already computed call should be smart for the former two implementations...\\n\")\n",
    "for elem in [150, 300, 600, 800]:\n",
    "    print(\"iteration asking for {0} *already seen* Fibonacci numbers\\n\".format(e))\n",
    "    time_them(elem)\n",
    "    print((\"-\" * 75) + \"\\n\")\n",
    "    \n",
    "None\n",
    "\n",
    "# the following mapping allows us to extract a sequence of numbers \n",
    "# instead of a list of vectors\n",
    "# %time list(map(lambda v: v[0], [fibo(i) for i in range(elements)]))"
   ]
  },
  {
   "cell_type": "markdown",
   "metadata": {},
   "source": [
    "# Generating Functions"
   ]
  },
  {
   "cell_type": "markdown",
   "metadata": {},
   "source": [
    "In this short section we play with *convolution* of generating functions. The following use the \"operator\" $1-t$ to build a sequence where terms are differences of consecutive coefficients belonging to a given sequence:"
   ]
  },
  {
   "cell_type": "code",
   "execution_count": 122,
   "metadata": {
    "collapsed": false
   },
   "outputs": [
    {
     "data": {
      "image/png": "[encoded data removed]",
      "text/latex": [
       "$$\\left ( a{\\left (t \\right )} = \\left(- t + 1\\right) b{\\left (t \\right )}, \\quad 1 + t^{2} - 2 t^{3} + 10 t^{4} - t^{5} + \\mathcal{O}\\left(t^{6}\\right)\\right )$$"
      ],
      "text/plain": [
       "⎛                           2      3       4    5    ⎛ 6⎞⎞\n",
       "⎝a(t) = (-t + 1)⋅b(t), 1 + t  - 2⋅t  + 10⋅t  - t  + O⎝t ⎠⎠"
      ]
     },
     "execution_count": 122,
     "metadata": {},
     "output_type": "execute_result"
    }
   ],
   "source": [
    "a = Function('a')(t)\n",
    "b = Function('b')(t)\n",
    "use_me = Eq(a, b * (1-t))\n",
    "use_me,use_me.subs(b, 1 + 1*t + 2*t**2 + 10*t**4 + 9*t**5).rhs.series(t).simplify()"
   ]
  },
  {
   "cell_type": "markdown",
   "metadata": {},
   "source": [
    "Next we use the operator $\\frac{1}{1-t}$ to build a sequence where terms are cumulates of coefficients seen so far:"
   ]
  },
  {
   "cell_type": "code",
   "execution_count": 34,
   "metadata": {
    "collapsed": false
   },
   "outputs": [
    {
     "data": {
      "image/png": "[encoded data removed]",
      "text/latex": [
       "$$1 + 2 t + 4 t^{2} + 4 t^{3} + 14 t^{4} + 23 t^{5} + \\mathcal{O}\\left(t^{6}\\right)$$"
      ],
      "text/plain": [
       "             2      3       4       5    ⎛ 6⎞\n",
       "1 + 2⋅t + 4⋅t  + 4⋅t  + 14⋅t  + 23⋅t  + O⎝t ⎠"
      ]
     },
     "execution_count": 34,
     "metadata": {},
     "output_type": "execute_result"
    }
   ],
   "source": [
    "a = Function('a')(t)\n",
    "b = Function('b')(t)\n",
    "use_me = Eq(a, b * (1-t)**-1)\n",
    "use_me.subs(b, 1 + 1*t + 2*t**2 + 10*t**4 + 9*t**5).rhs.series(t).simplify()"
   ]
  },
  {
   "cell_type": "markdown",
   "metadata": {},
   "source": [
    "Many other operators can be found in [Riordan] and [Knuth] books ;)\n",
    "\n",
    "[Riordan]:http://onesearch.unifi.it/primo_library/libweb/action/search.do?cs=frb&ct=frb&frbg=12248995&fctN=facet_frbrgroupid&fctV=12248995&doc=dedupmrg12749232&lastPag=&lastPagIndx=1&rfnGrp=frbr&frbrSrt=date&frbrRecordsSource=Primo+Local&dscnt=0&frbg=&scp.scps=scope%3A(39UFI)%2C39UFI_EbscoLocal%2Cprimo_central_multiple_fe&tab=default_tab&dstmp=1447757673335&srt=rank&ct=search&mode=Basic&&dum=true&tb=t&indx=1&vl(freeText0)=john%20riordan%20introduction%20to%20combinatorial%20analysis&vid=39UFI_V1&fn=search\n",
    "\n",
    "[Knuth]:http://onesearch.unifi.it/primo_library/libweb/action/search.do?cs=frb&ct=frb&frbg=13427606&fctN=facet_frbrgroupid&fctV=13427606&doc=dedupmrg12583599&lastPag=&lastPagIndx=1&rfnGrp=frbr&frbrSrt=date&frbrRecordsSource=Primo+Local&dscnt=0&frbg=&scp.scps=scope%3A(39UFI)%2C39UFI_EbscoLocal%2Cprimo_central_multiple_fe&tab=default_tab&dstmp=1447757940159&srt=rank&ct=search&mode=Basic&&dum=true&tb=t&indx=1&vl(freeText0)=knuth%20graham%20concrete%20mathematics&vid=39UFI_V1&fn=search\n",
    "\n",
    "---"
   ]
  },
  {
   "cell_type": "markdown",
   "metadata": {},
   "source": [
    "# *SymPy* sandbox"
   ]
  },
  {
   "cell_type": "code",
   "execution_count": 36,
   "metadata": {
    "collapsed": false
   },
   "outputs": [
    {
     "data": {
      "image/png": "[encoded data removed]",
      "text/latex": [
       "$$3.141592653589793238462643383279502884197169399375105820974944592307816406286208998628034825342117068$$"
      ],
      "text/plain": [
       "3.1415926535897932384626433832795028841971693993751058209749445923078164062862\n",
       "08998628034825342117068"
      ]
     },
     "execution_count": 36,
     "metadata": {},
     "output_type": "execute_result"
    }
   ],
   "source": [
    "pi.evalf(100)"
   ]
  },
  {
   "cell_type": "code",
   "execution_count": 37,
   "metadata": {
    "collapsed": false
   },
   "outputs": [
    {
     "data": {
      "image/png": "[encoded data removed]",
      "text/latex": [
       "$$\\left ( a_{0}, \\quad a_{1}, \\quad a_{2}, \\quad a_{3}, \\quad a_{4}, \\quad a_{5}, \\quad a_{6}, \\quad a_{7}, \\quad a_{8}, \\quad a_{9}\\right )$$"
      ],
      "text/plain": [
       "(a₀, a₁, a₂, a₃, a₄, a₅, a₆, a₇, a₈, a₉)"
      ]
     },
     "execution_count": 37,
     "metadata": {},
     "output_type": "execute_result"
    }
   ],
   "source": [
    "a = symbols('a0:10')\n",
    "a"
   ]
  },
  {
   "cell_type": "code",
   "execution_count": 15,
   "metadata": {
    "collapsed": false
   },
   "outputs": [
    {
     "data": {
      "image/png": "[encoded data removed]",
      "text/latex": [
       "$$\\left(\\sum_{n=0}^{4} x^{n} a_{n}\\right) \\sum_{n=0}^{4} x^{n} b_{n}$$"
      ],
      "text/plain": [
       "⎛  4          ⎞   4          \n",
       "⎜ ___         ⎟  ___         \n",
       "⎜ ╲           ⎟  ╲           \n",
       "⎜  ╲    n     ⎟   ╲    n     \n",
       "⎜  ╱   x ⋅a[n]⎟⋅  ╱   x ⋅b[n]\n",
       "⎜ ╱           ⎟  ╱           \n",
       "⎜ ‾‾‾         ⎟  ‾‾‾         \n",
       "⎝n = 0        ⎠ n = 0        "
      ]
     },
     "execution_count": 15,
     "metadata": {},
     "output_type": "execute_result"
    }
   ],
   "source": [
    "x = numbered_symbols('x')\n",
    "next(x), next(x)\n",
    "x = Symbol('x')\n",
    "ai = IndexedBase('a')\n",
    "bi = IndexedBase('b')\n",
    "a = Sum(ai[n]*x**n, (n, 0, 4))\n",
    "b = Sum(bi[n]*x**n, (n, 0, 4))\n",
    "expand(a*b)\n"
   ]
  },
  {
   "cell_type": "code",
   "execution_count": 39,
   "metadata": {
    "collapsed": false
   },
   "outputs": [
    {
     "data": {
      "image/png": "[encoded data removed]",
      "text/latex": [
       "$$\\left ( \\sum_{i=0}^{\\infty} t^{i} a_{i}, \\quad \\sum_{i=0}^{n} t^{i} b_{i}, \\quad \\left(\\sum_{i=0}^{\\infty} t^{i} a_{i}\\right) \\sum_{i=0}^{5} t^{i} b_{i}, \\quad \\sum_{n=0}^{i} t^{n} \\sum_{k=0}^{n} a_{k} b_{- k + n}, \\quad \\sum_{n=0}^{i} t^{n} \\sum_{k=0}^{n} a_{k} b_{- k + n}\\right )$$"
      ],
      "text/plain": [
       "⎛                                                               i             \n",
       "⎜                                                             ______          \n",
       "⎜                                                             ╲               \n",
       "⎜  ∞              n            ⎛  ∞          ⎞   5             ╲          n   \n",
       "⎜ ___            ___           ⎜ ___         ⎟  ___             ╲        ___  \n",
       "⎜ ╲              ╲             ⎜ ╲           ⎟  ╲                ╲       ╲    \n",
       "⎜  ╲    i         ╲    i       ⎜  ╲    i     ⎟   ╲    i           ╲   n   ╲   \n",
       "⎜  ╱   t ⋅a[i],   ╱   t ⋅b[i], ⎜  ╱   t ⋅a[i]⎟⋅  ╱   t ⋅b[i],     ╱  t ⋅  ╱   \n",
       "⎜ ╱              ╱             ⎜ ╱           ⎟  ╱                ╱       ╱    \n",
       "⎜ ‾‾‾            ‾‾‾           ⎜ ‾‾‾         ⎟  ‾‾‾             ╱        ‾‾‾  \n",
       "⎜i = 0          i = 0          ⎝i = 0        ⎠ i = 0           ╱        k = 0 \n",
       "⎜                                                             ╱               \n",
       "⎜                                                             ‾‾‾‾‾‾          \n",
       "⎝                                                             n = 0           \n",
       "\n",
       "                  i                           ⎞\n",
       "                ______                        ⎟\n",
       "                ╲                             ⎟\n",
       "                 ╲          n                 ⎟\n",
       "                  ╲        ___                ⎟\n",
       "                   ╲       ╲                  ⎟\n",
       "a[k]⋅b[-k + n]      ╲   n   ╲   a[k]⋅b[-k + n]⎟\n",
       "              ,     ╱  t ⋅  ╱                 ⎟\n",
       "                   ╱       ╱                  ⎟\n",
       "                  ╱        ‾‾‾                ⎟\n",
       "                 ╱        k = 0               ⎟\n",
       "                ╱                             ⎟\n",
       "                ‾‾‾‾‾‾                        ⎟\n",
       "                n = 0                         ⎠"
      ]
     },
     "execution_count": 39,
     "metadata": {},
     "output_type": "execute_result"
    }
   ],
   "source": [
    "k, k0, k1, k2, t, i = symbols('k k:3 t i')\n",
    "k_gen = numbered_symbols('a')\n",
    "a_k = IndexedBase('a')\n",
    "b_n_k = IndexedBase('b')\n",
    "i_tuple = (i, 0, n)\n",
    "a_sum = summation(a_k[i]*t**i, (i,0,oo) )\n",
    "b_sum = Sum(b_n_k[i]*t**i, i_tuple)\n",
    "limit = 5\n",
    "a_b_prod = a_sum.subs(n,limit) * b_sum.subs(n,limit)\n",
    "G_conv = Sum(Sum(a_k[k] * b_n_k[n-k], (k, 0, n))*t**n, (n, 0, i))\n",
    "a_sum.subs(n,5).doit(), b_sum, expand(a_b_prod,mul=True), G_conv, G_conv"
   ]
  },
  {
   "cell_type": "code",
   "execution_count": 40,
   "metadata": {
    "collapsed": false
   },
   "outputs": [
    {
     "data": {
      "image/png": "[encoded data removed]",
      "text/latex": [
       "$$\\prod_{i=1}^{n} \\frac{4 i^{2}}{\\left(2 i - 1\\right) \\left(2 i + 1\\right)}$$"
      ],
      "text/plain": [
       "    n                         \n",
       "┬────────┬                    \n",
       "│        │            2       \n",
       "│        │         4⋅i        \n",
       "│        │ ───────────────────\n",
       "│        │ (2⋅i - 1)⋅(2⋅i + 1)\n",
       "│        │                    \n",
       "  i = 1                       "
      ]
     },
     "execution_count": 40,
     "metadata": {},
     "output_type": "execute_result"
    }
   ],
   "source": [
    "W2 = Product(2*i/(2*i-1)*2*i/(2*i+1), (i, 1, n))\n",
    "W2 # it should print: Product(4*i**2/((2*i - 1)*(2*i + 1)), (i, 1, n))"
   ]
  },
  {
   "cell_type": "code",
   "execution_count": 41,
   "metadata": {
    "collapsed": false
   },
   "outputs": [
    {
     "data": {
      "image/png": "[encoded data removed]",
      "text/latex": [
       "$$\\frac{2^{- 2 n} 4^{n}}{{\\left(\\frac{1}{2}\\right)}^{\\left(n\\right)} {\\left(\\frac{3}{2}\\right)}^{\\left(n\\right)}} n!^{2}$$"
      ],
      "text/plain": [
       "                   -2⋅n  n   2                 \n",
       "                  2    ⋅4 ⋅n!                  \n",
       "───────────────────────────────────────────────\n",
       "RisingFactorial(1/2, n)⋅RisingFactorial(3/2, n)"
      ]
     },
     "execution_count": 41,
     "metadata": {},
     "output_type": "execute_result"
    }
   ],
   "source": [
    "W2e = W2.doit()\n",
    "W2e # it should return: 2**(-2*n)*4**n*(factorial(n))**2/(RisingFactorial(1/2, n)*RisingFactorial(3/2, n))"
   ]
  },
  {
   "cell_type": "code",
   "execution_count": 42,
   "metadata": {
    "collapsed": false
   },
   "outputs": [
    {
     "data": {
      "image/png": "[encoded data removed]",
      "text/latex": [
       "$$t^{7} x_{10} + t^{6} x_{9} + t^{5} x_{8} + t^{4} x_{7} + t^{3} x_{6} + t^{2} x_{5} + t x_{4} + x_{3} + \\frac{x_{2}}{t} + \\frac{x_{1}}{t^{2}} + \\frac{x_{0}}{t^{3}}$$"
      ],
      "text/plain": [
       " 7          6         5         4         3         2                        x\n",
       "t ⋅x[10] + t ⋅x[9] + t ⋅x[8] + t ⋅x[7] + t ⋅x[6] + t ⋅x[5] + t⋅x[4] + x[3] + ─\n",
       "                                                                              \n",
       "                                                                              \n",
       "\n",
       "[2]   x[1]   x[0]\n",
       "─── + ──── + ────\n",
       "t       2      3 \n",
       "       t      t  "
      ]
     },
     "execution_count": 42,
     "metadata": {},
     "output_type": "execute_result"
    }
   ],
   "source": [
    "x = numbered_symbols('x')\n",
    "k = numbered_symbols('k')\n",
    "xi = IndexedBase('x')\n",
    "expand((next(x) + next(x) + next(x))*(next(k) + next(k) + next(k)))\n",
    "my_sum = (Sum(xi[i]*t**i, (i,0, n))).subs(n,5).doit().subs(xi[5],4)\n",
    "(my_sum * my_sum)\n",
    "simplify(Sum(xi[i]*t**i, (i,0, n)).subs(n,10).doit()/t**3)"
   ]
  },
  {
   "cell_type": "code",
   "execution_count": 43,
   "metadata": {
    "collapsed": false
   },
   "outputs": [
    {
     "data": {
      "image/png": "[encoded data removed]",
      "text/latex": [
       "$$\\left( t \\mapsto t + 1 \\right)$$"
      ],
      "text/plain": [
       "t ↦ t + 1"
      ]
     },
     "execution_count": 43,
     "metadata": {},
     "output_type": "execute_result"
    }
   ],
   "source": [
    "a = IndexedBase('a')\n",
    "s = Sum(xi[i]*t**i, (i,0, n))\n",
    "f = Lambda(t, t+1)\n",
    "f"
   ]
  },
  {
   "cell_type": "code",
   "execution_count": 60,
   "metadata": {
    "collapsed": false
   },
   "outputs": [
    {
     "data": {
      "image/png": "[encoded data removed]",
      "text/latex": [
       "$$t + 2 t^{2} + 3 t^{3} + 4 t^{4} + 5 t^{5} + 6 t^{6} + 7 t^{7} + 8 t^{8} + 9 t^{9} + \\mathcal{O}\\left(t^{10}\\right)$$"
      ],
      "text/plain": [
       "       2      3      4      5      6      7      8      9    ⎛ 10⎞\n",
       "t + 2⋅t  + 3⋅t  + 4⋅t  + 5⋅t  + 6⋅t  + 7⋅t  + 8⋅t  + 9⋅t  + O⎝t  ⎠"
      ]
     },
     "execution_count": 60,
     "metadata": {},
     "output_type": "execute_result"
    }
   ],
   "source": [
    "series(t/(1-t)**2, n=10)"
   ]
  },
  {
   "cell_type": "markdown",
   "metadata": {
    "collapsed": false
   },
   "source": [
    "$d_{nk}$ is the number of *Collatz chains* of length $n$ with $k$ inversions"
   ]
  },
  {
   "cell_type": "markdown",
   "metadata": {},
   "source": [
    "# $A=B$"
   ]
  },
  {
   "cell_type": "code",
   "execution_count": 7,
   "metadata": {
    "collapsed": false
   },
   "outputs": [
    {
     "data": {
      "image/png": "[encoded data removed]",
      "text/latex": [
       "$$n + 1$$"
      ],
      "text/plain": [
       "n + 1"
      ]
     },
     "execution_count": 7,
     "metadata": {},
     "output_type": "execute_result"
    }
   ],
   "source": [
    "def an_example(n): return factorial(n+1)/factorial(n)\n",
    "\n",
    "an_example(n).simplify()"
   ]
  },
  {
   "cell_type": "code",
   "execution_count": 27,
   "metadata": {
    "collapsed": false
   },
   "outputs": [
    {
     "name": "stdout",
     "output_type": "stream",
     "text": [
      "Help on method rewrite in module sympy.core.basic:\n",
      "\n",
      "rewrite(*args, **hints) method of sympy.core.mul.Mul instance\n",
      "    Rewrite functions in terms of other functions.\n",
      "    \n",
      "    Rewrites expression containing applications of functions\n",
      "    of one kind in terms of functions of different kind. For\n",
      "    example you can rewrite trigonometric functions as complex\n",
      "    exponentials or combinatorial functions as gamma function.\n",
      "    \n",
      "    As a pattern this function accepts a list of functions to\n",
      "    to rewrite (instances of DefinedFunction class). As rule\n",
      "    you can use string or a destination function instance (in\n",
      "    this case rewrite() will use the str() function).\n",
      "    \n",
      "    There is also the possibility to pass hints on how to rewrite\n",
      "    the given expressions. For now there is only one such hint\n",
      "    defined called 'deep'. When 'deep' is set to False it will\n",
      "    forbid functions to rewrite their contents.\n",
      "    \n",
      "    Examples\n",
      "    ========\n",
      "    \n",
      "    >>> from sympy import sin, exp\n",
      "    >>> from sympy.abc import x\n",
      "    \n",
      "    Unspecified pattern:\n",
      "    >>> sin(x).rewrite(exp)\n",
      "    -I*(exp(I*x) - exp(-I*x))/2\n",
      "    \n",
      "    Pattern as a single function:\n",
      "    >>> sin(x).rewrite(sin, exp)\n",
      "    -I*(exp(I*x) - exp(-I*x))/2\n",
      "    \n",
      "    Pattern as a list of functions:\n",
      "    >>> sin(x).rewrite([sin, ], exp)\n",
      "    -I*(exp(I*x) - exp(-I*x))/2\n",
      "\n"
     ]
    },
    {
     "data": {
      "image/png": "[encoded data removed]",
      "text/latex": [
       "$$\\left ( \\frac{n!^{4}}{k!^{2} \\left(2 n\\right)! \\left(- k + n\\right)!^{2}}, \\quad 0\\right )$$"
      ],
      "text/plain": [
       "⎛           4            ⎞\n",
       "⎜         n!             ⎟\n",
       "⎜─────────────────────, 0⎟\n",
       "⎜  2                 2   ⎟\n",
       "⎝k! ⋅(2⋅n)!⋅(-k + n)!    ⎠"
      ]
     },
     "execution_count": 27,
     "metadata": {},
     "output_type": "execute_result"
    }
   ],
   "source": [
    "def rhs(n): return binomial(2*n,n)\n",
    "def t(n,k): return binomial(n,k)**2\n",
    "def F(n,k): return t(n,k)/rhs(n)\n",
    "def R(n,k): return -((3*n + 3-2*k)*k**2)/(2*(2*n+1)*(n+1-k)**2)\n",
    "def G(n,k): return R(n,k)*F(n,k)\n",
    "k= Symbol('k')\n",
    "f=F(n,k)\n",
    "help(f.rewrite)\n",
    "f.rewrite(factorial), (F(n+1,k)-F(n,k)-G(n,k+1)+G(n,k)).simplify()"
   ]
  },
  {
   "cell_type": "markdown",
   "metadata": {},
   "source": [
    "## Exercises"
   ]
  },
  {
   "cell_type": "markdown",
   "metadata": {},
   "source": [
    "The following is exercise 1 of section 2.7"
   ]
  },
  {
   "cell_type": "code",
   "execution_count": 7,
   "metadata": {
    "collapsed": false
   },
   "outputs": [
    {
     "data": {
      "image/png": "[encoded data removed]",
      "text/latex": [
       "$$\\left ( \\sum_{k=0}^{3} \\frac{\\left(n + 2\\right)!^{2} \\left(- 3 k + 3 n + 1\\right)! \\left(- 2 k + 2 n - 5\\right)!}{\\left(2 n - 5\\right)! \\left(3 n + 1\\right)! \\left(- k + n + 2\\right)!^{2}}, \\quad 1 + \\frac{\\left(n + 2\\right)!^{2} \\left(2 n - 7\\right)! \\left(3 n - 2\\right)!}{\\left(n + 1\\right)!^{2} \\left(2 n - 5\\right)! \\left(3 n + 1\\right)!} + \\frac{\\left(n + 2\\right)!^{2} \\left(2 n - 11\\right)! \\left(3 n - 8\\right)!}{\\left(n - 1\\right)!^{2} \\left(2 n - 5\\right)! \\left(3 n + 1\\right)!} + \\frac{\\left(n + 2\\right)!^{2} \\left(2 n - 9\\right)! \\left(3 n - 5\\right)!}{n!^{2} \\left(2 n - 5\\right)! \\left(3 n + 1\\right)!}\\right )$$"
      ],
      "text/plain": [
       "⎛  3                                                                          \n",
       "⎜_____                                                                        \n",
       "⎜╲                                                                            \n",
       "⎜ ╲            2                                                              \n",
       "⎜  ╲   (n + 2)! ⋅(-3⋅k + 3⋅n + 1)!⋅(-2⋅k + 2⋅n - 5)!              2           \n",
       "⎜   ╲  ─────────────────────────────────────────────      (n + 2)! ⋅(2⋅n - 7)!\n",
       "⎜   ╱                                          2    , 1 + ────────────────────\n",
       "⎜  ╱        (2⋅n - 5)!⋅(3⋅n + 1)!⋅(-k + n + 2)!                   2           \n",
       "⎜ ╱                                                       (n + 1)! ⋅(2⋅n - 5)!\n",
       "⎜╱                                                                            \n",
       "⎜‾‾‾‾‾                                                                        \n",
       "⎝k = 0                                                                        \n",
       "\n",
       "                                                                              \n",
       "                                                                              \n",
       "                                                                              \n",
       "                                                                              \n",
       "                      2                                  2                    \n",
       "⋅(3⋅n - 2)!   (n + 2)! ⋅(2⋅n - 11)!⋅(3⋅n - 8)!   (n + 2)! ⋅(2⋅n - 9)!⋅(3⋅n - 5\n",
       "─────────── + ──────────────────────────────── + ─────────────────────────────\n",
       "                      2                               2                       \n",
       "⋅(3⋅n + 1)!   (n - 1)! ⋅(2⋅n - 5)!⋅(3⋅n + 1)!       n! ⋅(2⋅n - 5)!⋅(3⋅n + 1)! \n",
       "                                                                              \n",
       "                                                                              \n",
       "                                                                              \n",
       "\n",
       "  ⎞\n",
       "  ⎟\n",
       "  ⎟\n",
       "  ⎟\n",
       "  ⎟\n",
       ")!⎟\n",
       "──⎟\n",
       "  ⎟\n",
       "  ⎟\n",
       "  ⎟\n",
       "  ⎟\n",
       "  ⎠"
      ]
     },
     "execution_count": 7,
     "metadata": {},
     "output_type": "execute_result"
    }
   ],
   "source": [
    "def f(n): return (factorial(3*n+1)*factorial(2*n-5))/((factorial(n+2))**2)\n",
    "n,k=symbols('n k')\n",
    "_sum = Sum(f(n-k)/f(n), (k,0,3))\n",
    "_sum, _sum.doit()"
   ]
  },
  {
   "cell_type": "code",
   "execution_count": 9,
   "metadata": {
    "collapsed": false
   },
   "outputs": [
    {
     "data": {
      "image/png": "[encoded data removed]",
      "text/latex": [
       "$$e^{t}$$"
      ],
      "text/plain": [
       " t\n",
       "ℯ "
      ]
     },
     "execution_count": 9,
     "metadata": {},
     "output_type": "execute_result"
    }
   ],
   "source": [
    "hyper([],[],t).simplify()"
   ]
  },
  {
   "cell_type": "code",
   "execution_count": 26,
   "metadata": {
    "collapsed": false
   },
   "outputs": [
    {
     "data": {
      "image/png": "[encoded data removed]",
      "text/latex": [
       "$$\\left ( \\frac{2}{\\left(k + 1\\right)^{2}}, \\quad I_{0}\\left(2 \\sqrt{2}\\right)\\right )$$"
      ],
      "text/plain": [
       "⎛   2             ⎛       ___⎞⎞\n",
       "⎜────────, besseli⎝0, 2⋅╲╱ 2 ⎠⎟\n",
       "⎜       2                     ⎟\n",
       "⎝(k + 1)                      ⎠"
      ]
     },
     "execution_count": 26,
     "metadata": {},
     "output_type": "execute_result"
    }
   ],
   "source": [
    "def term(k): return (2**k)/(factorial(k)**2)\n",
    "(term(k+1)/term(k)).simplify(), Sum(term(k),(k,0,oo)).doit()"
   ]
  }
 ],
 "metadata": {
  "kernelspec": {
   "display_name": "Python 3",
   "language": "python",
   "name": "python3"
  },
  "language_info": {
   "codemirror_mode": {
    "name": "ipython",
    "version": 3
   },
   "file_extension": ".py",
   "mimetype": "text/x-python",
   "name": "python",
   "nbconvert_exporter": "python",
   "pygments_lexer": "ipython3",
   "version": "3.5.0"
  }
 },
 "nbformat": 4,
 "nbformat_minor": 0
}
