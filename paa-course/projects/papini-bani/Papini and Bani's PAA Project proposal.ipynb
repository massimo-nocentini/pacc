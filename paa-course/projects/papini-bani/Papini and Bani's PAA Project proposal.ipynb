{
 "cells": [
  {
   "cell_type": "markdown",
   "metadata": {},
   "source": [
    "# PAA project proposal - Papini and Bani\n",
    "\n",
    "The following is a proposal for your PAA exam project.\n",
    "\n",
    "According to our talk of this morning (Dicember 2015, 22), we report here some stuff to reason about and implement using SymPy. It would be nice to write a notebook that studies the number of *checks* for the [quicksort] algorithm, in particular the following point are of interest:\n",
    "  \n",
    "  - implement the algorithm, such that it counts the number of checks\n",
    "  - write the main recurrence for the number of checks $c_n$ occuring in the sorting of a permutation of length $n$, explaining why it is described as you do\n",
    "  - try to implement some rewritings that allows to solve the recurrence (maybe using the difference method using $c_{n}$ and $c_{n-1}$) obtaining the closed form for the generic coefficient $c_n$\n",
    "  - try to obtain the sequence of the number of checks using the method of generating functions, namely by application of identity principle. Maybe some utility function and destructing of terms and recombinations are required...\n",
    " \n",
    "The notebook should describe the main theoretical steps in order to support implementation and log any interesting ideas, difficulties or gotchas you find during the work!\n",
    "\n",
    "During our talk we fix some ideas and hints in this [notebook][hints-notebook].\n",
    "\n",
    "Have fun ;)\n",
    "\n",
    "[quicksort]:https://en.wikipedia.org/wiki/Quicksort\n",
    "[hints-notebook]:http://nbviewer.jupyter.org/github/massimo-nocentini/recurrences-unfolding/blob/master/paa-course/projects/papini-bani/some-hints.ipynb?flush_cache=true"
   ]
  }
 ],
 "metadata": {
  "kernelspec": {
   "display_name": "Python 3",
   "language": "python",
   "name": "python3"
  },
  "language_info": {
   "codemirror_mode": {
    "name": "ipython",
    "version": 3
   },
   "file_extension": ".py",
   "mimetype": "text/x-python",
   "name": "python",
   "nbconvert_exporter": "python",
   "pygments_lexer": "ipython3",
   "version": "3.5.1"
  }
 },
 "nbformat": 4,
 "nbformat_minor": 0
}
