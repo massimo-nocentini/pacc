{
 "cells": [
  {
   "cell_type": "markdown",
   "metadata": {},
   "source": [
    "# Some hints\n",
    "\n",
    "In what follows there are some hints about [substitutions] and useful facts. Some imports as usual:\n",
    "\n",
    "[substitutions]:http://docs.sympy.org/latest/tutorial/basic_operations.html#substitution"
   ]
  },
  {
   "cell_type": "code",
   "execution_count": 3,
   "metadata": {
    "collapsed": true
   },
   "outputs": [],
   "source": [
    "import sympy\n",
    "from sympy import *\n",
    "from sympy.abc import x, n, z, t, k, y\n",
    "\n",
    "init_printing() # for nice printing, a-la' TeX"
   ]
  },
  {
   "cell_type": "markdown",
   "metadata": {},
   "source": [
    "## about recurrences: coefficients and operators"
   ]
  },
  {
   "cell_type": "markdown",
   "metadata": {},
   "source": [
    "to build a recurrence in _math_ style:"
   ]
  },
  {
   "cell_type": "code",
   "execution_count": 2,
   "metadata": {
    "collapsed": false
   },
   "outputs": [
    {
     "data": {
      "image/png": "[encoded data removed]",
      "text/latex": [
       "$$a_{n + 1}$$"
      ],
      "text/plain": [
       "a[n + 1]"
      ]
     },
     "execution_count": 2,
     "metadata": {},
     "output_type": "execute_result"
    }
   ],
   "source": [
    "a = indexed.IndexedBase('a')\n",
    "a[n+1]"
   ]
  },
  {
   "cell_type": "markdown",
   "metadata": {},
   "source": [
    "to fill a recurrence in order to apply the Identity Principle:"
   ]
  },
  {
   "cell_type": "code",
   "execution_count": 70,
   "metadata": {
    "collapsed": false
   },
   "outputs": [
    {
     "data": {
      "image/png": "[encoded data removed]",
      "text/latex": [
       "$$\\left ( \\delta_{0 n}, \\quad 1, \\quad 0\\right )$$"
      ],
      "text/plain": [
       "⎛δ   , 1, 0⎞\n",
       "⎝ 0,n      ⎠"
      ]
     },
     "execution_count": 70,
     "metadata": {},
     "output_type": "execute_result"
    }
   ],
   "source": [
    "kd = KroneckerDelta(n,0)\n",
    "kd, kd.subs(n,0), kd.subs(n,3)"
   ]
  },
  {
   "cell_type": "markdown",
   "metadata": {},
   "source": [
    "to generate [permutations], provided by standard Python distribution. SymPy handles [permutations][perm-sympy] as first class objects.\n",
    "\n",
    "[permutations]:https://docs.python.org/3/library/itertools.html#itertools.permutations\n",
    "[perm-sympy]:http://docs.sympy.org/dev/modules/utilities/iterables.html#sympy.utilities.iterables.generate_bell"
   ]
  },
  {
   "cell_type": "code",
   "execution_count": 96,
   "metadata": {
    "collapsed": false
   },
   "outputs": [
    {
     "data": {
      "image/png": "[encoded data removed]",
      "text/latex": [
       "$$\\left [ \\left ( 0, \\quad 1, \\quad 2, \\quad 3, \\quad 4, \\quad 5, \\quad 6, \\quad 7, \\quad 8, \\quad 9\\right ), \\quad \\left ( 0, \\quad 1, \\quad 2, \\quad 3, \\quad 4, \\quad 5, \\quad 6, \\quad 7, \\quad 9, \\quad 8\\right ), \\quad \\left ( 0, \\quad 1, \\quad 2, \\quad 3, \\quad 4, \\quad 5, \\quad 6, \\quad 8, \\quad 7, \\quad 9\\right ), \\quad \\left ( 0, \\quad 1, \\quad 2, \\quad 3, \\quad 4, \\quad 5, \\quad 6, \\quad 8, \\quad 9, \\quad 7\\right ), \\quad \\left ( 0, \\quad 1, \\quad 2, \\quad 3, \\quad 4, \\quad 5, \\quad 6, \\quad 9, \\quad 7, \\quad 8\\right ), \\quad \\left ( 0, \\quad 1, \\quad 2, \\quad 3, \\quad 4, \\quad 5, \\quad 6, \\quad 9, \\quad 8, \\quad 7\\right ), \\quad \\left ( 0, \\quad 1, \\quad 2, \\quad 3, \\quad 4, \\quad 5, \\quad 7, \\quad 6, \\quad 8, \\quad 9\\right ), \\quad \\left ( 0, \\quad 1, \\quad 2, \\quad 3, \\quad 4, \\quad 5, \\quad 7, \\quad 6, \\quad 9, \\quad 8\\right ), \\quad \\left ( 0, \\quad 1, \\quad 2, \\quad 3, \\quad 4, \\quad 5, \\quad 7, \\quad 8, \\quad 6, \\quad 9\\right ), \\quad \\left ( 0, \\quad 1, \\quad 2, \\quad 3, \\quad 4, \\quad 5, \\quad 7, \\quad 8, \\quad 9, \\quad 6\\right )\\right ]$$"
      ],
      "text/plain": [
       "[(0, 1, 2, 3, 4, 5, 6, 7, 8, 9), (0, 1, 2, 3, 4, 5, 6, 7, 9, 8), (0, 1, 2, 3, \n",
       "4, 5, 6, 8, 7, 9), (0, 1, 2, 3, 4, 5, 6, 8, 9, 7), (0, 1, 2, 3, 4, 5, 6, 9, 7,\n",
       " 8), (0, 1, 2, 3, 4, 5, 6, 9, 8, 7), (0, 1, 2, 3, 4, 5, 7, 6, 8, 9), (0, 1, 2,\n",
       " 3, 4, 5, 7, 6, 9, 8), (0, 1, 2, 3, 4, 5, 7, 8, 6, 9), (0, 1, 2, 3, 4, 5, 7, 8\n",
       ", 9, 6)]"
      ]
     },
     "execution_count": 96,
     "metadata": {},
     "output_type": "execute_result"
    }
   ],
   "source": [
    "from itertools import permutations\n",
    "perms=permutations(range(10))\n",
    "[next(perms) for _ in range(10)]"
   ]
  },
  {
   "cell_type": "code",
   "execution_count": 77,
   "metadata": {
    "collapsed": false
   },
   "outputs": [
    {
     "name": "stdout",
     "output_type": "stream",
     "text": [
      "<class 'sympy.tensor.indexed.Indexed'> (a, n + 2)\n"
     ]
    },
    {
     "data": {
      "image/png": "[encoded data removed]",
      "text/latex": [
       "$$\\mathcal{C}{\\left (a_{n + 1} \\right )} - 4 a_{n} + a_{n - 1} = 2 a_{n} + 4$$"
      ],
      "text/plain": [
       "\\mathcal{C}(a[n + 1]) - 4⋅a[n] + a[n - 1] = 2⋅a[n] + 4"
      ]
     },
     "execution_count": 77,
     "metadata": {},
     "output_type": "execute_result"
    }
   ],
   "source": [
    "print(a[n+2].func,a[n+2].args)\n",
    "checks = Function('\\mathcal{C}')\n",
    "checks_recurrence = Eq(checks(a[n+1]) -4*a[n]+a[n-1], a[n]+a[n]+4)\n",
    "checks_recurrence"
   ]
  },
  {
   "cell_type": "code",
   "execution_count": 78,
   "metadata": {
    "collapsed": false
   },
   "outputs": [
    {
     "data": {
      "image/png": "[encoded data removed]",
      "text/latex": [
       "$$\\mathcal{C}{\\left (a_{n + 1} \\right )} + a_{n - 1} - 16 = 12$$"
      ],
      "text/plain": [
       "\\mathcal{C}(a[n + 1]) + a[n - 1] - 16 = 12"
      ]
     },
     "execution_count": 78,
     "metadata": {},
     "output_type": "execute_result"
    }
   ],
   "source": [
    "checks_recurrence.subs(a[n],4)"
   ]
  },
  {
   "cell_type": "code",
   "execution_count": 18,
   "metadata": {
    "collapsed": false
   },
   "outputs": [
    {
     "data": {
      "image/png": "[encoded data removed]",
      "text/latex": [
       "$$a_{n - 2}$$"
      ],
      "text/plain": [
       "a[n - 2]"
      ]
     },
     "execution_count": 18,
     "metadata": {},
     "output_type": "execute_result"
    }
   ],
   "source": [
    "a[n+1].subs(n+1,n-2)"
   ]
  },
  {
   "cell_type": "code",
   "execution_count": 40,
   "metadata": {
    "collapsed": false
   },
   "outputs": [
    {
     "data": {
      "image/png": "[encoded data removed]",
      "text/latex": [
       "$$\\left ( \\left [ 0, \\quad 1, \\quad \\frac{3}{2}, \\quad \\frac{11}{6}, \\quad \\frac{25}{12}, \\quad \\frac{137}{60}, \\quad \\frac{49}{20}, \\quad \\frac{363}{140}, \\quad \\frac{761}{280}, \\quad \\frac{7129}{2520}\\right ], \\quad \\sum_{k=1}^{n} \\frac{1}{k}, \\quad \\operatorname{harmonic}{\\left (n \\right )}, \\quad \\operatorname{harmonic}{\\left (n \\right )}\\right )$$"
      ],
      "text/plain": [
       "⎛                                                  n                          \n",
       "⎜                                                 ____                        \n",
       "⎜                                                 ╲                           \n",
       "⎜                                                  ╲   1                      \n",
       "⎜⎡                 25  137  49  363  761  7129⎤     ╲  ─                      \n",
       "⎜⎢0, 1, 3/2, 11/6, ──, ───, ──, ───, ───, ────⎥,    ╱  k, harmonic(n), harmoni\n",
       "⎜⎣                 12   60  20  140  280  2520⎦    ╱                          \n",
       "⎜                                                 ╱                           \n",
       "⎜                                                 ‾‾‾‾                        \n",
       "⎝                                                k = 1                        \n",
       "\n",
       "    ⎞\n",
       "    ⎟\n",
       "    ⎟\n",
       "    ⎟\n",
       "    ⎟\n",
       "c(n)⎟\n",
       "    ⎟\n",
       "    ⎟\n",
       "    ⎟\n",
       "    ⎠"
      ]
     },
     "execution_count": 40,
     "metadata": {},
     "output_type": "execute_result"
    }
   ],
   "source": [
    "H_as_sum = harmonic(n).rewrite(Sum)\n",
    "list(map(harmonic, range(10))), H_as_sum, harmonic(n), harmonic(n).doit().expand()"
   ]
  },
  {
   "cell_type": "markdown",
   "metadata": {},
   "source": [
    "using a `Sum` object inhibits us to rewrite that object as an `harmonic` function object. On the other hand, using a `summation` object does:"
   ]
  },
  {
   "cell_type": "code",
   "execution_count": 38,
   "metadata": {
    "collapsed": false
   },
   "outputs": [
    {
     "data": {
      "image/png": "[encoded data removed]",
      "text/latex": [
       "$$\\left ( \\sum_{k=1}^{n + 1} \\frac{1}{k}, \\quad \\operatorname{harmonic}{\\left (n + 1 \\right )}, \\quad \\operatorname{harmonic}{\\left (n + 1 \\right )}\\right )$$"
      ],
      "text/plain": [
       "⎛n + 1                                    ⎞\n",
       "⎜ ____                                    ⎟\n",
       "⎜ ╲                                       ⎟\n",
       "⎜  ╲   1                                  ⎟\n",
       "⎜   ╲  ─                                  ⎟\n",
       "⎜   ╱  k, harmonic(n + 1), harmonic(n + 1)⎟\n",
       "⎜  ╱                                      ⎟\n",
       "⎜ ╱                                       ⎟\n",
       "⎜ ‾‾‾‾                                    ⎟\n",
       "⎝k = 1                                    ⎠"
      ]
     },
     "execution_count": 38,
     "metadata": {},
     "output_type": "execute_result"
    }
   ],
   "source": [
    "expanded_harmonic_summation = Sum(1/k, (k,1,n+1))\n",
    "simple_summation = expanded_harmonic_summation.doit()\n",
    "rewritten_as_harmonic = simple_summation.rewrite(harmonic)\n",
    "expanded_harmonic_summation, simple_summation, rewritten_as_harmonic"
   ]
  },
  {
   "cell_type": "markdown",
   "metadata": {},
   "source": [
    "Function `expand_func` allows us to rewrite a composite function application to a more plain one:"
   ]
  },
  {
   "cell_type": "code",
   "execution_count": 30,
   "metadata": {
    "collapsed": false
   },
   "outputs": [
    {
     "data": {
      "image/png": "[encoded data removed]",
      "text/latex": [
       "$$\\operatorname{harmonic}{\\left (n \\right )} + \\frac{1}{n + 1}$$"
      ],
      "text/plain": [
       "                1  \n",
       "harmonic(n) + ─────\n",
       "              n + 1"
      ]
     },
     "execution_count": 30,
     "metadata": {},
     "output_type": "execute_result"
    }
   ],
   "source": [
    "expand_func(harmonic(n+1))"
   ]
  },
  {
   "cell_type": "markdown",
   "metadata": {},
   "source": [
    "Asymptotically, $n \\rightarrow \\infty$, harmonic numbers $H_{n}$ behave like logarithm, $\\log{n}$, so if we take the [limit] should yield a constant, in particular the [EulerGamma] constant:\n",
    "\n",
    "[limit]:http://docs.sympy.org/dev/modules/mpmath/calculus/sums_limits.html#limit\n",
    "[EulerGamma]:http://docs.sympy.org/dev/modules/core.html?highlight=eulergamma#sympy.core.numbers.EulerGamma"
   ]
  },
  {
   "cell_type": "code",
   "execution_count": 103,
   "metadata": {
    "collapsed": false
   },
   "outputs": [
    {
     "data": {
      "image/png": "[encoded data removed]",
      "text/latex": [
       "$$\\gamma$$"
      ],
      "text/plain": [
       "EulerGamma"
      ]
     },
     "execution_count": 103,
     "metadata": {},
     "output_type": "execute_result"
    }
   ],
   "source": [
    "should_be_a_EulerGamma_const=(H_as_sum.doit() - log(n)).limit(n,oo)\n",
    "should_be_a_EulerGamma_const"
   ]
  },
  {
   "cell_type": "code",
   "execution_count": 69,
   "metadata": {
    "collapsed": false
   },
   "outputs": [
    {
     "data": {
      "text/plain": [
       "(0.577215664901533, sympy.core.numbers.EulerGamma)"
      ]
     },
     "execution_count": 69,
     "metadata": {},
     "output_type": "execute_result"
    }
   ],
   "source": [
    "should_be_a_EulerGamma_const.evalf(), type(should_be_a_EulerGamma_const)"
   ]
  },
  {
   "cell_type": "markdown",
   "metadata": {},
   "source": [
    "## object language and meta language: different levels for reasoning"
   ]
  },
  {
   "cell_type": "markdown",
   "metadata": {},
   "source": [
    "We can model operator $\\mathcal{G}$ as a first-class _Python_ object, this way allows us to send messages to it, perhaps it should extend class `Function` to be in SymPy hierarchy. If it doesn't, all methods (such as `differentiate`) have to be coded from scratch:"
   ]
  },
  {
   "cell_type": "code",
   "execution_count": 100,
   "metadata": {
    "collapsed": false
   },
   "outputs": [
    {
     "data": {
      "text/plain": [
       "<__main__.G at 0x7fb533088160>"
      ]
     },
     "execution_count": 100,
     "metadata": {},
     "output_type": "execute_result"
    }
   ],
   "source": [
    "class G():\n",
    "    def __init__(self, seq): ...\n",
    "        \n",
    "G(n*IndexedBase('a')[n]).differentiate()"
   ]
  },
  {
   "cell_type": "markdown",
   "metadata": {},
   "source": [
    "An alternative should be to define operator $\\mathcal{G}$ in the _meta-language_, in order to define rewriting rules to be applied in order to get new terms:"
   ]
  },
  {
   "cell_type": "code",
   "execution_count": 42,
   "metadata": {
    "collapsed": false
   },
   "outputs": [
    {
     "data": {
      "image/png": "[encoded data removed]",
      "text/latex": [
       "$$\\frac{1}{n} \\mathcal{G}{\\left (a_{n - 1} \\right )}$$"
      ],
      "text/plain": [
       "\\mathcal{G}(a[n - 1])\n",
       "─────────────────────\n",
       "          n          "
      ]
     },
     "execution_count": 42,
     "metadata": {},
     "output_type": "execute_result"
    }
   ],
   "source": [
    "G = Function('\\mathcal{G}');\n",
    "my_term=G(a[n])\n",
    "\n",
    "def derivative_rule(G_n_an):\n",
    "    # take apart G_n_an term\n",
    "    return G(a[n-1])/n\n",
    "\n",
    "derivative_rule(my_term)"
   ]
  },
  {
   "cell_type": "code",
   "execution_count": 121,
   "metadata": {
    "collapsed": false
   },
   "outputs": [
    {
     "data": {
      "image/png": "[encoded data removed]",
      "text/latex": [
       "$$\\left ( \\mathcal{C}{\\left (t \\right )} = \\frac{1}{- t + 1}, \\quad 1 + t + t^{2} + t^{3} + t^{4} + t^{5} + \\mathcal{O}\\left(t^{6}\\right)\\right )$$"
      ],
      "text/plain": [
       "⎛                   1              2    3    4    5    ⎛ 6⎞⎞\n",
       "⎜\\mathcal{C}(t) = ──────, 1 + t + t  + t  + t  + t  + O⎝t ⎠⎟\n",
       "⎝                 -t + 1                                   ⎠"
      ]
     },
     "execution_count": 121,
     "metadata": {},
     "output_type": "execute_result"
    }
   ],
   "source": [
    "mygf=Eq(Function('\\mathcal{C}')(t), 1/(1-t))\n",
    "mygf, mygf.rhs.series(t)"
   ]
  },
  {
   "cell_type": "markdown",
   "metadata": {},
   "source": [
    "## matching\n",
    "\n",
    "It is interesting to look at [matching] capabilities. The following example is kept directly from SymPy docs:\n",
    "\n",
    "[matching]:http://docs.sympy.org/dev/modules/core.html#sympy.core.basic.Basic.match"
   ]
  },
  {
   "cell_type": "code",
   "execution_count": 10,
   "metadata": {
    "collapsed": false
   },
   "outputs": [
    {
     "data": {
      "image/png": "[encoded data removed]",
      "text/latex": [
       "$$\\left \\{ p : x + y\\right \\}$$"
      ],
      "text/plain": [
       "{p: x + y}"
      ]
     },
     "execution_count": 10,
     "metadata": {},
     "output_type": "execute_result"
    }
   ],
   "source": [
    ">>> from sympy import Wild\n",
    ">>> from sympy.abc import x, y\n",
    "\n",
    ">>> p = Wild(\"p\")\n",
    ">>> q = Wild(\"q\")\n",
    ">>> r = Wild(\"r\")\n",
    "\n",
    ">>> e = (x+y)**(x+y)\n",
    ">>> e.match(p**p)"
   ]
  },
  {
   "cell_type": "code",
   "execution_count": 16,
   "metadata": {
    "collapsed": false
   },
   "outputs": [
    {
     "data": {
      "image/png": "[encoded data removed]",
      "text/latex": [
       "$$\\left \\{ p : x + y, \\quad q : x + y\\right \\}$$"
      ],
      "text/plain": [
       "{p: x + y, q: x + y}"
      ]
     },
     "execution_count": 16,
     "metadata": {},
     "output_type": "execute_result"
    }
   ],
   "source": [
    ">>> e.match(p**q)"
   ]
  },
  {
   "cell_type": "code",
   "execution_count": 6,
   "metadata": {
    "collapsed": false
   },
   "outputs": [
    {
     "data": {
      "image/png": "[encoded data removed]",
      "text/latex": [
       "$$\\left \\{ p : 4, \\quad q : x, \\quad r : 2\\right \\}$$"
      ],
      "text/plain": [
       "{p: 4, q: x, r: 2}"
      ]
     },
     "execution_count": 6,
     "metadata": {},
     "output_type": "execute_result"
    }
   ],
   "source": [
    ">>> e = (2*x)**2\n",
    ">>> e.match(p*q**r)"
   ]
  },
  {
   "cell_type": "code",
   "execution_count": 7,
   "metadata": {
    "collapsed": false
   },
   "outputs": [
    {
     "data": {
      "image/png": "[encoded data removed]",
      "text/latex": [
       "$$4 x^{2}$$"
      ],
      "text/plain": [
       "   2\n",
       "4⋅x "
      ]
     },
     "execution_count": 7,
     "metadata": {},
     "output_type": "execute_result"
    }
   ],
   "source": [
    ">>> (p*q**r).xreplace(e.match(p*q**r))"
   ]
  },
  {
   "cell_type": "markdown",
   "metadata": {},
   "source": [
    "On the other hand the keyword `old` plays well for \"computational\" patterns. Quoted from official docs:\n",
    "\n",
    "> The old flag will give the old-style pattern matching where expressions and patterns are essentially solved to give the match. Both of the following give None unless old=True:"
   ]
  },
  {
   "cell_type": "code",
   "execution_count": 13,
   "metadata": {
    "collapsed": false
   },
   "outputs": [
    {
     "data": {
      "image/png": "[encoded data removed]",
      "text/latex": [
       "$$\\left \\{ p : 2 x - 2\\right \\}$$"
      ],
      "text/plain": [
       "{p: 2⋅x - 2}"
      ]
     },
     "execution_count": 13,
     "metadata": {},
     "output_type": "execute_result"
    }
   ],
   "source": [
    ">>> (x - 2).match(p - x, old=True)"
   ]
  },
  {
   "cell_type": "code",
   "execution_count": 17,
   "metadata": {
    "collapsed": false
   },
   "outputs": [
    {
     "data": {
      "image/png": "[encoded data removed]",
      "text/latex": [
       "$$\\left \\{ p : \\frac{2}{x^{2}}\\right \\}$$"
      ],
      "text/plain": [
       "⎧   2 ⎫\n",
       "⎪p: ──⎪\n",
       "⎨    2⎬\n",
       "⎪   x ⎪\n",
       "⎩     ⎭"
      ]
     },
     "execution_count": 17,
     "metadata": {},
     "output_type": "execute_result"
    }
   ],
   "source": [
    ">>> (2/x).match(p*x, old=True)"
   ]
  },
  {
   "cell_type": "markdown",
   "metadata": {},
   "source": [
    "### applying it to operator $\\mathcal{G}$"
   ]
  },
  {
   "cell_type": "code",
   "execution_count": 43,
   "metadata": {
    "collapsed": false
   },
   "outputs": [
    {
     "data": {
      "image/png": "[encoded data removed]",
      "text/latex": [
       "$$\\left ( \\mathcal{G}{\\left (\\frac{n a_{n}}{n + 1} \\right )}, \\quad a_{{n}'}\\right )$$"
      ],
      "text/plain": [
       "⎛           ⎛n⋅a[n]⎞        ⎞\n",
       "⎜\\mathcal{G}⎜──────⎟, a_{n}'⎟\n",
       "⎝           ⎝n + 1 ⎠        ⎠"
      ]
     },
     "execution_count": 43,
     "metadata": {},
     "output_type": "execute_result"
    }
   ],
   "source": [
    "mult_term = Wild(\"a_{n}'\")\n",
    "\n",
    "term_to_handle = G(a[n]*n/(n+1))\n",
    "term_to_handle, mult_term"
   ]
  },
  {
   "cell_type": "code",
   "execution_count": 44,
   "metadata": {
    "collapsed": false
   },
   "outputs": [
    {
     "data": {
      "image/png": "[encoded data removed]",
      "text/latex": [
       "$$\\left \\{ a_{{n}'} : \\frac{a_{n}}{n + 1}\\right \\}$$"
      ],
      "text/plain": [
       "⎧         a[n]⎫\n",
       "⎨a_{n}': ─────⎬\n",
       "⎩        n + 1⎭"
      ]
     },
     "execution_count": 44,
     "metadata": {},
     "output_type": "execute_result"
    }
   ],
   "source": [
    "term_to_handle.match(G(n*mult_term))"
   ]
  },
  {
   "cell_type": "code",
   "execution_count": 45,
   "metadata": {
    "collapsed": false
   },
   "outputs": [
    {
     "data": {
      "image/png": "[encoded data removed]",
      "text/latex": [
       "$$\\left \\{ a : a_{n + 1}\\right \\}$$"
      ],
      "text/plain": [
       "{a: a[n + 1]}"
      ]
     },
     "execution_count": 45,
     "metadata": {},
     "output_type": "execute_result"
    }
   ],
   "source": [
    "coeff_term = Wild('a')\n",
    "index_term = Wild('n')\n",
    "\n",
    "G(a[n+1]).match(G(coeff_term))"
   ]
  },
  {
   "cell_type": "code",
   "execution_count": 61,
   "metadata": {
    "collapsed": false
   },
   "outputs": [
    {
     "data": {
      "image/png": "[encoded data removed]",
      "text/latex": [
       "$$\\left \\{ a : \\frac{1}{n + 1}, \\quad \\operatorname{WildFunction}{\\left (G \\right )} : \\mathcal{G}{\\left (\\frac{n a_{n}}{n + 1} \\right )}\\right \\}$$"
      ],
      "text/plain": [
       "⎧     1                                ⎛n⋅a[n]⎞⎫\n",
       "⎨a: ─────, WildFunction(G): \\mathcal{G}⎜──────⎟⎬\n",
       "⎩   n + 1                              ⎝n + 1 ⎠⎭"
      ]
     },
     "execution_count": 61,
     "metadata": {},
     "output_type": "execute_result"
    }
   ],
   "source": [
    "fw = WildFunction('G')\n",
    "\n",
    "(term_to_handle/(n+1)).match(coeff_term*fw)"
   ]
  },
  {
   "cell_type": "markdown",
   "metadata": {},
   "source": [
    "Passing `exclude` keyword to `Wild` constructor, allows us to use the matcher object to avoid terms such that contain symbols in the exclude list:"
   ]
  },
  {
   "cell_type": "code",
   "execution_count": 83,
   "metadata": {
    "collapsed": false
   },
   "outputs": [
    {
     "data": {
      "image/png": "[encoded data removed]",
      "text/latex": [
       "$$\\left \\{ a : 1, \\quad c' : 2, \\quad c : 6\\right \\}$$"
      ],
      "text/plain": [
       "{a: 1, c': 2, c: 6}"
      ]
     },
     "execution_count": 83,
     "metadata": {},
     "output_type": "execute_result"
    }
   ],
   "source": [
    "c = Wild('c', exclude=[1,n,a])\n",
    "c_ = Wild(\"c'\", exclude=[1])\n",
    "fw_ = WildFunction('G')\n",
    "G(4*n + 2*(n+1)).match(G(c*n + c_*coeff_term), old=True)"
   ]
  },
  {
   "cell_type": "code",
   "execution_count": 85,
   "metadata": {
    "collapsed": false
   },
   "outputs": [
    {
     "data": {
      "image/png": "[encoded data removed]",
      "text/latex": [
       "$$\\left \\{ a : \\frac{n a_{n}}{n + 1}, \\quad c : 2\\right \\}$$"
      ],
      "text/plain": [
       "⎧   n⋅a[n]      ⎫\n",
       "⎨a: ──────, c: 2⎬\n",
       "⎩   n + 1       ⎭"
      ]
     },
     "execution_count": 85,
     "metadata": {},
     "output_type": "execute_result"
    }
   ],
   "source": [
    "(2*term_to_handle.args[0]).match(c*coeff_term) # excluding `n` makes `c` do match with `2`"
   ]
  },
  {
   "cell_type": "code",
   "execution_count": 84,
   "metadata": {
    "collapsed": false
   },
   "outputs": [
    {
     "data": {
      "image/png": "[encoded data removed]",
      "text/latex": [
       "$$\\left \\{ a : a_{k}, \\quad c : 2\\right \\}$$"
      ],
      "text/plain": [
       "{a: a[k], c: 2}"
      ]
     },
     "execution_count": 84,
     "metadata": {},
     "output_type": "execute_result"
    }
   ],
   "source": [
    "(2*a[k]).match(c*coeff_term) # excluding `a` makes `c` do match with `2` again"
   ]
  }
 ],
 "metadata": {
  "kernelspec": {
   "display_name": "Python 3",
   "language": "python",
   "name": "python3"
  },
  "language_info": {
   "codemirror_mode": {
    "name": "ipython",
    "version": 3
   },
   "file_extension": ".py",
   "mimetype": "text/x-python",
   "name": "python",
   "nbconvert_exporter": "python",
   "pygments_lexer": "ipython3",
   "version": "3.5.0"
  }
 },
 "nbformat": 4,
 "nbformat_minor": 0
}
