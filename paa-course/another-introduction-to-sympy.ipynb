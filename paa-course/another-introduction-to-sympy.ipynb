{
 "cells": [
  {
   "cell_type": "markdown",
   "metadata": {
    "deletable": true,
    "editable": true
   },
   "source": [
    "<p>\n",
    "<img src=\"http://www.cerm.unifi.it/chianti/images/logo%20unifi_positivo.jpg\" \n",
    "        alt=\"UniFI logo\" style=\"float: left; width: 20%; height: 20%;\">\n",
    "<div align=\"right\">\n",
    "Massimo Nocentini<br>\n",
    "<small>\n",
    "<br>October 26, 2018: class\n",
    "</small>\n",
    "</div>\n",
    "</p>\n",
    "\n",
    "<br>\n",
    "<br>\n",
    "<div align=\"center\">\n",
    "<b>Abstract</b><br>\n",
    "A (very concise) introduction to <i>SymPy</i>, with an application to <i>continued fractions</i>; <br>for a comprehensive introduction see the official tutorial https://docs.sympy.org/latest/tutorial/index.html\n",
    "</div>"
   ]
  },
  {
   "cell_type": "code",
   "execution_count": 1,
   "metadata": {
    "collapsed": true,
    "deletable": true,
    "editable": true
   },
   "outputs": [],
   "source": [
    "__AUTHOR__ = (\"Massimo Nocentini\", \n",
    "              \"massimo.nocentini@unifi.it\", \n",
    "              \"https://github.com/massimo-nocentini/\")\n",
    "\n",
    "__SUPERVISOR__ = (\"prof. Donatella Merlini\", \n",
    "                  \"donatella.merlini@unifi.it\")\n",
    "\n",
    "__KEYWORDS__ = ['Python', 'Fibonacci', 'Continued fractions', 'numbers', 'SymPy']"
   ]
  },
  {
   "cell_type": "markdown",
   "metadata": {
    "deletable": true,
    "editable": true
   },
   "source": [
    "---"
   ]
  },
  {
   "cell_type": "code",
   "execution_count": 2,
   "metadata": {
    "collapsed": true,
    "deletable": true,
    "editable": true
   },
   "outputs": [],
   "source": [
    "from sympy import init_printing # to render math stuff with MathJax (https://www.mathjax.org/)\n",
    "from sympy import Symbol, Function, Matrix, IndexedBase # fundamentals objects to play with\n",
    "from sympy.abc import * # a collection of already-defined terms, such as `alpha, a, b, x, y, t, ...`\n",
    "\n",
    "from sympy import solve, sqrt\n",
    "from sympy.plotting import plot"
   ]
  },
  {
   "cell_type": "code",
   "execution_count": 3,
   "metadata": {
    "collapsed": true,
    "deletable": true,
    "editable": true
   },
   "outputs": [],
   "source": [
    "from commons import * # import our own functions, to define things in particular."
   ]
  },
  {
   "cell_type": "code",
   "execution_count": 4,
   "metadata": {
    "collapsed": false,
    "deletable": true,
    "editable": true
   },
   "outputs": [],
   "source": [
    "init_printing() # from here on we'll see nice math expressions"
   ]
  },
  {
   "cell_type": "markdown",
   "metadata": {
    "deletable": true,
    "editable": true
   },
   "source": [
    "# Object and Meta language, expression tree and gotchas\n",
    "\n",
    "First of all, let us introduce a concept to keep in mind, **always**. In what follows it is important to distinguish the *meta language*, which is the set of SymPy objects that denotes mathematical objects, which are the *object language*:"
   ]
  },
  {
   "cell_type": "code",
   "execution_count": 5,
   "metadata": {
    "collapsed": false,
    "deletable": true,
    "editable": true
   },
   "outputs": [
    {
     "data": {
      "image/png": "[encoded data removed]",
      "text/latex": [
       "$$a$$"
      ],
      "text/plain": [
       "a"
      ]
     },
     "execution_count": 5,
     "metadata": {},
     "output_type": "execute_result"
    }
   ],
   "source": [
    "a = Symbol('a') # `a` and `Symbol` are expressions of the *meta language*\n",
    "a # the $a$ is an expression of the *object language*"
   ]
  },
  {
   "cell_type": "markdown",
   "metadata": {
    "deletable": true,
    "editable": true
   },
   "source": [
    "again, $a$ is the mathematical object that is denoted by the `a` meta object. With respect to this, have a look to some gotchas (https://docs.sympy.org/dev/gotchas.html)."
   ]
  },
  {
   "cell_type": "code",
   "execution_count": 6,
   "metadata": {
    "collapsed": true,
    "deletable": true,
    "editable": true
   },
   "outputs": [],
   "source": [
    "f = Function('f') # let us build an abstract function symbol\n",
    "f_t = f(t) # and apply it to symbol `t`, it is a function eventually."
   ]
  },
  {
   "cell_type": "code",
   "execution_count": 7,
   "metadata": {
    "collapsed": false,
    "deletable": true,
    "editable": true
   },
   "outputs": [
    {
     "data": {
      "text/plain": [
       "(sympy.core.function.UndefinedFunction, f)"
      ]
     },
     "execution_count": 7,
     "metadata": {},
     "output_type": "execute_result"
    }
   ],
   "source": [
    "type(f), type(f_t) # their types show us the two different states (i) unapplied and (ii) applied."
   ]
  },
  {
   "cell_type": "code",
   "execution_count": 8,
   "metadata": {
    "collapsed": false,
    "deletable": true,
    "editable": true
   },
   "outputs": [
    {
     "data": {
      "text/plain": [
       "(False, True)"
      ]
     },
     "execution_count": 8,
     "metadata": {},
     "output_type": "execute_result"
    }
   ],
   "source": [
    "isinstance(f, Function), isinstance(f_t, Function) # keep in mind that a ctor doesn't correspond to a class always"
   ]
  },
  {
   "cell_type": "code",
   "execution_count": 9,
   "metadata": {
    "collapsed": false,
    "deletable": true,
    "editable": true
   },
   "outputs": [
    {
     "data": {
      "image/png": "[encoded data removed]",
      "text/latex": [
       "$$f{\\left (a \\right )}$$"
      ],
      "text/plain": [
       "f(a)"
      ]
     },
     "execution_count": 9,
     "metadata": {},
     "output_type": "execute_result"
    }
   ],
   "source": [
    "f(a) # an application in the metalanguage yield an application in the object language"
   ]
  },
  {
   "cell_type": "markdown",
   "metadata": {
    "deletable": true,
    "editable": true
   },
   "source": [
    "# Equational reasoning and the invariant"
   ]
  },
  {
   "cell_type": "code",
   "execution_count": 12,
   "metadata": {
    "collapsed": false,
    "deletable": true,
    "editable": true
   },
   "outputs": [
    {
     "data": {
      "image/png": "[encoded data removed]",
      "text/latex": [
       "$$\\frac{t + 1}{\\sqrt{a + b}}$$"
      ],
      "text/plain": [
       "  t + 1  \n",
       "─────────\n",
       "  _______\n",
       "╲╱ a + b "
      ]
     },
     "execution_count": 12,
     "metadata": {},
     "output_type": "execute_result"
    }
   ],
   "source": [
    "expression = (t+1)/sqrt(a+b) # a combination of symbols is called \"expression\"\n",
    "expression"
   ]
  },
  {
   "cell_type": "code",
   "execution_count": 13,
   "metadata": {
    "collapsed": false,
    "deletable": true,
    "editable": true
   },
   "outputs": [
    {
     "data": {
      "image/png": "[encoded data removed]",
      "text/latex": [
       "$$w = \\frac{t + 1}{\\sqrt{a + b}}$$"
      ],
      "text/plain": [
       "      t + 1  \n",
       "w = ─────────\n",
       "      _______\n",
       "    ╲╱ a + b "
      ]
     },
     "execution_count": 13,
     "metadata": {},
     "output_type": "execute_result"
    }
   ],
   "source": [
    "e_eq = define(w, expression) # enter the equational mode\n",
    "e_eq # to uniform our reasonings"
   ]
  },
  {
   "cell_type": "code",
   "execution_count": 14,
   "metadata": {
    "collapsed": false,
    "deletable": true,
    "editable": true
   },
   "outputs": [
    {
     "data": {
      "image/png": "[encoded data removed]",
      "text/latex": [
       "$$w$$"
      ],
      "text/plain": [
       "w"
      ]
     },
     "execution_count": 14,
     "metadata": {},
     "output_type": "execute_result"
    }
   ],
   "source": [
    "e_eq.lhs # the `lhs` says what we'are defining"
   ]
  },
  {
   "cell_type": "code",
   "execution_count": 15,
   "metadata": {
    "collapsed": false,
    "deletable": true,
    "editable": true
   },
   "outputs": [
    {
     "data": {
      "image/png": "[encoded data removed]",
      "text/latex": [
       "$$\\frac{t + 1}{\\sqrt{a + b}}$$"
      ],
      "text/plain": [
       "  t + 1  \n",
       "─────────\n",
       "  _______\n",
       "╲╱ a + b "
      ]
     },
     "execution_count": 15,
     "metadata": {},
     "output_type": "execute_result"
    }
   ],
   "source": [
    "e_eq.rhs  # the `rhs` says how it is defined"
   ]
  },
  {
   "cell_type": "code",
   "execution_count": 16,
   "metadata": {
    "collapsed": false,
    "deletable": true,
    "editable": true
   },
   "outputs": [
    {
     "data": {
      "text/plain": [
       "sympy.core.relational.Equality"
      ]
     },
     "execution_count": 16,
     "metadata": {},
     "output_type": "execute_result"
    }
   ],
   "source": [
    "e_eq.func # every SymPy object has a functional part that allows us to rebuild it"
   ]
  },
  {
   "cell_type": "code",
   "execution_count": 17,
   "metadata": {
    "collapsed": false,
    "deletable": true,
    "editable": true
   },
   "outputs": [
    {
     "data": {
      "image/png": "[encoded data removed]",
      "text/latex": [
       "$$\\left ( w, \\quad \\frac{t + 1}{\\sqrt{a + b}}\\right )$$"
      ],
      "text/plain": [
       "⎛     t + 1  ⎞\n",
       "⎜w, ─────────⎟\n",
       "⎜     _______⎟\n",
       "⎝   ╲╱ a + b ⎠"
      ]
     },
     "execution_count": 17,
     "metadata": {},
     "output_type": "execute_result"
    }
   ],
   "source": [
    "e_eq.args # and a description part that completes the rebuild procedure"
   ]
  },
  {
   "cell_type": "code",
   "execution_count": 18,
   "metadata": {
    "collapsed": false,
    "deletable": true,
    "editable": true
   },
   "outputs": [
    {
     "data": {
      "text/plain": [
       "sympy.core.relational.Equality"
      ]
     },
     "execution_count": 18,
     "metadata": {},
     "output_type": "execute_result"
    }
   ],
   "source": [
    "type(e_eq)"
   ]
  },
  {
   "cell_type": "code",
   "execution_count": 19,
   "metadata": {
    "collapsed": false,
    "deletable": true,
    "editable": true
   },
   "outputs": [
    {
     "data": {
      "image/png": "[encoded data removed]",
      "text/latex": [
       "$$w = \\frac{t + 1}{\\sqrt{a + b}}$$"
      ],
      "text/plain": [
       "      t + 1  \n",
       "w = ─────────\n",
       "      _______\n",
       "    ╲╱ a + b "
      ]
     },
     "execution_count": 19,
     "metadata": {},
     "output_type": "execute_result"
    }
   ],
   "source": [
    "e_eq.func(*e_eq.args) # here the application to get the original definition back"
   ]
  },
  {
   "cell_type": "code",
   "execution_count": 20,
   "metadata": {
    "collapsed": false,
    "deletable": true,
    "editable": true
   },
   "outputs": [
    {
     "data": {
      "image/png": "[encoded data removed]",
      "text/latex": [
       "$$w = \\frac{4}{\\sqrt{a + \\sqrt{2}}}$$"
      ],
      "text/plain": [
       "        4     \n",
       "w = ──────────\n",
       "      ________\n",
       "    ╲╱ a + √2 "
      ]
     },
     "execution_count": 20,
     "metadata": {},
     "output_type": "execute_result"
    }
   ],
   "source": [
    "e_eq.subs({t:3,b:sqrt(2)}) # every symbolic term responds to the message `subs` to perform substitutions"
   ]
  },
  {
   "cell_type": "code",
   "execution_count": 10,
   "metadata": {
    "collapsed": false,
    "deletable": true,
    "editable": true
   },
   "outputs": [
    {
     "data": {
      "image/png": "[encoded data removed]",
      "text/latex": [
       "$$\\left \\{ b : \\sqrt{2}, \\quad t : 3\\right \\}$$"
      ],
      "text/plain": [
       "{b: √2, t: 3}"
      ]
     },
     "execution_count": 10,
     "metadata": {},
     "output_type": "execute_result"
    }
   ],
   "source": [
    "{t:3,b:sqrt(2)} # a substitution is just a plain Python `dict` obj"
   ]
  },
  {
   "cell_type": "markdown",
   "metadata": {
    "deletable": true,
    "editable": true
   },
   "source": [
    "# Learn by doing"
   ]
  },
  {
   "cell_type": "code",
   "execution_count": 11,
   "metadata": {
    "collapsed": false,
    "deletable": true,
    "editable": true
   },
   "outputs": [
    {
     "data": {
      "image/png": "[encoded data removed]",
      "text/latex": [
       "$$f{\\left (t \\right )} = \\sqrt{t} + 4 t$$"
      ],
      "text/plain": [
       "f(t) = √t + 4⋅t"
      ]
     },
     "execution_count": 11,
     "metadata": {},
     "output_type": "execute_result"
    }
   ],
   "source": [
    "my_f = define(f(t), sqrt(t)+4*t, ctor=FEq) # make a definition functional\n",
    "my_f"
   ]
  },
  {
   "cell_type": "code",
   "execution_count": 13,
   "metadata": {
    "collapsed": false,
    "deletable": true,
    "editable": true
   },
   "outputs": [
    {
     "data": {
      "image/png": "[encoded data removed]",
      "text/latex": [
       "$$\\sqrt{3} + 12$$"
      ],
      "text/plain": [
       "√3 + 12"
      ]
     },
     "execution_count": 13,
     "metadata": {},
     "output_type": "execute_result"
    }
   ],
   "source": [
    "my_f(3) # in order to be a callable object"
   ]
  },
  {
   "cell_type": "code",
   "execution_count": 14,
   "metadata": {
    "collapsed": false,
    "deletable": true,
    "editable": true
   },
   "outputs": [
    {
     "data": {
      "image/png": "[encoded data removed]",
      "text/latex": [
       "$$\\left. f{\\left (3 \\right )} = \\sqrt{3} + 12 \\right|_{\\substack{ f{\\left (t \\right )}=\\sqrt{t} + 4 t }}$$"
      ],
      "text/plain": [
       "(f(3) = √3 + 12)│             \n",
       "                │f(t)=√t + 4⋅t"
      ]
     },
     "execution_count": 14,
     "metadata": {},
     "output_type": "execute_result"
    }
   ],
   "source": [
    "my_s = my_f(3, return_eq=True) # or get keep equations\n",
    "my_s"
   ]
  },
  {
   "cell_type": "code",
   "execution_count": 16,
   "metadata": {
    "collapsed": false,
    "deletable": true,
    "editable": true
   },
   "outputs": [
    {
     "data": {
      "image/png": "[encoded data removed]",
      "text/latex": [
       "$$f{\\left (3 \\right )} = \\sqrt{3} + 12$$"
      ],
      "text/plain": [
       "f(3) = √3 + 12"
      ]
     },
     "execution_count": 16,
     "metadata": {},
     "output_type": "execute_result"
    }
   ],
   "source": [
    "my_s.expr # destructors properties"
   ]
  },
  {
   "cell_type": "code",
   "execution_count": 17,
   "metadata": {
    "collapsed": false,
    "deletable": true,
    "editable": true
   },
   "outputs": [
    {
     "data": {
      "image/png": "[encoded data removed]",
      "text/latex": [
       "$$f{\\left (t \\right )} = \\sqrt{t} + 4 t$$"
      ],
      "text/plain": [
       "f(t) = √t + 4⋅t"
      ]
     },
     "execution_count": 17,
     "metadata": {},
     "output_type": "execute_result"
    }
   ],
   "source": [
    "my_s.substitution()"
   ]
  },
  {
   "cell_type": "code",
   "execution_count": 20,
   "metadata": {
    "collapsed": false,
    "deletable": true,
    "editable": true
   },
   "outputs": [
    {
     "data": {
      "image/png": "[encoded data removed]",
      "text/latex": [
       "$$\\frac{a}{b + 2} = \\sqrt{4 t + 1}$$"
      ],
      "text/plain": [
       "  a       _________\n",
       "───── = ╲╱ 4⋅t + 1 \n",
       "b + 2              "
      ]
     },
     "execution_count": 20,
     "metadata": {},
     "output_type": "execute_result"
    }
   ],
   "source": [
    "another_eq = define(a/(b+2), sqrt(4*t+1)) # consider another equation, which combines some symbols\n",
    "another_eq"
   ]
  },
  {
   "cell_type": "code",
   "execution_count": 21,
   "metadata": {
    "collapsed": false,
    "deletable": true,
    "editable": true
   },
   "outputs": [
    {
     "data": {
      "image/png": "[encoded data removed]",
      "text/latex": [
       "$$\\left [ \\left ( \\frac{a^{2}}{4 \\left(b + 2\\right)^{2}} - \\frac{1}{4}\\right )\\right ]$$"
      ],
      "text/plain": [
       "⎡⎛     2         ⎞⎤\n",
       "⎢⎜    a        1 ⎟⎥\n",
       "⎢⎜────────── - ─,⎟⎥\n",
       "⎢⎜         2   4 ⎟⎥\n",
       "⎣⎝4⋅(b + 2)      ⎠⎦"
      ]
     },
     "execution_count": 21,
     "metadata": {},
     "output_type": "execute_result"
    }
   ],
   "source": [
    "solve([another_eq], t) # and we want to rewrite with respect to symbol `t`"
   ]
  },
  {
   "cell_type": "markdown",
   "metadata": {
    "deletable": true,
    "editable": true
   },
   "source": [
    "## Into the rabbit hole..."
   ]
  },
  {
   "cell_type": "code",
   "execution_count": 33,
   "metadata": {
    "collapsed": false,
    "deletable": true,
    "editable": true
   },
   "outputs": [
    {
     "data": {
      "image/png": "[encoded data removed]",
      "text/latex": [
       "$$f{\\left (t \\right )} = \\frac{\\alpha}{\\beta + f{\\left (t \\right )}}$$"
      ],
      "text/plain": [
       "          α    \n",
       "f(t) = ────────\n",
       "       β + f(t)"
      ]
     },
     "execution_count": 33,
     "metadata": {},
     "output_type": "execute_result"
    }
   ],
   "source": [
    "cf = define(f(t), alpha/(beta+f(t)), ctor=FEq) # into the rabbit hole...\n",
    "cf # which stands for \"Continued Fraction\""
   ]
  },
  {
   "cell_type": "code",
   "execution_count": 34,
   "metadata": {
    "collapsed": false,
    "deletable": true,
    "editable": true
   },
   "outputs": [
    {
     "name": "stdout",
     "output_type": "stream",
     "text": [
      "f(t)\n",
      "alpha/(beta + f(t))\n"
     ]
    }
   ],
   "source": [
    "for k,v in cf: # every equational definition can be used as a substitution, implicitly by the `__iter__` method\n",
    "    print(k) # lhs\n",
    "    print(v) # rhs"
   ]
  },
  {
   "cell_type": "code",
   "execution_count": 35,
   "metadata": {
    "collapsed": false,
    "deletable": true,
    "editable": true
   },
   "outputs": [
    {
     "data": {
      "image/png": "[encoded data removed]",
      "text/latex": [
       "$$\\left \\{ f{\\left (t \\right )} : \\frac{\\alpha}{\\beta + f{\\left (t \\right )}}\\right \\}$$"
      ],
      "text/plain": [
       "⎧         α    ⎫\n",
       "⎨f(t): ────────⎬\n",
       "⎩      β + f(t)⎭"
      ]
     },
     "execution_count": 35,
     "metadata": {},
     "output_type": "execute_result"
    }
   ],
   "source": [
    "cf.as_substitution() # or explicitly, returning a plain `dict` object."
   ]
  },
  {
   "cell_type": "code",
   "execution_count": 280,
   "metadata": {
    "collapsed": false,
    "deletable": true,
    "editable": true
   },
   "outputs": [
    {
     "data": {
      "image/png": "[encoded data removed]",
      "text/latex": [
       "$$\\frac{\\alpha}{\\frac{\\alpha}{\\beta + f{\\left (t \\right )}} + \\beta}$$"
      ],
      "text/plain": [
       "     α      \n",
       "────────────\n",
       "   α        \n",
       "──────── + β\n",
       "β + f(t)    "
      ]
     },
     "execution_count": 280,
     "metadata": {},
     "output_type": "execute_result"
    }
   ],
   "source": [
    "cf.rhs.subs(cf) # the implicit substitution allows us to call `subs` compactly"
   ]
  },
  {
   "cell_type": "code",
   "execution_count": 282,
   "metadata": {
    "collapsed": false,
    "deletable": true,
    "editable": true
   },
   "outputs": [
    {
     "data": {
      "image/png": "[encoded data removed]",
      "text/latex": [
       "$$\\frac{\\alpha}{\\frac{\\alpha}{\\frac{\\alpha}{\\frac{\\alpha}{\\beta + f{\\left (t \\right )}} + \\beta} + \\beta} + \\beta}$$"
      ],
      "text/plain": [
       "         α          \n",
       "────────────────────\n",
       "       α            \n",
       "──────────────── + β\n",
       "     α              \n",
       "──────────── + β    \n",
       "   α                \n",
       "──────── + β        \n",
       "β + f(t)            "
      ]
     },
     "execution_count": 282,
     "metadata": {},
     "output_type": "execute_result"
    }
   ],
   "source": [
    "cf.rhs.subs(cf).subs(cf).subs(cf) # and promotes compositionality"
   ]
  },
  {
   "cell_type": "code",
   "execution_count": 36,
   "metadata": {
    "collapsed": false,
    "deletable": true,
    "editable": true
   },
   "outputs": [
    {
     "data": {
      "image/png": "[encoded data removed]",
      "text/latex": [
       "$$\\frac{\\alpha}{\\beta + f{\\left (t \\right )}}$$"
      ],
      "text/plain": [
       "   α    \n",
       "────────\n",
       "β + f(t)"
      ]
     },
     "execution_count": 36,
     "metadata": {},
     "output_type": "execute_result"
    }
   ],
   "source": [
    "cf(t) # callable as usual"
   ]
  },
  {
   "cell_type": "code",
   "execution_count": 38,
   "metadata": {
    "collapsed": false,
    "deletable": true,
    "editable": true
   },
   "outputs": [
    {
     "data": {
      "image/png": "[encoded data removed]",
      "text/latex": [
       "$$f{\\left (1 \\right )} = \\frac{\\alpha}{\\beta + f{\\left (1 \\right )}}$$"
      ],
      "text/plain": [
       "          α    \n",
       "f(1) = ────────\n",
       "       β + f(1)"
      ]
     },
     "execution_count": 38,
     "metadata": {},
     "output_type": "execute_result"
    }
   ],
   "source": [
    "cf(1, return_eq=True).expr # instead of a verbose notation that carries the original definition"
   ]
  },
  {
   "cell_type": "code",
   "execution_count": 39,
   "metadata": {
    "collapsed": false,
    "deletable": true,
    "editable": true
   },
   "outputs": [
    {
     "data": {
      "image/png": "[encoded data removed]",
      "text/latex": [
       "$$\\left. f{\\left (t + 2 \\right )} = \\frac{\\alpha}{\\beta + f{\\left (t + 2 \\right )}} \\right|_{\\substack{ f{\\left (t \\right )}=\\frac{\\alpha}{\\beta + f{\\left (t \\right )}} }}$$"
      ],
      "text/plain": [
       "⎛                α      ⎞│             \n",
       "⎜f(t + 2) = ────────────⎟│        α    \n",
       "⎝           β + f(t + 2)⎠│f(t)=────────\n",
       "                               β + f(t)"
      ]
     },
     "execution_count": 39,
     "metadata": {},
     "output_type": "execute_result"
    }
   ],
   "source": [
    "cf(t+2, return_eq=True) # even in the more complete form"
   ]
  },
  {
   "cell_type": "code",
   "execution_count": 290,
   "metadata": {
    "collapsed": false,
    "deletable": true,
    "editable": true
   },
   "outputs": [
    {
     "data": {
      "image/png": "[encoded data removed]",
      "text/latex": [
       "$$\\frac{\\alpha}{\\beta + f{\\left (t \\right )}}$$"
      ],
      "text/plain": [
       "   α    \n",
       "────────\n",
       "β + f(t)"
      ]
     },
     "execution_count": 290,
     "metadata": {},
     "output_type": "execute_result"
    }
   ],
   "source": [
    "cf % cf.lhs # the % operator allows `cf` to be used as rewriting into the given term"
   ]
  },
  {
   "cell_type": "code",
   "execution_count": 295,
   "metadata": {
    "collapsed": false,
    "deletable": true,
    "editable": true
   },
   "outputs": [
    {
     "data": {
      "image/png": "[encoded data removed]",
      "text/latex": [
       "$$f{\\left (t \\right )} = \\frac{\\alpha}{\\beta + f{\\left (t \\right )}}$$"
      ],
      "text/plain": [
       "          α    \n",
       "f(t) = ────────\n",
       "       β + f(t)"
      ]
     },
     "execution_count": 295,
     "metadata": {},
     "output_type": "execute_result"
    }
   ],
   "source": [
    "cf % define(cf.lhs, cf.lhs) # build *non trivial* objects, to introduce recursive definitions"
   ]
  },
  {
   "cell_type": "code",
   "execution_count": 296,
   "metadata": {
    "collapsed": false,
    "deletable": true,
    "editable": true
   },
   "outputs": [
    {
     "data": {
      "image/png": "[encoded data removed]",
      "text/latex": [
       "$$a + \\frac{\\alpha}{\\beta + f{\\left (t \\right )}} = \\frac{\\alpha}{\\beta + f{\\left (t \\right )}}$$"
      ],
      "text/plain": [
       "       α          α    \n",
       "a + ──────── = ────────\n",
       "    β + f(t)   β + f(t)"
      ]
     },
     "execution_count": 296,
     "metadata": {},
     "output_type": "execute_result"
    }
   ],
   "source": [
    "cf % define(cf.lhs+a, cf.lhs) # moreover, keep in mind to respect pattern matching"
   ]
  },
  {
   "cell_type": "code",
   "execution_count": 299,
   "metadata": {
    "collapsed": false,
    "deletable": true,
    "editable": true
   },
   "outputs": [
    {
     "data": {
      "image/png": "[encoded data removed]",
      "text/latex": [
       "$$f{\\left (t \\right )} = \\frac{\\alpha}{\\frac{\\alpha}{\\frac{\\alpha}{\\frac{\\alpha}{\\frac{\\alpha}{\\beta + f{\\left (t \\right )}} + \\beta} + \\beta} + \\beta} + \\beta}$$"
      ],
      "text/plain": [
       "                  α            \n",
       "f(t) = ────────────────────────\n",
       "                α              \n",
       "       ──────────────────── + β\n",
       "              α                \n",
       "       ──────────────── + β    \n",
       "            α                  \n",
       "       ──────────── + β        \n",
       "          α                    \n",
       "       ──────── + β            \n",
       "       β + f(t)                "
      ]
     },
     "execution_count": 299,
     "metadata": {},
     "output_type": "execute_result"
    }
   ],
   "source": [
    "cf % cf % cf % cf % cf # compositionality"
   ]
  },
  {
   "cell_type": "code",
   "execution_count": 46,
   "metadata": {
    "collapsed": false,
    "deletable": true,
    "editable": true
   },
   "outputs": [
    {
     "data": {
      "image/png": "[encoded data removed]",
      "text/latex": [
       "$$\\left [ \\left \\{ f{\\left (t \\right )} : - \\frac{\\beta}{2} - \\frac{1}{2} \\sqrt{4 \\alpha + \\beta^{2}}\\right \\}, \\quad \\left \\{ f{\\left (t \\right )} : - \\frac{\\beta}{2} + \\frac{1}{2} \\sqrt{4 \\alpha + \\beta^{2}}\\right \\}\\right ]$$"
      ],
      "text/plain": [
       "⎡⎧               __________⎫  ⎧               __________⎫⎤\n",
       "⎢⎪              ╱        2 ⎪  ⎪              ╱        2 ⎪⎥\n",
       "⎢⎨        β   ╲╱  4⋅α + β  ⎬  ⎨        β   ╲╱  4⋅α + β  ⎬⎥\n",
       "⎢⎪f(t): - ─ - ─────────────⎪, ⎪f(t): - ─ + ─────────────⎪⎥\n",
       "⎣⎩        2         2      ⎭  ⎩        2         2      ⎭⎦"
      ]
     },
     "execution_count": 46,
     "metadata": {},
     "output_type": "execute_result"
    }
   ],
   "source": [
    "sols = solve([cf], f(t)) # since we've an equation, it can be solved...\n",
    "sols"
   ]
  },
  {
   "cell_type": "code",
   "execution_count": 47,
   "metadata": {
    "collapsed": true,
    "deletable": true,
    "editable": true
   },
   "outputs": [],
   "source": [
    "def iterapplication(F, *args, times=1):\n",
    "    acc = list(args)\n",
    "    for i in range(times):\n",
    "        acc = [F(*acc)]\n",
    "    return acc.pop()"
   ]
  },
  {
   "cell_type": "markdown",
   "metadata": {
    "collapsed": true,
    "deletable": true,
    "editable": true
   },
   "source": [
    "`iterapplication(f, 3, times=k)` $\\leftrightarrow \\underbrace{f(f(...(f(f(3)))))}_{k}$"
   ]
  },
  {
   "cell_type": "code",
   "execution_count": 49,
   "metadata": {
    "collapsed": false,
    "deletable": true,
    "editable": true
   },
   "outputs": [
    {
     "data": {
      "image/png": "[encoded data removed]",
      "text/latex": [
       "$$\\left [ f{\\left (t \\right )} = \\frac{\\alpha}{\\beta + f{\\left (t \\right )}}, \\quad f{\\left (t \\right )} = \\frac{\\alpha}{\\frac{\\alpha}{\\beta + f{\\left (t \\right )}} + \\beta}, \\quad f{\\left (t \\right )} = \\frac{\\alpha}{\\frac{\\alpha}{\\frac{\\alpha}{\\beta + f{\\left (t \\right )}} + \\beta} + \\beta}, \\quad f{\\left (t \\right )} = \\frac{\\alpha}{\\frac{\\alpha}{\\frac{\\alpha}{\\frac{\\alpha}{\\beta + f{\\left (t \\right )}} + \\beta} + \\beta} + \\beta}, \\quad f{\\left (t \\right )} = \\frac{\\alpha}{\\frac{\\alpha}{\\frac{\\alpha}{\\frac{\\alpha}{\\frac{\\alpha}{\\beta + f{\\left (t \\right )}} + \\beta} + \\beta} + \\beta} + \\beta}, \\quad f{\\left (t \\right )} = \\frac{\\alpha}{\\frac{\\alpha}{\\frac{\\alpha}{\\frac{\\alpha}{\\frac{\\alpha}{\\frac{\\alpha}{\\beta + f{\\left (t \\right )}} + \\beta} + \\beta} + \\beta} + \\beta} + \\beta}, \\quad f{\\left (t \\right )} = \\frac{\\alpha}{\\frac{\\alpha}{\\frac{\\alpha}{\\frac{\\alpha}{\\frac{\\alpha}{\\frac{\\alpha}{\\frac{\\alpha}{\\beta + f{\\left (t \\right )}} + \\beta} + \\beta} + \\beta} + \\beta} + \\beta} + \\beta}, \\quad f{\\left (t \\right )} = \\frac{\\alpha}{\\frac{\\alpha}{\\frac{\\alpha}{\\frac{\\alpha}{\\frac{\\alpha}{\\frac{\\alpha}{\\frac{\\alpha}{\\frac{\\alpha}{\\beta + f{\\left (t \\right )}} + \\beta} + \\beta} + \\beta} + \\beta} + \\beta} + \\beta} + \\beta}, \\quad f{\\left (t \\right )} = \\frac{\\alpha}{\\frac{\\alpha}{\\frac{\\alpha}{\\frac{\\alpha}{\\frac{\\alpha}{\\frac{\\alpha}{\\frac{\\alpha}{\\frac{\\alpha}{\\frac{\\alpha}{\\beta + f{\\left (t \\right )}} + \\beta} + \\beta} + \\beta} + \\beta} + \\beta} + \\beta} + \\beta} + \\beta}, \\quad f{\\left (t \\right )} = \\frac{\\alpha}{\\frac{\\alpha}{\\frac{\\alpha}{\\frac{\\alpha}{\\frac{\\alpha}{\\frac{\\alpha}{\\frac{\\alpha}{\\frac{\\alpha}{\\frac{\\alpha}{\\frac{\\alpha}{\\beta + f{\\left (t \\right )}} + \\beta} + \\beta} + \\beta} + \\beta} + \\beta} + \\beta} + \\beta} + \\beta} + \\beta}\\right ]$$"
      ],
      "text/plain": [
       "⎡          α                  α                      α                        \n",
       "⎢f(t) = ────────, f(t) = ────────────, f(t) = ────────────────, f(t) = ───────\n",
       "⎢       β + f(t)            α                      α                          \n",
       "⎢                        ──────── + β         ──────────── + β         ───────\n",
       "⎢                        β + f(t)                α                          α \n",
       "⎢                                             ──────── + β             ───────\n",
       "⎢                                             β + f(t)                    α   \n",
       "⎢                                                                      ───────\n",
       "⎢                                                                      β + f(t\n",
       "⎢                                                                             \n",
       "⎢                                                                             \n",
       "⎢                                                                             \n",
       "⎢                                                                             \n",
       "⎢                                                                             \n",
       "⎢                                                                             \n",
       "⎢                                                                             \n",
       "⎢                                                                             \n",
       "⎢                                                                             \n",
       "⎢                                                                             \n",
       "⎢                                                                             \n",
       "⎣                                                                             \n",
       "\n",
       "  α                              α                                  α         \n",
       "─────────────, f(t) = ────────────────────────, f(t) = ───────────────────────\n",
       "α                              α                                  α           \n",
       "───────── + β         ──────────────────── + β         ───────────────────────\n",
       "                             α                                  α             \n",
       "───── + β             ──────────────── + β             ──────────────────── + \n",
       "                           α                                  α               \n",
       "─ + β                 ──────────── + β                 ──────────────── + β   \n",
       ")                        α                                  α                 \n",
       "                      ──────── + β                     ──────────── + β       \n",
       "                      β + f(t)                            α                   \n",
       "                                                       ──────── + β           \n",
       "                                                       β + f(t)               \n",
       "                                                                              \n",
       "                                                                              \n",
       "                                                                              \n",
       "                                                                              \n",
       "                                                                              \n",
       "                                                                              \n",
       "                                                                              \n",
       "                                                                              \n",
       "\n",
       "                             α                                          α     \n",
       "─────, f(t) = ────────────────────────────────, f(t) = ───────────────────────\n",
       "                           α                                          α       \n",
       "─ + β         ──────────────────────────── + β         ───────────────────────\n",
       "                         α                                          α         \n",
       "β             ──────────────────────── + β             ───────────────────────\n",
       "                       α                                          α           \n",
       "              ──────────────────── + β                 ───────────────────────\n",
       "                     α                                          α             \n",
       "              ──────────────── + β                     ──────────────────── + \n",
       "                   α                                          α               \n",
       "              ──────────── + β                         ──────────────── + β   \n",
       "                 α                                          α                 \n",
       "              ──────── + β                             ──────────── + β       \n",
       "              β + f(t)                                    α                   \n",
       "                                                       ──────── + β           \n",
       "                                                       β + f(t)               \n",
       "                                                                              \n",
       "                                                                              \n",
       "                                                                              \n",
       "                                                                              \n",
       "\n",
       "                                         α                                    \n",
       "─────────────, f(t) = ────────────────────────────────────────, f(t) = ───────\n",
       "                                       α                                      \n",
       "───────── + β         ──────────────────────────────────── + β         ───────\n",
       "                                     α                                        \n",
       "───── + β             ──────────────────────────────── + β             ───────\n",
       "                                   α                                          \n",
       "─ + β                 ──────────────────────────── + β                 ───────\n",
       "                                 α                                            \n",
       "β                     ──────────────────────── + β                     ───────\n",
       "                               α                                              \n",
       "                      ──────────────────── + β                         ───────\n",
       "                             α                                                \n",
       "                      ──────────────── + β                             ───────\n",
       "                           α                                                  \n",
       "                      ──────────── + β                                 ───────\n",
       "                         α                                                  α \n",
       "                      ──────── + β                                     ───────\n",
       "                      β + f(t)                                            α   \n",
       "                                                                       ───────\n",
       "                                                                       β + f(t\n",
       "\n",
       "              α                      ⎤\n",
       "─────────────────────────────────────⎥\n",
       "            α                        ⎥\n",
       "───────────────────────────────── + β⎥\n",
       "          α                          ⎥\n",
       "───────────────────────────── + β    ⎥\n",
       "        α                            ⎥\n",
       "───────────────────────── + β        ⎥\n",
       "      α                              ⎥\n",
       "───────────────────── + β            ⎥\n",
       "    α                                ⎥\n",
       "───────────────── + β                ⎥\n",
       "  α                                  ⎥\n",
       "───────────── + β                    ⎥\n",
       "α                                    ⎥\n",
       "───────── + β                        ⎥\n",
       "                                     ⎥\n",
       "───── + β                            ⎥\n",
       "                                     ⎥\n",
       "─ + β                                ⎥\n",
       ")                                    ⎦"
      ]
     },
     "execution_count": 49,
     "metadata": {},
     "output_type": "execute_result"
    }
   ],
   "source": [
    "cfs = [iterapplication(cf.__mod__, cf, times=i) \n",
    "       for i in range(10)] # collect some iterated applications\n",
    "cfs # stands for \"Continued FractionS\""
   ]
  },
  {
   "cell_type": "code",
   "execution_count": 51,
   "metadata": {
    "collapsed": false,
    "deletable": true,
    "editable": true
   },
   "outputs": [
    {
     "data": {
      "image/png": "[encoded data removed]",
      "text/latex": [
       "$$\\left [ \\frac{\\alpha}{\\beta}, \\quad \\frac{\\alpha \\beta}{\\alpha + \\beta^{2}}, \\quad \\frac{\\alpha \\left(\\alpha + \\beta^{2}\\right)}{\\beta \\left(2 \\alpha + \\beta^{2}\\right)}, \\quad \\frac{\\alpha \\beta \\left(2 \\alpha + \\beta^{2}\\right)}{\\alpha^{2} + 3 \\alpha \\beta^{2} + \\beta^{4}}, \\quad \\frac{\\alpha \\left(\\alpha^{2} + 3 \\alpha \\beta^{2} + \\beta^{4}\\right)}{\\beta \\left(\\alpha + \\beta^{2}\\right) \\left(3 \\alpha + \\beta^{2}\\right)}, \\quad \\frac{\\alpha \\beta \\left(\\alpha + \\beta^{2}\\right) \\left(3 \\alpha + \\beta^{2}\\right)}{\\alpha^{3} + 6 \\alpha^{2} \\beta^{2} + 5 \\alpha \\beta^{4} + \\beta^{6}}, \\quad \\frac{\\alpha \\left(\\alpha^{3} + 6 \\alpha^{2} \\beta^{2} + 5 \\alpha \\beta^{4} + \\beta^{6}\\right)}{\\beta \\left(2 \\alpha + \\beta^{2}\\right) \\left(2 \\alpha^{2} + 4 \\alpha \\beta^{2} + \\beta^{4}\\right)}, \\quad \\frac{\\alpha \\beta \\left(2 \\alpha + \\beta^{2}\\right) \\left(2 \\alpha^{2} + 4 \\alpha \\beta^{2} + \\beta^{4}\\right)}{\\left(\\alpha + \\beta^{2}\\right) \\left(\\alpha^{3} + 9 \\alpha^{2} \\beta^{2} + 6 \\alpha \\beta^{4} + \\beta^{6}\\right)}, \\quad \\frac{\\alpha \\left(\\alpha + \\beta^{2}\\right) \\left(\\alpha^{3} + 9 \\alpha^{2} \\beta^{2} + 6 \\alpha \\beta^{4} + \\beta^{6}\\right)}{\\beta \\left(\\alpha^{2} + 3 \\alpha \\beta^{2} + \\beta^{4}\\right) \\left(5 \\alpha^{2} + 5 \\alpha \\beta^{2} + \\beta^{4}\\right)}, \\quad \\frac{\\alpha \\beta \\left(\\alpha^{2} + 3 \\alpha \\beta^{2} + \\beta^{4}\\right) \\left(5 \\alpha^{2} + 5 \\alpha \\beta^{2} + \\beta^{4}\\right)}{\\alpha^{5} + 15 \\alpha^{4} \\beta^{2} + 35 \\alpha^{3} \\beta^{4} + 28 \\alpha^{2} \\beta^{6} + 9 \\alpha \\beta^{8} + \\beta^{10}}\\right ]$$"
      ],
      "text/plain": [
       "⎡              ⎛     2⎞        ⎛       2⎞      ⎛ 2        2    4⎞       ⎛     \n",
       "⎢α   α⋅β     α⋅⎝α + β ⎠    α⋅β⋅⎝2⋅α + β ⎠    α⋅⎝α  + 3⋅α⋅β  + β ⎠   α⋅β⋅⎝α + β\n",
       "⎢─, ──────, ────────────, ────────────────, ─────────────────────, ───────────\n",
       "⎢β       2    ⎛       2⎞   2        2    4    ⎛     2⎞ ⎛       2⎞   3      2  \n",
       "⎣   α + β   β⋅⎝2⋅α + β ⎠  α  + 3⋅α⋅β  + β   β⋅⎝α + β ⎠⋅⎝3⋅α + β ⎠  α  + 6⋅α ⋅β\n",
       "\n",
       "2⎞ ⎛       2⎞        ⎛ 3      2  2        4    6⎞        ⎛       2⎞ ⎛   2     \n",
       " ⎠⋅⎝3⋅α + β ⎠      α⋅⎝α  + 6⋅α ⋅β  + 5⋅α⋅β  + β ⎠    α⋅β⋅⎝2⋅α + β ⎠⋅⎝2⋅α  + 4⋅\n",
       "───────────────, ─────────────────────────────────, ──────────────────────────\n",
       "2        4    6    ⎛       2⎞ ⎛   2        2    4⎞  ⎛     2⎞ ⎛ 3      2  2    \n",
       "  + 5⋅α⋅β  + β   β⋅⎝2⋅α + β ⎠⋅⎝2⋅α  + 4⋅α⋅β  + β ⎠  ⎝α + β ⎠⋅⎝α  + 9⋅α ⋅β  + 6\n",
       "\n",
       "   2    4⎞      ⎛     2⎞ ⎛ 3      2  2        4    6⎞          ⎛ 2        2   \n",
       "α⋅β  + β ⎠    α⋅⎝α + β ⎠⋅⎝α  + 9⋅α ⋅β  + 6⋅α⋅β  + β ⎠      α⋅β⋅⎝α  + 3⋅α⋅β  + \n",
       "───────────, ─────────────────────────────────────────, ──────────────────────\n",
       "    4    6⎞    ⎛ 2        2    4⎞ ⎛   2        2    4⎞   5       4  2       3 \n",
       "⋅α⋅β  + β ⎠  β⋅⎝α  + 3⋅α⋅β  + β ⎠⋅⎝5⋅α  + 5⋅α⋅β  + β ⎠  α  + 15⋅α ⋅β  + 35⋅α ⋅\n",
       "\n",
       " 4⎞ ⎛   2        2    4⎞    ⎤\n",
       "β ⎠⋅⎝5⋅α  + 5⋅α⋅β  + β ⎠    ⎥\n",
       "────────────────────────────⎥\n",
       " 4       2  6        8    10⎥\n",
       "β  + 28⋅α ⋅β  + 9⋅α⋅β  + β  ⎦"
      ]
     },
     "execution_count": 51,
     "metadata": {},
     "output_type": "execute_result"
    }
   ],
   "source": [
    "fs = [cf.rhs.subs({cf.lhs:0}).factor() \n",
    "      for cf in cfs] # substitute 0 for `f(t)` in each rhs\n",
    "fs"
   ]
  },
  {
   "cell_type": "code",
   "execution_count": 52,
   "metadata": {
    "collapsed": false,
    "deletable": true,
    "editable": true
   },
   "outputs": [
    {
     "data": {
      "image/png": "[encoded data removed]",
      "text/latex": [
       "$$\\left [ f{\\left (t \\right )} = \\frac{1}{f{\\left (t \\right )} + 1}, \\quad f{\\left (t \\right )} = \\frac{1}{1 + \\frac{1}{f{\\left (t \\right )} + 1}}, \\quad f{\\left (t \\right )} = \\frac{1}{1 + \\frac{1}{1 + \\frac{1}{f{\\left (t \\right )} + 1}}}, \\quad f{\\left (t \\right )} = \\frac{1}{1 + \\frac{1}{1 + \\frac{1}{1 + \\frac{1}{f{\\left (t \\right )} + 1}}}}, \\quad f{\\left (t \\right )} = \\frac{1}{1 + \\frac{1}{1 + \\frac{1}{1 + \\frac{1}{1 + \\frac{1}{f{\\left (t \\right )} + 1}}}}}, \\quad f{\\left (t \\right )} = \\frac{1}{1 + \\frac{1}{1 + \\frac{1}{1 + \\frac{1}{1 + \\frac{1}{1 + \\frac{1}{f{\\left (t \\right )} + 1}}}}}}, \\quad f{\\left (t \\right )} = \\frac{1}{1 + \\frac{1}{1 + \\frac{1}{1 + \\frac{1}{1 + \\frac{1}{1 + \\frac{1}{1 + \\frac{1}{f{\\left (t \\right )} + 1}}}}}}}, \\quad f{\\left (t \\right )} = \\frac{1}{1 + \\frac{1}{1 + \\frac{1}{1 + \\frac{1}{1 + \\frac{1}{1 + \\frac{1}{1 + \\frac{1}{1 + \\frac{1}{f{\\left (t \\right )} + 1}}}}}}}}, \\quad f{\\left (t \\right )} = \\frac{1}{1 + \\frac{1}{1 + \\frac{1}{1 + \\frac{1}{1 + \\frac{1}{1 + \\frac{1}{1 + \\frac{1}{1 + \\frac{1}{1 + \\frac{1}{f{\\left (t \\right )} + 1}}}}}}}}}, \\quad f{\\left (t \\right )} = \\frac{1}{1 + \\frac{1}{1 + \\frac{1}{1 + \\frac{1}{1 + \\frac{1}{1 + \\frac{1}{1 + \\frac{1}{1 + \\frac{1}{1 + \\frac{1}{1 + \\frac{1}{f{\\left (t \\right )} + 1}}}}}}}}}}\\right ]$$"
      ],
      "text/plain": [
       "⎡          1                  1                      1                        \n",
       "⎢f(t) = ────────, f(t) = ────────────, f(t) = ────────────────, f(t) = ───────\n",
       "⎢       f(t) + 1                1                      1                      \n",
       "⎢                        1 + ────────         1 + ────────────         1 + ───\n",
       "⎢                            f(t) + 1                    1                    \n",
       "⎢                                                 1 + ────────             1 +\n",
       "⎢                                                     f(t) + 1                \n",
       "⎢                                                                             \n",
       "⎢                                                                             \n",
       "⎢                                                                             \n",
       "⎢                                                                             \n",
       "⎢                                                                             \n",
       "⎢                                                                             \n",
       "⎢                                                                             \n",
       "⎢                                                                             \n",
       "⎢                                                                             \n",
       "⎢                                                                             \n",
       "⎢                                                                             \n",
       "⎢                                                                             \n",
       "⎢                                                                             \n",
       "⎣                                                                             \n",
       "\n",
       "  1                              1                                  1         \n",
       "─────────────, f(t) = ────────────────────────, f(t) = ───────────────────────\n",
       "    1                              1                                  1       \n",
       "─────────────         1 + ────────────────────         1 + ───────────────────\n",
       "      1                              1                                  1     \n",
       " ────────────             1 + ────────────────             1 + ───────────────\n",
       "        1                              1                                  1   \n",
       " 1 + ────────                 1 + ────────────                 1 + ───────────\n",
       "     f(t) + 1                            1                                  1 \n",
       "                                  1 + ────────                     1 + ───────\n",
       "                                      f(t) + 1                                \n",
       "                                                                       1 + ───\n",
       "                                                                           f(t\n",
       "                                                                              \n",
       "                                                                              \n",
       "                                                                              \n",
       "                                                                              \n",
       "                                                                              \n",
       "                                                                              \n",
       "                                                                              \n",
       "                                                                              \n",
       "\n",
       "                             1                                          1     \n",
       "─────, f(t) = ────────────────────────────────, f(t) = ───────────────────────\n",
       "                               1                                          1   \n",
       "─────         1 + ────────────────────────────         1 + ───────────────────\n",
       "                                 1                                          1 \n",
       "─────             1 + ────────────────────────             1 + ───────────────\n",
       "                                   1                                          \n",
       "─────                 1 + ────────────────────                 1 + ───────────\n",
       "                                     1                                        \n",
       "─────                     1 + ────────────────                     1 + ───────\n",
       "1                                      1                                      \n",
       "─────                         1 + ────────────                         1 + ───\n",
       ") + 1                                    1                                    \n",
       "                                  1 + ────────                             1 +\n",
       "                                      f(t) + 1                                \n",
       "                                                                              \n",
       "                                                                              \n",
       "                                                                              \n",
       "                                                                              \n",
       "                                                                              \n",
       "                                                                              \n",
       "\n",
       "                                         1                                    \n",
       "─────────────, f(t) = ────────────────────────────────────────, f(t) = ───────\n",
       "                                           1                                  \n",
       "─────────────         1 + ────────────────────────────────────         1 + ───\n",
       "                                             1                                \n",
       "─────────────             1 + ────────────────────────────────             1 +\n",
       "1                                              1                              \n",
       "─────────────                 1 + ────────────────────────────                \n",
       "  1                                              1                            \n",
       "─────────────                     1 + ────────────────────────                \n",
       "    1                                              1                          \n",
       "─────────────                         1 + ────────────────────                \n",
       "      1                                              1                        \n",
       " ────────────                             1 + ────────────────                \n",
       "        1                                              1                      \n",
       " 1 + ────────                                 1 + ────────────                \n",
       "     f(t) + 1                                            1                    \n",
       "                                                  1 + ────────                \n",
       "                                                      f(t) + 1                \n",
       "                                                                              \n",
       "                                                                              \n",
       "\n",
       "              1                      ⎤\n",
       "─────────────────────────────────────⎥\n",
       "                1                    ⎥\n",
       "─────────────────────────────────────⎥\n",
       "                  1                  ⎥\n",
       " ────────────────────────────────────⎥\n",
       "                    1                ⎥\n",
       " 1 + ────────────────────────────────⎥\n",
       "                      1              ⎥\n",
       "     1 + ────────────────────────────⎥\n",
       "                        1            ⎥\n",
       "         1 + ────────────────────────⎥\n",
       "                          1          ⎥\n",
       "             1 + ────────────────────⎥\n",
       "                            1        ⎥\n",
       "                 1 + ────────────────⎥\n",
       "                              1      ⎥\n",
       "                     1 + ────────────⎥\n",
       "                                1    ⎥\n",
       "                         1 + ────────⎥\n",
       "                             f(t) + 1⎦"
      ]
     },
     "execution_count": 52,
     "metadata": {},
     "output_type": "execute_result"
    }
   ],
   "source": [
    "substitution = {alpha:1, beta:1}\n",
    "cf_alpha_beta = [cf.subs(substitution) for cf in cfs] # get rid of alpha and beta, fixing both of them to 0\n",
    "cf_alpha_beta"
   ]
  },
  {
   "cell_type": "code",
   "execution_count": 53,
   "metadata": {
    "collapsed": false,
    "deletable": true,
    "editable": true
   },
   "outputs": [
    {
     "data": {
      "image/png": "[encoded data removed]",
      "text/latex": [
       "$$\\left [ 1, \\quad \\frac{1}{2}, \\quad \\frac{2}{3}, \\quad \\frac{3}{5}, \\quad \\frac{5}{8}, \\quad \\frac{8}{13}, \\quad \\frac{13}{21}, \\quad \\frac{21}{34}, \\quad \\frac{34}{55}, \\quad \\frac{55}{89}\\right ]$$"
      ],
      "text/plain": [
       "⎡                             13  21  34  55⎤\n",
       "⎢1, 1/2, 2/3, 3/5, 5/8, 8/13, ──, ──, ──, ──⎥\n",
       "⎣                             21  34  55  89⎦"
      ]
     },
     "execution_count": 53,
     "metadata": {},
     "output_type": "execute_result"
    }
   ],
   "source": [
    "ratios = [cf.rhs.subs({f(t):0}) for cf in cf_alpha_beta] # substitute 0 for `f(t)` in each rhs, wow...\n",
    "ratios"
   ]
  },
  {
   "cell_type": "code",
   "execution_count": 332,
   "metadata": {
    "collapsed": false,
    "deletable": true,
    "editable": true
   },
   "outputs": [
    {
     "data": {
      "image/png": "[encoded data removed]",
      "text/latex": [
       "$$\\left [ - \\frac{\\sqrt{5}}{2} - \\frac{1}{2}, \\quad - \\frac{1}{2} + \\frac{\\sqrt{5}}{2}\\right ]$$"
      ],
      "text/plain": [
       "⎡  √5   1    1   √5⎤\n",
       "⎢- ── - ─, - ─ + ──⎥\n",
       "⎣  2    2    2   2 ⎦"
      ]
     },
     "execution_count": 332,
     "metadata": {},
     "output_type": "execute_result"
    }
   ],
   "source": [
    "[s[f(t)].subs(substitution) for s in sols] # do you see nothing?"
   ]
  },
  {
   "cell_type": "code",
   "execution_count": 333,
   "metadata": {
    "collapsed": true,
    "deletable": true,
    "editable": true
   },
   "outputs": [],
   "source": [
    "%matplotlib inline"
   ]
  },
  {
   "cell_type": "code",
   "execution_count": 334,
   "metadata": {
    "collapsed": false,
    "deletable": true,
    "editable": true
   },
   "outputs": [
    {
     "data": {
      "image/png": "[encoded data removed]",
      "text/plain": [
       "<matplotlib.figure.Figure at 0x114b96d68>"
      ]
     },
     "metadata": {},
     "output_type": "display_data"
    }
   ],
   "source": [
    "import matplotlib.pyplot as plt\n",
    "\n",
    "fig, ax = plt.subplots()\n",
    "ax.plot(ratios)\n",
    "\n",
    "ax.set(xlabel='n', ylabel='F(n)/F(n+1)',\n",
    "       title='Ratios of Fibonacci\\'s numbers')\n",
    "ax.grid()\n",
    "\n",
    "plt.show()"
   ]
  },
  {
   "cell_type": "markdown",
   "metadata": {
    "deletable": true,
    "editable": true
   },
   "source": [
    "# Matrices"
   ]
  },
  {
   "cell_type": "code",
   "execution_count": 347,
   "metadata": {
    "collapsed": false,
    "deletable": true,
    "editable": true
   },
   "outputs": [
    {
     "data": {
      "image/png": "[encoded data removed]",
      "text/latex": [
       "$$\\mathcal{F} = \\left[\\begin{matrix}1 & 1\\\\1 & 0\\end{matrix}\\right]$$"
      ],
      "text/plain": [
       "              ⎡1  1⎤\n",
       "\\mathcal{F} = ⎢    ⎥\n",
       "              ⎣1  0⎦"
      ]
     },
     "execution_count": 347,
     "metadata": {},
     "output_type": "execute_result"
    }
   ],
   "source": [
    "F = define(Symbol(r'\\mathcal{F}'), Matrix([[1, 1], [1,0]])) # a simple matrix\n",
    "F"
   ]
  },
  {
   "cell_type": "code",
   "execution_count": 350,
   "metadata": {
    "collapsed": false,
    "deletable": true,
    "editable": true
   },
   "outputs": [
    {
     "data": {
      "image/png": "[encoded data removed]",
      "text/latex": [
       "$$\\left \\{ \\frac{1}{2} + \\frac{\\sqrt{5}}{2} : 1, \\quad - \\frac{\\sqrt{5}}{2} + \\frac{1}{2} : 1\\right \\}$$"
      ],
      "text/plain": [
       "⎧1   √5       √5   1   ⎫\n",
       "⎨─ + ──: 1, - ── + ─: 1⎬\n",
       "⎩2   2        2    2   ⎭"
      ]
     },
     "execution_count": 350,
     "metadata": {},
     "output_type": "execute_result"
    }
   ],
   "source": [
    "F.rhs.eigenvals() # ...now I see!"
   ]
  },
  {
   "cell_type": "code",
   "execution_count": 351,
   "metadata": {
    "collapsed": false,
    "deletable": true,
    "editable": true
   },
   "outputs": [
    {
     "data": {
      "image/png": "[encoded data removed]",
      "text/latex": [
       "$$\\left [ \\left[\\begin{matrix}1 & 0\\\\0 & 1\\end{matrix}\\right], \\quad \\left[\\begin{matrix}1 & 1\\\\1 & 0\\end{matrix}\\right], \\quad \\left[\\begin{matrix}2 & 1\\\\1 & 1\\end{matrix}\\right], \\quad \\left[\\begin{matrix}3 & 2\\\\2 & 1\\end{matrix}\\right], \\quad \\left[\\begin{matrix}5 & 3\\\\3 & 2\\end{matrix}\\right], \\quad \\left[\\begin{matrix}8 & 5\\\\5 & 3\\end{matrix}\\right], \\quad \\left[\\begin{matrix}13 & 8\\\\8 & 5\\end{matrix}\\right], \\quad \\left[\\begin{matrix}21 & 13\\\\13 & 8\\end{matrix}\\right], \\quad \\left[\\begin{matrix}34 & 21\\\\21 & 13\\end{matrix}\\right], \\quad \\left[\\begin{matrix}55 & 34\\\\34 & 21\\end{matrix}\\right]\\right ]$$"
      ],
      "text/plain": [
       "⎡⎡1  0⎤  ⎡1  1⎤  ⎡2  1⎤  ⎡3  2⎤  ⎡5  3⎤  ⎡8  5⎤  ⎡13  8⎤  ⎡21  13⎤  ⎡34  21⎤  \n",
       "⎢⎢    ⎥, ⎢    ⎥, ⎢    ⎥, ⎢    ⎥, ⎢    ⎥, ⎢    ⎥, ⎢     ⎥, ⎢      ⎥, ⎢      ⎥, \n",
       "⎣⎣0  1⎦  ⎣1  0⎦  ⎣1  1⎦  ⎣2  1⎦  ⎣3  2⎦  ⎣5  3⎦  ⎣8   5⎦  ⎣13  8 ⎦  ⎣21  13⎦  \n",
       "\n",
       "⎡55  34⎤⎤\n",
       "⎢      ⎥⎥\n",
       "⎣34  21⎦⎦"
      ]
     },
     "execution_count": 351,
     "metadata": {},
     "output_type": "execute_result"
    }
   ],
   "source": [
    "[F.rhs**i for i in range(10)] # Fibonacci matrices"
   ]
  },
  {
   "cell_type": "markdown",
   "metadata": {
    "deletable": true,
    "editable": true
   },
   "source": [
    "---"
   ]
  },
  {
   "cell_type": "code",
   "execution_count": 24,
   "metadata": {
    "collapsed": true,
    "deletable": true,
    "editable": true
   },
   "outputs": [],
   "source": [
    "from sympy import eye, zeros, binomial"
   ]
  },
  {
   "cell_type": "code",
   "execution_count": 27,
   "metadata": {
    "collapsed": false,
    "deletable": true,
    "editable": true
   },
   "outputs": [
    {
     "data": {
      "image/png": "[encoded data removed]",
      "text/latex": [
       "$$\\left ( \\left[\\begin{matrix}1 & 0 & 0 & 0 & 0 & 0 & 0 & 0 & 0\\\\0 & 1 & 0 & 0 & 0 & 0 & 0 & 0 & 0\\\\0 & 0 & 1 & 0 & 0 & 0 & 0 & 0 & 0\\\\0 & 0 & 0 & 1 & 0 & 0 & 0 & 0 & 0\\\\0 & 0 & 0 & 0 & 1 & 0 & 0 & 0 & 0\\\\0 & 0 & 0 & 0 & 0 & 1 & 0 & 0 & 0\\\\0 & 0 & 0 & 0 & 0 & 0 & 1 & 0 & 0\\\\0 & 0 & 0 & 0 & 0 & 0 & 0 & 1 & 0\\\\0 & 0 & 0 & 0 & 0 & 0 & 0 & 0 & 1\\end{matrix}\\right], \\quad \\left[\\begin{matrix}0 & 0 & 0 & 0 & 0 & 0 & 0 & 0 & 0\\\\0 & 0 & 0 & 0 & 0 & 0 & 0 & 0 & 0\\\\0 & 0 & 0 & 0 & 0 & 0 & 0 & 0 & 0\\\\0 & 0 & 0 & 0 & 0 & 0 & 0 & 0 & 0\\\\0 & 0 & 0 & 0 & 0 & 0 & 0 & 0 & 0\\\\0 & 0 & 0 & 0 & 0 & 0 & 0 & 0 & 0\\\\0 & 0 & 0 & 0 & 0 & 0 & 0 & 0 & 0\\\\0 & 0 & 0 & 0 & 0 & 0 & 0 & 0 & 0\\\\0 & 0 & 0 & 0 & 0 & 0 & 0 & 0 & 0\\end{matrix}\\right]\\right )$$"
      ],
      "text/plain": [
       "⎛⎡1  0  0  0  0  0  0  0  0⎤  ⎡0  0  0  0  0  0  0  0  0⎤⎞\n",
       "⎜⎢                         ⎥  ⎢                         ⎥⎟\n",
       "⎜⎢0  1  0  0  0  0  0  0  0⎥  ⎢0  0  0  0  0  0  0  0  0⎥⎟\n",
       "⎜⎢                         ⎥  ⎢                         ⎥⎟\n",
       "⎜⎢0  0  1  0  0  0  0  0  0⎥  ⎢0  0  0  0  0  0  0  0  0⎥⎟\n",
       "⎜⎢                         ⎥  ⎢                         ⎥⎟\n",
       "⎜⎢0  0  0  1  0  0  0  0  0⎥  ⎢0  0  0  0  0  0  0  0  0⎥⎟\n",
       "⎜⎢                         ⎥  ⎢                         ⎥⎟\n",
       "⎜⎢0  0  0  0  1  0  0  0  0⎥, ⎢0  0  0  0  0  0  0  0  0⎥⎟\n",
       "⎜⎢                         ⎥  ⎢                         ⎥⎟\n",
       "⎜⎢0  0  0  0  0  1  0  0  0⎥  ⎢0  0  0  0  0  0  0  0  0⎥⎟\n",
       "⎜⎢                         ⎥  ⎢                         ⎥⎟\n",
       "⎜⎢0  0  0  0  0  0  1  0  0⎥  ⎢0  0  0  0  0  0  0  0  0⎥⎟\n",
       "⎜⎢                         ⎥  ⎢                         ⎥⎟\n",
       "⎜⎢0  0  0  0  0  0  0  1  0⎥  ⎢0  0  0  0  0  0  0  0  0⎥⎟\n",
       "⎜⎢                         ⎥  ⎢                         ⎥⎟\n",
       "⎝⎣0  0  0  0  0  0  0  0  1⎦  ⎣0  0  0  0  0  0  0  0  0⎦⎠"
      ]
     },
     "execution_count": 27,
     "metadata": {},
     "output_type": "execute_result"
    }
   ],
   "source": [
    "eye(9), zeros(9) # simple matrices constructors"
   ]
  },
  {
   "cell_type": "code",
   "execution_count": 28,
   "metadata": {
    "collapsed": false,
    "deletable": true,
    "editable": true
   },
   "outputs": [
    {
     "data": {
      "image/png": "[encoded data removed]",
      "text/latex": [
       "$$M = \\left[\\begin{matrix}0 & 1 & 2 & 3 & 4 & 5 & 6 & 7 & 8 & 9\\\\1 & 2 & 3 & 4 & 5 & 6 & 7 & 8 & 9 & 10\\\\2 & 3 & 4 & 5 & 6 & 7 & 8 & 9 & 10 & 11\\\\3 & 4 & 5 & 6 & 7 & 8 & 9 & 10 & 11 & 12\\\\4 & 5 & 6 & 7 & 8 & 9 & 10 & 11 & 12 & 13\\\\5 & 6 & 7 & 8 & 9 & 10 & 11 & 12 & 13 & 14\\\\6 & 7 & 8 & 9 & 10 & 11 & 12 & 13 & 14 & 15\\\\7 & 8 & 9 & 10 & 11 & 12 & 13 & 14 & 15 & 16\\\\8 & 9 & 10 & 11 & 12 & 13 & 14 & 15 & 16 & 17\\\\9 & 10 & 11 & 12 & 13 & 14 & 15 & 16 & 17 & 18\\end{matrix}\\right]$$"
      ],
      "text/plain": [
       "    ⎡0  1   2   3   4   5   6   7   8   9 ⎤\n",
       "    ⎢                                     ⎥\n",
       "    ⎢1  2   3   4   5   6   7   8   9   10⎥\n",
       "    ⎢                                     ⎥\n",
       "    ⎢2  3   4   5   6   7   8   9   10  11⎥\n",
       "    ⎢                                     ⎥\n",
       "    ⎢3  4   5   6   7   8   9   10  11  12⎥\n",
       "    ⎢                                     ⎥\n",
       "    ⎢4  5   6   7   8   9   10  11  12  13⎥\n",
       "M = ⎢                                     ⎥\n",
       "    ⎢5  6   7   8   9   10  11  12  13  14⎥\n",
       "    ⎢                                     ⎥\n",
       "    ⎢6  7   8   9   10  11  12  13  14  15⎥\n",
       "    ⎢                                     ⎥\n",
       "    ⎢7  8   9   10  11  12  13  14  15  16⎥\n",
       "    ⎢                                     ⎥\n",
       "    ⎢8  9   10  11  12  13  14  15  16  17⎥\n",
       "    ⎢                                     ⎥\n",
       "    ⎣9  10  11  12  13  14  15  16  17  18⎦"
      ]
     },
     "execution_count": 28,
     "metadata": {},
     "output_type": "execute_result"
    }
   ],
   "source": [
    "M = define(Symbol('M'), Matrix(10,10, lambda i,j: i+j)) # element-wise constructor\n",
    "M"
   ]
  },
  {
   "cell_type": "code",
   "execution_count": 29,
   "metadata": {
    "collapsed": false,
    "deletable": true,
    "editable": true
   },
   "outputs": [
    {
     "data": {
      "image/png": "[encoded data removed]",
      "text/latex": [
       "$$M = \\left[\\begin{matrix}1 & 0 & 0 & 0 & 0 & 0 & 0 & 0 & 0 & 0\\\\1 & 1 & 0 & 0 & 0 & 0 & 0 & 0 & 0 & 0\\\\1 & 2 & 1 & 0 & 0 & 0 & 0 & 0 & 0 & 0\\\\1 & 3 & 3 & 1 & 0 & 0 & 0 & 0 & 0 & 0\\\\1 & 4 & 6 & 4 & 1 & 0 & 0 & 0 & 0 & 0\\\\1 & 5 & 10 & 10 & 5 & 1 & 0 & 0 & 0 & 0\\\\1 & 6 & 15 & 20 & 15 & 6 & 1 & 0 & 0 & 0\\\\1 & 7 & 21 & 35 & 35 & 21 & 7 & 1 & 0 & 0\\\\1 & 8 & 28 & 56 & 70 & 56 & 28 & 8 & 1 & 0\\\\1 & 9 & 36 & 84 & 126 & 126 & 84 & 36 & 9 & 1\\end{matrix}\\right]$$"
      ],
      "text/plain": [
       "    ⎡1  0  0   0    0    0   0   0   0  0⎤\n",
       "    ⎢                                    ⎥\n",
       "    ⎢1  1  0   0    0    0   0   0   0  0⎥\n",
       "    ⎢                                    ⎥\n",
       "    ⎢1  2  1   0    0    0   0   0   0  0⎥\n",
       "    ⎢                                    ⎥\n",
       "    ⎢1  3  3   1    0    0   0   0   0  0⎥\n",
       "    ⎢                                    ⎥\n",
       "    ⎢1  4  6   4    1    0   0   0   0  0⎥\n",
       "M = ⎢                                    ⎥\n",
       "    ⎢1  5  10  10   5    1   0   0   0  0⎥\n",
       "    ⎢                                    ⎥\n",
       "    ⎢1  6  15  20  15    6   1   0   0  0⎥\n",
       "    ⎢                                    ⎥\n",
       "    ⎢1  7  21  35  35   21   7   1   0  0⎥\n",
       "    ⎢                                    ⎥\n",
       "    ⎢1  8  28  56  70   56   28  8   1  0⎥\n",
       "    ⎢                                    ⎥\n",
       "    ⎣1  9  36  84  126  126  84  36  9  1⎦"
      ]
     },
     "execution_count": 29,
     "metadata": {},
     "output_type": "execute_result"
    }
   ],
   "source": [
    "M = define(Symbol('M'), Matrix(10,10, binomial)) # a simple way to generate the Pascal triangle\n",
    "M"
   ]
  },
  {
   "cell_type": "code",
   "execution_count": 33,
   "metadata": {
    "collapsed": false,
    "deletable": true,
    "editable": true
   },
   "outputs": [
    {
     "data": {
      "image/png": "[encoded data removed]",
      "text/latex": [
       "$$\\left [ 1, \\quad 1, \\quad 2, \\quad 3, \\quad 5, \\quad 8, \\quad 13, \\quad 21, \\quad 34, \\quad 55\\right ]$$"
      ],
      "text/plain": [
       "[1, 1, 2, 3, 5, 8, 13, 21, 34, 55]"
      ]
     },
     "execution_count": 33,
     "metadata": {},
     "output_type": "execute_result"
    }
   ],
   "source": [
    "[sum(M.rhs[i-j,j] for j in range(i+1)) # summing each incresing diagonal, \n",
    " for i in range(M.rhs.rows)] # yield Fibonacci numbers again."
   ]
  },
  {
   "cell_type": "markdown",
   "metadata": {
    "deletable": true,
    "editable": true
   },
   "source": [
    "---\n",
    "<a rel=\"license\" href=\"http://creativecommons.org/licenses/by-nc-sa/4.0/\"><img alt=\"Creative Commons License\" style=\"border-width:0\" src=\"https://i.creativecommons.org/l/by-nc-sa/4.0/88x31.png\" /></a><br />This work is licensed under a <a rel=\"license\" href=\"http://creativecommons.org/licenses/by-nc-sa/4.0/\">Creative Commons Attribution-NonCommercial-ShareAlike 4.0 International License</a>."
   ]
  }
 ],
 "metadata": {
  "kernelspec": {
   "display_name": "Python 3",
   "language": "python",
   "name": "python3"
  },
  "language_info": {
   "codemirror_mode": {
    "name": "ipython",
    "version": 3
   },
   "file_extension": ".py",
   "mimetype": "text/x-python",
   "name": "python",
   "nbconvert_exporter": "python",
   "pygments_lexer": "ipython3",
   "version": "3.6.0"
  }
 },
 "nbformat": 4,
 "nbformat_minor": 2
}
