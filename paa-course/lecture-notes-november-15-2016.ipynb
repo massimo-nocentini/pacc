{
 "cells": [
  {
   "cell_type": "markdown",
   "metadata": {},
   "source": [
    "<p>\n",
    "<img src=\"http://www.cerm.unifi.it/chianti/images/logo%20unifi_positivo.jpg\" \n",
    "        alt=\"UniFI logo\" style=\"float: left; width: 20%; height: 20%;\">\n",
    "<div align=\"right\">\n",
    "Massimo Nocentini<br>\n",
    "<small>\n",
    "<br>November 15, 2016: class\n",
    "</small>\n",
    "</div>\n",
    "</p>\n",
    "<br>\n",
    "<br>\n",
    "<div align=\"center\">\n",
    "<b>Abstract</b><br>\n",
    "Lecture notes of today (November 15, 2016) class in Python, about simulation applied to Quicksort's checks and swaps.\n",
    "</div>"
   ]
  },
  {
   "cell_type": "code",
   "execution_count": 111,
   "metadata": {
    "collapsed": true
   },
   "outputs": [],
   "source": [
    "from sympy import *\n",
    "\n",
    "import sys\n",
    "\n",
    "from random import shuffle\n",
    "\n",
    "from itertools import permutations\n",
    "from statistics import mean\n",
    "\n",
    "sys.setrecursionlimit(10000000)\n",
    "init_printing()"
   ]
  },
  {
   "cell_type": "code",
   "execution_count": 2,
   "metadata": {
    "collapsed": false
   },
   "outputs": [],
   "source": [
    "t, m, i, k, n = symbols('t m i k n')\n",
    "a, b = IndexedBase('a'), IndexedBase('b')"
   ]
  },
  {
   "cell_type": "markdown",
   "metadata": {},
   "source": [
    "# Quicksort"
   ]
  },
  {
   "cell_type": "code",
   "execution_count": 180,
   "metadata": {
    "collapsed": true
   },
   "outputs": [],
   "source": [
    "def counting_instrumented(quicksort):\n",
    "    \n",
    "    \n",
    "    def instrumented(array, counting_data=True):\n",
    "\n",
    "        checks, swaps = 0, 0\n",
    "\n",
    "        def check_handler(index, pivot):\n",
    "            nonlocal checks\n",
    "            checks += 1\n",
    "\n",
    "        def swap_handler(index, pivot):\n",
    "            nonlocal swaps\n",
    "            swaps += 1\n",
    "\n",
    "        sorted_array = quicksort(array, check_handler, swap_handler)\n",
    "        return (sorted_array, checks, swaps) if counting_data else sorted_array\n",
    "    \n",
    "    return instrumented"
   ]
  },
  {
   "cell_type": "code",
   "execution_count": 181,
   "metadata": {
    "collapsed": true
   },
   "outputs": [],
   "source": [
    "@counting_instrumented\n",
    "def quicksort(array, \n",
    "              check_performed=lambda index, pivot: None,\n",
    "              swap_performed=lambda i, j: None):\n",
    "    \n",
    "    def rec(v):\n",
    "        \n",
    "        if not v: return v\n",
    "\n",
    "        p = v[-1]\n",
    "        i, j = -1, len(v)-1\n",
    "\n",
    "        while i < j:\n",
    "\n",
    "            i += 1\n",
    "            check_performed(index=i, pivot=p)\n",
    "            while v[i] < p: \n",
    "                check_performed(index=i, pivot=p)\n",
    "                i += 1\n",
    "            \n",
    "            j -= 1\n",
    "            check_performed(index=j, pivot=p)\n",
    "            while 0 <= j and v[j] > p: \n",
    "                check_performed(index=j, pivot=p)\n",
    "                j -= 1\n",
    "                \n",
    "            if i < j: \n",
    "                v[i], v[j] = v[j], v[i]\n",
    "                swap_performed(i, j)\n",
    "\n",
    "        v[i], v[-1] = v[-1], v[i] # discard this swap from counting\n",
    "\n",
    "        return rec(v[:i]) + [p] + rec(v[i+1:])\n",
    "\n",
    "    return rec(array[:])\n",
    "    "
   ]
  },
  {
   "cell_type": "code",
   "execution_count": 182,
   "metadata": {
    "collapsed": false
   },
   "outputs": [
    {
     "data": {
      "image/png": "[encoded data removed]",
      "text/latex": [
       "$$\\left [ 1, \\quad 5, \\quad 9, \\quad 4, \\quad 6, \\quad 3, \\quad 2, \\quad 7, \\quad 8, \\quad 0\\right ]$$"
      ],
      "text/plain": [
       "[1, 5, 9, 4, 6, 3, 2, 7, 8, 0]"
      ]
     },
     "execution_count": 182,
     "metadata": {},
     "output_type": "execute_result"
    }
   ],
   "source": [
    "array = list(range(10))\n",
    "shuffle(array)\n",
    "array"
   ]
  },
  {
   "cell_type": "code",
   "execution_count": 183,
   "metadata": {
    "collapsed": false
   },
   "outputs": [
    {
     "data": {
      "image/png": "[encoded data removed]",
      "text/latex": [
       "$$\\left [ 0, \\quad 1, \\quad 2, \\quad 3, \\quad 4, \\quad 5, \\quad 6, \\quad 7, \\quad 8, \\quad 9\\right ]$$"
      ],
      "text/plain": [
       "[0, 1, 2, 3, 4, 5, 6, 7, 8, 9]"
      ]
     },
     "execution_count": 183,
     "metadata": {},
     "output_type": "execute_result"
    }
   ],
   "source": [
    "quicksort(array, counting_data=False)"
   ]
  },
  {
   "cell_type": "code",
   "execution_count": 184,
   "metadata": {
    "collapsed": false
   },
   "outputs": [
    {
     "data": {
      "image/png": "[encoded data removed]",
      "text/latex": [
       "$$\\left [ 1, \\quad 5, \\quad 9, \\quad 4, \\quad 6, \\quad 3, \\quad 2, \\quad 7, \\quad 8, \\quad 0\\right ]$$"
      ],
      "text/plain": [
       "[1, 5, 9, 4, 6, 3, 2, 7, 8, 0]"
      ]
     },
     "execution_count": 184,
     "metadata": {},
     "output_type": "execute_result"
    }
   ],
   "source": [
    "array"
   ]
  },
  {
   "cell_type": "code",
   "execution_count": 185,
   "metadata": {
    "collapsed": false
   },
   "outputs": [
    {
     "data": {
      "image/png": "[encoded data removed]",
      "text/latex": [
       "$$\\left ( \\left [ 0, \\quad 1, \\quad 2, \\quad 3, \\quad 4, \\quad 5, \\quad 6, \\quad 7, \\quad 8, \\quad 9\\right ], \\quad 52, \\quad 2\\right )$$"
      ],
      "text/plain": [
       "([0, 1, 2, 3, 4, 5, 6, 7, 8, 9], 52, 2)"
      ]
     },
     "execution_count": 185,
     "metadata": {},
     "output_type": "execute_result"
    }
   ],
   "source": [
    "quicksort(array, counting_data=True)"
   ]
  },
  {
   "cell_type": "code",
   "execution_count": 186,
   "metadata": {
    "collapsed": false
   },
   "outputs": [
    {
     "data": {
      "image/png": "[encoded data removed]",
      "text/latex": [
       "$$\\left [ 1, \\quad 5, \\quad 9, \\quad 4, \\quad 6, \\quad 3, \\quad 2, \\quad 7, \\quad 8, \\quad 0\\right ]$$"
      ],
      "text/plain": [
       "[1, 5, 9, 4, 6, 3, 2, 7, 8, 0]"
      ]
     },
     "execution_count": 186,
     "metadata": {},
     "output_type": "execute_result"
    }
   ],
   "source": [
    "array"
   ]
  },
  {
   "cell_type": "code",
   "execution_count": 187,
   "metadata": {
    "collapsed": false,
    "scrolled": true
   },
   "outputs": [
    {
     "data": {
      "image/png": "[encoded data removed]",
      "text/latex": [
       "$$24$$"
      ],
      "text/plain": [
       "24"
      ]
     },
     "execution_count": 187,
     "metadata": {},
     "output_type": "execute_result"
    }
   ],
   "source": [
    "perms = list(permutations(range(4)))\n",
    "len(perms)"
   ]
  },
  {
   "cell_type": "code",
   "execution_count": 188,
   "metadata": {
    "collapsed": false
   },
   "outputs": [
    {
     "data": {
      "image/png": "[encoded data removed]",
      "text/latex": [
       "$$\\left [ \\left ( 0, \\quad 1, \\quad 2, \\quad 3\\right ), \\quad \\left ( 0, \\quad 1, \\quad 3, \\quad 2\\right ), \\quad \\left ( 0, \\quad 2, \\quad 1, \\quad 3\\right ), \\quad \\left ( 0, \\quad 2, \\quad 3, \\quad 1\\right ), \\quad \\left ( 0, \\quad 3, \\quad 1, \\quad 2\\right ), \\quad \\left ( 0, \\quad 3, \\quad 2, \\quad 1\\right ), \\quad \\left ( 1, \\quad 0, \\quad 2, \\quad 3\\right ), \\quad \\left ( 1, \\quad 0, \\quad 3, \\quad 2\\right ), \\quad \\left ( 1, \\quad 2, \\quad 0, \\quad 3\\right ), \\quad \\left ( 1, \\quad 2, \\quad 3, \\quad 0\\right ), \\quad \\left ( 1, \\quad 3, \\quad 0, \\quad 2\\right ), \\quad \\left ( 1, \\quad 3, \\quad 2, \\quad 0\\right ), \\quad \\left ( 2, \\quad 0, \\quad 1, \\quad 3\\right ), \\quad \\left ( 2, \\quad 0, \\quad 3, \\quad 1\\right ), \\quad \\left ( 2, \\quad 1, \\quad 0, \\quad 3\\right ), \\quad \\left ( 2, \\quad 1, \\quad 3, \\quad 0\\right ), \\quad \\left ( 2, \\quad 3, \\quad 0, \\quad 1\\right ), \\quad \\left ( 2, \\quad 3, \\quad 1, \\quad 0\\right ), \\quad \\left ( 3, \\quad 0, \\quad 1, \\quad 2\\right ), \\quad \\left ( 3, \\quad 0, \\quad 2, \\quad 1\\right ), \\quad \\left ( 3, \\quad 1, \\quad 0, \\quad 2\\right ), \\quad \\left ( 3, \\quad 1, \\quad 2, \\quad 0\\right ), \\quad \\left ( 3, \\quad 2, \\quad 0, \\quad 1\\right ), \\quad \\left ( 3, \\quad 2, \\quad 1, \\quad 0\\right )\\right ]$$"
      ],
      "text/plain": [
       "[(0, 1, 2, 3), (0, 1, 3, 2), (0, 2, 1, 3), (0, 2, 3, 1), (0, 3, 1, 2), (0, 3, \n",
       "2, 1), (1, 0, 2, 3), (1, 0, 3, 2), (1, 2, 0, 3), (1, 2, 3, 0), (1, 3, 0, 2), (\n",
       "1, 3, 2, 0), (2, 0, 1, 3), (2, 0, 3, 1), (2, 1, 0, 3), (2, 1, 3, 0), (2, 3, 0,\n",
       " 1), (2, 3, 1, 0), (3, 0, 1, 2), (3, 0, 2, 1), (3, 1, 0, 2), (3, 1, 2, 0), (3,\n",
       " 2, 0, 1), (3, 2, 1, 0)]"
      ]
     },
     "execution_count": 188,
     "metadata": {},
     "output_type": "execute_result"
    }
   ],
   "source": [
    "perms"
   ]
  },
  {
   "cell_type": "code",
   "execution_count": 189,
   "metadata": {
    "collapsed": true
   },
   "outputs": [],
   "source": [
    "def C(n):\n",
    "    return 2*(n+1)*(harmonic(n+1)-1) if n else 0\n",
    "\n",
    "def S(n):\n",
    "    return 1/Integer(3)*(n+1)*(harmonic(n+1)-Integer(7)/3)+Integer(1)/2 if n > 1 else 0"
   ]
  },
  {
   "cell_type": "code",
   "execution_count": 277,
   "metadata": {
    "collapsed": true
   },
   "outputs": [],
   "source": [
    "def simulation(f):\n",
    "    \n",
    "    def simulated(*args, **kwds):\n",
    "        \n",
    "        doit = kwds.pop('doit', False)\n",
    "        \n",
    "        arrays = f(*args, **kwds)\n",
    "        n = len(list(arrays))\n",
    "        all_checks, all_swaps = [], []\n",
    "        for sarray, checks, swaps in map(quicksort, arrays):\n",
    "            all_checks.append(checks)\n",
    "            all_swaps.append(swaps)\n",
    "\n",
    "        \n",
    "        cm, sm = sum(all_checks)/Integer(n), sum(all_swaps)/Integer(n)\n",
    "        return (cm.evalf(), sm.evalf()) if doit else (cm, sm)\n",
    "\n",
    "    return simulated"
   ]
  },
  {
   "cell_type": "code",
   "execution_count": 273,
   "metadata": {
    "collapsed": false
   },
   "outputs": [],
   "source": [
    "@simulation\n",
    "def all_permutations(n):\n",
    "    return [list(perm) for perm in permutations(range(n))]"
   ]
  },
  {
   "cell_type": "code",
   "execution_count": 274,
   "metadata": {
    "collapsed": false
   },
   "outputs": [
    {
     "data": {
      "image/png": "[encoded data removed]",
      "text/latex": [
       "$$\\left ( \\frac{87}{5}, \\quad \\frac{11}{15}\\right )$$"
      ],
      "text/plain": [
       "⎛      11⎞\n",
       "⎜87/5, ──⎟\n",
       "⎝      15⎠"
      ]
     },
     "execution_count": 274,
     "metadata": {},
     "output_type": "execute_result"
    }
   ],
   "source": [
    "all_permutations(n=5)"
   ]
  },
  {
   "cell_type": "code",
   "execution_count": 275,
   "metadata": {
    "collapsed": false
   },
   "outputs": [
    {
     "data": {
      "image/png": "[encoded data removed]",
      "text/latex": [
       "$$\\left ( \\frac{87}{5}, \\quad \\frac{11}{15}\\right )$$"
      ],
      "text/plain": [
       "⎛      11⎞\n",
       "⎜87/5, ──⎟\n",
       "⎝      15⎠"
      ]
     },
     "execution_count": 275,
     "metadata": {},
     "output_type": "execute_result"
    }
   ],
   "source": [
    "C(5), S(5)"
   ]
  },
  {
   "cell_type": "code",
   "execution_count": 276,
   "metadata": {
    "collapsed": false
   },
   "outputs": [
    {
     "data": {
      "image/png": "[encoded data removed]",
      "text/latex": [
       "$$\\left \\{ n = 0 : \\left ( \\left ( 0, \\quad 0\\right ), \\quad \\left ( 0, \\quad 0\\right )\\right ), \\quad n = 1 : \\left ( \\left ( 2, \\quad 2\\right ), \\quad \\left ( 0, \\quad 0\\right )\\right ), \\quad n = 2 : \\left ( \\left ( 5, \\quad 5\\right ), \\quad \\left ( 0, \\quad 0\\right )\\right ), \\quad n = 3 : \\left ( \\left ( \\frac{26}{3}, \\quad \\frac{26}{3}\\right ), \\quad \\left ( \\frac{1}{6}, \\quad \\frac{1}{6}\\right )\\right ), \\quad n = 4 : \\left ( \\left ( \\frac{77}{6}, \\quad \\frac{77}{6}\\right ), \\quad \\left ( \\frac{5}{12}, \\quad \\frac{5}{12}\\right )\\right ), \\quad n = 5 : \\left ( \\left ( \\frac{87}{5}, \\quad \\frac{87}{5}\\right ), \\quad \\left ( \\frac{11}{15}, \\quad \\frac{11}{15}\\right )\\right ), \\quad n = 6 : \\left ( \\left ( \\frac{223}{10}, \\quad \\frac{223}{10}\\right ), \\quad \\left ( \\frac{199}{180}, \\quad \\frac{199}{180}\\right )\\right )\\right \\}$$"
      ],
      "text/plain": [
       "⎧                                                                             \n",
       "⎨n = 0: ((0, 0), (0, 0)), n = 1: ((2, 2), (0, 0)), n = 2: ((5, 5), (0, 0)), n \n",
       "⎩                                                                             \n",
       "\n",
       "                                                                             ⎛\n",
       "= 3: ((26/3, 26/3), (1/6, 1/6)), n = 4: ((77/6, 77/6), (5/12, 5/12)), n = 5: ⎜\n",
       "                                                                             ⎝\n",
       "\n",
       "              ⎛11  11⎞⎞         ⎛⎛223  223⎞  ⎛199  199⎞⎞⎫\n",
       "(87/5, 87/5), ⎜──, ──⎟⎟, n = 6: ⎜⎜───, ───⎟, ⎜───, ───⎟⎟⎬\n",
       "              ⎝15  15⎠⎠         ⎝⎝ 10   10⎠  ⎝180  180⎠⎠⎭"
      ]
     },
     "execution_count": 276,
     "metadata": {},
     "output_type": "execute_result"
    }
   ],
   "source": [
    "{Eq(Symbol('n'), n): ((cm, C(n)), (sm, S(n))) for n in range(7) for cm, sm in [all_permutations(n)]}"
   ]
  },
  {
   "cell_type": "code",
   "execution_count": 284,
   "metadata": {
    "collapsed": true
   },
   "outputs": [],
   "source": [
    "@simulation\n",
    "def random_permutations(n, N):\n",
    "    \n",
    "    perm = list(range(n))\n",
    "    \n",
    "    perms = []\n",
    "    \n",
    "    for i in range(N):\n",
    "        shuffle(perm)\n",
    "        perms.append(list(perm))\n",
    "    \n",
    "    return perms"
   ]
  },
  {
   "cell_type": "code",
   "execution_count": 285,
   "metadata": {
    "collapsed": false
   },
   "outputs": [
    {
     "data": {
      "image/png": "[encoded data removed]",
      "text/latex": [
       "$$\\left ( \\left ( \\frac{263147}{8000}, \\quad \\frac{15819}{8000}\\right ), \\quad \\left ( 32.9214285714286, \\quad 1.98690476190476\\right )\\right )$$"
      ],
      "text/plain": [
       "⎛⎛263147  15819⎞                                      ⎞\n",
       "⎜⎜──────, ─────⎟, (32.9214285714286, 1.98690476190476)⎟\n",
       "⎝⎝ 8000    8000⎠                                      ⎠"
      ]
     },
     "execution_count": 285,
     "metadata": {},
     "output_type": "execute_result"
    }
   ],
   "source": [
    "random_permutations(8, 8000), (C(8).evalf(), S(8).evalf())"
   ]
  },
  {
   "cell_type": "code",
   "execution_count": 272,
   "metadata": {
    "collapsed": false
   },
   "outputs": [
    {
     "data": {
      "image/png": "[encoded data removed]",
      "text/latex": [
       "$$\\left ( \\left ( 32.88625, \\quad 1.989625\\right ), \\quad \\left ( 32.9214285714286, \\quad 1.98690476190476\\right )\\right )$$"
      ],
      "text/plain": [
       "((32.88625, 1.989625), (32.9214285714286, 1.98690476190476))"
      ]
     },
     "execution_count": 272,
     "metadata": {},
     "output_type": "execute_result"
    }
   ],
   "source": [
    "random_permutations(8, 8000, doit=True), (C(8).evalf(), S(8).evalf())"
   ]
  },
  {
   "cell_type": "code",
   "execution_count": 278,
   "metadata": {
    "collapsed": false
   },
   "outputs": [
    {
     "data": {
      "image/png": "[encoded data removed]",
      "text/latex": [
       "$$\\left ( \\left ( 850.627, \\quad 96.904\\right ), \\quad \\left ( 847.850258563203, \\quad 96.9194875383117\\right )\\right )$$"
      ],
      "text/plain": [
       "((850.627, 96.904), (847.850258563203, 96.9194875383117))"
      ]
     },
     "execution_count": 278,
     "metadata": {},
     "output_type": "execute_result"
    }
   ],
   "source": [
    "random_permutations(100, 1000, doit=True), (C(100).evalf(), S(100).evalf())"
   ]
  },
  {
   "cell_type": "code",
   "execution_count": 280,
   "metadata": {
    "collapsed": false
   },
   "outputs": [
    {
     "data": {
      "image/png": "[encoded data removed]",
      "text/latex": [
       "$$\\left \\{ 10 : \\left ( 44.56, \\quad 2.95\\right ), \\quad 20 : \\left ( 110.83, \\quad 9.775\\right ), \\quad 30 : \\left ( 187.506666666667, \\quad 17.9733333333333\\right ), \\quad 40 : \\left ( 268.3825, \\quad 27.5075\\right ), \\quad 50 : \\left ( 356.702, \\quad 37.756\\right ), \\quad 60 : \\left ( 452.053333333333, \\quad 48.2066666666667\\right ), \\quad 70 : \\left ( 547.055714285714, \\quad 59.7157142857143\\right ), \\quad 80 : \\left ( 645.795, \\quad 71.75625\\right ), \\quad 90 : \\left ( 745.76, \\quad 84.1788888888889\\right ), \\quad 100 : \\left ( 847.318, \\quad 96.822\\right )\\right \\}$$"
      ],
      "text/plain": [
       "{10: (44.56, 2.95), 20: (110.83, 9.775), 30: (187.506666666667, 17.97333333333\n",
       "33), 40: (268.3825, 27.5075), 50: (356.702, 37.756), 60: (452.053333333333, 48\n",
       ".2066666666667), 70: (547.055714285714, 59.7157142857143), 80: (645.795, 71.75\n",
       "625), 90: (745.76, 84.1788888888889), 100: (847.318, 96.822)}"
      ]
     },
     "execution_count": 280,
     "metadata": {},
     "output_type": "execute_result"
    }
   ],
   "source": [
    "dim, step = 100, 10\n",
    "res = {i: random_permutations(i, i*step, doit=True) for i in range(step, dim+1, step)}\n",
    "res "
   ]
  },
  {
   "cell_type": "code",
   "execution_count": 281,
   "metadata": {
    "collapsed": true
   },
   "outputs": [],
   "source": [
    "%matplotlib inline\n",
    "import matplotlib.pyplot as plt"
   ]
  },
  {
   "cell_type": "code",
   "execution_count": 282,
   "metadata": {
    "collapsed": false
   },
   "outputs": [
    {
     "data": {
      "image/png": "[encoded data removed]",
      "text/plain": [
       "<matplotlib.figure.Figure at 0x7f91eca20198>"
      ]
     },
     "metadata": {},
     "output_type": "display_data"
    }
   ],
   "source": [
    "domain = sorted(res.keys())\n",
    "plt.plot(domain, [res[k][0] for k in domain], 'b',\n",
    "         domain, [C(n) for n in domain], 'g')\n",
    "None"
   ]
  },
  {
   "cell_type": "code",
   "execution_count": 283,
   "metadata": {
    "collapsed": false
   },
   "outputs": [
    {
     "data": {
      "image/png": "[encoded data removed]",
      "text/plain": [
       "<matplotlib.figure.Figure at 0x7f91eca057f0>"
      ]
     },
     "metadata": {},
     "output_type": "display_data"
    }
   ],
   "source": [
    "domain = sorted(res.keys())\n",
    "plt.plot(domain, [res[k][1] for k in domain], 'b',\n",
    "         domain, [S(n) for n in domain], 'g')\n",
    "None"
   ]
  },
  {
   "cell_type": "markdown",
   "metadata": {},
   "source": [
    "---\n",
    "<a rel=\"license\" href=\"http://creativecommons.org/licenses/by-nc-sa/4.0/\"><img alt=\"Creative Commons License\" style=\"border-width:0\" src=\"https://i.creativecommons.org/l/by-nc-sa/4.0/88x31.png\" /></a><br />This work is licensed under a <a rel=\"license\" href=\"http://creativecommons.org/licenses/by-nc-sa/4.0/\">Creative Commons Attribution-NonCommercial-ShareAlike 4.0 International License</a>."
   ]
  }
 ],
 "metadata": {
  "kernelspec": {
   "display_name": "Python 3",
   "language": "python",
   "name": "python3"
  },
  "language_info": {
   "codemirror_mode": {
    "name": "ipython",
    "version": 3
   },
   "file_extension": ".py",
   "mimetype": "text/x-python",
   "name": "python",
   "nbconvert_exporter": "python",
   "pygments_lexer": "ipython3",
   "version": "3.5.2"
  }
 },
 "nbformat": 4,
 "nbformat_minor": 1
}
