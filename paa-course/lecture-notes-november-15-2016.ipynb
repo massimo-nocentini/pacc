{
 "cells": [
  {
   "cell_type": "markdown",
   "metadata": {},
   "source": [
    "<p>\n",
    "<img src=\"http://www.cerm.unifi.it/chianti/images/logo%20unifi_positivo.jpg\" \n",
    "        alt=\"UniFI logo\" style=\"float: left; width: 20%; height: 20%;\">\n",
    "<div align=\"right\">\n",
    "Massimo Nocentini<br>\n",
    "<small>\n",
    "<br>December 7, 2016: CLT\n",
    "<br>November 15, 2016: class\n",
    "</small>\n",
    "</div>\n",
    "</p>\n",
    "<br>\n",
    "<br>\n",
    "<div align=\"center\">\n",
    "<b>Abstract</b><br>\n",
    "Lecture notes of today (November 15, 2016) class in Python, about simulation applied to Quicksort's checks and swaps.\n",
    "</div>"
   ]
  },
  {
   "cell_type": "code",
   "execution_count": 1,
   "metadata": {
    "collapsed": true
   },
   "outputs": [],
   "source": [
    "from sympy import *\n",
    "from sympy import stats\n",
    "from numpy import linspace\n",
    "import sys\n",
    "\n",
    "from random import shuffle\n",
    "\n",
    "from itertools import permutations\n",
    "from statistics import mean, variance\n",
    "from collections import namedtuple\n",
    "from functools import wraps\n",
    "\n",
    "sys.setrecursionlimit(10000000)\n",
    "\n",
    "init_printing()"
   ]
  },
  {
   "cell_type": "code",
   "execution_count": 2,
   "metadata": {
    "collapsed": false
   },
   "outputs": [],
   "source": [
    "t, m, i, k, n, z = symbols('t m i k n z')\n",
    "a, b = IndexedBase('a'), IndexedBase('b')"
   ]
  },
  {
   "cell_type": "markdown",
   "metadata": {},
   "source": [
    "# Quicksort"
   ]
  },
  {
   "cell_type": "code",
   "execution_count": 3,
   "metadata": {
    "collapsed": true
   },
   "outputs": [],
   "source": [
    "CountData = namedtuple('CountData', ['checks', 'swaps'])\n",
    "\n",
    "def counting(quicksort):\n",
    "    \n",
    "    @wraps(quicksort)\n",
    "    def instrumented(array, counting_data=True):\n",
    "\n",
    "        checks, swaps = 0, 0\n",
    "\n",
    "        def check_handler(index, pivot):\n",
    "            nonlocal checks\n",
    "            checks += 1\n",
    "\n",
    "        def swap_handler(index, pivot):\n",
    "            nonlocal swaps\n",
    "            swaps += 1\n",
    "\n",
    "        sorted_array = quicksort(array, check_handler, swap_handler)\n",
    "        return (sorted_array, CountData(checks, swaps)) if counting_data else sorted_array\n",
    "    \n",
    "    return instrumented"
   ]
  },
  {
   "cell_type": "code",
   "execution_count": 4,
   "metadata": {
    "collapsed": true
   },
   "outputs": [],
   "source": [
    "@counting\n",
    "def quicksort(array, \n",
    "              check_performed=lambda index, pivot: None,\n",
    "              swap_performed=lambda i, j: None):\n",
    "    \n",
    "    def rec(v):\n",
    "        \n",
    "        if not v: return v\n",
    "\n",
    "        p = v[-1]\n",
    "        i, j = -1, len(v)-1\n",
    "\n",
    "        while i < j:\n",
    "\n",
    "            i += 1\n",
    "            check_performed(index=i, pivot=p)\n",
    "            while v[i] < p: \n",
    "                check_performed(index=i, pivot=p)\n",
    "                i += 1\n",
    "            \n",
    "            j -= 1\n",
    "            check_performed(index=j, pivot=p)\n",
    "            while 0 <= j and v[j] > p: \n",
    "                check_performed(index=j, pivot=p)\n",
    "                j -= 1\n",
    "                \n",
    "            if i < j: \n",
    "                v[i], v[j] = v[j], v[i]\n",
    "                swap_performed(i, j)\n",
    "\n",
    "        v[i], v[-1] = v[-1], v[i] # discard this swap from counting\n",
    "\n",
    "        return rec(v[:i]) + [p] + rec(v[i+1:])\n",
    "\n",
    "    return rec(list(array))\n",
    "    "
   ]
  },
  {
   "cell_type": "code",
   "execution_count": 5,
   "metadata": {
    "collapsed": false
   },
   "outputs": [
    {
     "data": {
      "image/png": "[encoded data removed]",
      "text/latex": [
       "$$\\left [ 1, \\quad 6, \\quad 5, \\quad 7, \\quad 2, \\quad 9, \\quad 8, \\quad 4, \\quad 3, \\quad 0\\right ]$$"
      ],
      "text/plain": [
       "[1, 6, 5, 7, 2, 9, 8, 4, 3, 0]"
      ]
     },
     "execution_count": 5,
     "metadata": {},
     "output_type": "execute_result"
    }
   ],
   "source": [
    "array = list(range(10))\n",
    "shuffle(array)\n",
    "array"
   ]
  },
  {
   "cell_type": "code",
   "execution_count": 6,
   "metadata": {
    "collapsed": false
   },
   "outputs": [
    {
     "data": {
      "image/png": "[encoded data removed]",
      "text/latex": [
       "$$\\left [ 0, \\quad 1, \\quad 2, \\quad 3, \\quad 4, \\quad 5, \\quad 6, \\quad 7, \\quad 8, \\quad 9\\right ]$$"
      ],
      "text/plain": [
       "[0, 1, 2, 3, 4, 5, 6, 7, 8, 9]"
      ]
     },
     "execution_count": 6,
     "metadata": {},
     "output_type": "execute_result"
    }
   ],
   "source": [
    "quicksort(array, counting_data=False)"
   ]
  },
  {
   "cell_type": "code",
   "execution_count": 7,
   "metadata": {
    "collapsed": false
   },
   "outputs": [
    {
     "data": {
      "image/png": "[encoded data removed]",
      "text/latex": [
       "$$\\left [ 1, \\quad 6, \\quad 5, \\quad 7, \\quad 2, \\quad 9, \\quad 8, \\quad 4, \\quad 3, \\quad 0\\right ]$$"
      ],
      "text/plain": [
       "[1, 6, 5, 7, 2, 9, 8, 4, 3, 0]"
      ]
     },
     "execution_count": 7,
     "metadata": {},
     "output_type": "execute_result"
    }
   ],
   "source": [
    "array"
   ]
  },
  {
   "cell_type": "code",
   "execution_count": 8,
   "metadata": {
    "collapsed": false
   },
   "outputs": [],
   "source": [
    "sorted_array, data = quicksort(array, counting_data=True)"
   ]
  },
  {
   "cell_type": "code",
   "execution_count": 9,
   "metadata": {
    "collapsed": false
   },
   "outputs": [
    {
     "data": {
      "text/plain": [
       "'CountData(checks=50, swaps=4)'"
      ]
     },
     "execution_count": 9,
     "metadata": {},
     "output_type": "execute_result"
    }
   ],
   "source": [
    "data.__str__()"
   ]
  },
  {
   "cell_type": "code",
   "execution_count": 10,
   "metadata": {
    "collapsed": true
   },
   "outputs": [],
   "source": [
    "assert sorted_array == sorted(array)"
   ]
  },
  {
   "cell_type": "code",
   "execution_count": 11,
   "metadata": {
    "collapsed": false
   },
   "outputs": [
    {
     "data": {
      "image/png": "[encoded data removed]",
      "text/latex": [
       "$$\\left [ 1, \\quad 6, \\quad 5, \\quad 7, \\quad 2, \\quad 9, \\quad 8, \\quad 4, \\quad 3, \\quad 0\\right ]$$"
      ],
      "text/plain": [
       "[1, 6, 5, 7, 2, 9, 8, 4, 3, 0]"
      ]
     },
     "execution_count": 11,
     "metadata": {},
     "output_type": "execute_result"
    }
   ],
   "source": [
    "array"
   ]
  },
  {
   "cell_type": "markdown",
   "metadata": {},
   "source": [
    "theoretical closed forms for the number of checks and swaps, _in the average case_:"
   ]
  },
  {
   "cell_type": "code",
   "execution_count": 12,
   "metadata": {
    "collapsed": true
   },
   "outputs": [],
   "source": [
    "def C(n):\n",
    "    return 2*(n+1)*(harmonic(n+1)-1) if n else 0\n",
    "\n",
    "def S(n):\n",
    "    return 1/Integer(3)*(n+1)*(harmonic(n+1)-Integer(7)/3)+Integer(1)/2 if n > 1 else 0"
   ]
  },
  {
   "cell_type": "code",
   "execution_count": 13,
   "metadata": {
    "collapsed": true
   },
   "outputs": [],
   "source": [
    "StatData = namedtuple('StatData', ['mean', 'variance', 'sample_size'])\n",
    "\n",
    "def simulation(f):\n",
    "    \n",
    "    @wraps(f)\n",
    "    def simulated(*args, **kwds):\n",
    "        \n",
    "        arrays = f(*args, **kwds)\n",
    "        \n",
    "        all_checks, all_swaps = [], []\n",
    "        for sarray, (checks, swaps) in map(quicksort, arrays):\n",
    "            all_checks.append(checks)\n",
    "            all_swaps.append(swaps)\n",
    "\n",
    "        # means\n",
    "        checks_mean_observed, swaps_mean_observed = mean(all_checks), mean(all_swaps)\n",
    "        \n",
    "        # variance\n",
    "        checks_var_observed, swaps_var_observed = variance(all_checks), variance(all_swaps)\n",
    "        \n",
    "        N = len(list(arrays))\n",
    "        return (StatData(checks_mean_observed, checks_var_observed, N), \n",
    "                StatData(swaps_mean_observed, swaps_var_observed, N))\n",
    "        \n",
    "\n",
    "    return simulated"
   ]
  },
  {
   "cell_type": "code",
   "execution_count": 14,
   "metadata": {
    "collapsed": false
   },
   "outputs": [
    {
     "name": "stdout",
     "output_type": "stream",
     "text": [
      "Help on function mean in module statistics:\n",
      "\n",
      "mean(data)\n",
      "    Return the sample arithmetic mean of data.\n",
      "    \n",
      "    >>> mean([1, 2, 3, 4, 4])\n",
      "    2.8\n",
      "    \n",
      "    >>> from fractions import Fraction as F\n",
      "    >>> mean([F(3, 7), F(1, 21), F(5, 3), F(1, 3)])\n",
      "    Fraction(13, 21)\n",
      "    \n",
      "    >>> from decimal import Decimal as D\n",
      "    >>> mean([D(\"0.5\"), D(\"0.75\"), D(\"0.625\"), D(\"0.375\")])\n",
      "    Decimal('0.5625')\n",
      "    \n",
      "    If ``data`` is empty, StatisticsError will be raised.\n",
      "\n"
     ]
    }
   ],
   "source": [
    "help(mean)"
   ]
  },
  {
   "cell_type": "code",
   "execution_count": 24,
   "metadata": {
    "collapsed": false
   },
   "outputs": [
    {
     "name": "stdout",
     "output_type": "stream",
     "text": [
      "Help on function variance in module statistics:\n",
      "\n",
      "variance(data, xbar=None)\n",
      "    Return the sample variance of data.\n",
      "    \n",
      "    data should be an iterable of Real-valued numbers, with at least two\n",
      "    values. The optional argument xbar, if given, should be the mean of\n",
      "    the data. If it is missing or None, the mean is automatically calculated.\n",
      "    \n",
      "    Use this function when your data is a sample from a population. To\n",
      "    calculate the variance from the entire population, see ``pvariance``.\n",
      "    \n",
      "    Examples:\n",
      "    \n",
      "    >>> data = [2.75, 1.75, 1.25, 0.25, 0.5, 1.25, 3.5]\n",
      "    >>> variance(data)\n",
      "    1.3720238095238095\n",
      "    \n",
      "    If you have already calculated the mean of your data, you can pass it as\n",
      "    the optional second argument ``xbar`` to avoid recalculating it:\n",
      "    \n",
      "    >>> m = mean(data)\n",
      "    >>> variance(data, m)\n",
      "    1.3720238095238095\n",
      "    \n",
      "    This function does not check that ``xbar`` is actually the mean of\n",
      "    ``data``. Giving arbitrary values for ``xbar`` may lead to invalid or\n",
      "    impossible results.\n",
      "    \n",
      "    Decimals and Fractions are supported:\n",
      "    \n",
      "    >>> from decimal import Decimal as D\n",
      "    >>> variance([D(\"27.5\"), D(\"30.25\"), D(\"30.25\"), D(\"34.5\"), D(\"41.75\")])\n",
      "    Decimal('31.01875')\n",
      "    \n",
      "    >>> from fractions import Fraction as F\n",
      "    >>> variance([F(1, 6), F(1, 2), F(5, 3)])\n",
      "    Fraction(67, 108)\n",
      "\n"
     ]
    }
   ],
   "source": [
    "help(variance)"
   ]
  },
  {
   "cell_type": "markdown",
   "metadata": {},
   "source": [
    "## simulation: `all_permutations`"
   ]
  },
  {
   "cell_type": "code",
   "execution_count": 15,
   "metadata": {
    "collapsed": false,
    "scrolled": true
   },
   "outputs": [
    {
     "data": {
      "image/png": "[encoded data removed]",
      "text/latex": [
       "$$\\left [ \\left ( 0, \\quad 1, \\quad 2, \\quad 3\\right ), \\quad \\left ( 0, \\quad 1, \\quad 3, \\quad 2\\right ), \\quad \\left ( 0, \\quad 2, \\quad 1, \\quad 3\\right ), \\quad \\left ( 0, \\quad 2, \\quad 3, \\quad 1\\right ), \\quad \\left ( 0, \\quad 3, \\quad 1, \\quad 2\\right ), \\quad \\left ( 0, \\quad 3, \\quad 2, \\quad 1\\right ), \\quad \\left ( 1, \\quad 0, \\quad 2, \\quad 3\\right ), \\quad \\left ( 1, \\quad 0, \\quad 3, \\quad 2\\right ), \\quad \\left ( 1, \\quad 2, \\quad 0, \\quad 3\\right ), \\quad \\left ( 1, \\quad 2, \\quad 3, \\quad 0\\right ), \\quad \\left ( 1, \\quad 3, \\quad 0, \\quad 2\\right ), \\quad \\left ( 1, \\quad 3, \\quad 2, \\quad 0\\right ), \\quad \\left ( 2, \\quad 0, \\quad 1, \\quad 3\\right ), \\quad \\left ( 2, \\quad 0, \\quad 3, \\quad 1\\right ), \\quad \\left ( 2, \\quad 1, \\quad 0, \\quad 3\\right ), \\quad \\left ( 2, \\quad 1, \\quad 3, \\quad 0\\right ), \\quad \\left ( 2, \\quad 3, \\quad 0, \\quad 1\\right ), \\quad \\left ( 2, \\quad 3, \\quad 1, \\quad 0\\right ), \\quad \\left ( 3, \\quad 0, \\quad 1, \\quad 2\\right ), \\quad \\left ( 3, \\quad 0, \\quad 2, \\quad 1\\right ), \\quad \\left ( 3, \\quad 1, \\quad 0, \\quad 2\\right ), \\quad \\left ( 3, \\quad 1, \\quad 2, \\quad 0\\right ), \\quad \\left ( 3, \\quad 2, \\quad 0, \\quad 1\\right ), \\quad \\left ( 3, \\quad 2, \\quad 1, \\quad 0\\right )\\right ]$$"
      ],
      "text/plain": [
       "[(0, 1, 2, 3), (0, 1, 3, 2), (0, 2, 1, 3), (0, 2, 3, 1), (0, 3, 1, 2), (0, 3, \n",
       "2, 1), (1, 0, 2, 3), (1, 0, 3, 2), (1, 2, 0, 3), (1, 2, 3, 0), (1, 3, 0, 2), (\n",
       "1, 3, 2, 0), (2, 0, 1, 3), (2, 0, 3, 1), (2, 1, 0, 3), (2, 1, 3, 0), (2, 3, 0,\n",
       " 1), (2, 3, 1, 0), (3, 0, 1, 2), (3, 0, 2, 1), (3, 1, 0, 2), (3, 1, 2, 0), (3,\n",
       " 2, 0, 1), (3, 2, 1, 0)]"
      ]
     },
     "execution_count": 15,
     "metadata": {},
     "output_type": "execute_result"
    }
   ],
   "source": [
    "n = 4\n",
    "perms = list(permutations(range(n)))\n",
    "assert len(perms) == factorial(n)\n",
    "\n",
    "perms"
   ]
  },
  {
   "cell_type": "code",
   "execution_count": 16,
   "metadata": {
    "collapsed": false
   },
   "outputs": [],
   "source": [
    "@simulation\n",
    "def all_permutations(n):\n",
    "    return [list(perm) for perm in permutations(range(n))]"
   ]
  },
  {
   "cell_type": "code",
   "execution_count": 17,
   "metadata": {
    "collapsed": false
   },
   "outputs": [],
   "source": [
    "n = 5\n",
    "checks_stat_data, swaps_stat_data = all_permutations(n)"
   ]
  },
  {
   "cell_type": "code",
   "execution_count": 18,
   "metadata": {
    "collapsed": false
   },
   "outputs": [
    {
     "name": "stdout",
     "output_type": "stream",
     "text": [
      "StatData(mean=17.4, variance=1.8554621848739496, sample_size=120)\n"
     ]
    }
   ],
   "source": [
    "print(checks_stat_data)"
   ]
  },
  {
   "cell_type": "code",
   "execution_count": 19,
   "metadata": {
    "collapsed": false
   },
   "outputs": [
    {
     "name": "stdout",
     "output_type": "stream",
     "text": [
      "StatData(mean=0.7333333333333333, variance=0.365266106442577, sample_size=120)\n"
     ]
    }
   ],
   "source": [
    "print(swaps_stat_data)"
   ]
  },
  {
   "cell_type": "code",
   "execution_count": 20,
   "metadata": {
    "collapsed": true
   },
   "outputs": [],
   "source": [
    "(checks_mean, _, N), (swaps_mean, _, _) = checks_stat_data, swaps_stat_data\n",
    "\n",
    "assert C(n) == checks_mean and S(n) == swaps_mean and N == factorial(n)"
   ]
  },
  {
   "cell_type": "markdown",
   "metadata": {},
   "source": [
    "## simulation: `random_permutations`"
   ]
  },
  {
   "cell_type": "code",
   "execution_count": 21,
   "metadata": {
    "collapsed": true
   },
   "outputs": [],
   "source": [
    "@simulation\n",
    "def random_permutations(n, N):\n",
    "    \n",
    "    perm = list(range(n))\n",
    "    \n",
    "    perms = []\n",
    "    \n",
    "    for i in range(N):\n",
    "        shuffle(perm)\n",
    "        perms.append(list(perm))\n",
    "    \n",
    "    return perms"
   ]
  },
  {
   "cell_type": "code",
   "execution_count": 22,
   "metadata": {
    "collapsed": false
   },
   "outputs": [],
   "source": [
    "n = 8\n",
    "checks_stat_data, swaps_stat_data = random_permutations(8, 8000)"
   ]
  },
  {
   "cell_type": "code",
   "execution_count": 23,
   "metadata": {
    "collapsed": false
   },
   "outputs": [
    {
     "name": "stdout",
     "output_type": "stream",
     "text": [
      "StatData(mean=32.92025, variance=8.028393486685836, sample_size=8000)\n"
     ]
    }
   ],
   "source": [
    "print(checks_stat_data)"
   ]
  },
  {
   "cell_type": "code",
   "execution_count": 24,
   "metadata": {
    "collapsed": false
   },
   "outputs": [
    {
     "name": "stdout",
     "output_type": "stream",
     "text": [
      "StatData(mean=1.98375, variance=0.7925850106263284, sample_size=8000)\n"
     ]
    }
   ],
   "source": [
    "print(swaps_stat_data)"
   ]
  },
  {
   "cell_type": "code",
   "execution_count": 25,
   "metadata": {
    "collapsed": false
   },
   "outputs": [
    {
     "name": "stdout",
     "output_type": "stream",
     "text": [
      "n!=40320 -> true checks mean: 32.92143\ttrue swaps mean: 1.98690\n",
      "\n",
      "N=1000 -> observed checks mean: 32.91300\tobserved swaps mean: 2.00500\n",
      "N=1500 -> observed checks mean: 33.00733\tobserved swaps mean: 1.94200\n",
      "N=2000 -> observed checks mean: 33.01450\tobserved swaps mean: 1.99250\n",
      "N=2500 -> observed checks mean: 32.96200\tobserved swaps mean: 1.95920\n",
      "N=3000 -> observed checks mean: 32.88000\tobserved swaps mean: 1.99033\n",
      "N=3500 -> observed checks mean: 32.99829\tobserved swaps mean: 1.99543\n",
      "N=4000 -> observed checks mean: 32.90825\tobserved swaps mean: 1.99775\n",
      "N=4500 -> observed checks mean: 32.92133\tobserved swaps mean: 1.98267\n",
      "N=5000 -> observed checks mean: 32.87180\tobserved swaps mean: 1.99180\n",
      "N=5500 -> observed checks mean: 32.92364\tobserved swaps mean: 1.98745\n",
      "N=6000 -> observed checks mean: 32.86167\tobserved swaps mean: 1.99967\n",
      "N=6500 -> observed checks mean: 32.86738\tobserved swaps mean: 1.99262\n",
      "N=7000 -> observed checks mean: 32.93043\tobserved swaps mean: 2.00229\n",
      "N=7500 -> observed checks mean: 32.88640\tobserved swaps mean: 2.00200\n",
      "N=8000 -> observed checks mean: 32.97087\tobserved swaps mean: 1.98687\n"
     ]
    }
   ],
   "source": [
    "n = 8\n",
    "print('n!={} -> true checks mean: {:.5f}\\ttrue swaps mean: {:.5f}\\n'.format(\n",
    "        factorial(n), C(n).evalf(), S(n).evalf()))\n",
    "\n",
    "for N in range(1000, 8001, 500):\n",
    "    (checks_mean, _, _), (swaps_mean, _, _) = random_permutations(n, N)\n",
    "    print('N={} -> observed checks mean: {:.5f}\\tobserved swaps mean: {:.5f}'.format(N, checks_mean, swaps_mean))"
   ]
  },
  {
   "cell_type": "code",
   "execution_count": 26,
   "metadata": {
    "collapsed": false
   },
   "outputs": [],
   "source": [
    "dim, step = 100, 10\n",
    "res = {i: random_permutations(i, i*step) for i in range(step, dim+1, step)}"
   ]
  },
  {
   "cell_type": "code",
   "execution_count": 27,
   "metadata": {
    "collapsed": false
   },
   "outputs": [],
   "source": [
    "%matplotlib inline\n",
    "import matplotlib.pyplot as plt"
   ]
  },
  {
   "cell_type": "code",
   "execution_count": 28,
   "metadata": {
    "collapsed": false
   },
   "outputs": [
    {
     "data": {
      "image/png": "[encoded data removed]",
      "text/plain": [
       "<matplotlib.figure.Figure at 0x7f6bee243b70>"
      ]
     },
     "metadata": {},
     "output_type": "display_data"
    }
   ],
   "source": [
    "domain = sorted(res.keys())\n",
    "plt.plot(domain, [res[k][0].mean for k in domain], 'b',\n",
    "         domain, [C(n) for n in domain], 'g',\n",
    "         domain, [res[k][1].mean for k in domain], 'r',\n",
    "         domain, [S(n) for n in domain], 'y')\n",
    "None"
   ]
  },
  {
   "cell_type": "markdown",
   "metadata": {},
   "source": [
    "## CLT"
   ]
  },
  {
   "cell_type": "code",
   "execution_count": 30,
   "metadata": {
    "collapsed": true
   },
   "outputs": [],
   "source": [
    "def draw_frequencies_histogram(seq, bins, normed=None, pdf=None):\n",
    "    \n",
    "    if callable(pdf):\n",
    "        normed=True\n",
    "        domain, theo_fn = pdf(seq)\n",
    "        plt.plot(domain, [theo_fn(i) for i in domain], 'b')\n",
    "    \n",
    "    n, bins, patches = plt.hist(list(seq), bins, normed=normed, facecolor='green', alpha=0.5)\n",
    "    \n",
    "    plt.grid(True)\n",
    "    plt.show()"
   ]
  },
  {
   "cell_type": "code",
   "execution_count": 31,
   "metadata": {
    "collapsed": true
   },
   "outputs": [],
   "source": [
    "def Normal_distribution(z, mean, std):\n",
    "    Normal_rv = stats.Normal(symbols('x'), mean, std)\n",
    "    pdf = stats.density(Normal_rv)\n",
    "    return Lambda([z], pdf(z))"
   ]
  },
  {
   "cell_type": "code",
   "execution_count": 32,
   "metadata": {
    "collapsed": false
   },
   "outputs": [
    {
     "data": {
      "image/png": "[encoded data removed]",
      "text/latex": [
       "$$\\left( z \\mapsto \\frac{\\sqrt{2} e^{- \\frac{z^{2}}{2}}}{2 \\sqrt{\\pi}} \\right)$$"
      ],
      "text/plain": [
       "          2 \n",
       "        -z  \n",
       "        ────\n",
       "         2  \n",
       "    √2⋅ℯ    \n",
       "z ↦ ────────\n",
       "      2⋅√π  "
      ]
     },
     "execution_count": 32,
     "metadata": {},
     "output_type": "execute_result"
    }
   ],
   "source": [
    "Normal_fn = Normal_distribution(z, 0, 1)\n",
    "Normal_fn"
   ]
  },
  {
   "cell_type": "code",
   "execution_count": 33,
   "metadata": {
    "collapsed": false
   },
   "outputs": [],
   "source": [
    "n, N, samples = 8, 1000, 1000\n",
    "\n",
    "checks_stats, swaps_stats = [], []\n",
    "\n",
    "for i in range(samples):\n",
    "    csd, ssd = random_permutations(n, N)\n",
    "    checks_stats.append(csd)\n",
    "    swaps_stats.append(ssd)"
   ]
  },
  {
   "cell_type": "markdown",
   "metadata": {},
   "source": [
    "According to the [Central Limit Theorem][clt], classical interpretation, a \"big\" sample is distributed as follows:\n",
    "\n",
    "$$\n",
    "\\sqrt{\\frac{n}{\\sigma_{n}}}\\left(\\bar{X}_{n} - \\mu\\right) \\stackrel{d}{\\sim} \\mathcal{N}(0,1)\n",
    "$$\n",
    "\n",
    "where, first, $n$ is the number of observations, namely sample's size; second, $\\mu$ is the theoretical mean; third, $\\bar{X}_{n}$ is the observed mean; finally, $\\sigma_{n}$ is the observed variance. Moreover, the simbol $\\stackrel{d}{\\sim}$ means _convergence in distribution_, namely doesn't matter the _support_ of the sample's distribution, in any case the _lhs_ distributes as a _standard normal_, when $n >> 1$ .\n",
    "\n",
    "This definition yields the following natural implementation:\n",
    "\n",
    "[clt]:https://en.wikipedia.org/wiki/Central_limit_theorem#Classical_CLT"
   ]
  },
  {
   "cell_type": "code",
   "execution_count": 34,
   "metadata": {
    "collapsed": true
   },
   "outputs": [],
   "source": [
    "def CLT(stats, theoretical_mean):\n",
    "    return [ sqrt(s.sample_size/s.variance)*(s.mean - theoretical_mean) for s in stats ]"
   ]
  },
  {
   "cell_type": "markdown",
   "metadata": {},
   "source": [
    "and apply it to the average number of checks:"
   ]
  },
  {
   "cell_type": "code",
   "execution_count": 35,
   "metadata": {
    "collapsed": false
   },
   "outputs": [
    {
     "data": {
      "image/png": "[encoded data removed]",
      "text/plain": [
       "<matplotlib.figure.Figure at 0x7f49462556d8>"
      ]
     },
     "metadata": {},
     "output_type": "display_data"
    }
   ],
   "source": [
    "elements = CLT(checks_stats, theoretical_mean=C(n))\n",
    "draw_frequencies_histogram(map(float, elements), bins=80,\n",
    "                          pdf=lambda seq: (linspace(-4, 4, 1e3), Normal_fn))"
   ]
  },
  {
   "cell_type": "markdown",
   "metadata": {},
   "source": [
    "finally, apply it to the average number of swaps:"
   ]
  },
  {
   "cell_type": "code",
   "execution_count": 36,
   "metadata": {
    "collapsed": false
   },
   "outputs": [
    {
     "data": {
      "image/png": "[encoded data removed]",
      "text/plain": [
       "<matplotlib.figure.Figure at 0x7f4943e929e8>"
      ]
     },
     "metadata": {},
     "output_type": "display_data"
    }
   ],
   "source": [
    "elements = CLT(swaps_stats, theoretical_mean=S(n))\n",
    "draw_frequencies_histogram(map(float, elements), bins=80,\n",
    "                          pdf=lambda seq: (linspace(-4, 4, 1e3), Normal_fn))"
   ]
  },
  {
   "cell_type": "markdown",
   "metadata": {},
   "source": [
    "---\n",
    "<a rel=\"license\" href=\"http://creativecommons.org/licenses/by-nc-sa/4.0/\"><img alt=\"Creative Commons License\" style=\"border-width:0\" src=\"https://i.creativecommons.org/l/by-nc-sa/4.0/88x31.png\" /></a><br />This work is licensed under a <a rel=\"license\" href=\"http://creativecommons.org/licenses/by-nc-sa/4.0/\">Creative Commons Attribution-NonCommercial-ShareAlike 4.0 International License</a>."
   ]
  }
 ],
 "metadata": {
  "kernelspec": {
   "display_name": "Python 3",
   "language": "python",
   "name": "python3"
  },
  "language_info": {
   "codemirror_mode": {
    "name": "ipython",
    "version": 3
   },
   "file_extension": ".py",
   "mimetype": "text/x-python",
   "name": "python",
   "nbconvert_exporter": "python",
   "pygments_lexer": "ipython3",
   "version": "3.5.2"
  }
 },
 "nbformat": 4,
 "nbformat_minor": 1
}
