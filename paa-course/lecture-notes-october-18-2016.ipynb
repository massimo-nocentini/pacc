{
 "cells": [
  {
   "cell_type": "markdown",
   "metadata": {},
   "source": [
    "<p>\n",
    "<img src=\"http://www.cerm.unifi.it/chianti/images/logo%20unifi_positivo.jpg\" \n",
    "        alt=\"UniFI logo\" style=\"float: left; width: 20%; height: 20%;\">\n",
    "<div align=\"right\">\n",
    "Massimo Nocentini<br>\n",
    "<small>\n",
    "<br>October 18, 2016: class\n",
    "</small>\n",
    "</div>\n",
    "</p>\n",
    "<br>\n",
    "<div align=\"center\">\n",
    "<b>Abstract</b><br>\n",
    "Lecture notes of today October 18, 2016, class, in Python.\n",
    "</div>"
   ]
  },
  {
   "cell_type": "code",
   "execution_count": 2,
   "metadata": {
    "collapsed": true
   },
   "outputs": [],
   "source": [
    "from functools import lru_cache\n",
    "import sys\n",
    "\n",
    "sys.setrecursionlimit(10000000)"
   ]
  },
  {
   "cell_type": "code",
   "execution_count": 81,
   "metadata": {
    "collapsed": true
   },
   "outputs": [],
   "source": [
    "from sympy import *\n",
    "from sympy.abc import n, k, alpha, beta\n",
    "\n",
    "init_printing()"
   ]
  },
  {
   "cell_type": "markdown",
   "metadata": {},
   "source": [
    "# Quicksort checks and swaps"
   ]
  },
  {
   "cell_type": "code",
   "execution_count": 4,
   "metadata": {
    "collapsed": false
   },
   "outputs": [
    {
     "data": {
      "image/png": "[encoded data removed]",
      "text/latex": [
       "$$\\left( n \\mapsto \\left(2 n + 2\\right) \\left(\\operatorname{harmonic}{\\left (n + 1 \\right )} - 1\\right) \\right)$$"
      ],
      "text/plain": [
       "n ↦ (2⋅n + 2)⋅(harmonic(n + 1) - 1)"
      ]
     },
     "execution_count": 4,
     "metadata": {},
     "output_type": "execute_result"
    }
   ],
   "source": [
    "checks_closed_form = Lambda([n], (2*n+2)*(harmonic(n+1)-1))\n",
    "checks_closed_form"
   ]
  },
  {
   "cell_type": "code",
   "execution_count": 5,
   "metadata": {
    "collapsed": false
   },
   "outputs": [
    {
     "data": {
      "image/png": "[encoded data removed]",
      "text/latex": [
       "$$\\left [ 0, \\quad 2, \\quad 5, \\quad \\frac{26}{3}, \\quad \\frac{77}{6}, \\quad \\frac{87}{5}, \\quad \\frac{223}{10}, \\quad \\frac{962}{35}, \\quad \\frac{4609}{140}, \\quad \\frac{4861}{126}\\right ]$$"
      ],
      "text/plain": [
       "⎡                           223  962  4609  4861⎤\n",
       "⎢0, 2, 5, 26/3, 77/6, 87/5, ───, ───, ────, ────⎥\n",
       "⎣                            10   35  140   126 ⎦"
      ]
     },
     "execution_count": 5,
     "metadata": {},
     "output_type": "execute_result"
    }
   ],
   "source": [
    "[checks_closed_form(n) for n in range(10)]"
   ]
  },
  {
   "cell_type": "code",
   "execution_count": 6,
   "metadata": {
    "collapsed": false
   },
   "outputs": [
    {
     "data": {
      "image/png": "[encoded data removed]",
      "text/latex": [
       "$$\\left( n \\mapsto \\frac{1}{3} \\left(n + 1\\right) \\left(\\operatorname{harmonic}{\\left (n + 1 \\right )} - \\frac{7}{3}\\right) + \\frac{1}{2} \\right)$$"
      ],
      "text/plain": [
       "    (n + 1)⋅(harmonic(n + 1) - 7/3)   1\n",
       "n ↦ ─────────────────────────────── + ─\n",
       "                   3                  2"
      ]
     },
     "execution_count": 6,
     "metadata": {},
     "output_type": "execute_result"
    }
   ],
   "source": [
    "swaps_closed_form = Lambda([n], (n+1)*(harmonic(n+1) -Integer(7)/3)/3 + Integer(1)/2)\n",
    "swaps_closed_form"
   ]
  },
  {
   "cell_type": "code",
   "execution_count": 7,
   "metadata": {
    "collapsed": false
   },
   "outputs": [
    {
     "data": {
      "image/png": "[encoded data removed]",
      "text/latex": [
       "$$\\left [ \\frac{1}{18}, \\quad - \\frac{1}{18}, \\quad 0, \\quad \\frac{1}{6}, \\quad \\frac{5}{12}, \\quad \\frac{11}{15}, \\quad \\frac{199}{180}, \\quad \\frac{961}{630}, \\quad \\frac{1669}{840}, \\quad \\frac{1879}{756}\\right ]$$"
      ],
      "text/plain": [
       "⎡                           11  199  961  1669  1879⎤\n",
       "⎢1/18, -1/18, 0, 1/6, 5/12, ──, ───, ───, ────, ────⎥\n",
       "⎣                           15  180  630  840   756 ⎦"
      ]
     },
     "execution_count": 7,
     "metadata": {},
     "output_type": "execute_result"
    }
   ],
   "source": [
    "[swaps_closed_form(n) for n in range(10)]"
   ]
  },
  {
   "cell_type": "markdown",
   "metadata": {},
   "source": [
    "# Fibonacci numbers\n",
    "\n",
    "Take a look [here][doc] for `lru_cache` decorator in order to simulate `option=remember` as you could write in Maple:\n",
    "\n",
    "[doc]:https://docs.python.org/3/library/functools.html#functools.lru_cache"
   ]
  },
  {
   "cell_type": "code",
   "execution_count": 37,
   "metadata": {
    "collapsed": false
   },
   "outputs": [],
   "source": [
    "initial_conditions = {0:0, 1:1}\n",
    "\n",
    "def make_fibonacci(maxsize=None):\n",
    "    '''Make the Fibonacci sequence using memoization of not (set `maxsize` arg to 0)'''\n",
    "    \n",
    "    @lru_cache(maxsize=maxsize)\n",
    "    def fibonacci(n):\n",
    "        return fibonacci(n-1)  + fibonacci(n-2) if n not in initial_conditions else initial_conditions[n]\n",
    "    return fibonacci"
   ]
  },
  {
   "cell_type": "code",
   "execution_count": 32,
   "metadata": {
    "collapsed": false
   },
   "outputs": [
    {
     "name": "stdout",
     "output_type": "stream",
     "text": [
      "100000 loops, best of 3: 18.2 µs per loop\n"
     ]
    }
   ],
   "source": [
    "%%timeit \n",
    "fibonacci_memoization = make_fibonacci(maxsize=None)\n",
    "[fibonacci_memoization(n) for n in range(20)]"
   ]
  },
  {
   "cell_type": "code",
   "execution_count": 36,
   "metadata": {
    "collapsed": false
   },
   "outputs": [
    {
     "data": {
      "text/plain": [
       "CacheInfo(hits=8222718, misses=501, maxsize=None, currsize=501)"
      ]
     },
     "execution_count": 36,
     "metadata": {},
     "output_type": "execute_result"
    }
   ],
   "source": [
    "fibonacci_memoization.cache_info()"
   ]
  },
  {
   "cell_type": "code",
   "execution_count": 33,
   "metadata": {
    "collapsed": false
   },
   "outputs": [
    {
     "name": "stdout",
     "output_type": "stream",
     "text": [
      "100 loops, best of 3: 8.79 ms per loop\n"
     ]
    }
   ],
   "source": [
    "%%timeit\n",
    "fibonacci_naive = make_fibonacci(maxsize=0)\n",
    "[fibonacci_naive(n) for n in range(20)]"
   ]
  },
  {
   "cell_type": "code",
   "execution_count": 34,
   "metadata": {
    "collapsed": false
   },
   "outputs": [
    {
     "data": {
      "image/png": "[encoded data removed]",
      "text/latex": [
       "$$139423224561697880139724382870407283950070256587697307264108962948325571622863290691557658876222521294125$$"
      ],
      "text/plain": [
       "139423224561697880139724382870407283950070256587697307264108962948325571622863\n",
       "290691557658876222521294125"
      ]
     },
     "execution_count": 34,
     "metadata": {},
     "output_type": "execute_result"
    }
   ],
   "source": [
    "fibonacci_memoization(500)"
   ]
  },
  {
   "cell_type": "code",
   "execution_count": null,
   "metadata": {
    "collapsed": false,
    "scrolled": false
   },
   "outputs": [],
   "source": [
    "fibonacci_naive(500) # do not evaluate this, it takes too long"
   ]
  },
  {
   "cell_type": "markdown",
   "metadata": {},
   "source": [
    "# Binomials"
   ]
  },
  {
   "cell_type": "code",
   "execution_count": 39,
   "metadata": {
    "collapsed": false
   },
   "outputs": [
    {
     "data": {
      "image/png": "[encoded data removed]",
      "text/latex": [
       "$${\\binom{n}{k}}$$"
      ],
      "text/plain": [
       "⎛n⎞\n",
       "⎜ ⎟\n",
       "⎝k⎠"
      ]
     },
     "execution_count": 39,
     "metadata": {},
     "output_type": "execute_result"
    }
   ],
   "source": [
    "binomial(n, k)"
   ]
  },
  {
   "cell_type": "code",
   "execution_count": 40,
   "metadata": {
    "collapsed": false
   },
   "outputs": [
    {
     "data": {
      "image/png": "[encoded data removed]",
      "text/latex": [
       "$$\\frac{n!}{k! \\left(- k + n\\right)!}$$"
      ],
      "text/plain": [
       "     n!     \n",
       "────────────\n",
       "k!⋅(-k + n)!"
      ]
     },
     "execution_count": 40,
     "metadata": {},
     "output_type": "execute_result"
    }
   ],
   "source": [
    "binomial(n, k).rewrite(factorial)"
   ]
  },
  {
   "cell_type": "code",
   "execution_count": 41,
   "metadata": {
    "collapsed": false
   },
   "outputs": [
    {
     "data": {
      "image/png": "[encoded data removed]",
      "text/latex": [
       "$$\\left( n \\mapsto {\\binom{2 n}{n}} \\right)$$"
      ],
      "text/plain": [
       "    ⎛2⋅n⎞\n",
       "n ↦ ⎜   ⎟\n",
       "    ⎝ n ⎠"
      ]
     },
     "execution_count": 41,
     "metadata": {},
     "output_type": "execute_result"
    }
   ],
   "source": [
    "central_binomial = Lambda([n], binomial(2*n, n))\n",
    "central_binomial"
   ]
  },
  {
   "cell_type": "code",
   "execution_count": 43,
   "metadata": {
    "collapsed": false
   },
   "outputs": [
    {
     "data": {
      "image/png": "[encoded data removed]",
      "text/latex": [
       "$$\\left [ 1, \\quad 2, \\quad 6, \\quad 20, \\quad 70, \\quad 252, \\quad 924, \\quad 3432, \\quad 12870, \\quad 48620, \\quad 184756, \\quad 705432, \\quad 2704156, \\quad 10400600, \\quad 40116600\\right ]$$"
      ],
      "text/plain": [
       "[1, 2, 6, 20, 70, 252, 924, 3432, 12870, 48620, 184756, 705432, 2704156, 10400\n",
       "600, 40116600]"
      ]
     },
     "execution_count": 43,
     "metadata": {},
     "output_type": "execute_result"
    }
   ],
   "source": [
    "[central_binomial(n) for n in range(15)]"
   ]
  },
  {
   "cell_type": "code",
   "execution_count": 45,
   "metadata": {
    "collapsed": false
   },
   "outputs": [
    {
     "data": {
      "image/png": "[encoded data removed]",
      "text/latex": [
       "$$\\left [ 1, \\quad - \\frac{1}{2}, \\quad \\frac{3}{8}, \\quad - \\frac{5}{16}, \\quad \\frac{35}{128}, \\quad - \\frac{63}{256}, \\quad \\frac{231}{1024}, \\quad - \\frac{429}{2048}, \\quad \\frac{6435}{32768}, \\quad - \\frac{12155}{65536}, \\quad \\frac{46189}{262144}\\right ]$$"
      ],
      "text/plain": [
       "⎡                      35  -63   231   -429    6435  -12155   46189 ⎤\n",
       "⎢1, -1/2, 3/8, -5/16, ───, ────, ────, ─────, ─────, ───────, ──────⎥\n",
       "⎣                     128  256   1024   2048  32768   65536   262144⎦"
      ]
     },
     "execution_count": 45,
     "metadata": {},
     "output_type": "execute_result"
    }
   ],
   "source": [
    "[binomial(-Integer(1)/2, n) for n in range(11)]"
   ]
  },
  {
   "cell_type": "code",
   "execution_count": 48,
   "metadata": {
    "collapsed": false
   },
   "outputs": [
    {
     "data": {
      "image/png": "[encoded data removed]",
      "text/latex": [
       "$$\\frac{1}{\\sqrt{n + 1}}$$"
      ],
      "text/plain": [
       "    1    \n",
       "─────────\n",
       "  _______\n",
       "╲╱ n + 1 "
      ]
     },
     "execution_count": 48,
     "metadata": {},
     "output_type": "execute_result"
    }
   ],
   "source": [
    "term = (1+n)**(-Integer(1)/2)\n",
    "term"
   ]
  },
  {
   "cell_type": "code",
   "execution_count": 53,
   "metadata": {
    "collapsed": false
   },
   "outputs": [
    {
     "data": {
      "image/png": "[encoded data removed]",
      "text/latex": [
       "$$1 - \\frac{n}{2} + \\frac{3 n^{2}}{8} - \\frac{5 n^{3}}{16} + \\frac{35 n^{4}}{128} - \\frac{63 n^{5}}{256} + \\frac{231 n^{6}}{1024} - \\frac{429 n^{7}}{2048} + \\frac{6435 n^{8}}{32768} - \\frac{12155 n^{9}}{65536} + \\frac{46189 n^{10}}{262144} + \\mathcal{O}\\left(n^{11}\\right)$$"
      ],
      "text/plain": [
       "           2      3       4       5        6        7         8          9    \n",
       "    n   3⋅n    5⋅n    35⋅n    63⋅n    231⋅n    429⋅n    6435⋅n    12155⋅n    4\n",
       "1 - ─ + ──── - ──── + ───── - ───── + ────── - ────── + ─────── - ──────── + ─\n",
       "    2    8      16     128     256     1024     2048     32768     65536      \n",
       "\n",
       "      10         \n",
       "6189⋅n      ⎛ 11⎞\n",
       "──────── + O⎝n  ⎠\n",
       " 262144          "
      ]
     },
     "execution_count": 53,
     "metadata": {},
     "output_type": "execute_result"
    }
   ],
   "source": [
    "term.series(n, n=11)"
   ]
  },
  {
   "cell_type": "code",
   "execution_count": 57,
   "metadata": {
    "collapsed": false
   },
   "outputs": [
    {
     "data": {
      "image/png": "[encoded data removed]",
      "text/latex": [
       "$$\\left( n \\mapsto \\left(-1\\right)^{n} 4^{- n} {\\binom{2 n}{n}} \\right)$$"
      ],
      "text/plain": [
       "        n  -n ⎛2⋅n⎞\n",
       "n ↦ (-1) ⋅4  ⋅⎜   ⎟\n",
       "              ⎝ n ⎠"
      ]
     },
     "execution_count": 57,
     "metadata": {},
     "output_type": "execute_result"
    }
   ],
   "source": [
    "term = Lambda([n], (-1)**n*binomial(2*n, n)/4**n)\n",
    "term"
   ]
  },
  {
   "cell_type": "code",
   "execution_count": 58,
   "metadata": {
    "collapsed": false
   },
   "outputs": [
    {
     "data": {
      "image/png": "[encoded data removed]",
      "text/latex": [
       "$$\\left [ 1, \\quad - \\frac{1}{2}, \\quad \\frac{3}{8}, \\quad - \\frac{5}{16}, \\quad \\frac{35}{128}, \\quad - \\frac{63}{256}, \\quad \\frac{231}{1024}, \\quad - \\frac{429}{2048}, \\quad \\frac{6435}{32768}, \\quad - \\frac{12155}{65536}, \\quad \\frac{46189}{262144}\\right ]$$"
      ],
      "text/plain": [
       "⎡                      35  -63   231   -429    6435  -12155   46189 ⎤\n",
       "⎢1, -1/2, 3/8, -5/16, ───, ────, ────, ─────, ─────, ───────, ──────⎥\n",
       "⎣                     128  256   1024   2048  32768   65536   262144⎦"
      ]
     },
     "execution_count": 58,
     "metadata": {},
     "output_type": "execute_result"
    }
   ],
   "source": [
    "[term(n) for n in range(11)]"
   ]
  },
  {
   "cell_type": "code",
   "execution_count": 74,
   "metadata": {
    "collapsed": false
   },
   "outputs": [
    {
     "data": {
      "image/png": "[encoded data removed]",
      "text/latex": [
       "$$\\left[\\begin{matrix}1 & 0 & 0 & 0 & 0 & 0 & 0 & 0 & 0 & 0\\\\1 & 1 & 0 & 0 & 0 & 0 & 0 & 0 & 0 & 0\\\\1 & 2 & 1 & 0 & 0 & 0 & 0 & 0 & 0 & 0\\\\1 & 3 & 3 & 1 & 0 & 0 & 0 & 0 & 0 & 0\\\\1 & 4 & 6 & 4 & 1 & 0 & 0 & 0 & 0 & 0\\\\1 & 5 & 10 & 10 & 5 & 1 & 0 & 0 & 0 & 0\\\\1 & 6 & 15 & 20 & 15 & 6 & 1 & 0 & 0 & 0\\\\1 & 7 & 21 & 35 & 35 & 21 & 7 & 1 & 0 & 0\\\\1 & 8 & 28 & 56 & 70 & 56 & 28 & 8 & 1 & 0\\\\1 & 9 & 36 & 84 & 126 & 126 & 84 & 36 & 9 & 1\\end{matrix}\\right]$$"
      ],
      "text/plain": [
       "⎡1  0  0   0    0    0   0   0   0  0⎤\n",
       "⎢                                    ⎥\n",
       "⎢1  1  0   0    0    0   0   0   0  0⎥\n",
       "⎢                                    ⎥\n",
       "⎢1  2  1   0    0    0   0   0   0  0⎥\n",
       "⎢                                    ⎥\n",
       "⎢1  3  3   1    0    0   0   0   0  0⎥\n",
       "⎢                                    ⎥\n",
       "⎢1  4  6   4    1    0   0   0   0  0⎥\n",
       "⎢                                    ⎥\n",
       "⎢1  5  10  10   5    1   0   0   0  0⎥\n",
       "⎢                                    ⎥\n",
       "⎢1  6  15  20  15    6   1   0   0  0⎥\n",
       "⎢                                    ⎥\n",
       "⎢1  7  21  35  35   21   7   1   0  0⎥\n",
       "⎢                                    ⎥\n",
       "⎢1  8  28  56  70   56   28  8   1  0⎥\n",
       "⎢                                    ⎥\n",
       "⎣1  9  36  84  126  126  84  36  9  1⎦"
      ]
     },
     "execution_count": 74,
     "metadata": {},
     "output_type": "execute_result"
    }
   ],
   "source": [
    "Matrix(10, 10, binomial)"
   ]
  },
  {
   "cell_type": "code",
   "execution_count": 99,
   "metadata": {
    "collapsed": false
   },
   "outputs": [
    {
     "data": {
      "image/png": "[encoded data removed]",
      "text/latex": [
       "$$\\left[\\begin{matrix}1 & 0 & 0 & 0 & 0 & 0 & 0 & 0 & 0 & 0\\\\1 & 1 & 0 & 0 & 0 & 0 & 0 & 0 & 0 & 0\\\\1 & 2 & 1 & 0 & 0 & 0 & 0 & 0 & 0 & 0\\\\1 & 3 & 3 & 1 & 0 & 0 & 0 & 0 & 0 & 0\\\\1 & 4 & 6 & 4 & 1 & 0 & 0 & 0 & 0 & 0\\\\1 & 5 & 10 & 10 & 5 & 1 & 0 & 0 & 0 & 0\\\\1 & 6 & 15 & 20 & 15 & 6 & 1 & 0 & 0 & 0\\\\1 & 7 & 21 & 35 & 35 & 21 & 7 & 1 & 0 & 0\\\\1 & 8 & 28 & 56 & 70 & 56 & 28 & 8 & 1 & 0\\\\1 & 9 & 36 & 84 & 126 & 126 & 84 & 36 & 9 & 1\\end{matrix}\\right]$$"
      ],
      "text/plain": [
       "⎡1  0  0   0    0    0   0   0   0  0⎤\n",
       "⎢                                    ⎥\n",
       "⎢1  1  0   0    0    0   0   0   0  0⎥\n",
       "⎢                                    ⎥\n",
       "⎢1  2  1   0    0    0   0   0   0  0⎥\n",
       "⎢                                    ⎥\n",
       "⎢1  3  3   1    0    0   0   0   0  0⎥\n",
       "⎢                                    ⎥\n",
       "⎢1  4  6   4    1    0   0   0   0  0⎥\n",
       "⎢                                    ⎥\n",
       "⎢1  5  10  10   5    1   0   0   0  0⎥\n",
       "⎢                                    ⎥\n",
       "⎢1  6  15  20  15    6   1   0   0  0⎥\n",
       "⎢                                    ⎥\n",
       "⎢1  7  21  35  35   21   7   1   0  0⎥\n",
       "⎢                                    ⎥\n",
       "⎢1  8  28  56  70   56   28  8   1  0⎥\n",
       "⎢                                    ⎥\n",
       "⎣1  9  36  84  126  126  84  36  9  1⎦"
      ]
     },
     "execution_count": 99,
     "metadata": {},
     "output_type": "execute_result"
    }
   ],
   "source": [
    "pascal = eye(10)\n",
    "for i in range(1,10): \n",
    "    for j in range(i+1):\n",
    "        pascal[i, j] = pascal[i-1, j-1] + pascal[i-1, j]\n",
    "\n",
    "pascal"
   ]
  },
  {
   "cell_type": "markdown",
   "metadata": {},
   "source": [
    "summing rows:"
   ]
  },
  {
   "cell_type": "code",
   "execution_count": 100,
   "metadata": {
    "collapsed": false
   },
   "outputs": [
    {
     "data": {
      "image/png": "[encoded data removed]",
      "text/latex": [
       "$$\\left [ 1, \\quad 2, \\quad 4, \\quad 8, \\quad 16, \\quad 32, \\quad 64, \\quad 128, \\quad 256, \\quad 512\\right ]$$"
      ],
      "text/plain": [
       "[1, 2, 4, 8, 16, 32, 64, 128, 256, 512]"
      ]
     },
     "execution_count": 100,
     "metadata": {},
     "output_type": "execute_result"
    }
   ],
   "source": [
    "[sum(pascal[r, :]) for r in range(pascal.rows)]"
   ]
  },
  {
   "cell_type": "markdown",
   "metadata": {},
   "source": [
    "summing anti-diagonals:"
   ]
  },
  {
   "cell_type": "code",
   "execution_count": 102,
   "metadata": {
    "collapsed": false
   },
   "outputs": [
    {
     "data": {
      "image/png": "[encoded data removed]",
      "text/latex": [
       "$$\\left [ 1, \\quad 1, \\quad 2, \\quad 3, \\quad 5, \\quad 8, \\quad 13, \\quad 21, \\quad 34, \\quad 55\\right ]$$"
      ],
      "text/plain": [
       "[1, 1, 2, 3, 5, 8, 13, 21, 34, 55]"
      ]
     },
     "execution_count": 102,
     "metadata": {},
     "output_type": "execute_result"
    }
   ],
   "source": [
    "[sum(pascal[r-i, i] for i in range(r+1)) for r in range(pascal.rows)]"
   ]
  },
  {
   "cell_type": "code",
   "execution_count": 86,
   "metadata": {
    "collapsed": false
   },
   "outputs": [
    {
     "data": {
      "image/png": "[encoded data removed]",
      "text/latex": [
       "$$\\left[\\begin{matrix}1 & 0 & 0 & 0 & 0 & 0 & 0 & 0 & 0 & 0\\\\\\beta & \\alpha & 0 & 0 & 0 & 0 & 0 & 0 & 0 & 0\\\\\\beta^{2} & 2 \\alpha \\beta & \\alpha^{2} & 0 & 0 & 0 & 0 & 0 & 0 & 0\\\\\\beta^{3} & 3 \\alpha \\beta^{2} & 3 \\alpha^{2} \\beta & \\alpha^{3} & 0 & 0 & 0 & 0 & 0 & 0\\\\\\beta^{4} & 4 \\alpha \\beta^{3} & 6 \\alpha^{2} \\beta^{2} & 4 \\alpha^{3} \\beta & \\alpha^{4} & 0 & 0 & 0 & 0 & 0\\\\\\beta^{5} & 5 \\alpha \\beta^{4} & 10 \\alpha^{2} \\beta^{3} & 10 \\alpha^{3} \\beta^{2} & 5 \\alpha^{4} \\beta & \\alpha^{5} & 0 & 0 & 0 & 0\\\\\\beta^{6} & 6 \\alpha \\beta^{5} & 15 \\alpha^{2} \\beta^{4} & 20 \\alpha^{3} \\beta^{3} & 15 \\alpha^{4} \\beta^{2} & 6 \\alpha^{5} \\beta & \\alpha^{6} & 0 & 0 & 0\\\\\\beta^{7} & 7 \\alpha \\beta^{6} & 21 \\alpha^{2} \\beta^{5} & 35 \\alpha^{3} \\beta^{4} & 35 \\alpha^{4} \\beta^{3} & 21 \\alpha^{5} \\beta^{2} & 7 \\alpha^{6} \\beta & \\alpha^{7} & 0 & 0\\\\\\beta^{8} & 8 \\alpha \\beta^{7} & 28 \\alpha^{2} \\beta^{6} & 56 \\alpha^{3} \\beta^{5} & 70 \\alpha^{4} \\beta^{4} & 56 \\alpha^{5} \\beta^{3} & 28 \\alpha^{6} \\beta^{2} & 8 \\alpha^{7} \\beta & \\alpha^{8} & 0\\\\\\beta^{9} & 9 \\alpha \\beta^{8} & 36 \\alpha^{2} \\beta^{7} & 84 \\alpha^{3} \\beta^{6} & 126 \\alpha^{4} \\beta^{5} & 126 \\alpha^{5} \\beta^{4} & 84 \\alpha^{6} \\beta^{3} & 36 \\alpha^{7} \\beta^{2} & 9 \\alpha^{8} \\beta & \\alpha^{9}\\end{matrix}\\right]$$"
      ],
      "text/plain": [
       "⎡1     0        0         0          0          0         0         0        0\n",
       "⎢                                                                             \n",
       "⎢β     α        0         0          0          0         0         0        0\n",
       "⎢                                                                             \n",
       "⎢ 2              2                                                            \n",
       "⎢β   2⋅α⋅β      α         0          0          0         0         0        0\n",
       "⎢                                                                             \n",
       "⎢ 3       2      2         3                                                  \n",
       "⎢β   3⋅α⋅β    3⋅α ⋅β      α          0          0         0         0        0\n",
       "⎢                                                                             \n",
       "⎢ 4       3     2  2       3         4                                        \n",
       "⎢β   4⋅α⋅β   6⋅α ⋅β     4⋅α ⋅β      α           0         0         0        0\n",
       "⎢                                                                             \n",
       "⎢ 5       4      2  3      3  2      4          5                             \n",
       "⎢β   5⋅α⋅β   10⋅α ⋅β   10⋅α ⋅β    5⋅α ⋅β       α          0         0        0\n",
       "⎢                                                                             \n",
       "⎢ 6       5      2  4      3  3      4  2       5          6                  \n",
       "⎢β   6⋅α⋅β   15⋅α ⋅β   20⋅α ⋅β   15⋅α ⋅β     6⋅α ⋅β       α         0        0\n",
       "⎢                                                                             \n",
       "⎢ 7       6      2  5      3  4      4  3       5  2       6         7        \n",
       "⎢β   7⋅α⋅β   21⋅α ⋅β   35⋅α ⋅β   35⋅α ⋅β    21⋅α ⋅β     7⋅α ⋅β      α        0\n",
       "⎢                                                                             \n",
       "⎢ 8       7      2  6      3  5      4  4       5  3       6  2      7        \n",
       "⎢β   8⋅α⋅β   28⋅α ⋅β   56⋅α ⋅β   70⋅α ⋅β    56⋅α ⋅β    28⋅α ⋅β    8⋅α ⋅β     α\n",
       "⎢                                                                             \n",
       "⎢ 9       8      2  7      3  6       4  5       5  4      6  3      7  2     \n",
       "⎣β   9⋅α⋅β   36⋅α ⋅β   84⋅α ⋅β   126⋅α ⋅β   126⋅α ⋅β   84⋅α ⋅β   36⋅α ⋅β   9⋅α\n",
       "\n",
       "     0 ⎤\n",
       "       ⎥\n",
       "     0 ⎥\n",
       "       ⎥\n",
       "       ⎥\n",
       "     0 ⎥\n",
       "       ⎥\n",
       "       ⎥\n",
       "     0 ⎥\n",
       "       ⎥\n",
       "       ⎥\n",
       "     0 ⎥\n",
       "       ⎥\n",
       "       ⎥\n",
       "     0 ⎥\n",
       "       ⎥\n",
       "       ⎥\n",
       "     0 ⎥\n",
       "       ⎥\n",
       "       ⎥\n",
       "     0 ⎥\n",
       "       ⎥\n",
       "8      ⎥\n",
       "     0 ⎥\n",
       "       ⎥\n",
       "8     9⎥\n",
       " ⋅β  α ⎦"
      ]
     },
     "execution_count": 86,
     "metadata": {},
     "output_type": "execute_result"
    }
   ],
   "source": [
    "pascal_gen = eye(10)\n",
    "for i in range(1,10): \n",
    "    for j in range(i+1):\n",
    "        pascal_gen[i, j] = alpha*pascal_gen[i-1, j-1] + beta*pascal_gen[i-1, j]\n",
    "\n",
    "pascal_gen"
   ]
  },
  {
   "cell_type": "code",
   "execution_count": 91,
   "metadata": {
    "collapsed": false
   },
   "outputs": [
    {
     "data": {
      "image/png": "[encoded data removed]",
      "text/latex": [
       "$$\\left[\\begin{matrix}1 & 0 & 0 & 0 & 0 & 0 & 0 & 0 & 0 & 0\\\\0 & 1 & 0 & 0 & 0 & 0 & 0 & 0 & 0 & 0\\\\0 & 1 & 1 & 0 & 0 & 0 & 0 & 0 & 0 & 0\\\\0 & 1 & 3 & 1 & 0 & 0 & 0 & 0 & 0 & 0\\\\0 & 1 & 7 & 6 & 1 & 0 & 0 & 0 & 0 & 0\\\\0 & 1 & 15 & 25 & 10 & 1 & 0 & 0 & 0 & 0\\\\0 & 1 & 31 & 90 & 65 & 15 & 1 & 0 & 0 & 0\\\\0 & 1 & 63 & 301 & 350 & 140 & 21 & 1 & 0 & 0\\\\0 & 1 & 127 & 966 & 1701 & 1050 & 266 & 28 & 1 & 0\\\\0 & 1 & 255 & 3025 & 7770 & 6951 & 2646 & 462 & 36 & 1\\end{matrix}\\right]$$"
      ],
      "text/plain": [
       "⎡1  0   0    0     0     0     0     0   0   0⎤\n",
       "⎢                                             ⎥\n",
       "⎢0  1   0    0     0     0     0     0   0   0⎥\n",
       "⎢                                             ⎥\n",
       "⎢0  1   1    0     0     0     0     0   0   0⎥\n",
       "⎢                                             ⎥\n",
       "⎢0  1   3    1     0     0     0     0   0   0⎥\n",
       "⎢                                             ⎥\n",
       "⎢0  1   7    6     1     0     0     0   0   0⎥\n",
       "⎢                                             ⎥\n",
       "⎢0  1  15    25    10    1     0     0   0   0⎥\n",
       "⎢                                             ⎥\n",
       "⎢0  1  31    90    65    15    1     0   0   0⎥\n",
       "⎢                                             ⎥\n",
       "⎢0  1  63   301   350   140    21    1   0   0⎥\n",
       "⎢                                             ⎥\n",
       "⎢0  1  127  966   1701  1050  266   28   1   0⎥\n",
       "⎢                                             ⎥\n",
       "⎣0  1  255  3025  7770  6951  2646  462  36  1⎦"
      ]
     },
     "execution_count": 91,
     "metadata": {},
     "output_type": "execute_result"
    }
   ],
   "source": [
    "stirling_II = eye(10)\n",
    "for i in range(1,10): \n",
    "    for j in range(i+1):\n",
    "        stirling_II[i, j] = stirling_II[i-1, j-1] + j*stirling_II[i-1, j]\n",
    "\n",
    "stirling_II"
   ]
  },
  {
   "cell_type": "markdown",
   "metadata": {},
   "source": [
    "---\n",
    "<a rel=\"license\" href=\"http://creativecommons.org/licenses/by-nc-sa/4.0/\"><img alt=\"Creative Commons License\" style=\"border-width:0\" src=\"https://i.creativecommons.org/l/by-nc-sa/4.0/88x31.png\" /></a><br />This work is licensed under a <a rel=\"license\" href=\"http://creativecommons.org/licenses/by-nc-sa/4.0/\">Creative Commons Attribution-NonCommercial-ShareAlike 4.0 International License</a>."
   ]
  }
 ],
 "metadata": {
  "kernelspec": {
   "display_name": "Python 3",
   "language": "python",
   "name": "python3"
  },
  "language_info": {
   "codemirror_mode": {
    "name": "ipython",
    "version": 3
   },
   "file_extension": ".py",
   "mimetype": "text/x-python",
   "name": "python",
   "nbconvert_exporter": "python",
   "pygments_lexer": "ipython3",
   "version": "3.5.2"
  }
 },
 "nbformat": 4,
 "nbformat_minor": 1
}
