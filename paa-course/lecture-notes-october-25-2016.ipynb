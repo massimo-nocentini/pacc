{
 "cells": [
  {
   "cell_type": "markdown",
   "metadata": {},
   "source": [
    "<p>\n",
    "<img src=\"http://www.cerm.unifi.it/chianti/images/logo%20unifi_positivo.jpg\" \n",
    "        alt=\"UniFI logo\" style=\"float: left; width: 20%; height: 20%;\">\n",
    "<div align=\"right\">\n",
    "Massimo Nocentini<br>\n",
    "<small>\n",
    "<br>October 25, 2016: class\n",
    "</small>\n",
    "</div>\n",
    "</p>\n",
    "<br>\n",
    "<div align=\"center\">\n",
    "<b>Abstract</b><br>\n",
    "Lecture notes of today (October 25, 2016) class in Python, about series expansion.\n",
    "</div>"
   ]
  },
  {
   "cell_type": "code",
   "execution_count": 1,
   "metadata": {
    "collapsed": true
   },
   "outputs": [],
   "source": [
    "from sympy import *\n",
    "\n",
    "init_printing()"
   ]
  },
  {
   "cell_type": "code",
   "execution_count": 35,
   "metadata": {
    "collapsed": false
   },
   "outputs": [],
   "source": [
    "t, m, i, k, n = symbols('t m i k n')\n",
    "a, b = IndexedBase('a'), IndexedBase('b')"
   ]
  },
  {
   "cell_type": "code",
   "execution_count": 84,
   "metadata": {
    "collapsed": false
   },
   "outputs": [
    {
     "data": {
      "image/png": "[encoded data removed]",
      "text/latex": [
       "$$1 + t + t^{2} + t^{3} + t^{4} + t^{5} + t^{6} + t^{7} + t^{8} + t^{9} + t^{10} + t^{11} + t^{12} + t^{13} + t^{14} + t^{15} + t^{16} + t^{17} + t^{18} + t^{19} + \\mathcal{O}\\left(t^{20}\\right)$$"
      ],
      "text/plain": [
       "         2    3    4    5    6    7    8    9    10    11    12    13    14   \n",
       "1 + t + t  + t  + t  + t  + t  + t  + t  + t  + t   + t   + t   + t   + t   + \n",
       "\n",
       " 15    16    17    18    19    ⎛ 20⎞\n",
       "t   + t   + t   + t   + t   + O⎝t  ⎠"
      ]
     },
     "execution_count": 84,
     "metadata": {},
     "output_type": "execute_result"
    }
   ],
   "source": [
    "ones_fn = Lambda([t], 1/(1-t))\n",
    "series(ones_fn(t), t, n=20)"
   ]
  },
  {
   "cell_type": "code",
   "execution_count": 4,
   "metadata": {
    "collapsed": false
   },
   "outputs": [
    {
     "name": "stdout",
     "output_type": "stream",
     "text": [
      "Help on function series in module sympy.series.series:\n",
      "\n",
      "series(expr, x=None, x0=0, n=6, dir='+')\n",
      "    Series expansion of expr around point `x = x0`.\n",
      "    \n",
      "    See the doctring of Expr.series() for complete details of this wrapper.\n",
      "\n"
     ]
    }
   ],
   "source": [
    "help(series)"
   ]
  },
  {
   "cell_type": "code",
   "execution_count": 14,
   "metadata": {
    "collapsed": false
   },
   "outputs": [
    {
     "data": {
      "image/png": "[encoded data removed]",
      "text/latex": [
       "$$\\left( t \\mapsto \\sum_{i=0}^{m} t^{i} a_{i} \\right)$$"
      ],
      "text/plain": [
       "      m          \n",
       "     ___         \n",
       "     ╲           \n",
       "      ╲    i     \n",
       "t ↦   ╱   t ⋅a[i]\n",
       "     ╱           \n",
       "     ‾‾‾         \n",
       "    i = 0        "
      ]
     },
     "execution_count": 14,
     "metadata": {},
     "output_type": "execute_result"
    }
   ],
   "source": [
    "a_fn = Lambda([t], Sum(a[i]*t**i, (i, 0, m)))\n",
    "a_fn"
   ]
  },
  {
   "cell_type": "code",
   "execution_count": 15,
   "metadata": {
    "collapsed": false
   },
   "outputs": [
    {
     "data": {
      "image/png": "[encoded data removed]",
      "text/latex": [
       "$$\\left( t \\mapsto \\sum_{i=0}^{m} t^{i} b_{i} \\right)$$"
      ],
      "text/plain": [
       "      m          \n",
       "     ___         \n",
       "     ╲           \n",
       "      ╲    i     \n",
       "t ↦   ╱   t ⋅b[i]\n",
       "     ╱           \n",
       "     ‾‾‾         \n",
       "    i = 0        "
      ]
     },
     "execution_count": 15,
     "metadata": {},
     "output_type": "execute_result"
    }
   ],
   "source": [
    "b_fn = Lambda([t], Sum(b[i]*t**i, (i, 0, m)))\n",
    "b_fn"
   ]
  },
  {
   "cell_type": "code",
   "execution_count": 17,
   "metadata": {
    "collapsed": false
   },
   "outputs": [
    {
     "data": {
      "image/png": "[encoded data removed]",
      "text/latex": [
       "$$\\sum_{i=0}^{m} t^{i} a_{i} + \\sum_{i=0}^{m} t^{i} b_{i}$$"
      ],
      "text/plain": [
       "  m               m          \n",
       " ___             ___         \n",
       " ╲               ╲           \n",
       "  ╲    i          ╲    i     \n",
       "  ╱   t ⋅a[i] +   ╱   t ⋅b[i]\n",
       " ╱               ╱           \n",
       " ‾‾‾             ‾‾‾         \n",
       "i = 0           i = 0        "
      ]
     },
     "execution_count": 17,
     "metadata": {},
     "output_type": "execute_result"
    }
   ],
   "source": [
    "ab_sum = a_fn(t) + b_fn(t)\n",
    "ab_sum"
   ]
  },
  {
   "cell_type": "code",
   "execution_count": 20,
   "metadata": {
    "collapsed": false
   },
   "outputs": [
    {
     "data": {
      "image/png": "[encoded data removed]",
      "text/latex": [
       "$$t^{10} a_{10} + t^{10} b_{10} + t^{9} a_{9} + t^{9} b_{9} + t^{8} a_{8} + t^{8} b_{8} + t^{7} a_{7} + t^{7} b_{7} + t^{6} a_{6} + t^{6} b_{6} + t^{5} a_{5} + t^{5} b_{5} + t^{4} a_{4} + t^{4} b_{4} + t^{3} a_{3} + t^{3} b_{3} + t^{2} a_{2} + t^{2} b_{2} + t a_{1} + t b_{1} + a_{0} + b_{0}$$"
      ],
      "text/plain": [
       " 10          10          9         9         8         8         7         7  \n",
       "t  ⋅a[10] + t  ⋅b[10] + t ⋅a[9] + t ⋅b[9] + t ⋅a[8] + t ⋅b[8] + t ⋅a[7] + t ⋅b\n",
       "\n",
       "       6         6         5         5         4         4         3         3\n",
       "[7] + t ⋅a[6] + t ⋅b[6] + t ⋅a[5] + t ⋅b[5] + t ⋅a[4] + t ⋅b[4] + t ⋅a[3] + t \n",
       "\n",
       "         2         2                                     \n",
       "⋅b[3] + t ⋅a[2] + t ⋅b[2] + t⋅a[1] + t⋅b[1] + a[0] + b[0]"
      ]
     },
     "execution_count": 20,
     "metadata": {},
     "output_type": "execute_result"
    }
   ],
   "source": [
    "expanded_sum = ab_sum.subs({m:10}).doit()\n",
    "expanded_sum"
   ]
  },
  {
   "cell_type": "code",
   "execution_count": 21,
   "metadata": {
    "collapsed": false
   },
   "outputs": [
    {
     "data": {
      "image/png": "[encoded data removed]",
      "text/latex": [
       "$$t^{10} \\left(a_{10} + b_{10}\\right) + t^{9} \\left(a_{9} + b_{9}\\right) + t^{8} \\left(a_{8} + b_{8}\\right) + t^{7} \\left(a_{7} + b_{7}\\right) + t^{6} \\left(a_{6} + b_{6}\\right) + t^{5} \\left(a_{5} + b_{5}\\right) + t^{4} \\left(a_{4} + b_{4}\\right) + t^{3} \\left(a_{3} + b_{3}\\right) + t^{2} \\left(a_{2} + b_{2}\\right) + t \\left(a_{1} + b_{1}\\right) + a_{0} + b_{0}$$"
      ],
      "text/plain": [
       " 10                    9                  8                  7                \n",
       "t  ⋅(a[10] + b[10]) + t ⋅(a[9] + b[9]) + t ⋅(a[8] + b[8]) + t ⋅(a[7] + b[7]) +\n",
       "\n",
       "  6                  5                  4                  3                  \n",
       " t ⋅(a[6] + b[6]) + t ⋅(a[5] + b[5]) + t ⋅(a[4] + b[4]) + t ⋅(a[3] + b[3]) + t\n",
       "\n",
       "2                                              \n",
       " ⋅(a[2] + b[2]) + t⋅(a[1] + b[1]) + a[0] + b[0]"
      ]
     },
     "execution_count": 21,
     "metadata": {},
     "output_type": "execute_result"
    }
   ],
   "source": [
    "expanded_sum.collect(t)"
   ]
  },
  {
   "cell_type": "code",
   "execution_count": 22,
   "metadata": {
    "collapsed": false,
    "scrolled": false
   },
   "outputs": [
    {
     "name": "stdout",
     "output_type": "stream",
     "text": [
      "Help on function collect in module sympy.simplify.radsimp:\n",
      "\n",
      "collect(expr, syms, func=None, evaluate=None, exact=False, distribute_order_term=True)\n",
      "    Collect additive terms of an expression.\n",
      "    \n",
      "    This function collects additive terms of an expression with respect\n",
      "    to a list of expression up to powers with rational exponents. By the\n",
      "    term symbol here are meant arbitrary expressions, which can contain\n",
      "    powers, products, sums etc. In other words symbol is a pattern which\n",
      "    will be searched for in the expression's terms.\n",
      "    \n",
      "    The input expression is not expanded by :func:`collect`, so user is\n",
      "    expected to provide an expression is an appropriate form. This makes\n",
      "    :func:`collect` more predictable as there is no magic happening behind the\n",
      "    scenes. However, it is important to note, that powers of products are\n",
      "    converted to products of powers using the :func:`expand_power_base`\n",
      "    function.\n",
      "    \n",
      "    There are two possible types of output. First, if ``evaluate`` flag is\n",
      "    set, this function will return an expression with collected terms or\n",
      "    else it will return a dictionary with expressions up to rational powers\n",
      "    as keys and collected coefficients as values.\n",
      "    \n",
      "    Examples\n",
      "    ========\n",
      "    \n",
      "    >>> from sympy import S, collect, expand, factor, Wild\n",
      "    >>> from sympy.abc import a, b, c, x, y, z\n",
      "    \n",
      "    This function can collect symbolic coefficients in polynomials or\n",
      "    rational expressions. It will manage to find all integer or rational\n",
      "    powers of collection variable::\n",
      "    \n",
      "        >>> collect(a*x**2 + b*x**2 + a*x - b*x + c, x)\n",
      "        c + x**2*(a + b) + x*(a - b)\n",
      "    \n",
      "    The same result can be achieved in dictionary form::\n",
      "    \n",
      "        >>> d = collect(a*x**2 + b*x**2 + a*x - b*x + c, x, evaluate=False)\n",
      "        >>> d[x**2]\n",
      "        a + b\n",
      "        >>> d[x]\n",
      "        a - b\n",
      "        >>> d[S.One]\n",
      "        c\n",
      "    \n",
      "    You can also work with multivariate polynomials. However, remember that\n",
      "    this function is greedy so it will care only about a single symbol at time,\n",
      "    in specification order::\n",
      "    \n",
      "        >>> collect(x**2 + y*x**2 + x*y + y + a*y, [x, y])\n",
      "        x**2*(y + 1) + x*y + y*(a + 1)\n",
      "    \n",
      "    Also more complicated expressions can be used as patterns::\n",
      "    \n",
      "        >>> from sympy import sin, log\n",
      "        >>> collect(a*sin(2*x) + b*sin(2*x), sin(2*x))\n",
      "        (a + b)*sin(2*x)\n",
      "    \n",
      "        >>> collect(a*x*log(x) + b*(x*log(x)), x*log(x))\n",
      "        x*(a + b)*log(x)\n",
      "    \n",
      "    You can use wildcards in the pattern::\n",
      "    \n",
      "        >>> w = Wild('w1')\n",
      "        >>> collect(a*x**y - b*x**y, w**y)\n",
      "        x**y*(a - b)\n",
      "    \n",
      "    It is also possible to work with symbolic powers, although it has more\n",
      "    complicated behavior, because in this case power's base and symbolic part\n",
      "    of the exponent are treated as a single symbol::\n",
      "    \n",
      "        >>> collect(a*x**c + b*x**c, x)\n",
      "        a*x**c + b*x**c\n",
      "        >>> collect(a*x**c + b*x**c, x**c)\n",
      "        x**c*(a + b)\n",
      "    \n",
      "    However if you incorporate rationals to the exponents, then you will get\n",
      "    well known behavior::\n",
      "    \n",
      "        >>> collect(a*x**(2*c) + b*x**(2*c), x**c)\n",
      "        x**(2*c)*(a + b)\n",
      "    \n",
      "    Note also that all previously stated facts about :func:`collect` function\n",
      "    apply to the exponential function, so you can get::\n",
      "    \n",
      "        >>> from sympy import exp\n",
      "        >>> collect(a*exp(2*x) + b*exp(2*x), exp(x))\n",
      "        (a + b)*exp(2*x)\n",
      "    \n",
      "    If you are interested only in collecting specific powers of some symbols\n",
      "    then set ``exact`` flag in arguments::\n",
      "    \n",
      "        >>> collect(a*x**7 + b*x**7, x, exact=True)\n",
      "        a*x**7 + b*x**7\n",
      "        >>> collect(a*x**7 + b*x**7, x**7, exact=True)\n",
      "        x**7*(a + b)\n",
      "    \n",
      "    You can also apply this function to differential equations, where\n",
      "    derivatives of arbitrary order can be collected. Note that if you\n",
      "    collect with respect to a function or a derivative of a function, all\n",
      "    derivatives of that function will also be collected. Use\n",
      "    ``exact=True`` to prevent this from happening::\n",
      "    \n",
      "        >>> from sympy import Derivative as D, collect, Function\n",
      "        >>> f = Function('f') (x)\n",
      "    \n",
      "        >>> collect(a*D(f,x) + b*D(f,x), D(f,x))\n",
      "        (a + b)*Derivative(f(x), x)\n",
      "    \n",
      "        >>> collect(a*D(D(f,x),x) + b*D(D(f,x),x), f)\n",
      "        (a + b)*Derivative(f(x), x, x)\n",
      "    \n",
      "        >>> collect(a*D(D(f,x),x) + b*D(D(f,x),x), D(f,x), exact=True)\n",
      "        a*Derivative(f(x), x, x) + b*Derivative(f(x), x, x)\n",
      "    \n",
      "        >>> collect(a*D(f,x) + b*D(f,x) + a*f + b*f, f)\n",
      "        (a + b)*f(x) + (a + b)*Derivative(f(x), x)\n",
      "    \n",
      "    Or you can even match both derivative order and exponent at the same time::\n",
      "    \n",
      "        >>> collect(a*D(D(f,x),x)**2 + b*D(D(f,x),x)**2, D(f,x))\n",
      "        (a + b)*Derivative(f(x), x, x)**2\n",
      "    \n",
      "    Finally, you can apply a function to each of the collected coefficients.\n",
      "    For example you can factorize symbolic coefficients of polynomial::\n",
      "    \n",
      "        >>> f = expand((x + a + 1)**3)\n",
      "    \n",
      "        >>> collect(f, x, factor)\n",
      "        x**3 + 3*x**2*(a + 1) + 3*x*(a + 1)**2 + (a + 1)**3\n",
      "    \n",
      "    .. note:: Arguments are expected to be in expanded form, so you might have\n",
      "              to call :func:`expand` prior to calling this function.\n",
      "    \n",
      "    See Also\n",
      "    ========\n",
      "    collect_const, collect_sqrt, rcollect\n",
      "\n"
     ]
    }
   ],
   "source": [
    "help(collect)"
   ]
  },
  {
   "cell_type": "code",
   "execution_count": 23,
   "metadata": {
    "collapsed": false
   },
   "outputs": [
    {
     "data": {
      "image/png": "[encoded data removed]",
      "text/latex": [
       "$$\\left(\\sum_{i=0}^{m} t^{i} a_{i}\\right) \\sum_{i=0}^{m} t^{i} b_{i}$$"
      ],
      "text/plain": [
       "⎛  m          ⎞   m          \n",
       "⎜ ___         ⎟  ___         \n",
       "⎜ ╲           ⎟  ╲           \n",
       "⎜  ╲    i     ⎟   ╲    i     \n",
       "⎜  ╱   t ⋅a[i]⎟⋅  ╱   t ⋅b[i]\n",
       "⎜ ╱           ⎟  ╱           \n",
       "⎜ ‾‾‾         ⎟  ‾‾‾         \n",
       "⎝i = 0        ⎠ i = 0        "
      ]
     },
     "execution_count": 23,
     "metadata": {},
     "output_type": "execute_result"
    }
   ],
   "source": [
    "ab_prod = a_fn(t) * b_fn(t)\n",
    "ab_prod"
   ]
  },
  {
   "cell_type": "code",
   "execution_count": 29,
   "metadata": {
    "collapsed": false
   },
   "outputs": [
    {
     "data": {
      "image/png": "[encoded data removed]",
      "text/latex": [
       "$$\\left(t^{10} a_{10} + t^{9} a_{9} + t^{8} a_{8} + t^{7} a_{7} + t^{6} a_{6} + t^{5} a_{5} + t^{4} a_{4} + t^{3} a_{3} + t^{2} a_{2} + t a_{1} + a_{0}\\right) \\left(t^{10} b_{10} + t^{9} b_{9} + t^{8} b_{8} + t^{7} b_{7} + t^{6} b_{6} + t^{5} b_{5} + t^{4} b_{4} + t^{3} b_{3} + t^{2} b_{2} + t b_{1} + b_{0}\\right)$$"
      ],
      "text/plain": [
       "⎛ 10          9         8         7         6         5         4         3   \n",
       "⎝t  ⋅a[10] + t ⋅a[9] + t ⋅a[8] + t ⋅a[7] + t ⋅a[6] + t ⋅a[5] + t ⋅a[4] + t ⋅a[\n",
       "\n",
       "      2                     ⎞ ⎛ 10          9         8         7         6   \n",
       "3] + t ⋅a[2] + t⋅a[1] + a[0]⎠⋅⎝t  ⋅b[10] + t ⋅b[9] + t ⋅b[8] + t ⋅b[7] + t ⋅b[\n",
       "\n",
       "      5         4         3         2                     ⎞\n",
       "6] + t ⋅b[5] + t ⋅b[4] + t ⋅b[3] + t ⋅b[2] + t⋅b[1] + b[0]⎠"
      ]
     },
     "execution_count": 29,
     "metadata": {},
     "output_type": "execute_result"
    }
   ],
   "source": [
    "expanded_prod = ab_prod.subs({m:10}).doit()\n",
    "expanded_prod"
   ]
  },
  {
   "cell_type": "code",
   "execution_count": 25,
   "metadata": {
    "collapsed": false
   },
   "outputs": [
    {
     "data": {
      "image/png": "[encoded data removed]",
      "text/latex": [
       "$$t^{20} a_{10} b_{10} + t^{19} a_{9} b_{10} + t^{19} a_{10} b_{9} + t^{18} a_{8} b_{10} + t^{18} a_{9} b_{9} + t^{18} a_{10} b_{8} + t^{17} a_{7} b_{10} + t^{17} a_{8} b_{9} + t^{17} a_{9} b_{8} + t^{17} a_{10} b_{7} + t^{16} a_{6} b_{10} + t^{16} a_{7} b_{9} + t^{16} a_{8} b_{8} + t^{16} a_{9} b_{7} + t^{16} a_{10} b_{6} + t^{15} a_{5} b_{10} + t^{15} a_{6} b_{9} + t^{15} a_{7} b_{8} + t^{15} a_{8} b_{7} + t^{15} a_{9} b_{6} + t^{15} a_{10} b_{5} + t^{14} a_{4} b_{10} + t^{14} a_{5} b_{9} + t^{14} a_{6} b_{8} + t^{14} a_{7} b_{7} + t^{14} a_{8} b_{6} + t^{14} a_{9} b_{5} + t^{14} a_{10} b_{4} + t^{13} a_{3} b_{10} + t^{13} a_{4} b_{9} + t^{13} a_{5} b_{8} + t^{13} a_{6} b_{7} + t^{13} a_{7} b_{6} + t^{13} a_{8} b_{5} + t^{13} a_{9} b_{4} + t^{13} a_{10} b_{3} + t^{12} a_{2} b_{10} + t^{12} a_{3} b_{9} + t^{12} a_{4} b_{8} + t^{12} a_{5} b_{7} + t^{12} a_{6} b_{6} + t^{12} a_{7} b_{5} + t^{12} a_{8} b_{4} + t^{12} a_{9} b_{3} + t^{12} a_{10} b_{2} + t^{11} a_{1} b_{10} + t^{11} a_{2} b_{9} + t^{11} a_{3} b_{8} + t^{11} a_{4} b_{7} + t^{11} a_{5} b_{6} + t^{11} a_{6} b_{5} + t^{11} a_{7} b_{4} + t^{11} a_{8} b_{3} + t^{11} a_{9} b_{2} + t^{11} a_{10} b_{1} + t^{10} a_{0} b_{10} + t^{10} a_{1} b_{9} + t^{10} a_{2} b_{8} + t^{10} a_{3} b_{7} + t^{10} a_{4} b_{6} + t^{10} a_{5} b_{5} + t^{10} a_{6} b_{4} + t^{10} a_{7} b_{3} + t^{10} a_{8} b_{2} + t^{10} a_{9} b_{1} + t^{10} a_{10} b_{0} + t^{9} a_{0} b_{9} + t^{9} a_{1} b_{8} + t^{9} a_{2} b_{7} + t^{9} a_{3} b_{6} + t^{9} a_{4} b_{5} + t^{9} a_{5} b_{4} + t^{9} a_{6} b_{3} + t^{9} a_{7} b_{2} + t^{9} a_{8} b_{1} + t^{9} a_{9} b_{0} + t^{8} a_{0} b_{8} + t^{8} a_{1} b_{7} + t^{8} a_{2} b_{6} + t^{8} a_{3} b_{5} + t^{8} a_{4} b_{4} + t^{8} a_{5} b_{3} + t^{8} a_{6} b_{2} + t^{8} a_{7} b_{1} + t^{8} a_{8} b_{0} + t^{7} a_{0} b_{7} + t^{7} a_{1} b_{6} + t^{7} a_{2} b_{5} + t^{7} a_{3} b_{4} + t^{7} a_{4} b_{3} + t^{7} a_{5} b_{2} + t^{7} a_{6} b_{1} + t^{7} a_{7} b_{0} + t^{6} a_{0} b_{6} + t^{6} a_{1} b_{5} + t^{6} a_{2} b_{4} + t^{6} a_{3} b_{3} + t^{6} a_{4} b_{2} + t^{6} a_{5} b_{1} + t^{6} a_{6} b_{0} + t^{5} a_{0} b_{5} + t^{5} a_{1} b_{4} + t^{5} a_{2} b_{3} + t^{5} a_{3} b_{2} + t^{5} a_{4} b_{1} + t^{5} a_{5} b_{0} + t^{4} a_{0} b_{4} + t^{4} a_{1} b_{3} + t^{4} a_{2} b_{2} + t^{4} a_{3} b_{1} + t^{4} a_{4} b_{0} + t^{3} a_{0} b_{3} + t^{3} a_{1} b_{2} + t^{3} a_{2} b_{1} + t^{3} a_{3} b_{0} + t^{2} a_{0} b_{2} + t^{2} a_{1} b_{1} + t^{2} a_{2} b_{0} + t a_{0} b_{1} + t a_{1} b_{0} + a_{0} b_{0}$$"
      ],
      "text/plain": [
       " 20                19               19               18               18      \n",
       "t  ⋅a[10]⋅b[10] + t  ⋅a[9]⋅b[10] + t  ⋅a[10]⋅b[9] + t  ⋅a[8]⋅b[10] + t  ⋅a[9]⋅\n",
       "\n",
       "        18               17               17              17              17  \n",
       "b[9] + t  ⋅a[10]⋅b[8] + t  ⋅a[7]⋅b[10] + t  ⋅a[8]⋅b[9] + t  ⋅a[9]⋅b[8] + t  ⋅a\n",
       "\n",
       "             16               16              16              16              \n",
       "[10]⋅b[7] + t  ⋅a[6]⋅b[10] + t  ⋅a[7]⋅b[9] + t  ⋅a[8]⋅b[8] + t  ⋅a[9]⋅b[7] + t\n",
       "\n",
       "16               15               15              15              15          \n",
       "  ⋅a[10]⋅b[6] + t  ⋅a[5]⋅b[10] + t  ⋅a[6]⋅b[9] + t  ⋅a[7]⋅b[8] + t  ⋅a[8]⋅b[7]\n",
       "\n",
       "    15              15               14               14              14      \n",
       " + t  ⋅a[9]⋅b[6] + t  ⋅a[10]⋅b[5] + t  ⋅a[4]⋅b[10] + t  ⋅a[5]⋅b[9] + t  ⋅a[6]⋅\n",
       "\n",
       "        14              14              14              14               13   \n",
       "b[8] + t  ⋅a[7]⋅b[7] + t  ⋅a[8]⋅b[6] + t  ⋅a[9]⋅b[5] + t  ⋅a[10]⋅b[4] + t  ⋅a[\n",
       "\n",
       "            13              13              13              13              13\n",
       "3]⋅b[10] + t  ⋅a[4]⋅b[9] + t  ⋅a[5]⋅b[8] + t  ⋅a[6]⋅b[7] + t  ⋅a[7]⋅b[6] + t  \n",
       "\n",
       "              13              13               12               12            \n",
       "⋅a[8]⋅b[5] + t  ⋅a[9]⋅b[4] + t  ⋅a[10]⋅b[3] + t  ⋅a[2]⋅b[10] + t  ⋅a[3]⋅b[9] +\n",
       "\n",
       "  12              12              12              12              12          \n",
       " t  ⋅a[4]⋅b[8] + t  ⋅a[5]⋅b[7] + t  ⋅a[6]⋅b[6] + t  ⋅a[7]⋅b[5] + t  ⋅a[8]⋅b[4]\n",
       "\n",
       "    12              12               11               11              11      \n",
       " + t  ⋅a[9]⋅b[3] + t  ⋅a[10]⋅b[2] + t  ⋅a[1]⋅b[10] + t  ⋅a[2]⋅b[9] + t  ⋅a[3]⋅\n",
       "\n",
       "        11              11              11              11              11    \n",
       "b[8] + t  ⋅a[4]⋅b[7] + t  ⋅a[5]⋅b[6] + t  ⋅a[6]⋅b[5] + t  ⋅a[7]⋅b[4] + t  ⋅a[8\n",
       "\n",
       "          11              11               10               10              10\n",
       "]⋅b[3] + t  ⋅a[9]⋅b[2] + t  ⋅a[10]⋅b[1] + t  ⋅a[0]⋅b[10] + t  ⋅a[1]⋅b[9] + t  \n",
       "\n",
       "              10              10              10              10              \n",
       "⋅a[2]⋅b[8] + t  ⋅a[3]⋅b[7] + t  ⋅a[4]⋅b[6] + t  ⋅a[5]⋅b[5] + t  ⋅a[6]⋅b[4] + t\n",
       "\n",
       "10              10              10              10               9            \n",
       "  ⋅a[7]⋅b[3] + t  ⋅a[8]⋅b[2] + t  ⋅a[9]⋅b[1] + t  ⋅a[10]⋅b[0] + t ⋅a[0]⋅b[9] +\n",
       "\n",
       "  9              9              9              9              9              9\n",
       " t ⋅a[1]⋅b[8] + t ⋅a[2]⋅b[7] + t ⋅a[3]⋅b[6] + t ⋅a[4]⋅b[5] + t ⋅a[5]⋅b[4] + t \n",
       "\n",
       "              9              9              9              8              8   \n",
       "⋅a[6]⋅b[3] + t ⋅a[7]⋅b[2] + t ⋅a[8]⋅b[1] + t ⋅a[9]⋅b[0] + t ⋅a[0]⋅b[8] + t ⋅a[\n",
       "\n",
       "           8              8              8              8              8      \n",
       "1]⋅b[7] + t ⋅a[2]⋅b[6] + t ⋅a[3]⋅b[5] + t ⋅a[4]⋅b[4] + t ⋅a[5]⋅b[3] + t ⋅a[6]⋅\n",
       "\n",
       "        8              8              7              7              7         \n",
       "b[2] + t ⋅a[7]⋅b[1] + t ⋅a[8]⋅b[0] + t ⋅a[0]⋅b[7] + t ⋅a[1]⋅b[6] + t ⋅a[2]⋅b[5\n",
       "\n",
       "     7              7              7              7              7            \n",
       "] + t ⋅a[3]⋅b[4] + t ⋅a[4]⋅b[3] + t ⋅a[5]⋅b[2] + t ⋅a[6]⋅b[1] + t ⋅a[7]⋅b[0] +\n",
       "\n",
       "  6              6              6              6              6              6\n",
       " t ⋅a[0]⋅b[6] + t ⋅a[1]⋅b[5] + t ⋅a[2]⋅b[4] + t ⋅a[3]⋅b[3] + t ⋅a[4]⋅b[2] + t \n",
       "\n",
       "              6              5              5              5              5   \n",
       "⋅a[5]⋅b[1] + t ⋅a[6]⋅b[0] + t ⋅a[0]⋅b[5] + t ⋅a[1]⋅b[4] + t ⋅a[2]⋅b[3] + t ⋅a[\n",
       "\n",
       "           5              5              4              4              4      \n",
       "3]⋅b[2] + t ⋅a[4]⋅b[1] + t ⋅a[5]⋅b[0] + t ⋅a[0]⋅b[4] + t ⋅a[1]⋅b[3] + t ⋅a[2]⋅\n",
       "\n",
       "        4              4              3              3              3         \n",
       "b[2] + t ⋅a[3]⋅b[1] + t ⋅a[4]⋅b[0] + t ⋅a[0]⋅b[3] + t ⋅a[1]⋅b[2] + t ⋅a[2]⋅b[1\n",
       "\n",
       "     3              2              2              2                           \n",
       "] + t ⋅a[3]⋅b[0] + t ⋅a[0]⋅b[2] + t ⋅a[1]⋅b[1] + t ⋅a[2]⋅b[0] + t⋅a[0]⋅b[1] + \n",
       "\n",
       "                       \n",
       "t⋅a[1]⋅b[0] + a[0]⋅b[0]"
      ]
     },
     "execution_count": 25,
     "metadata": {},
     "output_type": "execute_result"
    }
   ],
   "source": [
    "expanded_prod.expand()"
   ]
  },
  {
   "cell_type": "code",
   "execution_count": 30,
   "metadata": {
    "collapsed": false
   },
   "outputs": [
    {
     "data": {
      "image/png": "[encoded data removed]",
      "text/latex": [
       "$$t^{20} a_{10} b_{10} + t^{19} \\left(a_{9} b_{10} + a_{10} b_{9}\\right) + t^{18} \\left(a_{8} b_{10} + a_{9} b_{9} + a_{10} b_{8}\\right) + t^{17} \\left(a_{7} b_{10} + a_{8} b_{9} + a_{9} b_{8} + a_{10} b_{7}\\right) + t^{16} \\left(a_{6} b_{10} + a_{7} b_{9} + a_{8} b_{8} + a_{9} b_{7} + a_{10} b_{6}\\right) + t^{15} \\left(a_{5} b_{10} + a_{6} b_{9} + a_{7} b_{8} + a_{8} b_{7} + a_{9} b_{6} + a_{10} b_{5}\\right) + t^{14} \\left(a_{4} b_{10} + a_{5} b_{9} + a_{6} b_{8} + a_{7} b_{7} + a_{8} b_{6} + a_{9} b_{5} + a_{10} b_{4}\\right) + t^{13} \\left(a_{3} b_{10} + a_{4} b_{9} + a_{5} b_{8} + a_{6} b_{7} + a_{7} b_{6} + a_{8} b_{5} + a_{9} b_{4} + a_{10} b_{3}\\right) + t^{12} \\left(a_{2} b_{10} + a_{3} b_{9} + a_{4} b_{8} + a_{5} b_{7} + a_{6} b_{6} + a_{7} b_{5} + a_{8} b_{4} + a_{9} b_{3} + a_{10} b_{2}\\right) + t^{11} \\left(a_{1} b_{10} + a_{2} b_{9} + a_{3} b_{8} + a_{4} b_{7} + a_{5} b_{6} + a_{6} b_{5} + a_{7} b_{4} + a_{8} b_{3} + a_{9} b_{2} + a_{10} b_{1}\\right) + t^{10} \\left(a_{0} b_{10} + a_{1} b_{9} + a_{2} b_{8} + a_{3} b_{7} + a_{4} b_{6} + a_{5} b_{5} + a_{6} b_{4} + a_{7} b_{3} + a_{8} b_{2} + a_{9} b_{1} + a_{10} b_{0}\\right) + t^{9} \\left(a_{0} b_{9} + a_{1} b_{8} + a_{2} b_{7} + a_{3} b_{6} + a_{4} b_{5} + a_{5} b_{4} + a_{6} b_{3} + a_{7} b_{2} + a_{8} b_{1} + a_{9} b_{0}\\right) + t^{8} \\left(a_{0} b_{8} + a_{1} b_{7} + a_{2} b_{6} + a_{3} b_{5} + a_{4} b_{4} + a_{5} b_{3} + a_{6} b_{2} + a_{7} b_{1} + a_{8} b_{0}\\right) + t^{7} \\left(a_{0} b_{7} + a_{1} b_{6} + a_{2} b_{5} + a_{3} b_{4} + a_{4} b_{3} + a_{5} b_{2} + a_{6} b_{1} + a_{7} b_{0}\\right) + t^{6} \\left(a_{0} b_{6} + a_{1} b_{5} + a_{2} b_{4} + a_{3} b_{3} + a_{4} b_{2} + a_{5} b_{1} + a_{6} b_{0}\\right) + t^{5} \\left(a_{0} b_{5} + a_{1} b_{4} + a_{2} b_{3} + a_{3} b_{2} + a_{4} b_{1} + a_{5} b_{0}\\right) + t^{4} \\left(a_{0} b_{4} + a_{1} b_{3} + a_{2} b_{2} + a_{3} b_{1} + a_{4} b_{0}\\right) + t^{3} \\left(a_{0} b_{3} + a_{1} b_{2} + a_{2} b_{1} + a_{3} b_{0}\\right) + t^{2} \\left(a_{0} b_{2} + a_{1} b_{1} + a_{2} b_{0}\\right) + t \\left(a_{0} b_{1} + a_{1} b_{0}\\right) + a_{0} b_{0}$$"
      ],
      "text/plain": [
       " 20                19                              18                         \n",
       "t  ⋅a[10]⋅b[10] + t  ⋅(a[9]⋅b[10] + a[10]⋅b[9]) + t  ⋅(a[8]⋅b[10] + a[9]⋅b[9] \n",
       "\n",
       "                 17                                                      16   \n",
       "+ a[10]⋅b[8]) + t  ⋅(a[7]⋅b[10] + a[8]⋅b[9] + a[9]⋅b[8] + a[10]⋅b[7]) + t  ⋅(a\n",
       "\n",
       "                                                               15             \n",
       "[6]⋅b[10] + a[7]⋅b[9] + a[8]⋅b[8] + a[9]⋅b[7] + a[10]⋅b[6]) + t  ⋅(a[5]⋅b[10] \n",
       "\n",
       "                                                                 14           \n",
       "+ a[6]⋅b[9] + a[7]⋅b[8] + a[8]⋅b[7] + a[9]⋅b[6] + a[10]⋅b[5]) + t  ⋅(a[4]⋅b[10\n",
       "\n",
       "                                                                              \n",
       "] + a[5]⋅b[9] + a[6]⋅b[8] + a[7]⋅b[7] + a[8]⋅b[6] + a[9]⋅b[5] + a[10]⋅b[4]) + \n",
       "\n",
       " 13                                                                           \n",
       "t  ⋅(a[3]⋅b[10] + a[4]⋅b[9] + a[5]⋅b[8] + a[6]⋅b[7] + a[7]⋅b[6] + a[8]⋅b[5] + \n",
       "\n",
       "                           12                                                 \n",
       "a[9]⋅b[4] + a[10]⋅b[3]) + t  ⋅(a[2]⋅b[10] + a[3]⋅b[9] + a[4]⋅b[8] + a[5]⋅b[7] \n",
       "\n",
       "                                                                 11           \n",
       "+ a[6]⋅b[6] + a[7]⋅b[5] + a[8]⋅b[4] + a[9]⋅b[3] + a[10]⋅b[2]) + t  ⋅(a[1]⋅b[10\n",
       "\n",
       "                                                                              \n",
       "] + a[2]⋅b[9] + a[3]⋅b[8] + a[4]⋅b[7] + a[5]⋅b[6] + a[6]⋅b[5] + a[7]⋅b[4] + a[\n",
       "\n",
       "                                     10                                       \n",
       "8]⋅b[3] + a[9]⋅b[2] + a[10]⋅b[1]) + t  ⋅(a[0]⋅b[10] + a[1]⋅b[9] + a[2]⋅b[8] + \n",
       "\n",
       "                                                                              \n",
       "a[3]⋅b[7] + a[4]⋅b[6] + a[5]⋅b[5] + a[6]⋅b[4] + a[7]⋅b[3] + a[8]⋅b[2] + a[9]⋅b\n",
       "\n",
       "                     9                                                        \n",
       "[1] + a[10]⋅b[0]) + t ⋅(a[0]⋅b[9] + a[1]⋅b[8] + a[2]⋅b[7] + a[3]⋅b[6] + a[4]⋅b\n",
       "\n",
       "                                                                    8         \n",
       "[5] + a[5]⋅b[4] + a[6]⋅b[3] + a[7]⋅b[2] + a[8]⋅b[1] + a[9]⋅b[0]) + t ⋅(a[0]⋅b[\n",
       "\n",
       "                                                                              \n",
       "8] + a[1]⋅b[7] + a[2]⋅b[6] + a[3]⋅b[5] + a[4]⋅b[4] + a[5]⋅b[3] + a[6]⋅b[2] + a\n",
       "\n",
       "                         7                                                    \n",
       "[7]⋅b[1] + a[8]⋅b[0]) + t ⋅(a[0]⋅b[7] + a[1]⋅b[6] + a[2]⋅b[5] + a[3]⋅b[4] + a[\n",
       "\n",
       "                                                6                             \n",
       "4]⋅b[3] + a[5]⋅b[2] + a[6]⋅b[1] + a[7]⋅b[0]) + t ⋅(a[0]⋅b[6] + a[1]⋅b[5] + a[2\n",
       "\n",
       "                                                           5                  \n",
       "]⋅b[4] + a[3]⋅b[3] + a[4]⋅b[2] + a[5]⋅b[1] + a[6]⋅b[0]) + t ⋅(a[0]⋅b[5] + a[1]\n",
       "\n",
       "                                                          4                   \n",
       "⋅b[4] + a[2]⋅b[3] + a[3]⋅b[2] + a[4]⋅b[1] + a[5]⋅b[0]) + t ⋅(a[0]⋅b[4] + a[1]⋅\n",
       "\n",
       "                                             3                                \n",
       "b[3] + a[2]⋅b[2] + a[3]⋅b[1] + a[4]⋅b[0]) + t ⋅(a[0]⋅b[3] + a[1]⋅b[2] + a[2]⋅b\n",
       "\n",
       "                    2                                                         \n",
       "[1] + a[3]⋅b[0]) + t ⋅(a[0]⋅b[2] + a[1]⋅b[1] + a[2]⋅b[0]) + t⋅(a[0]⋅b[1] + a[1\n",
       "\n",
       "                   \n",
       "]⋅b[0]) + a[0]⋅b[0]"
      ]
     },
     "execution_count": 30,
     "metadata": {},
     "output_type": "execute_result"
    }
   ],
   "source": [
    "complete_expansion = expanded_prod.expand().collect(t)\n",
    "complete_expansion"
   ]
  },
  {
   "cell_type": "code",
   "execution_count": 32,
   "metadata": {
    "collapsed": false
   },
   "outputs": [
    {
     "data": {
      "image/png": "[encoded data removed]",
      "text/latex": [
       "$$a_{0} b_{5} + a_{1} b_{4} + a_{2} b_{3} + a_{3} b_{2} + a_{4} b_{1} + a_{5} b_{0}$$"
      ],
      "text/plain": [
       "a[0]⋅b[5] + a[1]⋅b[4] + a[2]⋅b[3] + a[3]⋅b[2] + a[4]⋅b[1] + a[5]⋅b[0]"
      ]
     },
     "execution_count": 32,
     "metadata": {},
     "output_type": "execute_result"
    }
   ],
   "source": [
    "complete_expansion.coeff(t, n=5)"
   ]
  },
  {
   "cell_type": "code",
   "execution_count": 40,
   "metadata": {
    "collapsed": false
   },
   "outputs": [
    {
     "data": {
      "image/png": "[encoded data removed]",
      "text/latex": [
       "$$t^{10} \\left(a_{0} b_{10} + a_{1} b_{9} + a_{2} b_{8} + a_{3} b_{7} + a_{4} b_{6} + a_{5} b_{5} + a_{6} b_{4} + a_{7} b_{3} + a_{8} b_{2} + a_{9} b_{1} + a_{10} b_{0}\\right) + t^{9} \\left(a_{0} b_{9} + a_{1} b_{8} + a_{2} b_{7} + a_{3} b_{6} + a_{4} b_{5} + a_{5} b_{4} + a_{6} b_{3} + a_{7} b_{2} + a_{8} b_{1} + a_{9} b_{0}\\right) + t^{8} \\left(a_{0} b_{8} + a_{1} b_{7} + a_{2} b_{6} + a_{3} b_{5} + a_{4} b_{4} + a_{5} b_{3} + a_{6} b_{2} + a_{7} b_{1} + a_{8} b_{0}\\right) + t^{7} \\left(a_{0} b_{7} + a_{1} b_{6} + a_{2} b_{5} + a_{3} b_{4} + a_{4} b_{3} + a_{5} b_{2} + a_{6} b_{1} + a_{7} b_{0}\\right) + t^{6} \\left(a_{0} b_{6} + a_{1} b_{5} + a_{2} b_{4} + a_{3} b_{3} + a_{4} b_{2} + a_{5} b_{1} + a_{6} b_{0}\\right) + t^{5} \\left(a_{0} b_{5} + a_{1} b_{4} + a_{2} b_{3} + a_{3} b_{2} + a_{4} b_{1} + a_{5} b_{0}\\right) + t^{4} \\left(a_{0} b_{4} + a_{1} b_{3} + a_{2} b_{2} + a_{3} b_{1} + a_{4} b_{0}\\right) + t^{3} \\left(a_{0} b_{3} + a_{1} b_{2} + a_{2} b_{1} + a_{3} b_{0}\\right) + t^{2} \\left(a_{0} b_{2} + a_{1} b_{1} + a_{2} b_{0}\\right) + t \\left(a_{0} b_{1} + a_{1} b_{0}\\right) + a_{0} b_{0}$$"
      ],
      "text/plain": [
       " 10                                                                           \n",
       "t  ⋅(a[0]⋅b[10] + a[1]⋅b[9] + a[2]⋅b[8] + a[3]⋅b[7] + a[4]⋅b[6] + a[5]⋅b[5] + \n",
       "\n",
       "                                                               9              \n",
       "a[6]⋅b[4] + a[7]⋅b[3] + a[8]⋅b[2] + a[9]⋅b[1] + a[10]⋅b[0]) + t ⋅(a[0]⋅b[9] + \n",
       "\n",
       "                                                                              \n",
       "a[1]⋅b[8] + a[2]⋅b[7] + a[3]⋅b[6] + a[4]⋅b[5] + a[5]⋅b[4] + a[6]⋅b[3] + a[7]⋅b\n",
       "\n",
       "                                8                                             \n",
       "[2] + a[8]⋅b[1] + a[9]⋅b[0]) + t ⋅(a[0]⋅b[8] + a[1]⋅b[7] + a[2]⋅b[6] + a[3]⋅b[\n",
       "\n",
       "                                                                   7          \n",
       "5] + a[4]⋅b[4] + a[5]⋅b[3] + a[6]⋅b[2] + a[7]⋅b[1] + a[8]⋅b[0]) + t ⋅(a[0]⋅b[7\n",
       "\n",
       "                                                                              \n",
       "] + a[1]⋅b[6] + a[2]⋅b[5] + a[3]⋅b[4] + a[4]⋅b[3] + a[5]⋅b[2] + a[6]⋅b[1] + a[\n",
       "\n",
       "            6                                                                 \n",
       "7]⋅b[0]) + t ⋅(a[0]⋅b[6] + a[1]⋅b[5] + a[2]⋅b[4] + a[3]⋅b[3] + a[4]⋅b[2] + a[5\n",
       "\n",
       "                       5                                                      \n",
       "]⋅b[1] + a[6]⋅b[0]) + t ⋅(a[0]⋅b[5] + a[1]⋅b[4] + a[2]⋅b[3] + a[3]⋅b[2] + a[4]\n",
       "\n",
       "                      4                                                       \n",
       "⋅b[1] + a[5]⋅b[0]) + t ⋅(a[0]⋅b[4] + a[1]⋅b[3] + a[2]⋅b[2] + a[3]⋅b[1] + a[4]⋅\n",
       "\n",
       "         3                                                    2               \n",
       "b[0]) + t ⋅(a[0]⋅b[3] + a[1]⋅b[2] + a[2]⋅b[1] + a[3]⋅b[0]) + t ⋅(a[0]⋅b[2] + a\n",
       "\n",
       "                                                             \n",
       "[1]⋅b[1] + a[2]⋅b[0]) + t⋅(a[0]⋅b[1] + a[1]⋅b[0]) + a[0]⋅b[0]"
      ]
     },
     "execution_count": 40,
     "metadata": {},
     "output_type": "execute_result"
    }
   ],
   "source": [
    "convolution = Sum(Sum(a[k]*b[n-k], (k, 0, n))*t**n, (n,0, m)).subs({m:10}).doit()\n",
    "convolution"
   ]
  },
  {
   "cell_type": "code",
   "execution_count": 49,
   "metadata": {
    "collapsed": false
   },
   "outputs": [
    {
     "data": {
      "image/png": "[encoded data removed]",
      "text/latex": [
       "$$\\left [ a_{0} b_{0} = 1, \\quad a_{0} b_{1} + a_{1} b_{0} = 0, \\quad a_{0} b_{2} + a_{1} b_{1} + a_{2} b_{0} = 0, \\quad a_{0} b_{3} + a_{1} b_{2} + a_{2} b_{1} + a_{3} b_{0} = 0, \\quad a_{0} b_{4} + a_{1} b_{3} + a_{2} b_{2} + a_{3} b_{1} + a_{4} b_{0} = 0, \\quad a_{0} b_{5} + a_{1} b_{4} + a_{2} b_{3} + a_{3} b_{2} + a_{4} b_{1} + a_{5} b_{0} = 0, \\quad a_{0} b_{6} + a_{1} b_{5} + a_{2} b_{4} + a_{3} b_{3} + a_{4} b_{2} + a_{5} b_{1} + a_{6} b_{0} = 0, \\quad a_{0} b_{7} + a_{1} b_{6} + a_{2} b_{5} + a_{3} b_{4} + a_{4} b_{3} + a_{5} b_{2} + a_{6} b_{1} + a_{7} b_{0} = 0, \\quad a_{0} b_{8} + a_{1} b_{7} + a_{2} b_{6} + a_{3} b_{5} + a_{4} b_{4} + a_{5} b_{3} + a_{6} b_{2} + a_{7} b_{1} + a_{8} b_{0} = 0, \\quad a_{0} b_{9} + a_{1} b_{8} + a_{2} b_{7} + a_{3} b_{6} + a_{4} b_{5} + a_{5} b_{4} + a_{6} b_{3} + a_{7} b_{2} + a_{8} b_{1} + a_{9} b_{0} = 0, \\quad a_{0} b_{10} + a_{1} b_{9} + a_{2} b_{8} + a_{3} b_{7} + a_{4} b_{6} + a_{5} b_{5} + a_{6} b_{4} + a_{7} b_{3} + a_{8} b_{2} + a_{9} b_{1} + a_{10} b_{0} = 0\\right ]$$"
      ],
      "text/plain": [
       "[a[0]⋅b[0] = 1, a[0]⋅b[1] + a[1]⋅b[0] = 0, a[0]⋅b[2] + a[1]⋅b[1] + a[2]⋅b[0] =\n",
       " 0, a[0]⋅b[3] + a[1]⋅b[2] + a[2]⋅b[1] + a[3]⋅b[0] = 0, a[0]⋅b[4] + a[1]⋅b[3] +\n",
       " a[2]⋅b[2] + a[3]⋅b[1] + a[4]⋅b[0] = 0, a[0]⋅b[5] + a[1]⋅b[4] + a[2]⋅b[3] + a[\n",
       "3]⋅b[2] + a[4]⋅b[1] + a[5]⋅b[0] = 0, a[0]⋅b[6] + a[1]⋅b[5] + a[2]⋅b[4] + a[3]⋅\n",
       "b[3] + a[4]⋅b[2] + a[5]⋅b[1] + a[6]⋅b[0] = 0, a[0]⋅b[7] + a[1]⋅b[6] + a[2]⋅b[5\n",
       "] + a[3]⋅b[4] + a[4]⋅b[3] + a[5]⋅b[2] + a[6]⋅b[1] + a[7]⋅b[0] = 0, a[0]⋅b[8] +\n",
       " a[1]⋅b[7] + a[2]⋅b[6] + a[3]⋅b[5] + a[4]⋅b[4] + a[5]⋅b[3] + a[6]⋅b[2] + a[7]⋅\n",
       "b[1] + a[8]⋅b[0] = 0, a[0]⋅b[9] + a[1]⋅b[8] + a[2]⋅b[7] + a[3]⋅b[6] + a[4]⋅b[5\n",
       "] + a[5]⋅b[4] + a[6]⋅b[3] + a[7]⋅b[2] + a[8]⋅b[1] + a[9]⋅b[0] = 0, a[0]⋅b[10] \n",
       "+ a[1]⋅b[9] + a[2]⋅b[8] + a[3]⋅b[7] + a[4]⋅b[6] + a[5]⋅b[5] + a[6]⋅b[4] + a[7]\n",
       "⋅b[3] + a[8]⋅b[2] + a[9]⋅b[1] + a[10]⋅b[0] = 0]"
      ]
     },
     "execution_count": 49,
     "metadata": {},
     "output_type": "execute_result"
    }
   ],
   "source": [
    "eqs = [Eq(convolution.coeff(t, n=0), 1)] + [Eq(convolution.coeff(t, n=i), 0) for i in range(1, 11)]\n",
    "eqs"
   ]
  },
  {
   "cell_type": "code",
   "execution_count": 51,
   "metadata": {
    "collapsed": false
   },
   "outputs": [
    {
     "data": {
      "image/png": "[encoded data removed]",
      "text/latex": [
       "$$\\left \\{ b_{0} : \\frac{1}{a_{0}}, \\quad b_{1} : - \\frac{a_{1}}{a_{0}^{2}}, \\quad b_{2} : \\frac{1}{a_{0}^{3}} \\left(- a_{0} a_{2} + a_{1}^{2}\\right), \\quad b_{3} : \\frac{1}{a_{0}^{4}} \\left(- a_{0}^{2} a_{3} + 2 a_{0} a_{1} a_{2} - a_{1}^{3}\\right), \\quad b_{4} : \\frac{1}{a_{0}^{5}} \\left(- a_{0}^{3} a_{4} + 2 a_{0}^{2} a_{1} a_{3} + a_{0}^{2} a_{2}^{2} - 3 a_{0} a_{1}^{2} a_{2} + a_{1}^{4}\\right), \\quad b_{5} : \\frac{1}{a_{0}^{6}} \\left(- a_{0}^{4} a_{5} + 2 a_{0}^{3} a_{1} a_{4} + 2 a_{0}^{3} a_{2} a_{3} - 3 a_{0}^{2} a_{1}^{2} a_{3} - 3 a_{0}^{2} a_{1} a_{2}^{2} + 4 a_{0} a_{1}^{3} a_{2} - a_{1}^{5}\\right), \\quad b_{6} : \\frac{1}{a_{0}^{7}} \\left(- a_{0}^{5} a_{6} + 2 a_{0}^{4} a_{1} a_{5} + 2 a_{0}^{4} a_{2} a_{4} + a_{0}^{4} a_{3}^{2} - 3 a_{0}^{3} a_{1}^{2} a_{4} - 6 a_{0}^{3} a_{1} a_{2} a_{3} - a_{0}^{3} a_{2}^{3} + 4 a_{0}^{2} a_{1}^{3} a_{3} + 6 a_{0}^{2} a_{1}^{2} a_{2}^{2} - 5 a_{0} a_{1}^{4} a_{2} + a_{1}^{6}\\right), \\quad b_{7} : \\frac{1}{a_{0}^{8}} \\left(- a_{0}^{6} a_{7} + 2 a_{0}^{5} a_{1} a_{6} + 2 a_{0}^{5} a_{2} a_{5} + 2 a_{0}^{5} a_{3} a_{4} - 3 a_{0}^{4} a_{1}^{2} a_{5} - 6 a_{0}^{4} a_{1} a_{2} a_{4} - 3 a_{0}^{4} a_{1} a_{3}^{2} - 3 a_{0}^{4} a_{2}^{2} a_{3} + 4 a_{0}^{3} a_{1}^{3} a_{4} + 12 a_{0}^{3} a_{1}^{2} a_{2} a_{3} + 4 a_{0}^{3} a_{1} a_{2}^{3} - 5 a_{0}^{2} a_{1}^{4} a_{3} - 10 a_{0}^{2} a_{1}^{3} a_{2}^{2} + 6 a_{0} a_{1}^{5} a_{2} - a_{1}^{7}\\right), \\quad b_{8} : \\frac{1}{a_{0}^{9}} \\left(- a_{0}^{7} a_{8} + 2 a_{0}^{6} a_{1} a_{7} + 2 a_{0}^{6} a_{2} a_{6} + 2 a_{0}^{6} a_{3} a_{5} + a_{0}^{6} a_{4}^{2} - 3 a_{0}^{5} a_{1}^{2} a_{6} - 6 a_{0}^{5} a_{1} a_{2} a_{5} - 6 a_{0}^{5} a_{1} a_{3} a_{4} - 3 a_{0}^{5} a_{2}^{2} a_{4} - 3 a_{0}^{5} a_{2} a_{3}^{2} + 4 a_{0}^{4} a_{1}^{3} a_{5} + 12 a_{0}^{4} a_{1}^{2} a_{2} a_{4} + 6 a_{0}^{4} a_{1}^{2} a_{3}^{2} + 12 a_{0}^{4} a_{1} a_{2}^{2} a_{3} + a_{0}^{4} a_{2}^{4} - 5 a_{0}^{3} a_{1}^{4} a_{4} - 20 a_{0}^{3} a_{1}^{3} a_{2} a_{3} - 10 a_{0}^{3} a_{1}^{2} a_{2}^{3} + 6 a_{0}^{2} a_{1}^{5} a_{3} + 15 a_{0}^{2} a_{1}^{4} a_{2}^{2} - 7 a_{0} a_{1}^{6} a_{2} + a_{1}^{8}\\right), \\quad b_{9} : \\frac{1}{a_{0}^{10}} \\left(- a_{0}^{8} a_{9} + 2 a_{0}^{7} a_{1} a_{8} + 2 a_{0}^{7} a_{2} a_{7} + 2 a_{0}^{7} a_{3} a_{6} + 2 a_{0}^{7} a_{4} a_{5} - 3 a_{0}^{6} a_{1}^{2} a_{7} - 6 a_{0}^{6} a_{1} a_{2} a_{6} - 6 a_{0}^{6} a_{1} a_{3} a_{5} - 3 a_{0}^{6} a_{1} a_{4}^{2} - 3 a_{0}^{6} a_{2}^{2} a_{5} - 6 a_{0}^{6} a_{2} a_{3} a_{4} - a_{0}^{6} a_{3}^{3} + 4 a_{0}^{5} a_{1}^{3} a_{6} + 12 a_{0}^{5} a_{1}^{2} a_{2} a_{5} + 12 a_{0}^{5} a_{1}^{2} a_{3} a_{4} + 12 a_{0}^{5} a_{1} a_{2}^{2} a_{4} + 12 a_{0}^{5} a_{1} a_{2} a_{3}^{2} + 4 a_{0}^{5} a_{2}^{3} a_{3} - 5 a_{0}^{4} a_{1}^{4} a_{5} - 20 a_{0}^{4} a_{1}^{3} a_{2} a_{4} - 10 a_{0}^{4} a_{1}^{3} a_{3}^{2} - 30 a_{0}^{4} a_{1}^{2} a_{2}^{2} a_{3} - 5 a_{0}^{4} a_{1} a_{2}^{4} + 6 a_{0}^{3} a_{1}^{5} a_{4} + 30 a_{0}^{3} a_{1}^{4} a_{2} a_{3} + 20 a_{0}^{3} a_{1}^{3} a_{2}^{3} - 7 a_{0}^{2} a_{1}^{6} a_{3} - 21 a_{0}^{2} a_{1}^{5} a_{2}^{2} + 8 a_{0} a_{1}^{7} a_{2} - a_{1}^{9}\\right), \\quad b_{10} : \\frac{1}{a_{0}^{11}} \\left(- a_{0}^{9} a_{10} + 2 a_{0}^{8} a_{1} a_{9} + 2 a_{0}^{8} a_{2} a_{8} + 2 a_{0}^{8} a_{3} a_{7} + 2 a_{0}^{8} a_{4} a_{6} + a_{0}^{8} a_{5}^{2} - 3 a_{0}^{7} a_{1}^{2} a_{8} - 6 a_{0}^{7} a_{1} a_{2} a_{7} - 6 a_{0}^{7} a_{1} a_{3} a_{6} - 6 a_{0}^{7} a_{1} a_{4} a_{5} - 3 a_{0}^{7} a_{2}^{2} a_{6} - 6 a_{0}^{7} a_{2} a_{3} a_{5} - 3 a_{0}^{7} a_{2} a_{4}^{2} - 3 a_{0}^{7} a_{3}^{2} a_{4} + 4 a_{0}^{6} a_{1}^{3} a_{7} + 12 a_{0}^{6} a_{1}^{2} a_{2} a_{6} + 12 a_{0}^{6} a_{1}^{2} a_{3} a_{5} + 6 a_{0}^{6} a_{1}^{2} a_{4}^{2} + 12 a_{0}^{6} a_{1} a_{2}^{2} a_{5} + 24 a_{0}^{6} a_{1} a_{2} a_{3} a_{4} + 4 a_{0}^{6} a_{1} a_{3}^{3} + 4 a_{0}^{6} a_{2}^{3} a_{4} + 6 a_{0}^{6} a_{2}^{2} a_{3}^{2} - 5 a_{0}^{5} a_{1}^{4} a_{6} - 20 a_{0}^{5} a_{1}^{3} a_{2} a_{5} - 20 a_{0}^{5} a_{1}^{3} a_{3} a_{4} - 30 a_{0}^{5} a_{1}^{2} a_{2}^{2} a_{4} - 30 a_{0}^{5} a_{1}^{2} a_{2} a_{3}^{2} - 20 a_{0}^{5} a_{1} a_{2}^{3} a_{3} - a_{0}^{5} a_{2}^{5} + 6 a_{0}^{4} a_{1}^{5} a_{5} + 30 a_{0}^{4} a_{1}^{4} a_{2} a_{4} + 15 a_{0}^{4} a_{1}^{4} a_{3}^{2} + 60 a_{0}^{4} a_{1}^{3} a_{2}^{2} a_{3} + 15 a_{0}^{4} a_{1}^{2} a_{2}^{4} - 7 a_{0}^{3} a_{1}^{6} a_{4} - 42 a_{0}^{3} a_{1}^{5} a_{2} a_{3} - 35 a_{0}^{3} a_{1}^{4} a_{2}^{3} + 8 a_{0}^{2} a_{1}^{7} a_{3} + 28 a_{0}^{2} a_{1}^{6} a_{2}^{2} - 9 a_{0} a_{1}^{8} a_{2} + a_{1}^{10}\\right)\\right \\}$$"
      ],
      "text/plain": [
       "⎧                                                 2              2            \n",
       "⎪       1          -a[1]         -a[0]⋅a[2] + a[1]         - a[0] ⋅a[3] + 2⋅a[\n",
       "⎨b[0]: ────, b[1]: ──────, b[2]: ──────────────────, b[3]: ───────────────────\n",
       "⎪      a[0]            2                   3                                  \n",
       "⎩                  a[0]                a[0]                                 a[\n",
       "\n",
       "                   3              3              2                 2     2    \n",
       "0]⋅a[1]⋅a[2] - a[1]         - a[0] ⋅a[4] + 2⋅a[0] ⋅a[1]⋅a[3] + a[0] ⋅a[2]  - 3\n",
       "────────────────────, b[4]: ──────────────────────────────────────────────────\n",
       "  4                                                               5           \n",
       "0]                                                            a[0]            \n",
       "\n",
       "          2            4              4              3                   3    \n",
       "⋅a[0]⋅a[1] ⋅a[2] + a[1]         - a[0] ⋅a[5] + 2⋅a[0] ⋅a[1]⋅a[4] + 2⋅a[0] ⋅a[2\n",
       "────────────────────────, b[5]: ──────────────────────────────────────────────\n",
       "                                                                              \n",
       "                                                                              \n",
       "\n",
       "               2     2              2          2              3            5  \n",
       "]⋅a[3] - 3⋅a[0] ⋅a[1] ⋅a[3] - 3⋅a[0] ⋅a[1]⋅a[2]  + 4⋅a[0]⋅a[1] ⋅a[2] - a[1]   \n",
       "────────────────────────────────────────────────────────────────────────────, \n",
       "                6                                                             \n",
       "            a[0]                                                              \n",
       "\n",
       "            5              4                   4                 4     2      \n",
       "      - a[0] ⋅a[6] + 2⋅a[0] ⋅a[1]⋅a[5] + 2⋅a[0] ⋅a[2]⋅a[4] + a[0] ⋅a[3]  - 3⋅a\n",
       "b[6]: ────────────────────────────────────────────────────────────────────────\n",
       "                                                                              \n",
       "                                                                              \n",
       "\n",
       "   3     2              3                      3     3         2     3        \n",
       "[0] ⋅a[1] ⋅a[4] - 6⋅a[0] ⋅a[1]⋅a[2]⋅a[3] - a[0] ⋅a[2]  + 4⋅a[0] ⋅a[1] ⋅a[3] + \n",
       "──────────────────────────────────────────────────────────────────────────────\n",
       "                            7                                                 \n",
       "                        a[0]                                                  \n",
       "\n",
       "      2     2     2              4            6              6              5 \n",
       "6⋅a[0] ⋅a[1] ⋅a[2]  - 5⋅a[0]⋅a[1] ⋅a[2] + a[1]         - a[0] ⋅a[7] + 2⋅a[0] ⋅\n",
       "───────────────────────────────────────────────, b[7]: ───────────────────────\n",
       "                                                                              \n",
       "                                                                              \n",
       "\n",
       "                  5                   5                   4     2             \n",
       "a[1]⋅a[6] + 2⋅a[0] ⋅a[2]⋅a[5] + 2⋅a[0] ⋅a[3]⋅a[4] - 3⋅a[0] ⋅a[1] ⋅a[5] - 6⋅a[0\n",
       "──────────────────────────────────────────────────────────────────────────────\n",
       "                                                                              \n",
       "                                                                              \n",
       "\n",
       " 4                        4          2         4     2              3     3   \n",
       "] ⋅a[1]⋅a[2]⋅a[4] - 3⋅a[0] ⋅a[1]⋅a[3]  - 3⋅a[0] ⋅a[2] ⋅a[3] + 4⋅a[0] ⋅a[1] ⋅a[\n",
       "──────────────────────────────────────────────────────────────────────────────\n",
       "                                                   8                          \n",
       "                                               a[0]                           \n",
       "\n",
       "            3     2                   3          3         2     4            \n",
       "4] + 12⋅a[0] ⋅a[1] ⋅a[2]⋅a[3] + 4⋅a[0] ⋅a[1]⋅a[2]  - 5⋅a[0] ⋅a[1] ⋅a[3] - 10⋅a\n",
       "──────────────────────────────────────────────────────────────────────────────\n",
       "                                                                              \n",
       "                                                                              \n",
       "\n",
       "   2     3     2              5            7              7              6    \n",
       "[0] ⋅a[1] ⋅a[2]  + 6⋅a[0]⋅a[1] ⋅a[2] - a[1]         - a[0] ⋅a[8] + 2⋅a[0] ⋅a[1\n",
       "────────────────────────────────────────────, b[8]: ──────────────────────────\n",
       "                                                                              \n",
       "                                                                              \n",
       "\n",
       "               6                   6                 6     2         5     2  \n",
       "]⋅a[7] + 2⋅a[0] ⋅a[2]⋅a[6] + 2⋅a[0] ⋅a[3]⋅a[5] + a[0] ⋅a[4]  - 3⋅a[0] ⋅a[1] ⋅a\n",
       "──────────────────────────────────────────────────────────────────────────────\n",
       "                                                                              \n",
       "                                                                              \n",
       "\n",
       "            5                        5                        5     2         \n",
       "[6] - 6⋅a[0] ⋅a[1]⋅a[2]⋅a[5] - 6⋅a[0] ⋅a[1]⋅a[3]⋅a[4] - 3⋅a[0] ⋅a[2] ⋅a[4] - 3\n",
       "──────────────────────────────────────────────────────────────────────────────\n",
       "                                                                              \n",
       "                                                                              \n",
       "\n",
       "     5          2         4     3               4     2                   4   \n",
       "⋅a[0] ⋅a[2]⋅a[3]  + 4⋅a[0] ⋅a[1] ⋅a[5] + 12⋅a[0] ⋅a[1] ⋅a[2]⋅a[4] + 6⋅a[0] ⋅a[\n",
       "──────────────────────────────────────────────────────────────────────────────\n",
       "                                              9                               \n",
       "                                          a[0]                                \n",
       "\n",
       "  2     2          4          2            4     4         3     4            \n",
       "1] ⋅a[3]  + 12⋅a[0] ⋅a[1]⋅a[2] ⋅a[3] + a[0] ⋅a[2]  - 5⋅a[0] ⋅a[1] ⋅a[4] - 20⋅a\n",
       "──────────────────────────────────────────────────────────────────────────────\n",
       "                                                                              \n",
       "                                                                              \n",
       "\n",
       "   3     3                    3     2     3         2     5               2   \n",
       "[0] ⋅a[1] ⋅a[2]⋅a[3] - 10⋅a[0] ⋅a[1] ⋅a[2]  + 6⋅a[0] ⋅a[1] ⋅a[3] + 15⋅a[0] ⋅a[\n",
       "──────────────────────────────────────────────────────────────────────────────\n",
       "                                                                              \n",
       "                                                                              \n",
       "\n",
       "  4     2              6            8              8              7           \n",
       "1] ⋅a[2]  - 7⋅a[0]⋅a[1] ⋅a[2] + a[1]         - a[0] ⋅a[9] + 2⋅a[0] ⋅a[1]⋅a[8] \n",
       "─────────────────────────────────────, b[9]: ─────────────────────────────────\n",
       "                                                                              \n",
       "                                                                              \n",
       "\n",
       "        7                   7                   7                   6     2   \n",
       "+ 2⋅a[0] ⋅a[2]⋅a[7] + 2⋅a[0] ⋅a[3]⋅a[6] + 2⋅a[0] ⋅a[4]⋅a[5] - 3⋅a[0] ⋅a[1] ⋅a[\n",
       "──────────────────────────────────────────────────────────────────────────────\n",
       "                                                                              \n",
       "                                                                              \n",
       "\n",
       "           6                        6                        6          2     \n",
       "7] - 6⋅a[0] ⋅a[1]⋅a[2]⋅a[6] - 6⋅a[0] ⋅a[1]⋅a[3]⋅a[5] - 3⋅a[0] ⋅a[1]⋅a[4]  - 3⋅\n",
       "──────────────────────────────────────────────────────────────────────────────\n",
       "                                                                              \n",
       "                                                                              \n",
       "\n",
       "    6     2              6                      6     3         5     3       \n",
       "a[0] ⋅a[2] ⋅a[5] - 6⋅a[0] ⋅a[2]⋅a[3]⋅a[4] - a[0] ⋅a[3]  + 4⋅a[0] ⋅a[1] ⋅a[6] +\n",
       "──────────────────────────────────────────────────────────────────────────────\n",
       "                                                                              \n",
       "                                                                              \n",
       "\n",
       "        5     2                    5     2                    5          2    \n",
       " 12⋅a[0] ⋅a[1] ⋅a[2]⋅a[5] + 12⋅a[0] ⋅a[1] ⋅a[3]⋅a[4] + 12⋅a[0] ⋅a[1]⋅a[2] ⋅a[4\n",
       "──────────────────────────────────────────────────────────────────────────────\n",
       "                                                               10             \n",
       "                                                           a[0]               \n",
       "\n",
       "           5               2         5     3              4     4             \n",
       "] + 12⋅a[0] ⋅a[1]⋅a[2]⋅a[3]  + 4⋅a[0] ⋅a[2] ⋅a[3] - 5⋅a[0] ⋅a[1] ⋅a[5] - 20⋅a[\n",
       "──────────────────────────────────────────────────────────────────────────────\n",
       "                                                                              \n",
       "                                                                              \n",
       "\n",
       "  4     3                    4     3     2          4     2     2             \n",
       "0] ⋅a[1] ⋅a[2]⋅a[4] - 10⋅a[0] ⋅a[1] ⋅a[3]  - 30⋅a[0] ⋅a[1] ⋅a[2] ⋅a[3] - 5⋅a[0\n",
       "──────────────────────────────────────────────────────────────────────────────\n",
       "                                                                              \n",
       "                                                                              \n",
       "\n",
       " 4          4         3     5               3     4                    3     3\n",
       "] ⋅a[1]⋅a[2]  + 6⋅a[0] ⋅a[1] ⋅a[4] + 30⋅a[0] ⋅a[1] ⋅a[2]⋅a[3] + 20⋅a[0] ⋅a[1] \n",
       "──────────────────────────────────────────────────────────────────────────────\n",
       "                                                                              \n",
       "                                                                              \n",
       "\n",
       "     3         2     6               2     5     2              7            9\n",
       "⋅a[2]  - 7⋅a[0] ⋅a[1] ⋅a[3] - 21⋅a[0] ⋅a[1] ⋅a[2]  + 8⋅a[0]⋅a[1] ⋅a[2] - a[1] \n",
       "──────────────────────────────────────────────────────────────────────────────\n",
       "                                                                              \n",
       "                                                                              \n",
       "\n",
       "               9               8                   8                   8      \n",
       "         - a[0] ⋅a[10] + 2⋅a[0] ⋅a[1]⋅a[9] + 2⋅a[0] ⋅a[2]⋅a[8] + 2⋅a[0] ⋅a[3]⋅\n",
       ", b[10]: ─────────────────────────────────────────────────────────────────────\n",
       "                                                                              \n",
       "                                                                              \n",
       "\n",
       "             8                 8     2         7     2              7         \n",
       "a[7] + 2⋅a[0] ⋅a[4]⋅a[6] + a[0] ⋅a[5]  - 3⋅a[0] ⋅a[1] ⋅a[8] - 6⋅a[0] ⋅a[1]⋅a[2\n",
       "──────────────────────────────────────────────────────────────────────────────\n",
       "                                                                              \n",
       "                                                                              \n",
       "\n",
       "               7                        7                        7     2      \n",
       "]⋅a[7] - 6⋅a[0] ⋅a[1]⋅a[3]⋅a[6] - 6⋅a[0] ⋅a[1]⋅a[4]⋅a[5] - 3⋅a[0] ⋅a[2] ⋅a[6] \n",
       "──────────────────────────────────────────────────────────────────────────────\n",
       "                                                                              \n",
       "                                                                              \n",
       "\n",
       "        7                        7          2         7     2              6  \n",
       "- 6⋅a[0] ⋅a[2]⋅a[3]⋅a[5] - 3⋅a[0] ⋅a[2]⋅a[4]  - 3⋅a[0] ⋅a[3] ⋅a[4] + 4⋅a[0] ⋅a\n",
       "──────────────────────────────────────────────────────────────────────────────\n",
       "                                                                              \n",
       "                                                                              \n",
       "\n",
       "   3               6     2                    6     2                   6     \n",
       "[1] ⋅a[7] + 12⋅a[0] ⋅a[1] ⋅a[2]⋅a[6] + 12⋅a[0] ⋅a[1] ⋅a[3]⋅a[5] + 6⋅a[0] ⋅a[1]\n",
       "──────────────────────────────────────────────────────────────────────────────\n",
       "                                                                              \n",
       "                                                                              \n",
       "\n",
       "2     2          6          2               6                             6   \n",
       " ⋅a[4]  + 12⋅a[0] ⋅a[1]⋅a[2] ⋅a[5] + 24⋅a[0] ⋅a[1]⋅a[2]⋅a[3]⋅a[4] + 4⋅a[0] ⋅a[\n",
       "──────────────────────────────────────────────────────────────────────────────\n",
       "                                                                              \n",
       "                                                                              \n",
       "\n",
       "       3         6     3              6     2     2         5     4           \n",
       "1]⋅a[3]  + 4⋅a[0] ⋅a[2] ⋅a[4] + 6⋅a[0] ⋅a[2] ⋅a[3]  - 5⋅a[0] ⋅a[1] ⋅a[6] - 20⋅\n",
       "──────────────────────────────────────────────────────────────────────────────\n",
       "                11                                                            \n",
       "            a[0]                                                              \n",
       "\n",
       "    5     3                    5     3                    5     2     2       \n",
       "a[0] ⋅a[1] ⋅a[2]⋅a[5] - 20⋅a[0] ⋅a[1] ⋅a[3]⋅a[4] - 30⋅a[0] ⋅a[1] ⋅a[2] ⋅a[4] -\n",
       "──────────────────────────────────────────────────────────────────────────────\n",
       "                                                                              \n",
       "                                                                              \n",
       "\n",
       "        5     2          2          5          3            5     5         4 \n",
       " 30⋅a[0] ⋅a[1] ⋅a[2]⋅a[3]  - 20⋅a[0] ⋅a[1]⋅a[2] ⋅a[3] - a[0] ⋅a[2]  + 6⋅a[0] ⋅\n",
       "──────────────────────────────────────────────────────────────────────────────\n",
       "                                                                              \n",
       "                                                                              \n",
       "\n",
       "    5               4     4                    4     4     2          4     3 \n",
       "a[1] ⋅a[5] + 30⋅a[0] ⋅a[1] ⋅a[2]⋅a[4] + 15⋅a[0] ⋅a[1] ⋅a[3]  + 60⋅a[0] ⋅a[1] ⋅\n",
       "──────────────────────────────────────────────────────────────────────────────\n",
       "                                                                              \n",
       "                                                                              \n",
       "\n",
       "    2               4     2     4         3     6               3     5       \n",
       "a[2] ⋅a[3] + 15⋅a[0] ⋅a[1] ⋅a[2]  - 7⋅a[0] ⋅a[1] ⋅a[4] - 42⋅a[0] ⋅a[1] ⋅a[2]⋅a\n",
       "──────────────────────────────────────────────────────────────────────────────\n",
       "                                                                              \n",
       "                                                                              \n",
       "\n",
       "             3     4     3         2     7               2     6     2        \n",
       "[3] - 35⋅a[0] ⋅a[1] ⋅a[2]  + 8⋅a[0] ⋅a[1] ⋅a[3] + 28⋅a[0] ⋅a[1] ⋅a[2]  - 9⋅a[0\n",
       "──────────────────────────────────────────────────────────────────────────────\n",
       "                                                                              \n",
       "                                                                              \n",
       "\n",
       "      8            10⎫\n",
       "]⋅a[1] ⋅a[2] + a[1]  ⎪\n",
       "─────────────────────⎬\n",
       "                     ⎪\n",
       "                     ⎭"
      ]
     },
     "execution_count": 51,
     "metadata": {},
     "output_type": "execute_result"
    }
   ],
   "source": [
    "sols = solve(eqs, [b[i] for i in range(11)])\n",
    "sols"
   ]
  },
  {
   "cell_type": "code",
   "execution_count": 53,
   "metadata": {
    "collapsed": false
   },
   "outputs": [
    {
     "data": {
      "image/png": "[encoded data removed]",
      "text/latex": [
       "$$\\left \\{ b_{0} : 1, \\quad b_{1} : 1, \\quad b_{2} : 1, \\quad b_{3} : 1, \\quad b_{4} : 1, \\quad b_{5} : 1, \\quad b_{6} : 1, \\quad b_{7} : 1, \\quad b_{8} : 1, \\quad b_{9} : 1, \\quad b_{10} : 1\\right \\}$$"
      ],
      "text/plain": [
       "{b[0]: 1, b[1]: 1, b[2]: 1, b[3]: 1, b[4]: 1, b[5]: 1, b[6]: 1, b[7]: 1, b[8]:\n",
       " 1, b[9]: 1, b[10]: 1}"
      ]
     },
     "execution_count": 53,
     "metadata": {},
     "output_type": "execute_result"
    }
   ],
   "source": [
    "substitutions = {a[0]:1, a[1]:-1}\n",
    "substitutions.update({a[i]:0 for i in range(2, 11)})\n",
    "{b_key:v.subs(substitutions) for b_key, v in sols.items()}"
   ]
  },
  {
   "cell_type": "code",
   "execution_count": 55,
   "metadata": {
    "collapsed": false
   },
   "outputs": [
    {
     "data": {
      "image/png": "[encoded data removed]",
      "text/latex": [
       "$$\\left [ 1 = \\frac{1}{a_{0}^{6}} \\left(- a_{0}^{4} a_{5} + 2 a_{0}^{3} a_{1} a_{4} + 2 a_{0}^{3} a_{2} a_{3} - 3 a_{0}^{2} a_{1}^{2} a_{3} - 3 a_{0}^{2} a_{1} a_{2}^{2} + 4 a_{0} a_{1}^{3} a_{2} - a_{1}^{5}\\right), \\quad 1 = \\frac{1}{a_{0}^{8}} \\left(- a_{0}^{6} a_{7} + 2 a_{0}^{5} a_{1} a_{6} + 2 a_{0}^{5} a_{2} a_{5} + 2 a_{0}^{5} a_{3} a_{4} - 3 a_{0}^{4} a_{1}^{2} a_{5} - 6 a_{0}^{4} a_{1} a_{2} a_{4} - 3 a_{0}^{4} a_{1} a_{3}^{2} - 3 a_{0}^{4} a_{2}^{2} a_{3} + 4 a_{0}^{3} a_{1}^{3} a_{4} + 12 a_{0}^{3} a_{1}^{2} a_{2} a_{3} + 4 a_{0}^{3} a_{1} a_{2}^{3} - 5 a_{0}^{2} a_{1}^{4} a_{3} - 10 a_{0}^{2} a_{1}^{3} a_{2}^{2} + 6 a_{0} a_{1}^{5} a_{2} - a_{1}^{7}\\right), \\quad 1 = \\frac{1}{a_{0}}, \\quad 1 = \\frac{1}{a_{0}^{10}} \\left(- a_{0}^{8} a_{9} + 2 a_{0}^{7} a_{1} a_{8} + 2 a_{0}^{7} a_{2} a_{7} + 2 a_{0}^{7} a_{3} a_{6} + 2 a_{0}^{7} a_{4} a_{5} - 3 a_{0}^{6} a_{1}^{2} a_{7} - 6 a_{0}^{6} a_{1} a_{2} a_{6} - 6 a_{0}^{6} a_{1} a_{3} a_{5} - 3 a_{0}^{6} a_{1} a_{4}^{2} - 3 a_{0}^{6} a_{2}^{2} a_{5} - 6 a_{0}^{6} a_{2} a_{3} a_{4} - a_{0}^{6} a_{3}^{3} + 4 a_{0}^{5} a_{1}^{3} a_{6} + 12 a_{0}^{5} a_{1}^{2} a_{2} a_{5} + 12 a_{0}^{5} a_{1}^{2} a_{3} a_{4} + 12 a_{0}^{5} a_{1} a_{2}^{2} a_{4} + 12 a_{0}^{5} a_{1} a_{2} a_{3}^{2} + 4 a_{0}^{5} a_{2}^{3} a_{3} - 5 a_{0}^{4} a_{1}^{4} a_{5} - 20 a_{0}^{4} a_{1}^{3} a_{2} a_{4} - 10 a_{0}^{4} a_{1}^{3} a_{3}^{2} - 30 a_{0}^{4} a_{1}^{2} a_{2}^{2} a_{3} - 5 a_{0}^{4} a_{1} a_{2}^{4} + 6 a_{0}^{3} a_{1}^{5} a_{4} + 30 a_{0}^{3} a_{1}^{4} a_{2} a_{3} + 20 a_{0}^{3} a_{1}^{3} a_{2}^{3} - 7 a_{0}^{2} a_{1}^{6} a_{3} - 21 a_{0}^{2} a_{1}^{5} a_{2}^{2} + 8 a_{0} a_{1}^{7} a_{2} - a_{1}^{9}\\right), \\quad 1 = \\frac{1}{a_{0}^{3}} \\left(- a_{0} a_{2} + a_{1}^{2}\\right), \\quad 1 = \\frac{1}{a_{0}^{5}} \\left(- a_{0}^{3} a_{4} + 2 a_{0}^{2} a_{1} a_{3} + a_{0}^{2} a_{2}^{2} - 3 a_{0} a_{1}^{2} a_{2} + a_{1}^{4}\\right), \\quad 1 = \\frac{1}{a_{0}^{7}} \\left(- a_{0}^{5} a_{6} + 2 a_{0}^{4} a_{1} a_{5} + 2 a_{0}^{4} a_{2} a_{4} + a_{0}^{4} a_{3}^{2} - 3 a_{0}^{3} a_{1}^{2} a_{4} - 6 a_{0}^{3} a_{1} a_{2} a_{3} - a_{0}^{3} a_{2}^{3} + 4 a_{0}^{2} a_{1}^{3} a_{3} + 6 a_{0}^{2} a_{1}^{2} a_{2}^{2} - 5 a_{0} a_{1}^{4} a_{2} + a_{1}^{6}\\right), \\quad 1 = \\frac{1}{a_{0}^{9}} \\left(- a_{0}^{7} a_{8} + 2 a_{0}^{6} a_{1} a_{7} + 2 a_{0}^{6} a_{2} a_{6} + 2 a_{0}^{6} a_{3} a_{5} + a_{0}^{6} a_{4}^{2} - 3 a_{0}^{5} a_{1}^{2} a_{6} - 6 a_{0}^{5} a_{1} a_{2} a_{5} - 6 a_{0}^{5} a_{1} a_{3} a_{4} - 3 a_{0}^{5} a_{2}^{2} a_{4} - 3 a_{0}^{5} a_{2} a_{3}^{2} + 4 a_{0}^{4} a_{1}^{3} a_{5} + 12 a_{0}^{4} a_{1}^{2} a_{2} a_{4} + 6 a_{0}^{4} a_{1}^{2} a_{3}^{2} + 12 a_{0}^{4} a_{1} a_{2}^{2} a_{3} + a_{0}^{4} a_{2}^{4} - 5 a_{0}^{3} a_{1}^{4} a_{4} - 20 a_{0}^{3} a_{1}^{3} a_{2} a_{3} - 10 a_{0}^{3} a_{1}^{2} a_{2}^{3} + 6 a_{0}^{2} a_{1}^{5} a_{3} + 15 a_{0}^{2} a_{1}^{4} a_{2}^{2} - 7 a_{0} a_{1}^{6} a_{2} + a_{1}^{8}\\right), \\quad 1 = - \\frac{a_{1}}{a_{0}^{2}}, \\quad 1 = \\frac{1}{a_{0}^{11}} \\left(- a_{0}^{9} a_{10} + 2 a_{0}^{8} a_{1} a_{9} + 2 a_{0}^{8} a_{2} a_{8} + 2 a_{0}^{8} a_{3} a_{7} + 2 a_{0}^{8} a_{4} a_{6} + a_{0}^{8} a_{5}^{2} - 3 a_{0}^{7} a_{1}^{2} a_{8} - 6 a_{0}^{7} a_{1} a_{2} a_{7} - 6 a_{0}^{7} a_{1} a_{3} a_{6} - 6 a_{0}^{7} a_{1} a_{4} a_{5} - 3 a_{0}^{7} a_{2}^{2} a_{6} - 6 a_{0}^{7} a_{2} a_{3} a_{5} - 3 a_{0}^{7} a_{2} a_{4}^{2} - 3 a_{0}^{7} a_{3}^{2} a_{4} + 4 a_{0}^{6} a_{1}^{3} a_{7} + 12 a_{0}^{6} a_{1}^{2} a_{2} a_{6} + 12 a_{0}^{6} a_{1}^{2} a_{3} a_{5} + 6 a_{0}^{6} a_{1}^{2} a_{4}^{2} + 12 a_{0}^{6} a_{1} a_{2}^{2} a_{5} + 24 a_{0}^{6} a_{1} a_{2} a_{3} a_{4} + 4 a_{0}^{6} a_{1} a_{3}^{3} + 4 a_{0}^{6} a_{2}^{3} a_{4} + 6 a_{0}^{6} a_{2}^{2} a_{3}^{2} - 5 a_{0}^{5} a_{1}^{4} a_{6} - 20 a_{0}^{5} a_{1}^{3} a_{2} a_{5} - 20 a_{0}^{5} a_{1}^{3} a_{3} a_{4} - 30 a_{0}^{5} a_{1}^{2} a_{2}^{2} a_{4} - 30 a_{0}^{5} a_{1}^{2} a_{2} a_{3}^{2} - 20 a_{0}^{5} a_{1} a_{2}^{3} a_{3} - a_{0}^{5} a_{2}^{5} + 6 a_{0}^{4} a_{1}^{5} a_{5} + 30 a_{0}^{4} a_{1}^{4} a_{2} a_{4} + 15 a_{0}^{4} a_{1}^{4} a_{3}^{2} + 60 a_{0}^{4} a_{1}^{3} a_{2}^{2} a_{3} + 15 a_{0}^{4} a_{1}^{2} a_{2}^{4} - 7 a_{0}^{3} a_{1}^{6} a_{4} - 42 a_{0}^{3} a_{1}^{5} a_{2} a_{3} - 35 a_{0}^{3} a_{1}^{4} a_{2}^{3} + 8 a_{0}^{2} a_{1}^{7} a_{3} + 28 a_{0}^{2} a_{1}^{6} a_{2}^{2} - 9 a_{0} a_{1}^{8} a_{2} + a_{1}^{10}\\right), \\quad 1 = \\frac{1}{a_{0}^{4}} \\left(- a_{0}^{2} a_{3} + 2 a_{0} a_{1} a_{2} - a_{1}^{3}\\right)\\right ]$$"
      ],
      "text/plain": [
       "⎡          4              3                   3                   2     2     \n",
       "⎢    - a[0] ⋅a[5] + 2⋅a[0] ⋅a[1]⋅a[4] + 2⋅a[0] ⋅a[2]⋅a[3] - 3⋅a[0] ⋅a[1] ⋅a[3]\n",
       "⎢1 = ─────────────────────────────────────────────────────────────────────────\n",
       "⎢                                                                  6          \n",
       "⎣                                                              a[0]           \n",
       "\n",
       "         2          2              3            5            6              5 \n",
       " - 3⋅a[0] ⋅a[1]⋅a[2]  + 4⋅a[0]⋅a[1] ⋅a[2] - a[1]       - a[0] ⋅a[7] + 2⋅a[0] ⋅\n",
       "─────────────────────────────────────────────────, 1 = ───────────────────────\n",
       "                                                                              \n",
       "                                                                              \n",
       "\n",
       "                  5                   5                   4     2             \n",
       "a[1]⋅a[6] + 2⋅a[0] ⋅a[2]⋅a[5] + 2⋅a[0] ⋅a[3]⋅a[4] - 3⋅a[0] ⋅a[1] ⋅a[5] - 6⋅a[0\n",
       "──────────────────────────────────────────────────────────────────────────────\n",
       "                                                                              \n",
       "                                                                              \n",
       "\n",
       " 4                        4          2         4     2              3     3   \n",
       "] ⋅a[1]⋅a[2]⋅a[4] - 3⋅a[0] ⋅a[1]⋅a[3]  - 3⋅a[0] ⋅a[2] ⋅a[3] + 4⋅a[0] ⋅a[1] ⋅a[\n",
       "──────────────────────────────────────────────────────────────────────────────\n",
       "                                                   8                          \n",
       "                                               a[0]                           \n",
       "\n",
       "            3     2                   3          3         2     4            \n",
       "4] + 12⋅a[0] ⋅a[1] ⋅a[2]⋅a[3] + 4⋅a[0] ⋅a[1]⋅a[2]  - 5⋅a[0] ⋅a[1] ⋅a[3] - 10⋅a\n",
       "──────────────────────────────────────────────────────────────────────────────\n",
       "                                                                              \n",
       "                                                                              \n",
       "\n",
       "   2     3     2              5            7                      8           \n",
       "[0] ⋅a[1] ⋅a[2]  + 6⋅a[0]⋅a[1] ⋅a[2] - a[1]        1        - a[0] ⋅a[9] + 2⋅a\n",
       "────────────────────────────────────────────, 1 = ────, 1 = ──────────────────\n",
       "                                                  a[0]                        \n",
       "                                                                              \n",
       "\n",
       "   7                   7                   7                   7              \n",
       "[0] ⋅a[1]⋅a[8] + 2⋅a[0] ⋅a[2]⋅a[7] + 2⋅a[0] ⋅a[3]⋅a[6] + 2⋅a[0] ⋅a[4]⋅a[5] - 3\n",
       "──────────────────────────────────────────────────────────────────────────────\n",
       "                                                                              \n",
       "                                                                              \n",
       "\n",
       "     6     2              6                        6                        6 \n",
       "⋅a[0] ⋅a[1] ⋅a[7] - 6⋅a[0] ⋅a[1]⋅a[2]⋅a[6] - 6⋅a[0] ⋅a[1]⋅a[3]⋅a[5] - 3⋅a[0] ⋅\n",
       "──────────────────────────────────────────────────────────────────────────────\n",
       "                                                                              \n",
       "                                                                              \n",
       "\n",
       "         2         6     2              6                      6     3        \n",
       "a[1]⋅a[4]  - 3⋅a[0] ⋅a[2] ⋅a[5] - 6⋅a[0] ⋅a[2]⋅a[3]⋅a[4] - a[0] ⋅a[3]  + 4⋅a[0\n",
       "──────────────────────────────────────────────────────────────────────────────\n",
       "                                                                              \n",
       "                                                                              \n",
       "\n",
       " 5     3               5     2                    5     2                    5\n",
       "] ⋅a[1] ⋅a[6] + 12⋅a[0] ⋅a[1] ⋅a[2]⋅a[5] + 12⋅a[0] ⋅a[1] ⋅a[3]⋅a[4] + 12⋅a[0] \n",
       "──────────────────────────────────────────────────────────────────────────────\n",
       "                                                                              \n",
       "                                                                          a[0]\n",
       "\n",
       "          2               5               2         5     3              4    \n",
       "⋅a[1]⋅a[2] ⋅a[4] + 12⋅a[0] ⋅a[1]⋅a[2]⋅a[3]  + 4⋅a[0] ⋅a[2] ⋅a[3] - 5⋅a[0] ⋅a[1\n",
       "──────────────────────────────────────────────────────────────────────────────\n",
       "10                                                                            \n",
       "                                                                              \n",
       "\n",
       " 4               4     3                    4     3     2          4     2    \n",
       "] ⋅a[5] - 20⋅a[0] ⋅a[1] ⋅a[2]⋅a[4] - 10⋅a[0] ⋅a[1] ⋅a[3]  - 30⋅a[0] ⋅a[1] ⋅a[2\n",
       "──────────────────────────────────────────────────────────────────────────────\n",
       "                                                                              \n",
       "                                                                              \n",
       "\n",
       " 2              4          4         3     5               3     4            \n",
       "] ⋅a[3] - 5⋅a[0] ⋅a[1]⋅a[2]  + 6⋅a[0] ⋅a[1] ⋅a[4] + 30⋅a[0] ⋅a[1] ⋅a[2]⋅a[3] +\n",
       "──────────────────────────────────────────────────────────────────────────────\n",
       "                                                                              \n",
       "                                                                              \n",
       "\n",
       "        3     3     3         2     6               2     5     2             \n",
       " 20⋅a[0] ⋅a[1] ⋅a[2]  - 7⋅a[0] ⋅a[1] ⋅a[3] - 21⋅a[0] ⋅a[1] ⋅a[2]  + 8⋅a[0]⋅a[1\n",
       "──────────────────────────────────────────────────────────────────────────────\n",
       "                                                                              \n",
       "                                                                              \n",
       "\n",
       " 7            9                       2            3              2           \n",
       "] ⋅a[2] - a[1]       -a[0]⋅a[2] + a[1]       - a[0] ⋅a[4] + 2⋅a[0] ⋅a[1]⋅a[3] \n",
       "───────────────, 1 = ──────────────────, 1 = ─────────────────────────────────\n",
       "                               3                                              \n",
       "                           a[0]                                               \n",
       "\n",
       "      2     2              2            4            5              4         \n",
       "+ a[0] ⋅a[2]  - 3⋅a[0]⋅a[1] ⋅a[2] + a[1]       - a[0] ⋅a[6] + 2⋅a[0] ⋅a[1]⋅a[5\n",
       "─────────────────────────────────────────, 1 = ───────────────────────────────\n",
       "     5                                                                        \n",
       " a[0]                                                                         \n",
       "\n",
       "          4                 4     2         3     2              3            \n",
       "] + 2⋅a[0] ⋅a[2]⋅a[4] + a[0] ⋅a[3]  - 3⋅a[0] ⋅a[1] ⋅a[4] - 6⋅a[0] ⋅a[1]⋅a[2]⋅a\n",
       "──────────────────────────────────────────────────────────────────────────────\n",
       "                                                                     7        \n",
       "                                                                 a[0]         \n",
       "\n",
       "          3     3         2     3              2     2     2              4   \n",
       "[3] - a[0] ⋅a[2]  + 4⋅a[0] ⋅a[1] ⋅a[3] + 6⋅a[0] ⋅a[1] ⋅a[2]  - 5⋅a[0]⋅a[1] ⋅a[\n",
       "──────────────────────────────────────────────────────────────────────────────\n",
       "                                                                              \n",
       "                                                                              \n",
       "\n",
       "         6            7              6                   6                   6\n",
       "2] + a[1]       - a[0] ⋅a[8] + 2⋅a[0] ⋅a[1]⋅a[7] + 2⋅a[0] ⋅a[2]⋅a[6] + 2⋅a[0] \n",
       "──────────, 1 = ──────────────────────────────────────────────────────────────\n",
       "                                                                              \n",
       "                                                                              \n",
       "\n",
       "                 6     2         5     2              5                       \n",
       "⋅a[3]⋅a[5] + a[0] ⋅a[4]  - 3⋅a[0] ⋅a[1] ⋅a[6] - 6⋅a[0] ⋅a[1]⋅a[2]⋅a[5] - 6⋅a[0\n",
       "──────────────────────────────────────────────────────────────────────────────\n",
       "                                                                              \n",
       "                                                                              \n",
       "\n",
       " 5                        5     2              5          2         4     3   \n",
       "] ⋅a[1]⋅a[3]⋅a[4] - 3⋅a[0] ⋅a[2] ⋅a[4] - 3⋅a[0] ⋅a[2]⋅a[3]  + 4⋅a[0] ⋅a[1] ⋅a[\n",
       "──────────────────────────────────────────────────────────────────────────────\n",
       "                                                                              \n",
       "                                                                              \n",
       "\n",
       "            4     2                   4     2     2          4          2     \n",
       "5] + 12⋅a[0] ⋅a[1] ⋅a[2]⋅a[4] + 6⋅a[0] ⋅a[1] ⋅a[3]  + 12⋅a[0] ⋅a[1]⋅a[2] ⋅a[3]\n",
       "──────────────────────────────────────────────────────────────────────────────\n",
       "          9                                                                   \n",
       "      a[0]                                                                    \n",
       "\n",
       "       4     4         3     4               3     3                    3     \n",
       " + a[0] ⋅a[2]  - 5⋅a[0] ⋅a[1] ⋅a[4] - 20⋅a[0] ⋅a[1] ⋅a[2]⋅a[3] - 10⋅a[0] ⋅a[1]\n",
       "──────────────────────────────────────────────────────────────────────────────\n",
       "                                                                              \n",
       "                                                                              \n",
       "\n",
       "2     3         2     5               2     4     2              6            \n",
       " ⋅a[2]  + 6⋅a[0] ⋅a[1] ⋅a[3] + 15⋅a[0] ⋅a[1] ⋅a[2]  - 7⋅a[0]⋅a[1] ⋅a[2] + a[1]\n",
       "──────────────────────────────────────────────────────────────────────────────\n",
       "                                                                              \n",
       "                                                                              \n",
       "\n",
       "8                        9               8                   8                \n",
       "       -a[1]       - a[0] ⋅a[10] + 2⋅a[0] ⋅a[1]⋅a[9] + 2⋅a[0] ⋅a[2]⋅a[8] + 2⋅a\n",
       "─, 1 = ──────, 1 = ───────────────────────────────────────────────────────────\n",
       "           2                                                                  \n",
       "       a[0]                                                                   \n",
       "\n",
       "   8                   8                 8     2         7     2              \n",
       "[0] ⋅a[3]⋅a[7] + 2⋅a[0] ⋅a[4]⋅a[6] + a[0] ⋅a[5]  - 3⋅a[0] ⋅a[1] ⋅a[8] - 6⋅a[0]\n",
       "──────────────────────────────────────────────────────────────────────────────\n",
       "                                                                              \n",
       "                                                                              \n",
       "\n",
       "7                        7                        7                        7  \n",
       " ⋅a[1]⋅a[2]⋅a[7] - 6⋅a[0] ⋅a[1]⋅a[3]⋅a[6] - 6⋅a[0] ⋅a[1]⋅a[4]⋅a[5] - 3⋅a[0] ⋅a\n",
       "──────────────────────────────────────────────────────────────────────────────\n",
       "                                                                              \n",
       "                                                                              \n",
       "\n",
       "   2              7                        7          2         7     2       \n",
       "[2] ⋅a[6] - 6⋅a[0] ⋅a[2]⋅a[3]⋅a[5] - 3⋅a[0] ⋅a[2]⋅a[4]  - 3⋅a[0] ⋅a[3] ⋅a[4] +\n",
       "──────────────────────────────────────────────────────────────────────────────\n",
       "                                                                              \n",
       "                                                                              \n",
       "\n",
       "       6     3               6     2                    6     2               \n",
       " 4⋅a[0] ⋅a[1] ⋅a[7] + 12⋅a[0] ⋅a[1] ⋅a[2]⋅a[6] + 12⋅a[0] ⋅a[1] ⋅a[3]⋅a[5] + 6⋅\n",
       "──────────────────────────────────────────────────────────────────────────────\n",
       "                                                                              \n",
       "                                                                              \n",
       "\n",
       "    6     2     2          6          2               6                       \n",
       "a[0] ⋅a[1] ⋅a[4]  + 12⋅a[0] ⋅a[1]⋅a[2] ⋅a[5] + 24⋅a[0] ⋅a[1]⋅a[2]⋅a[3]⋅a[4] + \n",
       "──────────────────────────────────────────────────────────────────────────────\n",
       "                                                                              \n",
       "                                                                              \n",
       "\n",
       "      6          3         6     3              6     2     2         5     4 \n",
       "4⋅a[0] ⋅a[1]⋅a[3]  + 4⋅a[0] ⋅a[2] ⋅a[4] + 6⋅a[0] ⋅a[2] ⋅a[3]  - 5⋅a[0] ⋅a[1] ⋅\n",
       "──────────────────────────────────────────────────────────────────────────────\n",
       "                          11                                                  \n",
       "                      a[0]                                                    \n",
       "\n",
       "              5     3                    5     3                    5     2   \n",
       "a[6] - 20⋅a[0] ⋅a[1] ⋅a[2]⋅a[5] - 20⋅a[0] ⋅a[1] ⋅a[3]⋅a[4] - 30⋅a[0] ⋅a[1] ⋅a[\n",
       "──────────────────────────────────────────────────────────────────────────────\n",
       "                                                                              \n",
       "                                                                              \n",
       "\n",
       "  2               5     2          2          5          3            5     5 \n",
       "2] ⋅a[4] - 30⋅a[0] ⋅a[1] ⋅a[2]⋅a[3]  - 20⋅a[0] ⋅a[1]⋅a[2] ⋅a[3] - a[0] ⋅a[2]  \n",
       "──────────────────────────────────────────────────────────────────────────────\n",
       "                                                                              \n",
       "                                                                              \n",
       "\n",
       "        4     5               4     4                    4     4     2        \n",
       "+ 6⋅a[0] ⋅a[1] ⋅a[5] + 30⋅a[0] ⋅a[1] ⋅a[2]⋅a[4] + 15⋅a[0] ⋅a[1] ⋅a[3]  + 60⋅a[\n",
       "──────────────────────────────────────────────────────────────────────────────\n",
       "                                                                              \n",
       "                                                                              \n",
       "\n",
       "  4     3     2               4     2     4         3     6               3   \n",
       "0] ⋅a[1] ⋅a[2] ⋅a[3] + 15⋅a[0] ⋅a[1] ⋅a[2]  - 7⋅a[0] ⋅a[1] ⋅a[4] - 42⋅a[0] ⋅a[\n",
       "──────────────────────────────────────────────────────────────────────────────\n",
       "                                                                              \n",
       "                                                                              \n",
       "\n",
       "  5                    3     4     3         2     7               2     6    \n",
       "1] ⋅a[2]⋅a[3] - 35⋅a[0] ⋅a[1] ⋅a[2]  + 8⋅a[0] ⋅a[1] ⋅a[3] + 28⋅a[0] ⋅a[1] ⋅a[2\n",
       "──────────────────────────────────────────────────────────────────────────────\n",
       "                                                                              \n",
       "                                                                              \n",
       "\n",
       " 2              8            10            2                               3⎤\n",
       "]  - 9⋅a[0]⋅a[1] ⋅a[2] + a[1]        - a[0] ⋅a[3] + 2⋅a[0]⋅a[1]⋅a[2] - a[1] ⎥\n",
       "───────────────────────────────, 1 = ───────────────────────────────────────⎥\n",
       "                                                          4                 ⎥\n",
       "                                                      a[0]                  ⎦"
      ]
     },
     "execution_count": 55,
     "metadata": {},
     "output_type": "execute_result"
    }
   ],
   "source": [
    "substitutions = {b[i]:1 for i in range(11)}\n",
    "a_eqs = [Eq(b_key, v).subs(substitutions) for b_key, v in sols.items()]\n",
    "a_eqs"
   ]
  },
  {
   "cell_type": "code",
   "execution_count": 65,
   "metadata": {
    "collapsed": false
   },
   "outputs": [
    {
     "data": {
      "image/png": "[encoded data removed]",
      "text/latex": [
       "$$\\sum_{n=0}^{k} t^{n}$$"
      ],
      "text/plain": [
       "  k     \n",
       " ___    \n",
       " ╲      \n",
       "  ╲    n\n",
       "  ╱   t \n",
       " ╱      \n",
       " ‾‾‾    \n",
       "n = 0   "
      ]
     },
     "execution_count": 65,
     "metadata": {},
     "output_type": "execute_result"
    }
   ],
   "source": [
    "term = Sum(t**n, (n, 0, k))\n",
    "term"
   ]
  },
  {
   "cell_type": "code",
   "execution_count": 66,
   "metadata": {
    "collapsed": false
   },
   "outputs": [
    {
     "data": {
      "image/png": "[encoded data removed]",
      "text/latex": [
       "$$t^{20} + t^{19} + t^{18} + t^{17} + t^{16} + t^{15} + t^{14} + t^{13} + t^{12} + t^{11} + t^{10} + t^{9} + t^{8} + t^{7} + t^{6} + t^{5} + t^{4} + t^{3} + t^{2} + t + 1$$"
      ],
      "text/plain": [
       " 20    19    18    17    16    15    14    13    12    11    10    9    8    7\n",
       "t   + t   + t   + t   + t   + t   + t   + t   + t   + t   + t   + t  + t  + t \n",
       "\n",
       "    6    5    4    3    2        \n",
       " + t  + t  + t  + t  + t  + t + 1"
      ]
     },
     "execution_count": 66,
     "metadata": {},
     "output_type": "execute_result"
    }
   ],
   "source": [
    "expanded = term.subs({k:20}).doit()\n",
    "expanded"
   ]
  },
  {
   "cell_type": "code",
   "execution_count": 69,
   "metadata": {
    "collapsed": false
   },
   "outputs": [
    {
     "data": {
      "image/png": "[encoded data removed]",
      "text/latex": [
       "$$\\left [ \\frac{2047}{1024}, \\quad \\frac{2097151}{1048576}, \\quad \\frac{2147483647}{1073741824}, \\quad \\frac{2199023255551}{1099511627776}, \\quad \\frac{2251799813685247}{1125899906842624}, \\quad \\frac{2305843009213693951}{1152921504606846976}, \\quad \\frac{2361183241434822606847}{1180591620717411303424}, \\quad \\frac{2417851639229258349412351}{1208925819614629174706176}, \\quad \\frac{2475880078570760549798248447}{1237940039285380274899124224}\\right ]$$"
      ],
      "text/plain": [
       "⎡2047  2097151  2147483647  2199023255551  2251799813685247  23058430092136939\n",
       "⎢────, ───────, ──────────, ─────────────, ────────────────, ─────────────────\n",
       "⎣1024  1048576  1073741824  1099511627776  1125899906842624  11529215046068469\n",
       "\n",
       "51  2361183241434822606847  2417851639229258349412351  24758800785707605497982\n",
       "──, ──────────────────────, ─────────────────────────, ───────────────────────\n",
       "76  1180591620717411303424  1208925819614629174706176  12379400392853802748991\n",
       "\n",
       "48447⎤\n",
       "─────⎥\n",
       "24224⎦"
      ]
     },
     "execution_count": 69,
     "metadata": {},
     "output_type": "execute_result"
    }
   ],
   "source": [
    "[term.subs({k:kv}).subs({t:Integer(1)/2}).doit() for kv in range(10, 100, 10)]"
   ]
  },
  {
   "cell_type": "code",
   "execution_count": 70,
   "metadata": {
    "collapsed": false
   },
   "outputs": [
    {
     "data": {
      "image/png": "[encoded data removed]",
      "text/latex": [
       "$$2$$"
      ],
      "text/plain": [
       "2"
      ]
     },
     "execution_count": 70,
     "metadata": {},
     "output_type": "execute_result"
    }
   ],
   "source": [
    "limit(term.subs(t, Integer(1)/2), k, oo)"
   ]
  },
  {
   "cell_type": "code",
   "execution_count": 81,
   "metadata": {
    "collapsed": false
   },
   "outputs": [
    {
     "data": {
      "image/png": "[encoded data removed]",
      "text/latex": [
       "$$2$$"
      ],
      "text/plain": [
       "2"
      ]
     },
     "execution_count": 81,
     "metadata": {},
     "output_type": "execute_result"
    }
   ],
   "source": [
    "term.subs({k:oo, t:Integer(1)/2}).doit()"
   ]
  },
  {
   "cell_type": "code",
   "execution_count": 79,
   "metadata": {
    "collapsed": false
   },
   "outputs": [
    {
     "data": {
      "image/png": "[encoded data removed]",
      "text/latex": [
       "$$\\frac{4}{3}$$"
      ],
      "text/plain": [
       "4/3"
      ]
     },
     "execution_count": 79,
     "metadata": {},
     "output_type": "execute_result"
    }
   ],
   "source": [
    "limit(term.subs(t, Integer(1)/4), k, oo)"
   ]
  },
  {
   "cell_type": "code",
   "execution_count": 82,
   "metadata": {
    "collapsed": false
   },
   "outputs": [
    {
     "data": {
      "image/png": "[encoded data removed]",
      "text/latex": [
       "$$\\frac{4}{5}$$"
      ],
      "text/plain": [
       "4/5"
      ]
     },
     "execution_count": 82,
     "metadata": {},
     "output_type": "execute_result"
    }
   ],
   "source": [
    "term.subs({k:oo, t:-Integer(1)/4}).doit()"
   ]
  },
  {
   "cell_type": "code",
   "execution_count": 77,
   "metadata": {
    "collapsed": false
   },
   "outputs": [
    {
     "data": {
      "image/png": "[encoded data removed]",
      "text/latex": [
       "$$\\infty$$"
      ],
      "text/plain": [
       "∞"
      ]
     },
     "execution_count": 77,
     "metadata": {},
     "output_type": "execute_result"
    }
   ],
   "source": [
    "limit(term.subs(t, 2), k, oo)"
   ]
  },
  {
   "cell_type": "code",
   "execution_count": 85,
   "metadata": {
    "collapsed": false
   },
   "outputs": [
    {
     "data": {
      "image/png": "[encoded data removed]",
      "text/latex": [
       "$$1 + t^{2} + t^{4} + t^{6} + t^{8} + t^{10} + t^{12} + t^{14} + t^{16} + t^{18} + \\mathcal{O}\\left(t^{20}\\right)$$"
      ],
      "text/plain": [
       "     2    4    6    8    10    12    14    16    18    ⎛ 20⎞\n",
       "1 + t  + t  + t  + t  + t   + t   + t   + t   + t   + O⎝t  ⎠"
      ]
     },
     "execution_count": 85,
     "metadata": {},
     "output_type": "execute_result"
    }
   ],
   "source": [
    "ones_fn(t**2).series(t, n=20)"
   ]
  },
  {
   "cell_type": "code",
   "execution_count": 86,
   "metadata": {
    "collapsed": false
   },
   "outputs": [
    {
     "data": {
      "image/png": "[encoded data removed]",
      "text/latex": [
       "$$1 + t^{3} + t^{6} + t^{9} + t^{12} + t^{15} + t^{18} + \\mathcal{O}\\left(t^{20}\\right)$$"
      ],
      "text/plain": [
       "     3    6    9    12    15    18    ⎛ 20⎞\n",
       "1 + t  + t  + t  + t   + t   + t   + O⎝t  ⎠"
      ]
     },
     "execution_count": 86,
     "metadata": {},
     "output_type": "execute_result"
    }
   ],
   "source": [
    "ones_fn(t**3).series(t, n=20)"
   ]
  },
  {
   "cell_type": "code",
   "execution_count": 87,
   "metadata": {
    "collapsed": false
   },
   "outputs": [
    {
     "data": {
      "image/png": "[encoded data removed]",
      "text/latex": [
       "$$1 - t + t^{2} - t^{3} + t^{4} - t^{5} + t^{6} - t^{7} + t^{8} - t^{9} + t^{10} - t^{11} + t^{12} - t^{13} + t^{14} - t^{15} + t^{16} - t^{17} + t^{18} - t^{19} + \\mathcal{O}\\left(t^{20}\\right)$$"
      ],
      "text/plain": [
       "         2    3    4    5    6    7    8    9    10    11    12    13    14   \n",
       "1 - t + t  - t  + t  - t  + t  - t  + t  - t  + t   - t   + t   - t   + t   - \n",
       "\n",
       " 15    16    17    18    19    ⎛ 20⎞\n",
       "t   + t   - t   + t   - t   + O⎝t  ⎠"
      ]
     },
     "execution_count": 87,
     "metadata": {},
     "output_type": "execute_result"
    }
   ],
   "source": [
    "ones_fn(-t).series(t, n=20)"
   ]
  },
  {
   "cell_type": "code",
   "execution_count": 92,
   "metadata": {
    "collapsed": false
   },
   "outputs": [
    {
     "data": {
      "image/png": "[encoded data removed]",
      "text/latex": [
       "$$1 + 3 t + 9 t^{2} + 27 t^{3} + 81 t^{4} + 243 t^{5} + 729 t^{6} + 2187 t^{7} + 6561 t^{8} + 19683 t^{9} + 59049 t^{10} + 177147 t^{11} + 531441 t^{12} + 1594323 t^{13} + 4782969 t^{14} + 14348907 t^{15} + 43046721 t^{16} + 129140163 t^{17} + 387420489 t^{18} + 1162261467 t^{19} + \\mathcal{O}\\left(t^{20}\\right)$$"
      ],
      "text/plain": [
       "             2       3       4        5        6         7         8          \n",
       "1 + 3⋅t + 9⋅t  + 27⋅t  + 81⋅t  + 243⋅t  + 729⋅t  + 2187⋅t  + 6561⋅t  + 19683⋅t\n",
       "\n",
       "9          10           11           12            13            14           \n",
       "  + 59049⋅t   + 177147⋅t   + 531441⋅t   + 1594323⋅t   + 4782969⋅t   + 14348907\n",
       "\n",
       "  15             16              17              18               19    ⎛ 20⎞\n",
       "⋅t   + 43046721⋅t   + 129140163⋅t   + 387420489⋅t   + 1162261467⋅t   + O⎝t  ⎠"
      ]
     },
     "execution_count": 92,
     "metadata": {},
     "output_type": "execute_result"
    }
   ],
   "source": [
    "ones_fn(3*t).series(t, n=20)"
   ]
  },
  {
   "cell_type": "code",
   "execution_count": 94,
   "metadata": {
    "collapsed": false
   },
   "outputs": [
    {
     "data": {
      "image/png": "[encoded data removed]",
      "text/latex": [
       "$$1 + k t + k^{2} t^{2} + k^{3} t^{3} + k^{4} t^{4} + k^{5} t^{5} + k^{6} t^{6} + k^{7} t^{7} + k^{8} t^{8} + k^{9} t^{9} + k^{10} t^{10} + k^{11} t^{11} + k^{12} t^{12} + k^{13} t^{13} + k^{14} t^{14} + k^{15} t^{15} + k^{16} t^{16} + k^{17} t^{17} + k^{18} t^{18} + k^{19} t^{19} + \\mathcal{O}\\left(t^{20}\\right)$$"
      ],
      "text/plain": [
       "           2  2    3  3    4  4    5  5    6  6    7  7    8  8    9  9    10 \n",
       "1 + k⋅t + k ⋅t  + k ⋅t  + k ⋅t  + k ⋅t  + k ⋅t  + k ⋅t  + k ⋅t  + k ⋅t  + k  ⋅\n",
       "\n",
       " 10    11  11    12  12    13  13    14  14    15  15    16  16    17  17    1\n",
       "t   + k  ⋅t   + k  ⋅t   + k  ⋅t   + k  ⋅t   + k  ⋅t   + k  ⋅t   + k  ⋅t   + k \n",
       "\n",
       "8  18    19  19    ⎛ 20⎞\n",
       " ⋅t   + k  ⋅t   + O⎝t  ⎠"
      ]
     },
     "execution_count": 94,
     "metadata": {},
     "output_type": "execute_result"
    }
   ],
   "source": [
    "gen_powers = ones_fn(k*t).series(t, n=20)\n",
    "gen_powers"
   ]
  },
  {
   "cell_type": "code",
   "execution_count": 95,
   "metadata": {
    "collapsed": false
   },
   "outputs": [
    {
     "data": {
      "image/png": "[encoded data removed]",
      "text/latex": [
       "$$\\left \\{ b_{0} : 1, \\quad b_{1} : - k, \\quad b_{2} : 0, \\quad b_{3} : 0, \\quad b_{4} : 0, \\quad b_{5} : 0, \\quad b_{6} : 0, \\quad b_{7} : 0, \\quad b_{8} : 0, \\quad b_{9} : 0, \\quad b_{10} : 0\\right \\}$$"
      ],
      "text/plain": [
       "{b[0]: 1, b[1]: -k, b[2]: 0, b[3]: 0, b[4]: 0, b[5]: 0, b[6]: 0, b[7]: 0, b[8]\n",
       ": 0, b[9]: 0, b[10]: 0}"
      ]
     },
     "execution_count": 95,
     "metadata": {},
     "output_type": "execute_result"
    }
   ],
   "source": [
    "substitutions = {a[i]:gen_powers.coeff(t, n=i) for i in range(20) }\n",
    "sols = solve([eq.subs(substitutions) for eq in eqs], [b[i] for i in range(11)])\n",
    "sols"
   ]
  },
  {
   "cell_type": "code",
   "execution_count": 98,
   "metadata": {
    "collapsed": false
   },
   "outputs": [
    {
     "data": {
      "image/png": "[encoded data removed]",
      "text/latex": [
       "$$\\left \\{ b_{0} : 1, \\quad b_{1} : 1, \\quad b_{2} : 2, \\quad b_{3} : 3, \\quad b_{4} : 5, \\quad b_{5} : 8, \\quad b_{6} : 13, \\quad b_{7} : 21, \\quad b_{8} : 34, \\quad b_{9} : 55, \\quad b_{10} : 89\\right \\}$$"
      ],
      "text/plain": [
       "{b[0]: 1, b[1]: 1, b[2]: 2, b[3]: 3, b[4]: 5, b[5]: 8, b[6]: 13, b[7]: 21, b[8\n",
       "]: 34, b[9]: 55, b[10]: 89}"
      ]
     },
     "execution_count": 98,
     "metadata": {},
     "output_type": "execute_result"
    }
   ],
   "source": [
    "substitutions = {a[0]:1, a[1]:-1, a[2]:-1 }\n",
    "substitutions.update({a[i]:0 for i in range(3, 11)})\n",
    "sols = solve([eq.subs(substitutions) for eq in eqs], [b[i] for i in range(11)])\n",
    "sols"
   ]
  },
  {
   "cell_type": "code",
   "execution_count": 99,
   "metadata": {
    "collapsed": false
   },
   "outputs": [
    {
     "data": {
      "image/png": "[encoded data removed]",
      "text/latex": [
       "$$\\left \\{ b_{0} : 1, \\quad b_{1} : 2, \\quad b_{2} : 3, \\quad b_{3} : 4, \\quad b_{4} : 5, \\quad b_{5} : 6, \\quad b_{6} : 7, \\quad b_{7} : 8, \\quad b_{8} : 9, \\quad b_{9} : 10, \\quad b_{10} : 11\\right \\}$$"
      ],
      "text/plain": [
       "{b[0]: 1, b[1]: 2, b[2]: 3, b[3]: 4, b[4]: 5, b[5]: 6, b[6]: 7, b[7]: 8, b[8]:\n",
       " 9, b[9]: 10, b[10]: 11}"
      ]
     },
     "execution_count": 99,
     "metadata": {},
     "output_type": "execute_result"
    }
   ],
   "source": [
    "substitutions = {a[0]:1, a[1]:-2, a[2]:1 }\n",
    "substitutions.update({a[i]:0 for i in range(3, 11)})\n",
    "sols = solve([eq.subs(substitutions) for eq in eqs], [b[i] for i in range(11)])\n",
    "sols"
   ]
  },
  {
   "cell_type": "markdown",
   "metadata": {},
   "source": [
    "---\n",
    "<a rel=\"license\" href=\"http://creativecommons.org/licenses/by-nc-sa/4.0/\"><img alt=\"Creative Commons License\" style=\"border-width:0\" src=\"https://i.creativecommons.org/l/by-nc-sa/4.0/88x31.png\" /></a><br />This work is licensed under a <a rel=\"license\" href=\"http://creativecommons.org/licenses/by-nc-sa/4.0/\">Creative Commons Attribution-NonCommercial-ShareAlike 4.0 International License</a>."
   ]
  }
 ],
 "metadata": {
  "kernelspec": {
   "display_name": "Python 3",
   "language": "python",
   "name": "python3"
  },
  "language_info": {
   "codemirror_mode": {
    "name": "ipython",
    "version": 3
   },
   "file_extension": ".py",
   "mimetype": "text/x-python",
   "name": "python",
   "nbconvert_exporter": "python",
   "pygments_lexer": "ipython3",
   "version": "3.5.2"
  }
 },
 "nbformat": 4,
 "nbformat_minor": 1
}
